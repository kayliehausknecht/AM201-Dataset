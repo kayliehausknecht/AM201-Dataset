{
 "cells": [
  {
   "cell_type": "markdown",
   "metadata": {
    "id": "J62oxRuooIdF"
   },
   "source": [
    "# Random ODE Generator"
   ]
  },
  {
   "cell_type": "markdown",
   "metadata": {
    "id": "QJBh4fOgoLTm"
   },
   "source": [
    "## Setting Problem Up"
   ]
  },
  {
   "cell_type": "code",
   "execution_count": 62,
   "metadata": {
    "id": "VP4b69KKPeVU"
   },
   "outputs": [],
   "source": [
    "### Imports ###\n",
    "import numpy as np\n",
    "from sympy import *\n",
    "import sympy\n",
    "import random as rand\n",
    "import IPython.display as disp\n",
    "init_printing()"
   ]
  },
  {
   "cell_type": "code",
   "execution_count": 63,
   "metadata": {
    "id": "EwB1x_1UO6JB"
   },
   "outputs": [],
   "source": [
    "### Setting predetermined values ###\n",
    "\n",
    "# Setting the order of the equation (fixed)\n",
    "n = 3\n",
    "\n",
    "########\n",
    "\n",
    "# Number of y-type terms (x, y, y', etc.)\n",
    "T = n + 2\n",
    "\n",
    "# Minimum number of subterms total (total number of terms in the final equation)\n",
    "min_subterms = 4\n",
    "\n",
    "# Maximum number of subterms total (total number of terms in the final equation)\n",
    "max_subterms = 5\n",
    "\n",
    "# Maximum number of times a function recursively called to create a function\n",
    "max_fun = 2\n",
    "\n",
    "# Sets the cumulative probabilities for the following function types:\n",
    "# (1) No change (2) power (3) exponential (4) logarithmic (5) trig (6) hyperbolic\n",
    "function_cdf = [0.1, 0.5, 0.62, 0.74, 1, 1]\n",
    "\n",
    "# Sets the probability that the function creating function will recursively call\n",
    "# itself again\n",
    "recurs_prob = 0.1\n",
    "\n",
    "# The probability of adding a constant to the function\n",
    "add_c_prob = 0.2"
   ]
  },
  {
   "cell_type": "code",
   "execution_count": 64,
   "metadata": {
    "id": "D9EIKzcEPe97"
   },
   "outputs": [
    {
     "data": {
      "text/plain": [
       "array([x, y0, y1, y2, y3], dtype=object)"
      ]
     },
     "execution_count": 64,
     "metadata": {},
     "output_type": "execute_result"
    }
   ],
   "source": [
    "### Defining the symbols, functions, and terms ###\n",
    "\n",
    "# Define symbol and function variables\n",
    "x = Symbol('x')\n",
    "\n",
    "# Stores the y-type terms (x, y, y', etc.) in an array called y_terms\n",
    "y_terms = np.empty(T, dtype=Symbol)\n",
    "y_terms[0] = x\n",
    "\n",
    "for i in range(1, T):\n",
    "    #y_terms[i] = y(x).diff(x, i - 1)\n",
    "    y_terms[i] = Symbol('y'+str(i-1))\n",
    "    \n",
    "y_terms"
   ]
  },
  {
   "cell_type": "markdown",
   "metadata": {
    "id": "DpB3Ml7MoOix"
   },
   "source": [
    "## Functions"
   ]
  },
  {
   "cell_type": "code",
   "execution_count": 65,
   "metadata": {
    "id": "iBcLOk1zWX0Y"
   },
   "outputs": [],
   "source": [
    "def num_subterms (sum_min, sum_max):\n",
    "    '''\n",
    "    This creates an array of the number of subterms for each y-type term.\n",
    "    If the number of subterms is less than the specified minimum or greater than\n",
    "    the specified maximum, the function will call itself recursively until\n",
    "    a valid number of subterms are determined.\n",
    "\n",
    "    Parameters\n",
    "    ----------\n",
    "    sum_min:  int\n",
    "              The minimum number of total subterms\n",
    "    sum_max:  int\n",
    "              The maximum number of total subterms\n",
    "\n",
    "    Returns\n",
    "    ----------\n",
    "    temp: numpy array of int\n",
    "          Returns the number of subterms for each y-type term\n",
    "    '''\n",
    "\n",
    "    temp = np.empty(T, dtype=int)\n",
    "    # Initially set that the nth derivative term has one subterm\n",
    "    temp[-1] = 1\n",
    "\n",
    "    # Set number of subterms (0, 1, or 2) for remaining terms\n",
    "    for i in range(T - 1):\n",
    "        # Sets the probability of having 0 subterms or 1 subterm\n",
    "        probabilities = [0] * 1 + [1] * 2\n",
    "        temp[i] = rand.choice(probabilities)\n",
    "\n",
    "    if (sum(temp) < sum_min or sum_min > sum_max):\n",
    "        return num_subterms (sum_min, sum_max)\n",
    "    return temp"
   ]
  },
  {
   "cell_type": "code",
   "execution_count": 66,
   "metadata": {},
   "outputs": [
    {
     "data": {
      "text/plain": [
       "array([1, 0, 1, 1, 1])"
      ]
     },
     "execution_count": 66,
     "metadata": {},
     "output_type": "execute_result"
    }
   ],
   "source": [
    "num_subterms(min_subterms, max_subterms)"
   ]
  },
  {
   "cell_type": "code",
   "execution_count": 67,
   "metadata": {},
   "outputs": [
    {
     "name": "stdout",
     "output_type": "stream",
     "text": [
      "2\n"
     ]
    }
   ],
   "source": [
    "print(rand.randint(0, 3))"
   ]
  },
  {
   "cell_type": "code",
   "execution_count": 68,
   "metadata": {
    "id": "_GM9YlsrkFIb"
   },
   "outputs": [],
   "source": [
    "# def create_subterm(y_term, cdf, iteration, max_it, const_prob):\n",
    "def create_subterm(y_term, const_prob):\n",
    "\n",
    "    '''\n",
    "    This returns a random subterm (a random function of the given y_term).\n",
    "    It may recursively call itself to make a more complicated funciton up to\n",
    "    max_it times.\n",
    "\n",
    "    The drawable functions include power, exponential, logarithmic,\n",
    "    trigonometric, and hyperbolic.\n",
    "\n",
    "    Parameters\n",
    "    ----------\n",
    "    y_term:     Object\n",
    "                The y-type term (x, y, y', etc.)\n",
    "    cdf:        int\n",
    "                The cumulative pobability of each function type (power,\n",
    "                exponential, logarithmic, and trigonometric)\n",
    "    iteration:  int\n",
    "                The iteration number (how many times the function has\n",
    "                been called)\n",
    "    max_it:     int\n",
    "                The maximum number of times the function can be called\n",
    "    const_prob: float\n",
    "                The probability of adding a constant to the current subterm\n",
    "\n",
    "    Returns\n",
    "    ----------\n",
    "    subterm:  Object\n",
    "              Returns a subterm for a function of a given y_term\n",
    "    '''\n",
    "\n",
    "    # Default value (function does nothing)\n",
    "    subterm = y_term\n",
    "\n",
    "    # RETURNING y3 alone\n",
    "    if y_term == y_terms[4]:\n",
    "        return y_terms[4]\n",
    "\n",
    "    # Randomly determines if a function must be applied (and which function)\n",
    "    temp = rand.random()\n",
    "    # population = [0, 1, 2, 3]\n",
    "    # weights = [0.1, 0.25, 0.4, 0.25]\n",
    "    # temp2 = rand.choices(population, weights)\n",
    "    temp2 = rand.randint(0, 3)\n",
    "\n",
    "    # Trig\n",
    "    if temp2 == 0:\n",
    "        trig_fun = [sin(y_term)] + [cos(y_term)] + [tan(y_term)]\n",
    "        subterm = rand.choice(trig_fun)\n",
    "    # Log\n",
    "    elif temp2 == 1:\n",
    "        subterm = log(y_term+1)\n",
    "    # Exponential\n",
    "    elif temp2 == 2:\n",
    "        subterm = exp(y_term)\n",
    "    # Power\n",
    "    elif temp2 == 3:\n",
    "        # Random positive power from 1 to 4\n",
    "        fun_power = rand.randint(1, 4)\n",
    "        subterm = (y_term)**(fun_power)\n",
    "\n",
    "    # Determines coefficient; the sign will already be either positive or negative\n",
    "    coeffs = np.linspace(-5,-1,5, dtype=int)\n",
    "    if rand.random() < 0.5:\n",
    "        subterm *= rand.choice(coeffs)\n",
    "    elif rand.random() > 0.5:\n",
    "        subterm /= rand.choice(coeffs)\n",
    "\n",
    "    # Determines added constant\n",
    "    if rand.random() < const_prob:\n",
    "        subterm += rand.choice(coeffs)\n",
    "\n",
    "\n",
    "    # if subterm == 0:\n",
    "    #     return simplify(subterm)\n",
    "        # return create_subterm(y_term, cdf, iteration, max_it, const_prob)\n",
    "\n",
    "    # Will consider reiterating if we have not yet reached the maximum\n",
    "    # number of iterations\n",
    "    # if iteration < max_it:\n",
    "    #     # If so, will add another function on top of this one\n",
    "    #     if rand.random() < recurs_prob:\n",
    "    #         # Recursively calls its own function to\n",
    "    #         # create a more complicated function\n",
    "    #         subterm = create_subterm(subterm, cdf, iteration + 1, max_it, const_prob)\n",
    "    #     # If not, will randomly determine if some additional p(x) should be added\n",
    "    #     elif rand.random() < 0.4:\n",
    "    #         # Only p(x)\n",
    "    #         subterm *= create_subterm(x, cdf, max_it, max_it, const_prob)\n",
    "\n",
    "    #         # OR, anything with lower y-like term than current\n",
    "    #         #possible_subterms = [x]\n",
    "    #         #for i in y_terms:\n",
    "    #         #    if i == y_term:\n",
    "    #         #        break\n",
    "    #         #    possible_subterms += [i]\n",
    "    #         #subterm *= create_subterm(rand.choice(possible_subterms), cdf, max_it, max_it, 0)\n",
    "\n",
    "    return simplify(subterm)"
   ]
  },
  {
   "cell_type": "code",
   "execution_count": 78,
   "metadata": {
    "id": "xhVpelJ0dcr4"
   },
   "outputs": [],
   "source": [
    "def create_subterms(y_terms):\n",
    "    '''\n",
    "    This returns all subterms of the equation.\n",
    "\n",
    "    Parameters\n",
    "    ----------\n",
    "    y_terms:   numpy array of Object\n",
    "              The y-type terms (x, y, y', etc.)\n",
    "    num_sub:  numpy array of int\n",
    "              The number of subterms for each y-type term\n",
    "\n",
    "    Returns\n",
    "    ----------\n",
    "    subterms: numpy array of Object\n",
    "              Returns all of the subterms for the equation\n",
    "    '''\n",
    "\n",
    "    subterms = []\n",
    "    for i in y_terms:\n",
    "        subterms.append(create_subterm(i, add_c_prob))\n",
    "    \n",
    "    nonlinear_term = rand.choice(subterms[1:])\n",
    "    possible_choices = [v for v in subterms[1:] if v != nonlinear_term]\n",
    "    coefficient_term = rand.choice(possible_choices)\n",
    "\n",
    "    subterms = [nonlinear_term * coefficient_term if subterm == nonlinear_term else subterm for subterm in subterms]\n",
    "\n",
    "    return subterms"
   ]
  },
  {
   "cell_type": "markdown",
   "metadata": {
    "id": "l72dU1KToQ_d"
   },
   "source": [
    "## Final Calculation and Output"
   ]
  },
  {
   "cell_type": "code",
   "execution_count": 79,
   "metadata": {
    "colab": {
     "base_uri": "https://localhost:8080/"
    },
    "id": "Iq3UwxriWWaZ",
    "outputId": "d7784c33-3c7a-479b-d4f2-65933d67ebc9"
   },
   "outputs": [
    {
     "name": "stdout",
     "output_type": "stream",
     "text": [
      "[x y0 y1 y2 y3]\n",
      "The terms are:\n"
     ]
    },
    {
     "data": {
      "image/png": "[encoded data removed]",
      "text/latex": [
       "$\\displaystyle - \\frac{\\tan{\\left(x \\right)}}{3}$"
      ],
      "text/plain": [
       "-tan(x) \n",
       "────────\n",
       "   3    "
      ]
     },
     "metadata": {},
     "output_type": "display_data"
    },
    {
     "name": "stdout",
     "output_type": "stream",
     "text": [
      "\n"
     ]
    },
    {
     "data": {
      "image/png": "[encoded data removed]",
      "text/latex": [
       "$\\displaystyle - \\left(\\tan{\\left(y_{2} \\right)} - 4\\right) e^{y_{0}}$"
      ],
      "text/plain": [
       "                y₀\n",
       "-(tan(y₂) - 4)⋅ℯ  "
      ]
     },
     "metadata": {},
     "output_type": "display_data"
    },
    {
     "name": "stdout",
     "output_type": "stream",
     "text": [
      "\n"
     ]
    },
    {
     "data": {
      "image/png": "[encoded data removed]",
      "text/latex": [
       "$\\displaystyle - 2 e^{y_{1}}$"
      ],
      "text/plain": [
       "    y₁\n",
       "-2⋅ℯ  "
      ]
     },
     "metadata": {},
     "output_type": "display_data"
    },
    {
     "name": "stdout",
     "output_type": "stream",
     "text": [
      "\n"
     ]
    },
    {
     "data": {
      "image/png": "[encoded data removed]",
      "text/latex": [
       "$\\displaystyle \\tan{\\left(y_{2} \\right)} - 4$"
      ],
      "text/plain": [
       "tan(y₂) - 4"
      ]
     },
     "metadata": {},
     "output_type": "display_data"
    },
    {
     "name": "stdout",
     "output_type": "stream",
     "text": [
      "\n"
     ]
    },
    {
     "data": {
      "image/png": "[encoded data removed]",
      "text/latex": [
       "$\\displaystyle y_{3}$"
      ],
      "text/plain": [
       "y₃"
      ]
     },
     "metadata": {},
     "output_type": "display_data"
    },
    {
     "name": "stdout",
     "output_type": "stream",
     "text": [
      "\n"
     ]
    }
   ],
   "source": [
    "print(y_terms)\n",
    "terms = create_subterms(y_terms)\n",
    "print(\"The terms are:\")\n",
    "for i in range(len(terms)):\n",
    "    disp.display(terms[i])\n",
    "    print()"
   ]
  },
  {
   "cell_type": "code",
   "execution_count": 80,
   "metadata": {
    "id": "zyzE_1CKz9BW"
   },
   "outputs": [
    {
     "data": {
      "image/png": "[encoded data removed]",
      "text/latex": [
       "$\\displaystyle y_{3} - \\left(\\tan{\\left(y_{2} \\right)} - 4\\right) e^{y_{0}} - 2 e^{y_{1}} - \\frac{\\tan{\\left(x \\right)}}{3} + \\tan{\\left(y_{2} \\right)} - 4$"
      ],
      "text/plain": [
       "                    y₀      y₁   tan(x)              \n",
       "y₃ - (tan(y₂) - 4)⋅ℯ   - 2⋅ℯ   - ────── + tan(y₂) - 4\n",
       "                                   3                 "
      ]
     },
     "execution_count": 80,
     "metadata": {},
     "output_type": "execute_result"
    }
   ],
   "source": [
    "sum(terms)"
   ]
  },
  {
   "cell_type": "code",
   "execution_count": 81,
   "metadata": {
    "id": "puB6Q70Q0aXC"
   },
   "outputs": [
    {
     "data": {
      "image/png": "[encoded data removed]",
      "text/latex": [
       "$\\displaystyle \\left[ e^{y_{0}} \\tan{\\left(y_{2} \\right)} - 4 e^{y_{0}} + 2 e^{y_{1}} + \\frac{\\tan{\\left(x \\right)}}{3} - \\tan{\\left(y_{2} \\right)} + 4\\right]$"
      ],
      "text/plain": [
       "⎡ y₀              y₀      y₁   tan(x)              ⎤\n",
       "⎢ℯ  ⋅tan(y₂) - 4⋅ℯ   + 2⋅ℯ   + ────── - tan(y₂) + 4⎥\n",
       "⎣                                3                 ⎦"
      ]
     },
     "execution_count": 81,
     "metadata": {},
     "output_type": "execute_result"
    }
   ],
   "source": [
    "# Define y3 from y_terms\n",
    "y3 = y_terms[4]\n",
    "solve(sum(terms),y3)"
   ]
  },
  {
   "cell_type": "markdown",
   "metadata": {
    "id": "mzTJ1nJf1zLK"
   },
   "source": [
    "# Dominant Balance Solver"
   ]
  },
  {
   "cell_type": "markdown",
   "metadata": {
    "id": "B4BE5OYN5YAU"
   },
   "source": [
    "## All helper functions for solver\n"
   ]
  },
  {
   "cell_type": "code",
   "execution_count": 82,
   "metadata": {
    "id": "p8jLfcB3wZhP"
   },
   "outputs": [],
   "source": [
    "import numpy as np\n",
    "import matplotlib.pyplot as plt\n",
    "from scipy.integrate import odeint\n",
    "from scipy.integrate import solve_ivp\n",
    "from sympy import *\n",
    "init_printing()\n",
    "from sympy.utilities.lambdify import lambdify, implemented_function"
   ]
  },
  {
   "cell_type": "code",
   "execution_count": 83,
   "metadata": {
    "id": "NplKuzRx5b2e"
   },
   "outputs": [],
   "source": [
    "# SOLVER (depending on which order it is, we would have to use different fun)\n",
    "# the following is an example for third order\n",
    "\n",
    "# define a function to convert sympy to numpy functions\n",
    "def sym_convert(eq):\n",
    "  return lambdify([y0,y1,y2,y3,x], eq)\n",
    "\n",
    "# here, we define the compiled solver\n",
    "def main_solver(odeterms, a, b, init_condition):\n",
    "\n",
    "  # i am not sure if this is necessary since the input is already sympy exp?\n",
    "  x,y1,y2,y0,y3 = symbols('x y1 y2 y0 y3')\n",
    "\n",
    "  # generate equation and y3 expression\n",
    "  eq = sum(odeterms)\n",
    "  y3 = solve(eq,y3)[0]\n",
    "\n",
    "  # generate function to put into odesystem\n",
    "  lam_y = lambdify([y0,y1,y2,x], [y1, y2, y3])\n",
    "  lam_y3 = lambdify([y0,y1,y2,x], y3)\n",
    "\n",
    "  # solve the ode\n",
    "  y_init = init_condition\n",
    "  y_sol = ode3_solver(lam_y, a, b, y_init)\n",
    "\n",
    "  # generate numerical solution for y3\n",
    "  y3_sol = lam_y3(y_sol[1,:], y_sol[2,:], y_sol[3,:], y_sol[0,:])\n",
    "  y_compiled = np.vstack((y_sol,y3_sol))\n",
    "\n",
    "  return y_compiled\n",
    "\n",
    "# define divergence event for when solve_ivp should terminate\n",
    "def div_event(t,y):\n",
    "    return abs(y[0]) - 1e3\n",
    "\n",
    "div_event.terminal = True\n",
    "\n",
    "def ode3_solver(lam_y, a, b, y_init):\n",
    "  # we define an ODE function to pass into the integrator\n",
    "  def ode_y(x,y):\n",
    "    y0,y1,y2 = y\n",
    "    return lam_y(y0,y1,y2,x)\n",
    "\n",
    "  # determine integration steps\n",
    "  t = np.linspace(a,b, num=int((b-a)*10+1))\n",
    "\n",
    "  # integrate to find y solutiont\n",
    "  print(y_init)\n",
    "  soln = solve_ivp(ode_y,[a,b],y_init,t_eval=t,events=div_event)\n",
    "\n",
    "  y_sol = np.vstack((soln.t,soln.y))\n",
    "\n",
    "  return y_sol\n",
    "\n",
    "def ode2_solver(lam_y, a, b, y_init):\n",
    "  # we define an ODE function to pass into the integrator\n",
    "  def ode_y(x,y):\n",
    "    y0,y1 = y\n",
    "    return lam_y(y0,y1,x)\n",
    "\n",
    "  # determine integration steps\n",
    "  t = np.linspace(a,b, num=int((b-a)*10+1))\n",
    "\n",
    "  # integrate to find y solution\n",
    "  print(y_init)\n",
    "  soln = solve_ivp(ode_y,[a,b],y_init,t_eval=t,events=div_event)\n",
    "\n",
    "  y_sol = np.vstack((soln.t,soln.y))\n",
    "\n",
    "  return y_sol\n",
    "\n",
    "def ode1_solver(lam_y, a, b, y_init):\n",
    "  # we define an ODE function to pass into the integrator\n",
    "  def ode_y(x,y):\n",
    "    y0 = y\n",
    "    return lam_y(y0,x)\n",
    "\n",
    "  # determine integration steps\n",
    "  t = np.linspace(a,b, num=int((b-a)*10+1))\n",
    "\n",
    "  # integrate to find y solution\n",
    "  print(y_init)\n",
    "  soln = solve_ivp(ode_y,[a,b],y_init,t_eval=t,events=div_event)\n",
    "\n",
    "  y_sol = np.vstack((soln.t,soln.y))\n",
    "\n",
    "  return y_sol\n",
    "\n",
    "\n",
    "# define the dom balance function\n",
    "def dom_bal(odeterms, sol, x):\n",
    "  \"\"\"\n",
    "  1. input odeterms as a list of sympy expressions of the terms\n",
    "  2. input sol as the numerical sol obtained from solver\n",
    "  3. input x as linspace array of the x domain\n",
    "  \"\"\"\n",
    "  # array to store the dominant balance values\n",
    "  absterms = np.zeros((len(odeterms), len(x)))\n",
    "  domterms = np.zeros((2, len(x)))\n",
    "\n",
    "  # generate abs value of each term\n",
    "  for idx, term in enumerate(odeterms):\n",
    "    abs_eq = sym_convert(term)\n",
    "    absterms[idx,:] = abs(abs_eq(sol[0,:], sol[1,:], sol[2,:], sol[3,:], x))\n",
    "\n",
    "  # iterate through to determine dominant balance throughout the domain\n",
    "  for i in range(len(x)):\n",
    "    domterms[:,i] = np.argsort(absterms[:,i])[-2:]\n",
    "\n",
    "  return absterms, domterms\n",
    "\n",
    "def dom_sol(domterms, a, b, y_init):\n",
    "  x,y1,y2,y0,y3 = symbols('x y1 y2 y0 y3')\n",
    "  # determine which y terms are in the dom bal terms\n",
    "\n",
    "  for term in domterms:\n",
    "    if y3 in term.free_symbols:\n",
    "      eq = sum(domterms)\n",
    "      y3 = solve(eq,y3)[0]\n",
    "      lam_y = lambdify([y0,y1,y2,x], [y1, y2, y3])\n",
    "\n",
    "      # solve the ode\n",
    "      y_compiled = ode3_solver(lam_y, a, b, y_init)\n",
    "\n",
    "      return y_compiled\n",
    "\n",
    "  for term in domterms:\n",
    "    if y2 in term.free_symbols:\n",
    "      eq = sum(domterms)\n",
    "      y2 = solve(eq,y2)[0]\n",
    "      lam_y = lambdify([y0,y1,x], [y1, y2])\n",
    "      lam_y2 = lambdify([y0,y1,x], y2)\n",
    "\n",
    "      # solve the ode\n",
    "      y_sol = ode2_solver(lam_y, a, b, y_init[0:2])\n",
    "\n",
    "      # generate numerical solution for y2\n",
    "      y2_sol = lam_y2(y_sol[1,:], y_sol[2,:], y_sol[0,:])\n",
    "      y_compiled = np.vstack((y_sol,y2_sol))\n",
    "\n",
    "      return y_compiled\n",
    "\n",
    "  for term in domterms:\n",
    "    if y1 in term.free_symbols:\n",
    "      eq = sum(domterms)\n",
    "      y1 = solve(eq,y1)[0]\n",
    "      lam_y = lambdify([y0,x], [y1])\n",
    "      lam_y1 = lambdify([y0,x], y1)\n",
    "\n",
    "      # solve the ode\n",
    "      y_sol = ode1_solver(lam_y, a, b, [y_init[0]])\n",
    "\n",
    "      # generate numerical solution for y1\n",
    "      y1_sol = lam_y1(y_sol[1,:], y_sol[0,:])\n",
    "\n",
    "      # generate numerical solution for y2 using finite difference\n",
    "      y2_sol = np.zeros(len(y1_sol))\n",
    "      y2_sol[-1] = (y1_sol[-1] - y1_sol[-2])/(y_sol[0,-1] - y_sol[0,-2])\n",
    "\n",
    "      y_compiled = np.vstack((np.vstack((y_sol,y1_sol)),y2_sol))\n",
    "      return y_compiled\n",
    "\n",
    "  for term in domterms:\n",
    "    if y0 in term.free_symbols:\n",
    "      eq = sum(domterms)\n",
    "      y0 = solve(eq,y0)[0]\n",
    "\n",
    "      # create y function and timesteps\n",
    "      lam_y = lambdify(x, y0)\n",
    "      t = np.linspace(a,b,num=int((b-a)*10 + 1))\n",
    "\n",
    "      # solve y function\n",
    "      y_sol = lam_y(t)\n",
    "      print(\"ysol is \" , y_sol)\n",
    "      # generate numerical solution for y1 using finite difference\n",
    "      y1_sol = np.zeros(len(y_sol))\n",
    "\n",
    "      y2_sol = np.zeros(len(y1_sol))\n",
    "      if len(y_sol) > 2:\n",
    "        y1_sol[-2] = (y_sol[1,-2] - y_sol[1,-3])/(y_sol[0,-2] - y_sol[0,-3])\n",
    "        y1_sol[-1] = (y_sol[1,-1] - y_sol[1,-2])/(y_sol[0,-1] - y_sol[0,-2])\n",
    "\n",
    "        # generate numerical solution for y2 using finite difference\n",
    "\n",
    "        y2_sol[-1] = (y1_sol[-1] - y1_sol[-2])/(y_sol[0,-1] - y_sol[0,-2])\n",
    "\n",
    "      y_compiled = np.vstack((np.vstack((y_sol,y1_sol)),y2_sol))\n",
    "\n",
    "      return y_compiled"
   ]
  },
  {
   "cell_type": "code",
   "execution_count": 75,
   "metadata": {
    "id": "gRrEve59E4h5"
   },
   "outputs": [],
   "source": [
    "def get_regimes(domterms):\n",
    "  leaders = {domterms[0,0],domterms[1,0]}\n",
    "  regimes = np.array(['start index','end index',{'term1','term2'}])\n",
    "  start_index = 0\n",
    "  for i in range(domterms.shape[1]):\n",
    "    if {domterms[0,i],domterms[1,i]} != leaders:\n",
    "      regimes = np.vstack((regimes,[start_index,i-1,leaders]))\n",
    "      leaders = {domterms[0,i],domterms[1,i]}\n",
    "      start_index = i-1\n",
    "  regimes = np.vstack((regimes,[start_index,domterms.shape[1]-1,leaders]))\n",
    "  return regimes"
   ]
  },
  {
   "cell_type": "code",
   "execution_count": 84,
   "metadata": {
    "id": "qQTUbIb_-RXX"
   },
   "outputs": [],
   "source": [
    "def verifier(soln, dom_bal, start_regime, squared_error):\n",
    "  \"\"\"\n",
    "  inputs to pass in: solution (of y), dom balance solution (of y), beginning index of regime in soln\n",
    "  \"\"\"\n",
    "  mre = 0\n",
    "  n = len(dom_bal)\n",
    "  for i in range(n):\n",
    "    # squared error version\n",
    "    if squared_error:\n",
    "      mre += ((soln[start_regime+i]-dom_bal[i])/(soln[start_regime+i]))**2\n",
    "    else:\n",
    "      mre += np.abs(soln[start_regime+i]-dom_bal[i])/np.abs(soln[start_regime+i])\n",
    "  mre = mre/n\n",
    "  return mre"
   ]
  },
  {
   "cell_type": "markdown",
   "metadata": {
    "id": "vMeS-9niQyIQ"
   },
   "source": [
    "## Generate Problem Statement in Latex"
   ]
  },
  {
   "cell_type": "code",
   "execution_count": 88,
   "metadata": {
    "colab": {
     "base_uri": "https://localhost:8080/",
     "height": 570
    },
    "id": "C-x9Xqu5RW0u",
    "outputId": "1b8896cc-6b21-4fef-9742-65eeac88a828"
   },
   "outputs": [
    {
     "data": {
      "image/png": "[encoded data removed]",
      "text/latex": [
       "$\\displaystyle \\frac{- 2 x^{3} - 3 y_{0}^{3}}{3 y_{0}^{3}}$"
      ],
      "text/plain": [
       "     3       3\n",
       "- 2⋅x  - 3⋅y₀ \n",
       "──────────────\n",
       "        3     \n",
       "    3⋅y₀      "
      ]
     },
     "metadata": {},
     "output_type": "display_data"
    },
    {
     "name": "stdout",
     "output_type": "stream",
     "text": [
      "None\n"
     ]
    },
    {
     "data": {
      "text/plain": [
       "\"\\n\\\\text{Given the third-order ODE: } y''' = \\\\frac{- 2 x^{3} - 3 y_{0}^{3}}{3 y_{0}^{3}}\\n\\n\\\\text{With initial conditions at } x = 0:\\n\\\\begin{align*}\\ny(0) &= 0.24 \\\\\\\\\\ny'(0) &= -0.03 \\\\\\\\\\ny''(0) &= 0.51\\n\\\\end{align*}\\n\""
      ]
     },
     "execution_count": 88,
     "metadata": {},
     "output_type": "execute_result"
    }
   ],
   "source": [
    "# Get initial conditions between -1 and 1 uniformly\n",
    "init_condition = (2 * np.random.random_sample((3,)) - 1)\n",
    "\n",
    "# Get equation for\n",
    "x,y1,y2,y0,y3 = symbols('x y1 y2 y0 y3')\n",
    "terms = create_subterms(y_terms)\n",
    "\n",
    "\n",
    "# Define the mapping for replacement\n",
    "replacement_mapping = {\n",
    "    y0: y0,\n",
    "    y1: y0.diff(x),\n",
    "    y2: y0.diff(x, 2)\n",
    "}\n",
    "\n",
    "# Function to replace y0, y1, y2 with y, y', y''\n",
    "def replace_with_differential(expr):\n",
    "    return expr.subs(replacement_mapping)\n",
    "\n",
    "replaced_expr = replace_with_differential(solve(sum(terms),y3)[0])\n",
    "\n",
    "print(disp.display(replaced_expr))\n",
    "\n",
    "# Converting the replaced expression to LaTeX\n",
    "latex_replaced_expr = latex(replaced_expr)\n",
    "\n",
    "# Extracting the values a, b, c from init_condition\n",
    "a, b, c = init_condition\n",
    "\n",
    "# Preparing the updated LaTeX formatted equation with x_0 as 0 and the new form of the equation\n",
    "updated_latex_equation = f\"\"\"\n",
    "\\\\text{{Given the third-order ODE: }} y''' = {latex_replaced_expr}\n",
    "\n",
    "\\\\text{{With initial conditions at }} x = 0:\n",
    "\\\\begin{{align*}}\n",
    "y(0) &= {a:.2f} \\\\\\\\\n",
    "y'(0) &= {b:.2f} \\\\\\\\\n",
    "y''(0) &= {c:.2f}\n",
    "\\\\end{{align*}}\n",
    "\"\"\"\n",
    "\n",
    "updated_latex_equation"
   ]
  },
  {
   "cell_type": "code",
   "execution_count": null,
   "metadata": {},
   "outputs": [
    {
     "name": "stdout",
     "output_type": "stream",
     "text": [
      "[ 0.85553009 -0.23249198  0.29675949]\n"
     ]
    },
    {
     "name": "stderr",
     "output_type": "stream",
     "text": [
      "<lambdifygenerated-1>:2: RuntimeWarning: divide by zero encountered in scalar divide\n",
      "  return [y1, y2, -x*cos(y1) - 6*x - 6*y0**7 - y2**3 - 4*cos(y1) - 32 + 2/sin(x)**3]\n",
      "/Users/erikw/miniconda3/envs/cs229_1/lib/python3.11/site-packages/scipy/integrate/_ivp/common.py:112: RuntimeWarning: invalid value encountered in multiply\n",
      "  y1 = y0 + h0 * direction * f0\n",
      "<lambdifygenerated-1>:2: RuntimeWarning: invalid value encountered in scalar add\n",
      "  return [y1, y2, -x*cos(y1) - 6*x - 6*y0**7 - y2**3 - 4*cos(y1) - 32 + 2/sin(x)**3]\n",
      "<lambdifygenerated-1>:2: RuntimeWarning: invalid value encountered in cos\n",
      "  return [y1, y2, -x*cos(y1) - 6*x - 6*y0**7 - y2**3 - 4*cos(y1) - 32 + 2/sin(x)**3]\n"
     ]
    },
    {
     "ename": "IndexError",
     "evalue": "index 2 is out of bounds for axis 0 with size 2",
     "output_type": "error",
     "traceback": [
      "\u001b[0;31m---------------------------------------------------------------------------\u001b[0m",
      "\u001b[0;31mIndexError\u001b[0m                                Traceback (most recent call last)",
      "\u001b[1;32m/Users/erikw/Documents/Docs/Documents/Harvard/Classes/2023 Fall/AM 201/AM201-Dataset/Code/COMPILED_ODE_Gen_+_Solver_+_Verifier.ipynb Cell 23\u001b[0m line \u001b[0;36m1\n\u001b[0;32m----> <a href='vscode-notebook-cell:/Users/erikw/Documents/Docs/Documents/Harvard/Classes/2023%20Fall/AM%20201/AM201-Dataset/Code/COMPILED_ODE_Gen_%2B_Solver_%2B_Verifier.ipynb#X31sZmlsZQ%3D%3D?line=0'>1</a>\u001b[0m soln \u001b[39m=\u001b[39m main_solver(terms,\u001b[39m0\u001b[39;49m,\u001b[39m10\u001b[39;49m,init_condition)\n\u001b[1;32m      <a href='vscode-notebook-cell:/Users/erikw/Documents/Docs/Documents/Harvard/Classes/2023%20Fall/AM%20201/AM201-Dataset/Code/COMPILED_ODE_Gen_%2B_Solver_%2B_Verifier.ipynb#X31sZmlsZQ%3D%3D?line=2'>3</a>\u001b[0m \u001b[39m# Get the point at which it terminated\u001b[39;00m\n\u001b[1;32m      <a href='vscode-notebook-cell:/Users/erikw/Documents/Docs/Documents/Harvard/Classes/2023%20Fall/AM%20201/AM201-Dataset/Code/COMPILED_ODE_Gen_%2B_Solver_%2B_Verifier.ipynb#X31sZmlsZQ%3D%3D?line=3'>4</a>\u001b[0m t_stop \u001b[39m=\u001b[39m soln[\u001b[39m0\u001b[39m,soln\u001b[39m.\u001b[39mshape[\u001b[39m1\u001b[39m]\u001b[39m-\u001b[39m\u001b[39m1\u001b[39m]\n",
      "\u001b[1;32m/Users/erikw/Documents/Docs/Documents/Harvard/Classes/2023 Fall/AM 201/AM201-Dataset/Code/COMPILED_ODE_Gen_+_Solver_+_Verifier.ipynb Cell 23\u001b[0m line \u001b[0;36m2\n\u001b[1;32m     <a href='vscode-notebook-cell:/Users/erikw/Documents/Docs/Documents/Harvard/Classes/2023%20Fall/AM%20201/AM201-Dataset/Code/COMPILED_ODE_Gen_%2B_Solver_%2B_Verifier.ipynb#X31sZmlsZQ%3D%3D?line=23'>24</a>\u001b[0m y_sol \u001b[39m=\u001b[39m ode3_solver(lam_y, a, b, y_init)\n\u001b[1;32m     <a href='vscode-notebook-cell:/Users/erikw/Documents/Docs/Documents/Harvard/Classes/2023%20Fall/AM%20201/AM201-Dataset/Code/COMPILED_ODE_Gen_%2B_Solver_%2B_Verifier.ipynb#X31sZmlsZQ%3D%3D?line=25'>26</a>\u001b[0m \u001b[39m# generate numerical solution for y3\u001b[39;00m\n\u001b[0;32m---> <a href='vscode-notebook-cell:/Users/erikw/Documents/Docs/Documents/Harvard/Classes/2023%20Fall/AM%20201/AM201-Dataset/Code/COMPILED_ODE_Gen_%2B_Solver_%2B_Verifier.ipynb#X31sZmlsZQ%3D%3D?line=26'>27</a>\u001b[0m y3_sol \u001b[39m=\u001b[39m lam_y3(y_sol[\u001b[39m1\u001b[39m,:], y_sol[\u001b[39m2\u001b[39;49m,:], y_sol[\u001b[39m3\u001b[39m,:], y_sol[\u001b[39m0\u001b[39m,:])\n\u001b[1;32m     <a href='vscode-notebook-cell:/Users/erikw/Documents/Docs/Documents/Harvard/Classes/2023%20Fall/AM%20201/AM201-Dataset/Code/COMPILED_ODE_Gen_%2B_Solver_%2B_Verifier.ipynb#X31sZmlsZQ%3D%3D?line=27'>28</a>\u001b[0m y_compiled \u001b[39m=\u001b[39m np\u001b[39m.\u001b[39mvstack((y_sol,y3_sol))\n\u001b[1;32m     <a href='vscode-notebook-cell:/Users/erikw/Documents/Docs/Documents/Harvard/Classes/2023%20Fall/AM%20201/AM201-Dataset/Code/COMPILED_ODE_Gen_%2B_Solver_%2B_Verifier.ipynb#X31sZmlsZQ%3D%3D?line=29'>30</a>\u001b[0m \u001b[39mreturn\u001b[39;00m y_compiled\n",
      "\u001b[0;31mIndexError\u001b[0m: index 2 is out of bounds for axis 0 with size 2"
     ]
    }
   ],
   "source": [
    "soln = main_solver(terms,0,10,init_condition)\n",
    "\n",
    "# Get the point at which it terminated\n",
    "t_stop = soln[0,soln.shape[1]-1]\n",
    "print(\"t_stop is \", t_stop)\n",
    "\n",
    "# Get the t-step\n",
    "t_step = soln[0,1]-soln[0,0]\n",
    "print(\"T step is \",t_step)\n",
    "\n",
    "# Graph it!\n",
    "plt.figure(figsize=(8,4))\n",
    "plt.plot(soln[0,],soln[1,],label='y0 numerical')\n",
    "plt.legend()\n",
    "plt.xticks(np.arange(0, t_stop,step=0.5))\n",
    "plt.tick_params(axis='both', which='major', labelsize=8)\n",
    "\n",
    "# Get the dominant balances\n",
    "x,y1,y2,y0,y3 = symbols('x y1 y2 y0 y3')\n",
    "absterms, domterms = dom_bal(terms, soln[1:5,:], soln[0,:])\n",
    "\n",
    "# Get the regimes\n",
    "regimes = get_regimes(domterms)\n",
    "print(regimes)\n",
    "\n",
    "# Iterate through regimes\n",
    "regime_init = init_condition\n",
    "regimes_soln = np.zeros(soln.shape[1])\n",
    "regimes_soln[0] = init_condition[0]\n",
    "for reg_num in range(1,len(regimes)):\n",
    "  start_idx = regimes[reg_num][0]\n",
    "  end_idx = regimes[reg_num][1]\n",
    "  if start_idx != end_idx:\n",
    "    start_t = 0.1*start_idx\n",
    "    end_t = 0.1*end_idx\n",
    "    winner_0 = int(list(regimes[reg_num][2])[0])\n",
    "    winner_1 = int(list(regimes[reg_num][2])[1])\n",
    "    regime_solved = dom_sol([terms[winner_0],terms[winner_1]],a=start_t,b=end_t,y_init=regime_init)\n",
    "    if len(regime_solved[1,]) != len(regimes_soln[start_idx:end_idx+1]):\n",
    "      regime_solved = dom_sol([terms[winner_0],terms[winner_1]],a=round(start_t,1),\\\n",
    "                              b=round(end_t,1),y_init=regime_init)\n",
    "    regimes_soln[start_idx:end_idx+1] = regime_solved[1,]\n",
    "    regime_init = regime_solved[1:,-1]\n",
    "\n",
    "plt.plot(soln[0,],regimes_soln,label='dominant balances')"
   ]
  },
  {
   "cell_type": "code",
   "execution_count": null,
   "metadata": {
    "colab": {
     "base_uri": "https://localhost:8080/",
     "height": 37
    },
    "id": "FzMR9LXo-LXA",
    "outputId": "f39fbbc3-70ac-4211-d949-afca765f4a1c"
   },
   "outputs": [
    {
     "ename": "NameError",
     "evalue": "name 'soln' is not defined",
     "output_type": "error",
     "traceback": [
      "\u001b[0;31m---------------------------------------------------------------------------\u001b[0m",
      "\u001b[0;31mNameError\u001b[0m                                 Traceback (most recent call last)",
      "\u001b[1;32m/Users/erikw/Documents/Docs/Documents/Harvard/Classes/2023 Fall/AM 201/AM201-Dataset/Code/COMPILED_ODE_Gen_+_Solver_+_Verifier.ipynb Cell 25\u001b[0m line \u001b[0;36m2\n\u001b[1;32m      <a href='vscode-notebook-cell:/Users/erikw/Documents/Docs/Documents/Harvard/Classes/2023%20Fall/AM%20201/AM201-Dataset/Code/COMPILED_ODE_Gen_%2B_Solver_%2B_Verifier.ipynb#X32sZmlsZQ%3D%3D?line=0'>1</a>\u001b[0m \u001b[39m#MRE\u001b[39;00m\n\u001b[0;32m----> <a href='vscode-notebook-cell:/Users/erikw/Documents/Docs/Documents/Harvard/Classes/2023%20Fall/AM%20201/AM201-Dataset/Code/COMPILED_ODE_Gen_%2B_Solver_%2B_Verifier.ipynb#X32sZmlsZQ%3D%3D?line=1'>2</a>\u001b[0m \u001b[39mround\u001b[39m(\u001b[39m100\u001b[39m\u001b[39m*\u001b[39mverifier(soln[\u001b[39m1\u001b[39m,],regimes_soln,\u001b[39m0\u001b[39m,\u001b[39mFalse\u001b[39;00m),\u001b[39m3\u001b[39m)\n",
      "\u001b[0;31mNameError\u001b[0m: name 'soln' is not defined"
     ]
    }
   ],
   "source": [
    "#MRE\n",
    "round(100*verifier(soln[1,],regimes_soln,0,False),3)"
   ]
  },
  {
   "cell_type": "code",
   "execution_count": null,
   "metadata": {
    "colab": {
     "base_uri": "https://localhost:8080/",
     "height": 37
    },
    "id": "440R49rWA33m",
    "outputId": "c592ea96-ea33-4b35-90d9-d103656c40b5"
   },
   "outputs": [
    {
     "ename": "NameError",
     "evalue": "name 'regimes' is not defined",
     "output_type": "error",
     "traceback": [
      "\u001b[0;31m---------------------------------------------------------------------------\u001b[0m",
      "\u001b[0;31mNameError\u001b[0m                                 Traceback (most recent call last)",
      "\u001b[1;32m/Users/erikw/Documents/Docs/Documents/Harvard/Classes/2023 Fall/AM 201/AM201-Dataset/Code/COMPILED_ODE_Gen_+_Solver_+_Verifier.ipynb Cell 26\u001b[0m line \u001b[0;36m2\n\u001b[1;32m      <a href='vscode-notebook-cell:/Users/erikw/Documents/Docs/Documents/Harvard/Classes/2023%20Fall/AM%20201/AM201-Dataset/Code/COMPILED_ODE_Gen_%2B_Solver_%2B_Verifier.ipynb#X33sZmlsZQ%3D%3D?line=0'>1</a>\u001b[0m \u001b[39m#Number of regimes\u001b[39;00m\n\u001b[0;32m----> <a href='vscode-notebook-cell:/Users/erikw/Documents/Docs/Documents/Harvard/Classes/2023%20Fall/AM%20201/AM201-Dataset/Code/COMPILED_ODE_Gen_%2B_Solver_%2B_Verifier.ipynb#X33sZmlsZQ%3D%3D?line=1'>2</a>\u001b[0m \u001b[39mlen\u001b[39m(regimes)\u001b[39m-\u001b[39m\u001b[39m1\u001b[39m\n",
      "\u001b[0;31mNameError\u001b[0m: name 'regimes' is not defined"
     ]
    }
   ],
   "source": [
    "#Number of regimes\n",
    "len(regimes)-1"
   ]
  },
  {
   "cell_type": "code",
   "execution_count": null,
   "metadata": {},
   "outputs": [],
   "source": []
  }
 ],
 "metadata": {
  "colab": {
   "collapsed_sections": [
    "QJBh4fOgoLTm",
    "DpB3Ml7MoOix",
    "l72dU1KToQ_d"
   ],
   "provenance": []
  },
  "kernelspec": {
   "display_name": "Python 3 (ipykernel)",
   "language": "python",
   "name": "python3"
  },
  "language_info": {
   "codemirror_mode": {
    "name": "ipython",
    "version": 3
   },
   "file_extension": ".py",
   "mimetype": "text/x-python",
   "name": "python",
   "nbconvert_exporter": "python",
   "pygments_lexer": "ipython3",
   "version": "3.11.3"
  }
 },
 "nbformat": 4,
 "nbformat_minor": 1
}
