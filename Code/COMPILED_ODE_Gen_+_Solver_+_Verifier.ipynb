{
 "cells": [
  {
   "cell_type": "markdown",
   "metadata": {
    "id": "J62oxRuooIdF"
   },
   "source": [
    "# Random ODE Generator"
   ]
  },
  {
   "cell_type": "markdown",
   "metadata": {
    "id": "QJBh4fOgoLTm"
   },
   "source": [
    "## Setting Problem Up"
   ]
  },
  {
   "cell_type": "code",
   "execution_count": 222,
   "metadata": {
    "id": "VP4b69KKPeVU"
   },
   "outputs": [],
   "source": [
    "### Imports ###\n",
    "import numpy as np\n",
    "from sympy import *\n",
    "import sympy\n",
    "import random as rand\n",
    "import random\n",
    "import IPython.display as disp\n",
    "init_printing()"
   ]
  },
  {
   "cell_type": "code",
   "execution_count": 223,
   "metadata": {
    "id": "EwB1x_1UO6JB"
   },
   "outputs": [],
   "source": [
    "### Setting predetermined values ###\n",
    "\n",
    "# Setting the order of the equation (fixed)\n",
    "n = 3\n",
    "\n",
    "########\n",
    "\n",
    "# Number of y-type terms (x, y, y', etc.)\n",
    "T = n + 2\n",
    "\n",
    "# Minimum number of subterms total (total number of terms in the final equation)\n",
    "min_subterms = 4\n",
    "\n",
    "# Maximum number of subterms total (total number of terms in the final equation)\n",
    "max_subterms = 5\n",
    "\n",
    "# Maximum number of times a function recursively called to create a function\n",
    "max_fun = 2\n",
    "\n",
    "# Sets the cumulative probabilities for the following function types:\n",
    "# (1) No change (2) power (3) exponential (4) logarithmic (5) trig (6) hyperbolic\n",
    "function_cdf = [0.1, 0.5, 0.62, 0.74, 1, 1]\n",
    "\n",
    "# Sets the probability that the function creating function will recursively call\n",
    "# itself again\n",
    "recurs_prob = 0.1\n",
    "\n",
    "# The probability of adding a constant to the function\n",
    "add_c_prob = 0.2"
   ]
  },
  {
   "cell_type": "code",
   "execution_count": 224,
   "metadata": {
    "id": "D9EIKzcEPe97"
   },
   "outputs": [
    {
     "data": {
      "text/plain": [
       "array([x, y0, y1, y2, y3], dtype=object)"
      ]
     },
     "execution_count": 224,
     "metadata": {},
     "output_type": "execute_result"
    }
   ],
   "source": [
    "### Defining the symbols, functions, and terms ###\n",
    "\n",
    "# Define symbol and function variables\n",
    "x = Symbol('x')\n",
    "\n",
    "# Stores the y-type terms (x, y, y', etc.) in an array called y_terms\n",
    "y_terms = np.empty(T, dtype=Symbol)\n",
    "y_terms[0] = x\n",
    "\n",
    "for i in range(1, T):\n",
    "    #y_terms[i] = y(x).diff(x, i - 1)\n",
    "    y_terms[i] = Symbol('y'+str(i-1))\n",
    "    \n",
    "y_terms"
   ]
  },
  {
   "cell_type": "markdown",
   "metadata": {
    "id": "DpB3Ml7MoOix"
   },
   "source": [
    "## Functions"
   ]
  },
  {
   "cell_type": "code",
   "execution_count": 225,
   "metadata": {
    "id": "iBcLOk1zWX0Y"
   },
   "outputs": [],
   "source": [
    "def num_subterms (sum_min, sum_max):\n",
    "    '''\n",
    "    This creates an array of the number of subterms for each y-type term.\n",
    "    If the number of subterms is less than the specified minimum or greater than\n",
    "    the specified maximum, the function will call itself recursively until\n",
    "    a valid number of subterms are determined.\n",
    "\n",
    "    Parameters\n",
    "    ----------\n",
    "    sum_min:  int\n",
    "              The minimum number of total subterms\n",
    "    sum_max:  int\n",
    "              The maximum number of total subterms\n",
    "\n",
    "    Returns\n",
    "    ----------\n",
    "    temp: numpy array of int\n",
    "          Returns the number of subterms for each y-type term\n",
    "    '''\n",
    "\n",
    "    temp = np.empty(T, dtype=int)\n",
    "    # Initially set that the nth derivative term has one subterm\n",
    "    temp[-1] = 1\n",
    "\n",
    "    # Set number of subterms (0, 1, or 2) for remaining terms\n",
    "    for i in range(T - 1):\n",
    "        # Sets the probability of having 0 subterms or 1 subterm\n",
    "        probabilities = [0] * 1 + [1] * 2\n",
    "        temp[i] = rand.choice(probabilities)\n",
    "\n",
    "    if (sum(temp) < sum_min or sum_min > sum_max):\n",
    "        return num_subterms (sum_min, sum_max)\n",
    "    return temp"
   ]
  },
  {
   "cell_type": "code",
   "execution_count": 226,
   "metadata": {},
   "outputs": [
    {
     "data": {
      "text/plain": [
       "array([1, 1, 1, 1, 1])"
      ]
     },
     "execution_count": 226,
     "metadata": {},
     "output_type": "execute_result"
    }
   ],
   "source": [
    "num_subterms(min_subterms, max_subterms)"
   ]
  },
  {
   "cell_type": "code",
   "execution_count": 629,
   "metadata": {},
   "outputs": [],
   "source": [
    "# Function to generate polynomials\n",
    "def generate_polynomial(degree, num_terms, coeff_lower_bound, coeff_upper_bound):\n",
    "    \"\"\"\n",
    "    Generates a polynomial of a given degree with a specific number of terms.\n",
    "    The coefficients of the polynomial are within the specified bounds.\n",
    "\n",
    "    Parameters:\n",
    "    degree (int): The maximum degree of the polynomial.\n",
    "    num_terms (int): The number of terms the polynomial should have.\n",
    "    coeff_lower_bound (int): The lower bound for the coefficients.\n",
    "    coeff_upper_bound (int): The upper bound for the coefficients.\n",
    "\n",
    "    Returns:\n",
    "    list: A list representing the coefficients of the polynomial.\n",
    "    \"\"\"\n",
    "\n",
    "    # Initialize an array of zeros for the coefficients\n",
    "    coefficients = [0] * (degree + 1)\n",
    "\n",
    "    # Ensure the number of terms is valid\n",
    "    if num_terms > degree + 1:\n",
    "        raise ValueError(\"Number of terms cannot be more than the degree of the polynomial + 1\")\n",
    "\n",
    "    # Randomly choose positions for the non-zero coefficients\n",
    "    non_zero_positions = random.sample(range(degree + 1), num_terms)\n",
    "\n",
    "    # Assign random values within the bounds to the chosen positions\n",
    "    for pos in non_zero_positions:\n",
    "        coefficients[pos] = random.randint(coeff_lower_bound, coeff_upper_bound)\n",
    "\n",
    "    # Ensure the highest degree term is non-zero\n",
    "    if coefficients[-1] == 0:\n",
    "        coefficients[-1] = random.randint(coeff_lower_bound, coeff_upper_bound)\n",
    "\n",
    "    return coefficients"
   ]
  },
  {
   "cell_type": "code",
   "execution_count": 630,
   "metadata": {},
   "outputs": [],
   "source": [
    "def polynomial_from_coefficients(coefficients, special_func_prob=0.5, power_prob=0.5):\n",
    "    \"\"\"\n",
    "    Converts a list of coefficients into a polynomial expression using sympy.\n",
    "    Optionally adds a special function to the polynomial.\n",
    "\n",
    "    Parameters:\n",
    "    coefficients (list): A list of coefficients, where the index represents the power of x.\n",
    "    special_func_prob (float): Probability of adding a special function to the polynomial.\n",
    "    power_prob (float): Probability of raising the special function to a positive power.\n",
    "\n",
    "    Returns:\n",
    "    sympy expression: The polynomial expression.\n",
    "    \"\"\"\n",
    "    x = symbols('x')\n",
    "    polynomial = sum(coef * x**i for i, coef in enumerate(coefficients[::-1]))\n",
    "\n",
    "    # Check if a special function should be added\n",
    "    if random.random() < special_func_prob:\n",
    "        # List of special functions\n",
    "        special_funcs = [sin(x), cos(x), log(x+1), exp(x)]\n",
    "        # Choose one special function randomly\n",
    "        special_func = random.choice(special_funcs)\n",
    "\n",
    "        # Optionally raise the special function to a positive power\n",
    "        if random.random() < power_prob:\n",
    "            power = random.randint(1, 4)  # positive power between 1 and 4\n",
    "            special_func = special_func**power\n",
    "\n",
    "        # Add the special function to the polynomial\n",
    "        polynomial += special_func\n",
    "\n",
    "    return Poly(polynomial)"
   ]
  },
  {
   "cell_type": "code",
   "execution_count": 631,
   "metadata": {
    "id": "_GM9YlsrkFIb"
   },
   "outputs": [],
   "source": [
    "def create_subterm (y_term, cdf, iteration, max_it, const_prob):\n",
    "    '''\n",
    "    This returns a random subterm (a random function of the given y_term).\n",
    "    It may recursively call itself to make a more complicated funciton up to\n",
    "    max_it times.\n",
    "\n",
    "    The drawable functions include power, exponential, logarithmic,\n",
    "    trigonometric, and hyperbolic.\n",
    "\n",
    "    Parameters\n",
    "    ----------\n",
    "    y_term:     Object\n",
    "                The y-type term (x, y, y', etc.)\n",
    "    cdf:        int\n",
    "                The cumulative pobability of each function type (power,\n",
    "                exponential, logarithmic, trigonometric, and hyperbolic)\n",
    "    iteration:  int\n",
    "                The iteration number (how many times the function has\n",
    "                been called)\n",
    "    max_it:     int\n",
    "                The maximum number of times the function can be called\n",
    "    const_prob: float\n",
    "                The probability of adding a constant to the current subterm\n",
    "\n",
    "    Returns\n",
    "    ----------\n",
    "    subterm:  Object\n",
    "              Returns a subterm for a function of a given y_term\n",
    "    '''\n",
    "\n",
    "    # Default value (function does nothing)\n",
    "    subterm = y_term\n",
    "\n",
    "    # RETURNING y3 alone\n",
    "    if y_term == y_terms[4]:\n",
    "        return y_terms[4]\n",
    "\n",
    "    # Randomly determines if a function must be applied (and which function)\n",
    "    temp = rand.random()\n",
    "    \n",
    "    def add_coeff_and_constant(subterm, const_prob):\n",
    "        # Determines coefficient\n",
    "        coeffs = np.linspace(-11,-1,11, dtype=int)+np.linspace(1,11,11, dtype=int)\n",
    "        if rand.random() < 0.3:\n",
    "            subterm *= rand.choice(coeffs)\n",
    "        elif rand.random() > 0.8:\n",
    "            subterm /= rand.choice(coeffs)\n",
    "\n",
    "        # Determines added constant\n",
    "        if rand.random() < const_prob:\n",
    "            subterm += rand.choice(coeffs)\n",
    "            \n",
    "        return subterm\n",
    "    \n",
    "    # New Feature: Raise y, y', or y'' to a positive power\n",
    "    if y_term in [y_terms[1], y_terms[2], y_terms[3]]:\n",
    "        if rand.random() < 1/3:  # the probability of raising to a power\n",
    "            power = rand.randint(1, 6)  # positive power between 1 and 4\n",
    "            subterm = y_term ** power\n",
    "\n",
    "    if y_term == y_terms[0]:\n",
    "        # Trig\n",
    "        if temp > cdf[3]:\n",
    "            # trig_fun = [sin(y_term)] + [cos(y_term)] + [tan(y_term)]\n",
    "            trig_fun = [sin(y_term)] + [cos(y_term)]\n",
    "            subterm = rand.choice(trig_fun)\n",
    "            subterm = add_coeff_and_constant(subterm, const_prob)\n",
    "        # Log\n",
    "        elif temp > cdf[2]:\n",
    "            subterm = log(y_term+1)\n",
    "            subterm = add_coeff_and_constant(subterm, const_prob)\n",
    "        # Exponential\n",
    "        elif temp > cdf[1]:\n",
    "            subterm = exp(y_term)\n",
    "            subterm = add_coeff_and_constant(subterm, const_prob)\n",
    "        # f(x)\n",
    "        elif temp > cdf[0]:\n",
    "            coefficients = generate_polynomial(degree=10, num_terms=3,coeff_lower_bound=-10,coeff_upper_bound=10)\n",
    "            subterm = 1 / polynomial_from_coefficients(coefficients) * y_term\n",
    "\n",
    "\n",
    "    if subterm == 0:\n",
    "        return create_subterm(y_term, cdf, iteration, max_it, const_prob)\n",
    "\n",
    "    # Will consider reiterating if we have not yet reached the maximum\n",
    "    # number of iterations\n",
    "    if iteration < max_it:\n",
    "        # If so, will add another function on top of this one\n",
    "        if rand.random() < recurs_prob:\n",
    "            # Recursively calls its own function to\n",
    "            # create a more complicated function\n",
    "            subterm = create_subterm(subterm, cdf, iteration + 1, max_it, const_prob)\n",
    "        # If not, will randomly determine if some additional p(x) should be added\n",
    "        elif rand.random() < 2/3:\n",
    "            # Only p(x)\n",
    "            subterm *= create_subterm(x, cdf, max_it, max_it, const_prob)\n",
    "\n",
    "    return simplify(subterm)"
   ]
  },
  {
   "cell_type": "code",
   "execution_count": 632,
   "metadata": {
    "id": "xhVpelJ0dcr4"
   },
   "outputs": [],
   "source": [
    "def create_subterms (y_term, num_sub):\n",
    "    '''\n",
    "    This returns all subterms of the equation.\n",
    "\n",
    "    Parameters\n",
    "    ----------\n",
    "    y_term:   numpy array of Object\n",
    "              The y-type terms (x, y, y', etc.)\n",
    "    num_sub:  numpy array of int\n",
    "              The number of subterms for each y-type term\n",
    "\n",
    "    Returns\n",
    "    ----------\n",
    "    subterms: numpy array of Object\n",
    "              Returns all of the subterms for the equation\n",
    "    '''\n",
    "\n",
    "    # Stores the subterms\n",
    "    subterms = np.empty(sum(num_sub), dtype=Mul)\n",
    "\n",
    "    # Keeps track of index of subterms we are at\n",
    "    counter = 0;\n",
    "\n",
    "    for i, y_t in enumerate(y_term):\n",
    "        for n_s in range(num_sub[i]):\n",
    "            # Determines function to be applied to the y_term\n",
    "            subterms[counter] = create_subterm(y_t, function_cdf, 1, max_fun, add_c_prob)\n",
    "            counter += 1\n",
    "\n",
    "    return subterms"
   ]
  },
  {
   "cell_type": "markdown",
   "metadata": {
    "id": "l72dU1KToQ_d"
   },
   "source": [
    "## Final Calculation and Output"
   ]
  },
  {
   "cell_type": "code",
   "execution_count": 633,
   "metadata": {
    "colab": {
     "base_uri": "https://localhost:8080/"
    },
    "id": "Iq3UwxriWWaZ",
    "outputId": "d7784c33-3c7a-479b-d4f2-65933d67ebc9"
   },
   "outputs": [
    {
     "name": "stdout",
     "output_type": "stream",
     "text": [
      "The terms are:\n"
     ]
    },
    {
     "data": {
      "image/png": "[encoded data removed]",
      "text/latex": [
       "$\\displaystyle \\frac{x}{x^{10} + 10 x^{5} - 5 x + \\log{\\left(x + 1 \\right)} - 4}$"
      ],
      "text/plain": [
       "                x                 \n",
       "──────────────────────────────────\n",
       " 10       5                       \n",
       "x   + 10⋅x  - 5⋅x + log(x + 1) - 4"
      ]
     },
     "metadata": {},
     "output_type": "display_data"
    },
    {
     "data": {
      "image/png": "[encoded data removed]",
      "text/latex": [
       "$\\displaystyle y_{0}$"
      ],
      "text/plain": [
       "y₀"
      ]
     },
     "metadata": {},
     "output_type": "display_data"
    },
    {
     "data": {
      "image/png": "[encoded data removed]",
      "text/latex": [
       "$\\displaystyle y_{1}$"
      ],
      "text/plain": [
       "y₁"
      ]
     },
     "metadata": {},
     "output_type": "display_data"
    },
    {
     "data": {
      "image/png": "[encoded data removed]",
      "text/latex": [
       "$\\displaystyle y_{2}$"
      ],
      "text/plain": [
       "y₂"
      ]
     },
     "metadata": {},
     "output_type": "display_data"
    },
    {
     "data": {
      "image/png": "[encoded data removed]",
      "text/latex": [
       "$\\displaystyle y_{3}$"
      ],
      "text/plain": [
       "y₃"
      ]
     },
     "metadata": {},
     "output_type": "display_data"
    }
   ],
   "source": [
    "terms = create_subterms(y_terms, num_subterms(min_subterms, max_subterms))\n",
    "print(\"The terms are:\")\n",
    "for i in range(len(terms)):\n",
    "    disp.display(terms[i])"
   ]
  },
  {
   "cell_type": "code",
   "execution_count": 326,
   "metadata": {
    "id": "zyzE_1CKz9BW"
   },
   "outputs": [
    {
     "data": {
      "image/png": "[encoded data removed]",
      "text/latex": [
       "$\\displaystyle x y_{1} + x + y_{2}^{2} \\left(e^{x} + 2\\right) + y_{3}$"
      ],
      "text/plain": [
       "             2 ⎛ x    ⎞     \n",
       "x⋅y₁ + x + y₂ ⋅⎝ℯ  + 2⎠ + y₃"
      ]
     },
     "execution_count": 326,
     "metadata": {},
     "output_type": "execute_result"
    }
   ],
   "source": [
    "sum(terms)"
   ]
  },
  {
   "cell_type": "code",
   "execution_count": 327,
   "metadata": {
    "id": "puB6Q70Q0aXC"
   },
   "outputs": [
    {
     "data": {
      "image/png": "[encoded data removed]",
      "text/latex": [
       "$\\displaystyle \\left[ - x y_{1} - x - y_{2}^{2} e^{x} - 2 y_{2}^{2}\\right]$"
      ],
      "text/plain": [
       "⎡              2  x       2⎤\n",
       "⎣-x⋅y₁ - x - y₂ ⋅ℯ  - 2⋅y₂ ⎦"
      ]
     },
     "execution_count": 327,
     "metadata": {},
     "output_type": "execute_result"
    }
   ],
   "source": [
    "# Define y3 from y_terms\n",
    "y3 = y_terms[4]\n",
    "solve(sum(terms),y3)"
   ]
  },
  {
   "cell_type": "code",
   "execution_count": 12,
   "metadata": {},
   "outputs": [
    {
     "data": {
      "text/latex": [
       "$\\displaystyle y^{\\prime \\prime \\prime} \\frac{(x+1)^2}{1+x+\\tan ^2 x}+y^{\\prime 3} y^{\\prime \\prime}+y \\frac{1}{\\left(x^3+e^{-\\cos x}+x\\right)}=0$"
      ],
      "text/plain": [
       "<IPython.core.display.Math object>"
      ]
     },
     "metadata": {},
     "output_type": "display_data"
    },
    {
     "data": {
      "text/latex": [
       "$\\displaystyle -\\left(\\frac{d}{d t} y(t)\\right)^2+\\frac{d^3}{d t^3} y(t)-\\frac{1}{t^5+\\cos (t)}-\\frac{\\frac{d^2}{d t^2} y(t)}{t^3+1}=0$"
      ],
      "text/plain": [
       "<IPython.core.display.Math object>"
      ]
     },
     "metadata": {},
     "output_type": "display_data"
    },
    {
     "data": {
      "text/latex": [
       "$\\displaystyle \\frac{d^3 y}{d x^3}-\\frac{1}{x^2+42} \\frac{d^2 y}{d x^2}-\\frac{1}{42}\\left(\\frac{d y}{d x}\\right)^2-\\frac{1}{x^{42}+1}=0$"
      ],
      "text/plain": [
       "<IPython.core.display.Math object>"
      ]
     },
     "metadata": {},
     "output_type": "display_data"
    },
    {
     "data": {
      "text/latex": [
       "$\\displaystyle y^{\\prime \\prime \\prime}+\\frac{\\sin x}{x} y-\\frac{3 x^2}{1+x^2} y^{\\prime \\prime 2}+x^4=0$"
      ],
      "text/plain": [
       "<IPython.core.display.Math object>"
      ]
     },
     "metadata": {},
     "output_type": "display_data"
    },
    {
     "data": {
      "text/latex": [
       "$\\displaystyle y^{\\prime \\prime \\prime}=\\frac{1}{1+x^4+e^{-3 x}} y^{\\prime \\prime}-3 \\cdot\\left(y^{\\prime}\\right)^2-\\frac{1}{64-2 \\sin ^2 x+x^2}$"
      ],
      "text/plain": [
       "<IPython.core.display.Math object>"
      ]
     },
     "metadata": {},
     "output_type": "display_data"
    },
    {
     "data": {
      "text/latex": [
       "$\\displaystyle y^{\\prime \\prime \\prime}=\\frac{1}{x^3+x^5+4} y^{\\prime}+y^2-e^{-x}$"
      ],
      "text/plain": [
       "<IPython.core.display.Math object>"
      ]
     },
     "metadata": {},
     "output_type": "display_data"
    },
    {
     "data": {
      "text/latex": [
       "$\\displaystyle \\frac{d^3 y}{d y^3}=\\frac{1}{1+e^{x^2}} \\frac{d^2 y}{d x^2}-\\left(\\frac{d y}{d x}\\right)^6-\\frac{\\sin \\left(x^2\\right)}{x^4+\\cos (2 x)}$"
      ],
      "text/plain": [
       "<IPython.core.display.Math object>"
      ]
     },
     "metadata": {},
     "output_type": "display_data"
    },
    {
     "data": {
      "text/latex": [
       "$\\displaystyle -x^2+y(x)-\\left(\\frac{d}{d x} y(x)\\right)^2+\\frac{d^2}{d x^2} y(x)+\\frac{d^3}{d x^3} y(x)=0$"
      ],
      "text/plain": [
       "<IPython.core.display.Math object>"
      ]
     },
     "metadata": {},
     "output_type": "display_data"
    },
    {
     "data": {
      "text/latex": [
       "$\\displaystyle \\frac{d^3 y}{d x^3}=\\frac{1}{3 x^2+4 x+\\sin (\\cos (x))} \\frac{d^2 y}{d x^2}-\\left(\\frac{d y}{d x}\\right)^2-3 x e^x$"
      ],
      "text/plain": [
       "<IPython.core.display.Math object>"
      ]
     },
     "metadata": {},
     "output_type": "display_data"
    },
    {
     "data": {
      "text/latex": [
       "$\\displaystyle y^{\\prime \\prime \\prime}(x)=\\frac{\\sin (x)+7}{1+\\cos (x)+x^4} y^{\\prime \\prime}(x)-\\left(y^{\\prime}(x)\\right)^2-\\frac{1}{12+x^8}$"
      ],
      "text/plain": [
       "<IPython.core.display.Math object>"
      ]
     },
     "metadata": {},
     "output_type": "display_data"
    },
    {
     "data": {
      "text/latex": [
       "$\\displaystyle y^{\\prime \\prime \\prime}+7\\left(y^{\\prime}\\right)^4=\\frac{1}{8+2 x^2+\\sin (x)}$"
      ],
      "text/plain": [
       "<IPython.core.display.Math object>"
      ]
     },
     "metadata": {},
     "output_type": "display_data"
    },
    {
     "data": {
      "text/latex": [
       "$\\displaystyle \\frac{d^3 y}{d x^3}=\\frac{1}{1+2 x^2+6 x^4} \\frac{d^2 y}{d x^2}-\\left(\\frac{d y}{d x}\\right)^2-\\frac{1}{15+6 x^2+\\cos (x)}$"
      ],
      "text/plain": [
       "<IPython.core.display.Math object>"
      ]
     },
     "metadata": {},
     "output_type": "display_data"
    },
    {
     "data": {
      "text/latex": [
       "$\\displaystyle y^{\\prime \\prime \\prime}+2.01 \\sqrt{y^{\\prime \\prime}}+\\tanh \\left(\\left(y^{\\prime}\\right)^2-.04\\right)-y^6-10 e^{-x / 0.1}=0$"
      ],
      "text/plain": [
       "<IPython.core.display.Math object>"
      ]
     },
     "metadata": {},
     "output_type": "display_data"
    },
    {
     "data": {
      "text/latex": [
       "$\\displaystyle y^{\\prime \\prime \\prime}+\\left(-11+x^3+5 x^9\\right) y^{\\prime \\prime}+y y^{\\prime}+\\frac{y}{\\left(\\cos ^2(x)+9 x^2+20\\right)}+e^{-3 x \\sin (x)}=0$"
      ],
      "text/plain": [
       "<IPython.core.display.Math object>"
      ]
     },
     "metadata": {},
     "output_type": "display_data"
    },
    {
     "data": {
      "text/latex": [
       "$\\displaystyle y^{\\prime \\prime \\prime}=\\frac{y}{5+x^2} y^{\\prime}+\\frac{x}{(y+1)^2}+\\frac{1}{e^{3 x}}=0$"
      ],
      "text/plain": [
       "<IPython.core.display.Math object>"
      ]
     },
     "metadata": {},
     "output_type": "display_data"
    },
    {
     "data": {
      "text/latex": [
       "$\\displaystyle \\left(\\frac{d^3 y}{d y^3}\\right)=\\frac{1}{x^{10}+e} \\frac{d^2 y}{d x^2}-\\left(\\frac{d y}{d x}\\right)+e^{-x}$"
      ],
      "text/plain": [
       "<IPython.core.display.Math object>"
      ]
     },
     "metadata": {},
     "output_type": "display_data"
    },
    {
     "data": {
      "text/latex": [
       "$\\displaystyle y^{\\prime \\prime \\prime}=y^{\\prime \\prime}\\left(\\frac{x^2+\\cos ^3 x}{1+3 x^3+\\frac{3}{8} x^2}\\right)-10\\left(y^{\\prime}\\right)^4-\\left(x^2-7 \\sin 3 x+\\sqrt{x}\\right)$"
      ],
      "text/plain": [
       "<IPython.core.display.Math object>"
      ]
     },
     "metadata": {},
     "output_type": "display_data"
    },
    {
     "data": {
      "text/latex": [
       "$\\displaystyle y^{\\prime \\prime \\prime}+\\frac{1}{\\sqrt{1+x}} y^{\\prime}-\\frac{3 \\sin x}{1+x} y^{1 / 3}-84=0$"
      ],
      "text/plain": [
       "<IPython.core.display.Math object>"
      ]
     },
     "metadata": {},
     "output_type": "display_data"
    },
    {
     "data": {
      "text/latex": [
       "$\\displaystyle y^{\\prime \\prime \\prime}+y^{\\prime \\prime}+\\sin \\left(y^{\\prime}\\right)=e^x$"
      ],
      "text/plain": [
       "<IPython.core.display.Math object>"
      ]
     },
     "metadata": {},
     "output_type": "display_data"
    },
    {
     "data": {
      "text/latex": [
       "$\\displaystyle y^{\\prime \\prime \\prime}-\\left(y^{\\prime}\\right)^2 x^5 \\cdot \\sin (x)-\\frac{1}{\\left(x^6+5\\right)}=0$"
      ],
      "text/plain": [
       "<IPython.core.display.Math object>"
      ]
     },
     "metadata": {},
     "output_type": "display_data"
    },
    {
     "data": {
      "text/latex": [
       "$\\displaystyle y^{\\prime \\prime \\prime}=\\frac{y^{\\prime \\prime}}{x^3+30-\\sin x}-y^{\\prime 6}+e^{-x}$"
      ],
      "text/plain": [
       "<IPython.core.display.Math object>"
      ]
     },
     "metadata": {},
     "output_type": "display_data"
    },
    {
     "data": {
      "text/latex": [
       "$\\displaystyle y^{\\prime \\prime \\prime}-\\frac{1}{1+3 x^4+7 x^5+e^{2 x}} y^{\\prime \\prime}+\\left(y^{\\prime}\\right)^2+\\sin (x) y+\\frac{1}{\\sin ^2(x)+2}=0$"
      ],
      "text/plain": [
       "<IPython.core.display.Math object>"
      ]
     },
     "metadata": {},
     "output_type": "display_data"
    },
    {
     "data": {
      "text/latex": [
       "$\\displaystyle y^{\\prime \\prime \\prime}=\\frac{3 x^2+x+2}{x^3+8 x^2+1} y^{\\prime \\prime}-\\left(y^{\\prime}\\right)^2+\\frac{1}{\\sin (x)-3}$"
      ],
      "text/plain": [
       "<IPython.core.display.Math object>"
      ]
     },
     "metadata": {},
     "output_type": "display_data"
    },
    {
     "data": {
      "text/latex": [
       "$\\displaystyle \\frac{d^3 y}{d x^3}=\\frac{e^{-x}}{1+x^4} \\frac{d^2 y}{d x^2}-\\left(\\frac{d y}{d x}\\right)^6-\\frac{\\pi e^x}{4+13 x^3+\\cos ^2(x)}$"
      ],
      "text/plain": [
       "<IPython.core.display.Math object>"
      ]
     },
     "metadata": {},
     "output_type": "display_data"
    },
    {
     "data": {
      "text/latex": [
       "$\\displaystyle \\frac{d^3 y}{d x^3}=\\frac{1}{1+y} \\frac{d^2 y}{d x^2}+\\frac{1}{1+y^2} \\frac{d y}{d x}-\\frac{1}{2+4 x^2}$"
      ],
      "text/plain": [
       "<IPython.core.display.Math object>"
      ]
     },
     "metadata": {},
     "output_type": "display_data"
    },
    {
     "data": {
      "text/latex": [
       "$\\displaystyle \\frac{d^3 y}{d x^3}=\\frac{1}{1+x^3+\\sin (x)}\\left(\\frac{d^2 y}{d x^2}\\right)+y\\left(\\frac{d y}{d x}\\right)^2+\\frac{1}{\\frac{1}{y}+\\left(\\frac{d y}{d x}\\right)^2 x^2}$"
      ],
      "text/plain": [
       "<IPython.core.display.Math object>"
      ]
     },
     "metadata": {},
     "output_type": "display_data"
    },
    {
     "data": {
      "text/latex": [
       "$\\displaystyle \\frac{d^3 y}{d x^3}=\\frac{1}{2+7 \\sin (x)^2+\\cos (x)} \\frac{d^2 y}{d x^2}-\\left(\\frac{d y}{d x}\\right)^2-\\frac{1}{2+x+x^3}$"
      ],
      "text/plain": [
       "<IPython.core.display.Math object>"
      ]
     },
     "metadata": {},
     "output_type": "display_data"
    },
    {
     "data": {
      "text/latex": [
       "$\\displaystyle y^{\\prime \\prime \\prime}(x)+y^{\\prime}(x)-\\tanh \\left[y(x)^2-1\\right]+\\frac{0.1}{x+1}=0$"
      ],
      "text/plain": [
       "<IPython.core.display.Math object>"
      ]
     },
     "metadata": {},
     "output_type": "display_data"
    },
    {
     "data": {
      "text/latex": [
       "$\\displaystyle y^{\\prime \\prime \\prime}=-2(x+1) y^{\\prime \\prime}+e^{x^2}$"
      ],
      "text/plain": [
       "<IPython.core.display.Math object>"
      ]
     },
     "metadata": {},
     "output_type": "display_data"
    },
    {
     "data": {
      "text/latex": [
       "$\\displaystyle y^{\\prime \\prime \\prime}=\\frac{1}{1+x^4+e^x} y^{\\prime \\prime}-y^{\\prime 4}-\\frac{1}{15+5 x^2+\\cos (x)}$"
      ],
      "text/plain": [
       "<IPython.core.display.Math object>"
      ]
     },
     "metadata": {},
     "output_type": "display_data"
    },
    {
     "data": {
      "text/latex": [
       "$\\displaystyle \\frac{d^3 y}{d x^3}=\\frac{\\cos (x)}{1+x^2} \\frac{d^2 y}{d x^2}+y^2+\\frac{x^3-4}{1+x^4} \\frac{d y}{d x}$"
      ],
      "text/plain": [
       "<IPython.core.display.Math object>"
      ]
     },
     "metadata": {},
     "output_type": "display_data"
    },
    {
     "data": {
      "text/latex": [
       "$\\displaystyle 3 y^{\\prime \\prime \\prime}+\\frac{y^{\\prime \\prime}}{x^3+16 x+1}-\\left(y^{\\prime}\\right)^2+\\frac{2}{x^2+\\cos ^2 x}$"
      ],
      "text/plain": [
       "<IPython.core.display.Math object>"
      ]
     },
     "metadata": {},
     "output_type": "display_data"
    },
    {
     "data": {
      "text/latex": [
       "$\\displaystyle y^{\\prime \\prime \\prime}=e^{-8 x^4} y^{\\prime \\prime}+\\left(y^{\\prime}\\right)^2-\\cosh (x) \\cdot \\frac{1}{x^{15}+x^3+\\pi}$"
      ],
      "text/plain": [
       "<IPython.core.display.Math object>"
      ]
     },
     "metadata": {},
     "output_type": "display_data"
    },
    {
     "data": {
      "text/latex": [
       "$\\displaystyle y^{\\prime \\prime \\prime}=\\sin \\left(\\frac{\\left(y^{\\prime \\prime}\\right)^2}{x^3+1}\\right)-\\frac{y^{\\prime \\prime} y}{x^2+2}+\\frac{y^{\\prime}}{(x-5)^2}-1$"
      ],
      "text/plain": [
       "<IPython.core.display.Math object>"
      ]
     },
     "metadata": {},
     "output_type": "display_data"
    },
    {
     "data": {
      "text/latex": [
       "$\\displaystyle \\frac{d^3 y}{d x^3}=\\frac{1}{1+x^5+\\cos (x)^2} \\frac{d^2 y}{d x^2}+\\left(\\frac{d y}{d x}\\right)^2-\\frac{1}{12+14 x^7-\\sin (x)}$"
      ],
      "text/plain": [
       "<IPython.core.display.Math object>"
      ]
     },
     "metadata": {},
     "output_type": "display_data"
    },
    {
     "data": {
      "text/latex": [
       "$\\displaystyle y^{\\prime \\prime \\prime}-e^x y^{\\prime \\prime}+\\left(y^{\\prime}\\right)^2-e^x=0$"
      ],
      "text/plain": [
       "<IPython.core.display.Math object>"
      ]
     },
     "metadata": {},
     "output_type": "display_data"
    },
    {
     "data": {
      "text/latex": [
       "$\\displaystyle y^{\\prime \\prime \\prime}=-\\frac{1}{x+4} y^{\\prime \\prime}-\\frac{1}{x^2-16} y^4-16 x^2 \\sin (x)$"
      ],
      "text/plain": [
       "<IPython.core.display.Math object>"
      ]
     },
     "metadata": {},
     "output_type": "display_data"
    },
    {
     "data": {
      "text/latex": [
       "$\\displaystyle y^{\\prime \\prime \\prime}=\\left(y^{\\prime}\\right)^6+\\left(\\frac{1}{99 x+5 x^2+\\cos x}\\right) y+0.0001 \\cos \\left(\\frac{1}{1+x^2}\\right)$"
      ],
      "text/plain": [
       "<IPython.core.display.Math object>"
      ]
     },
     "metadata": {},
     "output_type": "display_data"
    },
    {
     "data": {
      "text/latex": [
       "$\\displaystyle y^{\\prime \\prime \\prime}=\\frac{y^{\\prime \\prime}}{1+x^2}+y^4-\\frac{1}{3+\\left(y^{\\prime}\\right)^4}$"
      ],
      "text/plain": [
       "<IPython.core.display.Math object>"
      ]
     },
     "metadata": {},
     "output_type": "display_data"
    },
    {
     "data": {
      "text/latex": [
       "$\\displaystyle y^{\\prime \\prime \\prime}+\\frac{1}{\\cos (x)+3} y^{\\prime \\prime}+y^2+x=0$"
      ],
      "text/plain": [
       "<IPython.core.display.Math object>"
      ]
     },
     "metadata": {},
     "output_type": "display_data"
    },
    {
     "data": {
      "text/latex": [
       "$\\displaystyle 3 y^{\\prime \\prime \\prime}-y^{\\prime 3 / 2}-\\frac{\\cos (x)}{1+x^2}=0$"
      ],
      "text/plain": [
       "<IPython.core.display.Math object>"
      ]
     },
     "metadata": {},
     "output_type": "display_data"
    }
   ],
   "source": [
    "import pandas as pd\n",
    "from IPython.display import display, Math\n",
    "\n",
    "# Load the Excel file\n",
    "file_path = 'ODE_midterm.xlsx'  # Replace with your file path\n",
    "equations_df = pd.read_excel(file_path)\n",
    "\n",
    "# Render all the equations\n",
    "for equation in equations_df.iloc[:, 0]:\n",
    "    display(Math(equation))"
   ]
  },
  {
   "cell_type": "markdown",
   "metadata": {
    "id": "mzTJ1nJf1zLK"
   },
   "source": [
    "# Dominant Balance Solver"
   ]
  },
  {
   "cell_type": "markdown",
   "metadata": {
    "id": "B4BE5OYN5YAU"
   },
   "source": [
    "## All helper functions for solver\n"
   ]
  },
  {
   "cell_type": "code",
   "execution_count": 13,
   "metadata": {
    "id": "p8jLfcB3wZhP"
   },
   "outputs": [],
   "source": [
    "import numpy as np\n",
    "import matplotlib.pyplot as plt\n",
    "from scipy.integrate import odeint\n",
    "from scipy.integrate import solve_ivp\n",
    "from sympy import *\n",
    "init_printing()\n",
    "from sympy.utilities.lambdify import lambdify, implemented_function"
   ]
  },
  {
   "cell_type": "code",
   "execution_count": 14,
   "metadata": {
    "id": "NplKuzRx5b2e"
   },
   "outputs": [],
   "source": [
    "# SOLVER (depending on which order it is, we would have to use different fun)\n",
    "# the following is an example for third order\n",
    "\n",
    "# define a function to convert sympy to numpy functions\n",
    "def sym_convert(eq):\n",
    "  return lambdify([y0,y1,y2,y3,x], eq)\n",
    "\n",
    "# here, we define the compiled solver\n",
    "def main_solver(odeterms, a, b, init_condition):\n",
    "\n",
    "  # i am not sure if this is necessary since the input is already sympy exp?\n",
    "  x,y1,y2,y0,y3 = symbols('x y1 y2 y0 y3')\n",
    "\n",
    "  # generate equation and y3 expression\n",
    "  eq = sum(odeterms)\n",
    "  y3 = solve(eq,y3)[0]\n",
    "\n",
    "  # generate function to put into odesystem\n",
    "  lam_y = lambdify([y0,y1,y2,x], [y1, y2, y3])\n",
    "  lam_y3 = lambdify([y0,y1,y2,x], y3)\n",
    "\n",
    "  # solve the ode\n",
    "  y_init = init_condition\n",
    "  y_sol = ode3_solver(lam_y, a, b, y_init)\n",
    "\n",
    "  # generate numerical solution for y3\n",
    "  y3_sol = lam_y3(y_sol[1,:], y_sol[2,:], y_sol[3,:], y_sol[0,:])\n",
    "  y_compiled = np.vstack((y_sol,y3_sol))\n",
    "\n",
    "  return y_compiled\n",
    "\n",
    "# define divergence event for when solve_ivp should terminate\n",
    "def div_event(t,y):\n",
    "    return abs(y[0]) - 1e3\n",
    "\n",
    "div_event.terminal = True\n",
    "\n",
    "def ode3_solver(lam_y, a, b, y_init):\n",
    "  # we define an ODE function to pass into the integrator\n",
    "  def ode_y(x,y):\n",
    "    y0,y1,y2 = y\n",
    "    return lam_y(y0,y1,y2,x)\n",
    "\n",
    "  # determine integration steps\n",
    "  t = np.linspace(a,b, num=int((b-a)*10+1))\n",
    "\n",
    "  # integrate to find y solutiont\n",
    "  print(y_init)\n",
    "  soln = solve_ivp(ode_y,[a,b],y_init,t_eval=t,events=div_event)\n",
    "\n",
    "  y_sol = np.vstack((soln.t,soln.y))\n",
    "\n",
    "  return y_sol\n",
    "\n",
    "def ode2_solver(lam_y, a, b, y_init):\n",
    "  # we define an ODE function to pass into the integrator\n",
    "  def ode_y(x,y):\n",
    "    y0,y1 = y\n",
    "    return lam_y(y0,y1,x)\n",
    "\n",
    "  # determine integration steps\n",
    "  t = np.linspace(a,b, num=int((b-a)*10+1))\n",
    "\n",
    "  # integrate to find y solution\n",
    "  print(y_init)\n",
    "  soln = solve_ivp(ode_y,[a,b],y_init,t_eval=t,events=div_event)\n",
    "\n",
    "  y_sol = np.vstack((soln.t,soln.y))\n",
    "\n",
    "  return y_sol\n",
    "\n",
    "def ode1_solver(lam_y, a, b, y_init):\n",
    "  # we define an ODE function to pass into the integrator\n",
    "  def ode_y(x,y):\n",
    "    y0 = y\n",
    "    return lam_y(y0,x)\n",
    "\n",
    "  # determine integration steps\n",
    "  t = np.linspace(a,b, num=int((b-a)*10+1))\n",
    "\n",
    "  # integrate to find y solution\n",
    "  print(y_init)\n",
    "  soln = solve_ivp(ode_y,[a,b],y_init,t_eval=t,events=div_event)\n",
    "\n",
    "  y_sol = np.vstack((soln.t,soln.y))\n",
    "\n",
    "  return y_sol\n",
    "\n",
    "\n",
    "# define the dom balance function\n",
    "def dom_bal(odeterms, sol, x):\n",
    "  \"\"\"\n",
    "  1. input odeterms as a list of sympy expressions of the terms\n",
    "  2. input sol as the numerical sol obtained from solver\n",
    "  3. input x as linspace array of the x domain\n",
    "  \"\"\"\n",
    "  # array to store the dominant balance values\n",
    "  absterms = np.zeros((len(odeterms), len(x)))\n",
    "  domterms = np.zeros((2, len(x)))\n",
    "\n",
    "  # generate abs value of each term\n",
    "  for idx, term in enumerate(odeterms):\n",
    "    abs_eq = sym_convert(term)\n",
    "    absterms[idx,:] = abs(abs_eq(sol[0,:], sol[1,:], sol[2,:], sol[3,:], x))\n",
    "\n",
    "  # iterate through to determine dominant balance throughout the domain\n",
    "  for i in range(len(x)):\n",
    "    domterms[:,i] = np.argsort(absterms[:,i])[-2:]\n",
    "\n",
    "  return absterms, domterms\n",
    "\n",
    "def dom_sol(domterms, a, b, y_init):\n",
    "  x,y1,y2,y0,y3 = symbols('x y1 y2 y0 y3')\n",
    "  # determine which y terms are in the dom bal terms\n",
    "\n",
    "  for term in domterms:\n",
    "    if y3 in term.free_symbols:\n",
    "      eq = sum(domterms)\n",
    "      y3 = solve(eq,y3)[0]\n",
    "      lam_y = lambdify([y0,y1,y2,x], [y1, y2, y3])\n",
    "\n",
    "      # solve the ode\n",
    "      y_compiled = ode3_solver(lam_y, a, b, y_init)\n",
    "\n",
    "      return y_compiled\n",
    "\n",
    "  for term in domterms:\n",
    "    if y2 in term.free_symbols:\n",
    "      eq = sum(domterms)\n",
    "      y2 = solve(eq,y2)[0]\n",
    "      lam_y = lambdify([y0,y1,x], [y1, y2])\n",
    "      lam_y2 = lambdify([y0,y1,x], y2)\n",
    "\n",
    "      # solve the ode\n",
    "      y_sol = ode2_solver(lam_y, a, b, y_init[0:2])\n",
    "\n",
    "      # generate numerical solution for y2\n",
    "      y2_sol = lam_y2(y_sol[1,:], y_sol[2,:], y_sol[0,:])\n",
    "      y_compiled = np.vstack((y_sol,y2_sol))\n",
    "\n",
    "      return y_compiled\n",
    "\n",
    "  for term in domterms:\n",
    "    if y1 in term.free_symbols:\n",
    "      eq = sum(domterms)\n",
    "      y1 = solve(eq,y1)[0]\n",
    "      lam_y = lambdify([y0,x], [y1])\n",
    "      lam_y1 = lambdify([y0,x], y1)\n",
    "\n",
    "      # solve the ode\n",
    "      y_sol = ode1_solver(lam_y, a, b, [y_init[0]])\n",
    "\n",
    "      # generate numerical solution for y1\n",
    "      y1_sol = lam_y1(y_sol[1,:], y_sol[0,:])\n",
    "\n",
    "      # generate numerical solution for y2 using finite difference\n",
    "      y2_sol = np.zeros(len(y1_sol))\n",
    "      y2_sol[-1] = (y1_sol[-1] - y1_sol[-2])/(y_sol[0,-1] - y_sol[0,-2])\n",
    "\n",
    "      y_compiled = np.vstack((np.vstack((y_sol,y1_sol)),y2_sol))\n",
    "      return y_compiled\n",
    "\n",
    "  for term in domterms:\n",
    "    if y0 in term.free_symbols:\n",
    "      eq = sum(domterms)\n",
    "      y0 = solve(eq,y0)[0]\n",
    "\n",
    "      # create y function and timesteps\n",
    "      lam_y = lambdify(x, y0)\n",
    "      t = np.linspace(a,b,num=int((b-a)*10 + 1))\n",
    "\n",
    "      # solve y function\n",
    "      y_sol = lam_y(t)\n",
    "      print(\"ysol is \" , y_sol)\n",
    "      # generate numerical solution for y1 using finite difference\n",
    "      y1_sol = np.zeros(len(y_sol))\n",
    "\n",
    "      y2_sol = np.zeros(len(y1_sol))\n",
    "      if len(y_sol) > 2:\n",
    "        y1_sol[-2] = (y_sol[1,-2] - y_sol[1,-3])/(y_sol[0,-2] - y_sol[0,-3])\n",
    "        y1_sol[-1] = (y_sol[1,-1] - y_sol[1,-2])/(y_sol[0,-1] - y_sol[0,-2])\n",
    "\n",
    "        # generate numerical solution for y2 using finite difference\n",
    "\n",
    "        y2_sol[-1] = (y1_sol[-1] - y1_sol[-2])/(y_sol[0,-1] - y_sol[0,-2])\n",
    "\n",
    "      y_compiled = np.vstack((np.vstack((y_sol,y1_sol)),y2_sol))\n",
    "\n",
    "      return y_compiled"
   ]
  },
  {
   "cell_type": "code",
   "execution_count": 15,
   "metadata": {
    "id": "gRrEve59E4h5"
   },
   "outputs": [],
   "source": [
    "def get_regimes(domterms):\n",
    "  leaders = {domterms[0,0],domterms[1,0]}\n",
    "  regimes = np.array(['start index','end index',{'term1','term2'}])\n",
    "  start_index = 0\n",
    "  for i in range(domterms.shape[1]):\n",
    "    if {domterms[0,i],domterms[1,i]} != leaders:\n",
    "      regimes = np.vstack((regimes,[start_index,i-1,leaders]))\n",
    "      leaders = {domterms[0,i],domterms[1,i]}\n",
    "      start_index = i-1\n",
    "  regimes = np.vstack((regimes,[start_index,domterms.shape[1]-1,leaders]))\n",
    "  return regimes"
   ]
  },
  {
   "cell_type": "code",
   "execution_count": 16,
   "metadata": {
    "id": "qQTUbIb_-RXX"
   },
   "outputs": [],
   "source": [
    "def verifier(soln, dom_bal, start_regime, squared_error):\n",
    "  \"\"\"\n",
    "  inputs to pass in: solution (of y), dom balance solution (of y), beginning index of regime in soln\n",
    "  \"\"\"\n",
    "  mre = 0\n",
    "  n = len(dom_bal)\n",
    "  for i in range(n):\n",
    "    # squared error version\n",
    "    if squared_error:\n",
    "      mre += ((soln[start_regime+i]-dom_bal[i])/(soln[start_regime+i]))**2\n",
    "    else:\n",
    "      mre += np.abs(soln[start_regime+i]-dom_bal[i])/np.abs(soln[start_regime+i])\n",
    "  mre = mre/n\n",
    "  return mre"
   ]
  },
  {
   "cell_type": "markdown",
   "metadata": {
    "id": "vMeS-9niQyIQ"
   },
   "source": [
    "## Generate Problem Statement in Latex"
   ]
  },
  {
   "cell_type": "code",
   "execution_count": 644,
   "metadata": {
    "colab": {
     "base_uri": "https://localhost:8080/",
     "height": 570
    },
    "id": "C-x9Xqu5RW0u",
    "outputId": "1b8896cc-6b21-4fef-9742-65eeac88a828"
   },
   "outputs": [
    {
     "name": "stdout",
     "output_type": "stream",
     "text": [
      "[x x*y0/(-x**10 + x**8 + 4*x**4 + 4) y1 y3]\n"
     ]
    },
    {
     "data": {
      "image/png": "[encoded data removed]",
      "text/latex": [
       "$\\displaystyle \\frac{x y}{- x^{10} + x^{8} + 4 x^{4} + 4} + x + y'$"
      ],
      "text/plain": [
       "         x⋅y                  \n",
       "───────────────────── + x + y'\n",
       "   10    8      4             \n",
       "- x   + x  + 4⋅x  + 4         "
      ]
     },
     "metadata": {},
     "output_type": "display_data"
    },
    {
     "name": "stdout",
     "output_type": "stream",
     "text": [
      "None\n"
     ]
    },
    {
     "data": {
      "text/plain": [
       "\"\\n\\\\text{Given the third-order ODE: } y''' = \\\\frac{x y}{- x^{10} + x^{8} + 4 x^{4} + 4} + x + y'\\n\\n\\\\text{With initial conditions at } x = 0:\\n\\\\begin{align*}\\ny(0) &= -0.33 \\\\\\\\\\ny'(0) &= -0.09 \\\\\\\\\\ny''(0) &= 0.35\\n\\\\end{align*}\\n\""
      ]
     },
     "execution_count": 644,
     "metadata": {},
     "output_type": "execute_result"
    }
   ],
   "source": [
    "# Get initial conditions between -1 and 1 uniformly\n",
    "init_condition = (2 * np.random.random_sample((3,)) - 1)\n",
    "\n",
    "# Get equation for\n",
    "x,y1,y2,y0,y3,y = symbols('x y1 y2 y0 y3 y')\n",
    "terms = create_subterms(y_terms, num_subterms(min_subterms, max_subterms))\n",
    "print(terms)\n",
    "\n",
    "\n",
    "# Define the mapping for replacement\n",
    "replacement_mapping = {\n",
    "    y0: y,\n",
    "    y1: symbols(\"y'\"),\n",
    "    y2: symbols(\"y''\"),\n",
    "    y3: 0\n",
    "}\n",
    "\n",
    "# Function to replace y0, y1, y2 with y, y', y''\n",
    "def replace_with_differential(expr):\n",
    "    return expr.subs(replacement_mapping)\n",
    "\n",
    "replaced_expr = replace_with_differential(sum(terms))\n",
    "\n",
    "print(disp.display(replaced_expr))\n",
    "\n",
    "# Converting the replaced expression to LaTeX\n",
    "latex_replaced_expr = latex(replaced_expr)\n",
    "\n",
    "# Extracting the values a, b, c from init_condition\n",
    "a, b, c = init_condition\n",
    "\n",
    "# Preparing the updated LaTeX formatted equation with x_0 as 0 and the new form of the equation\n",
    "updated_latex_equation = f\"\"\"\n",
    "\\\\text{{Given the third-order ODE: }} y''' = {latex_replaced_expr}\n",
    "\n",
    "\\\\text{{With initial conditions at }} x = 0:\n",
    "\\\\begin{{align*}}\n",
    "y(0) &= {a:.2f} \\\\\\\\\n",
    "y'(0) &= {b:.2f} \\\\\\\\\n",
    "y''(0) &= {c:.2f}\n",
    "\\\\end{{align*}}\n",
    "\"\"\"\n",
    "\n",
    "updated_latex_equation"
   ]
  },
  {
   "cell_type": "code",
   "execution_count": 645,
   "metadata": {},
   "outputs": [
    {
     "name": "stdout",
     "output_type": "stream",
     "text": [
      "[-0.3268572  -0.08886914  0.34805101]\n",
      "t_stop is  10.0\n",
      "T step is  0.1\n",
      "[['start index' 'end index' {'term1', 'term2'}]\n",
      " [0 0 {2.0, 3.0}]\n",
      " [0 1 {0.0, 2.0}]\n",
      " [1 22 {0.0, 3.0}]\n",
      " [22 100 {0.0, 2.0}]]\n",
      "[-0.3268571984918909]\n",
      "[-0.3318572 -0.1       -1.       ]\n",
      "[-3.711544698491891]\n"
     ]
    },
    {
     "data": {
      "image/png": "[encoded data removed]",
      "text/plain": [
       "<Figure size 800x400 with 1 Axes>"
      ]
     },
     "metadata": {},
     "output_type": "display_data"
    }
   ],
   "source": [
    "soln = main_solver(terms,0,10,init_condition)\n",
    "\n",
    "# Get the point at which it terminated\n",
    "t_stop = soln[0,soln.shape[1]-1]\n",
    "print(\"t_stop is \", t_stop)\n",
    "\n",
    "# Get the t-step\n",
    "t_step = soln[0,1]-soln[0,0]\n",
    "print(\"T step is \",t_step)\n",
    "\n",
    "# Graph it!\n",
    "plt.figure(figsize=(8,4))\n",
    "plt.plot(soln[0,],soln[1,],label='y0 numerical')\n",
    "plt.legend()\n",
    "plt.xticks(np.arange(0, t_stop,step=0.5))\n",
    "plt.tick_params(axis='both', which='major', labelsize=8)\n",
    "\n",
    "# Get the dominant balances\n",
    "x,y1,y2,y0,y3 = symbols('x y1 y2 y0 y3')\n",
    "absterms, domterms = dom_bal(terms, soln[1:5,:], soln[0,:])\n",
    "\n",
    "# Get the regimes\n",
    "regimes = get_regimes(domterms)\n",
    "print(regimes)\n",
    "\n",
    "# Iterate through regimes\n",
    "regime_init = init_condition\n",
    "regimes_soln = np.zeros(soln.shape[1])\n",
    "regimes_soln[0] = init_condition[0]\n",
    "for reg_num in range(1,len(regimes)):\n",
    "  start_idx = regimes[reg_num][0]\n",
    "  end_idx = regimes[reg_num][1]\n",
    "  if start_idx != end_idx:\n",
    "    start_t = 0.1*start_idx\n",
    "    end_t = 0.1*end_idx\n",
    "    winner_0 = int(list(regimes[reg_num][2])[0])\n",
    "    winner_1 = int(list(regimes[reg_num][2])[1])\n",
    "    regime_solved = dom_sol([terms[winner_0],terms[winner_1]],a=start_t,b=end_t,y_init=regime_init)\n",
    "    if len(regime_solved[1,]) != len(regimes_soln[start_idx:end_idx+1]):\n",
    "      regime_solved = dom_sol([terms[winner_0],terms[winner_1]],a=round(start_t,1),\\\n",
    "                              b=round(end_t,1),y_init=regime_init)\n",
    "    regimes_soln[start_idx:end_idx+1] = regime_solved[1,]\n",
    "    regime_init = regime_solved[1:,-1]\n",
    "\n",
    "plt.plot(soln[0,],regimes_soln,label='dominant balances')\n",
    "plt.show()"
   ]
  },
  {
   "cell_type": "code",
   "execution_count": 18,
   "metadata": {
    "colab": {
     "base_uri": "https://localhost:8080/",
     "height": 37
    },
    "id": "FzMR9LXo-LXA",
    "outputId": "f39fbbc3-70ac-4211-d949-afca765f4a1c"
   },
   "outputs": [
    {
     "data": {
      "image/png": "[encoded data removed]",
      "text/latex": [
       "$\\displaystyle 16.744$"
      ],
      "text/plain": [
       "16.744"
      ]
     },
     "execution_count": 18,
     "metadata": {},
     "output_type": "execute_result"
    }
   ],
   "source": [
    "#MRE\n",
    "round(100*verifier(soln[1,],regimes_soln,0,False),3)"
   ]
  },
  {
   "cell_type": "code",
   "execution_count": 19,
   "metadata": {
    "colab": {
     "base_uri": "https://localhost:8080/",
     "height": 37
    },
    "id": "440R49rWA33m",
    "outputId": "c592ea96-ea33-4b35-90d9-d103656c40b5"
   },
   "outputs": [
    {
     "data": {
      "image/png": "[encoded data removed]",
      "text/latex": [
       "$\\displaystyle 3$"
      ],
      "text/plain": [
       "3"
      ]
     },
     "execution_count": 19,
     "metadata": {},
     "output_type": "execute_result"
    }
   ],
   "source": [
    "#Number of regimes\n",
    "len(regimes)-1"
   ]
  },
  {
   "cell_type": "code",
   "execution_count": null,
   "metadata": {},
   "outputs": [],
   "source": []
  }
 ],
 "metadata": {
  "colab": {
   "collapsed_sections": [
    "QJBh4fOgoLTm",
    "DpB3Ml7MoOix",
    "l72dU1KToQ_d"
   ],
   "provenance": []
  },
  "kernelspec": {
   "display_name": "Python 3 (ipykernel)",
   "language": "python",
   "name": "python3"
  },
  "language_info": {
   "codemirror_mode": {
    "name": "ipython",
    "version": 3
   },
   "file_extension": ".py",
   "mimetype": "text/x-python",
   "name": "python",
   "nbconvert_exporter": "python",
   "pygments_lexer": "ipython3",
   "version": "3.11.4"
  }
 },
 "nbformat": 4,
 "nbformat_minor": 1
}
