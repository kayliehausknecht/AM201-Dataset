{
  "nbformat": 4,
  "nbformat_minor": 0,
  "metadata": {
    "colab": {
      "provenance": [],
      "collapsed_sections": [
        "QJBh4fOgoLTm",
        "DpB3Ml7MoOix",
        "l72dU1KToQ_d"
      ]
    },
    "kernelspec": {
      "name": "python3",
      "display_name": "Python 3"
    }
  },
  "cells": [
    {
      "cell_type": "markdown",
      "metadata": {
        "id": "J62oxRuooIdF"
      },
      "source": [
        "# Random ODE Generator"
      ]
    },
    {
      "cell_type": "markdown",
      "metadata": {
        "id": "QJBh4fOgoLTm"
      },
      "source": [
        "## Setting Problem Up"
      ]
    },
    {
      "cell_type": "code",
      "metadata": {
        "id": "VP4b69KKPeVU"
      },
      "source": [
        "### Imports ###\n",
        "\n",
        "import numpy as np\n",
        "from sympy import *\n",
        "import random as rand\n",
        "import IPython.display as disp\n",
        "init_printing()"
      ],
      "execution_count": null,
      "outputs": []
    },
    {
      "cell_type": "code",
      "metadata": {
        "id": "EwB1x_1UO6JB"
      },
      "source": [
        "### Setting predetermined values ###\n",
        "\n",
        "# Setting the order of the equation (fixed)\n",
        "n = 3\n",
        "\n",
        "########\n",
        "\n",
        "# Number of y-type terms (x, y, y', etc.)\n",
        "T = n + 2\n",
        "\n",
        "# Minimum number of subterms total (total number of terms in the final equation)\n",
        "min_subterms = 3\n",
        "\n",
        "# Maximum number of subterms total (total number of terms in the final equation)\n",
        "max_subterms = 5\n",
        "\n",
        "# Maximum number of times a function recursively called to create a function\n",
        "max_fun = 2\n",
        "\n",
        "# Sets the cumulative probabilities for the following function types:\n",
        "# (1) No change (2) power (3) exponential (4) logarithmic (5) trig (6) hyperbolic\n",
        "function_cdf = [0.1, 0.5, 0.62, 0.74, 1, 1]\n",
        "\n",
        "# Sets the probability that the function creating function will recursively call\n",
        "# itself again\n",
        "recurs_prob = 0.1\n",
        "\n",
        "# The probability of adding a constant to the function\n",
        "add_c_prob = 0.2"
      ],
      "execution_count": null,
      "outputs": []
    },
    {
      "cell_type": "code",
      "metadata": {
        "id": "D9EIKzcEPe97"
      },
      "source": [
        "### Defining the symbols, functions, and terms ###\n",
        "\n",
        "# Define symbol and function variables\n",
        "x = Symbol('x')\n",
        "\n",
        "# Stores the y-type terms (x, y, y', etc.) in an array called y_terms\n",
        "y_terms = np.empty(T, dtype=Symbol)\n",
        "y_terms[0] = x\n",
        "\n",
        "for i in range(1, T):\n",
        "    #y_terms[i] = y(x).diff(x, i - 1)\n",
        "    y_terms[i] = Symbol('y'+str(i-1))"
      ],
      "execution_count": null,
      "outputs": []
    },
    {
      "cell_type": "markdown",
      "metadata": {
        "id": "DpB3Ml7MoOix"
      },
      "source": [
        "## Functions"
      ]
    },
    {
      "cell_type": "code",
      "metadata": {
        "id": "iBcLOk1zWX0Y"
      },
      "source": [
        "def num_subterms (sum_min, sum_max):\n",
        "    '''\n",
        "    This creates an array of the number of subterms for each y-type term.\n",
        "    If the number of subterms is less than the specified minimum or greater than\n",
        "    the specified maximum, the function will call itself recursively until\n",
        "    a valid number of subterms are determined.\n",
        "\n",
        "    Parameters\n",
        "    ----------\n",
        "    sum_min:  int\n",
        "              The minimum number of total subterms\n",
        "    sum_max:  int\n",
        "              The maximum number of total subterms\n",
        "\n",
        "    Returns\n",
        "    ----------\n",
        "    temp: numpy array of int\n",
        "          Returns the number of subterms for each y-type term\n",
        "    '''\n",
        "\n",
        "    temp = np.empty(T, dtype=int)\n",
        "    # Initially set that the nth derivative term has one subterm\n",
        "    temp[-1] = 1\n",
        "\n",
        "    # Set number of subterms (0, 1, or 2) for remaining terms\n",
        "    for i in range(T - 1):\n",
        "        # Sets the probability of having 0 subterms, 1 subterm, 2 subterms\n",
        "        probabilities = [0] * 1 + [1] * 5 + [2] * 1\n",
        "        temp[i] = rand.choice(probabilities)\n",
        "\n",
        "    if (sum(temp) < sum_min or sum_min > sum_max):\n",
        "        return num_subterms (sum_min, sum_max)\n",
        "    return temp"
      ],
      "execution_count": null,
      "outputs": []
    },
    {
      "cell_type": "code",
      "metadata": {
        "id": "xhVpelJ0dcr4"
      },
      "source": [
        "def create_subterms (y_term, num_sub):\n",
        "    '''\n",
        "    This returns all subterms of the equation.\n",
        "\n",
        "    Parameters\n",
        "    ----------\n",
        "    y_term:   numpy array of Object\n",
        "              The y-type terms (x, y, y', etc.)\n",
        "    num_sub:  numpy array of int\n",
        "              The number of subterms for each y-type term\n",
        "\n",
        "    Returns\n",
        "    ----------\n",
        "    subterms: numpy array of Object\n",
        "              Returns all of the subterms for the equation\n",
        "    '''\n",
        "\n",
        "    # Stores the subterms\n",
        "    subterms = np.empty(sum(num_sub), dtype=Mul)\n",
        "\n",
        "    # Keeps track of index of subterms we are at\n",
        "    counter = 0;\n",
        "\n",
        "    for i, y_t in enumerate(y_term):\n",
        "        for n_s in range(num_sub[i]):\n",
        "            # Determines function to be applied to the y_term\n",
        "            subterms[counter] = create_subterm(y_t, function_cdf, 1, max_fun, add_c_prob)\n",
        "            counter += 1\n",
        "\n",
        "    return subterms"
      ],
      "execution_count": null,
      "outputs": []
    },
    {
      "cell_type": "code",
      "metadata": {
        "id": "_GM9YlsrkFIb"
      },
      "source": [
        "def create_subterm (y_term, cdf, iteration, max_it, const_prob):\n",
        "    '''\n",
        "    This returns a random subterm (a random function of the given y_term).\n",
        "    It may recursively call itself to make a more complicated funciton up to\n",
        "    max_it times.\n",
        "\n",
        "    The drawable functions include power, exponential, logarithmic,\n",
        "    trigonometric, and hyperbolic.\n",
        "\n",
        "    Parameters\n",
        "    ----------\n",
        "    y_term:     Object\n",
        "                The y-type term (x, y, y', etc.)\n",
        "    cdf:        int\n",
        "                The cumulative pobability of each function type (power,\n",
        "                exponential, logarithmic, trigonometric, and hyperbolic)\n",
        "    iteration:  int\n",
        "                The iteration number (how many times the function has\n",
        "                been called)\n",
        "    max_it:     int\n",
        "                The maximum number of times the function can be called\n",
        "    const_prob: float\n",
        "                The probability of adding a constant to the current subterm\n",
        "\n",
        "    Returns\n",
        "    ----------\n",
        "    subterm:  Object\n",
        "              Returns a subterm for a function of a given y_term\n",
        "    '''\n",
        "\n",
        "    # Default value (function does nothing)\n",
        "    subterm = y_term\n",
        "\n",
        "    # RETURNING y3 alone\n",
        "    if subterm == y3:\n",
        "      return y3\n",
        "\n",
        "    # Randomly determines if a function must be applied (and which function)\n",
        "    temp = rand.random()\n",
        "\n",
        "    # Hyperbolic\n",
        "    #if temp > cdf[4]:\n",
        "    #    hyp_fun = [sinh(y_term+1)] + [cosh(y_term+1)] + [tanh(y_term+1)]\n",
        "    #    subterm = rand.choice(hyp_fun)\n",
        "    # Trig\n",
        "    #elif\n",
        "    if temp > cdf[3]:\n",
        "        trig_fun = [sin(y_term+1)] + [cos(y_term+1)] + [tan(y_term+1)]\n",
        "        subterm = rand.choice(trig_fun)\n",
        "    # Log\n",
        "    elif temp > cdf[2]:\n",
        "        subterm = log(y_term+1)\n",
        "    # Exponential\n",
        "    elif temp > cdf[1]:\n",
        "        subterm = exp(y_term)\n",
        "    # Power\n",
        "    elif temp > cdf[0]:\n",
        "        # Random power from 1 to 10\n",
        "        fun_power = rand.randint(1, 10)\n",
        "\n",
        "        # Will turn power negative 20% of the time\n",
        "        if rand.random() < 0.2:\n",
        "            fun_power *= -1\n",
        "\n",
        "        # Will turn the power into 1/power 20% of the time\n",
        "        if rand.random() < 0.2:\n",
        "            subterm = y_term**(1/fun_power)\n",
        "        else:\n",
        "            subterm = (y_term)**(fun_power)\n",
        "\n",
        "    # Determines coefficient\n",
        "    coeffs = np.linspace(-11,-1,11, dtype=int)+np.linspace(1,11,11, dtype=int)\n",
        "    if rand.random() < 0.3:\n",
        "        subterm *= rand.choice(coeffs)\n",
        "    elif rand.random() > 0.8:\n",
        "        subterm /= rand.choice(coeffs)\n",
        "\n",
        "    # Determines added constant\n",
        "    if rand.random() < const_prob:\n",
        "        subterm += rand.choice(coeffs)\n",
        "\n",
        "    if subterm == 0:\n",
        "        return create_subterm(y_term, cdf, iteration, max_it, const_prob)\n",
        "\n",
        "    # Will consider reiterating if we have not yet reached the maximum\n",
        "    # number of iterations\n",
        "    if iteration < max_it:\n",
        "        # If so, will add another function on top of this one\n",
        "        if rand.random() < recurs_prob:\n",
        "            # Recursively calls its own function to\n",
        "            # create a more complicated function\n",
        "            subterm = create_subterm(subterm, cdf, iteration + 1, max_it, const_prob)\n",
        "        # If not, will randomly determine if some additional p(x) should be added\n",
        "        elif rand.random() < 0.4:\n",
        "            # Only p(x)\n",
        "            # subterm *= create_subterm(x, cdf, max_it, max_it, 0)\n",
        "\n",
        "            # OR, anything with lower y-like term than current\n",
        "            possible_subterms = [x]\n",
        "            for i in y_terms:\n",
        "                if i == y_term:\n",
        "                    break\n",
        "                possible_subterms += [i]\n",
        "            subterm *= create_subterm(rand.choice(possible_subterms), cdf, max_it, max_it, 0)\n",
        "\n",
        "    return simplify(subterm)"
      ],
      "execution_count": null,
      "outputs": []
    },
    {
      "cell_type": "markdown",
      "metadata": {
        "id": "l72dU1KToQ_d"
      },
      "source": [
        "## Final Calculation and Output"
      ]
    },
    {
      "cell_type": "code",
      "metadata": {
        "colab": {
          "base_uri": "https://localhost:8080/"
        },
        "id": "Iq3UwxriWWaZ",
        "outputId": "d7784c33-3c7a-479b-d4f2-65933d67ebc9"
      },
      "source": [
        "terms = create_subterms(y_terms, num_subterms(min_subterms, max_subterms))\n",
        "print(\"The terms are:\")\n",
        "for i in range(len(terms)):\n",
        "    disp.display(terms[i])\n",
        "    print()"
      ],
      "execution_count": null,
      "outputs": [
        {
          "output_type": "error",
          "ename": "NameError",
          "evalue": "ignored",
          "traceback": [
            "\u001b[0;31m---------------------------------------------------------------------------\u001b[0m",
            "\u001b[0;31mNameError\u001b[0m                                 Traceback (most recent call last)",
            "\u001b[0;32m<ipython-input-8-98bf79298bca>\u001b[0m in \u001b[0;36m<module>\u001b[0;34m()\u001b[0m\n\u001b[0;32m----> 1\u001b[0;31m \u001b[0mterms\u001b[0m \u001b[0;34m=\u001b[0m \u001b[0mcreate_subterms\u001b[0m\u001b[0;34m(\u001b[0m\u001b[0my_terms\u001b[0m\u001b[0;34m,\u001b[0m \u001b[0mnum_subterms\u001b[0m\u001b[0;34m(\u001b[0m\u001b[0mmin_subterms\u001b[0m\u001b[0;34m,\u001b[0m \u001b[0mmax_subterms\u001b[0m\u001b[0;34m)\u001b[0m\u001b[0;34m)\u001b[0m\u001b[0;34m\u001b[0m\u001b[0;34m\u001b[0m\u001b[0m\n\u001b[0m\u001b[1;32m      2\u001b[0m \u001b[0mprint\u001b[0m\u001b[0;34m(\u001b[0m\u001b[0;34m\"The terms are:\"\u001b[0m\u001b[0;34m)\u001b[0m\u001b[0;34m\u001b[0m\u001b[0;34m\u001b[0m\u001b[0m\n\u001b[1;32m      3\u001b[0m \u001b[0;32mfor\u001b[0m \u001b[0mi\u001b[0m \u001b[0;32min\u001b[0m \u001b[0mrange\u001b[0m\u001b[0;34m(\u001b[0m\u001b[0mlen\u001b[0m\u001b[0;34m(\u001b[0m\u001b[0mterms\u001b[0m\u001b[0;34m)\u001b[0m\u001b[0;34m)\u001b[0m\u001b[0;34m:\u001b[0m\u001b[0;34m\u001b[0m\u001b[0;34m\u001b[0m\u001b[0m\n\u001b[1;32m      4\u001b[0m     \u001b[0mdisp\u001b[0m\u001b[0;34m.\u001b[0m\u001b[0mdisplay\u001b[0m\u001b[0;34m(\u001b[0m\u001b[0mterms\u001b[0m\u001b[0;34m[\u001b[0m\u001b[0mi\u001b[0m\u001b[0;34m]\u001b[0m\u001b[0;34m)\u001b[0m\u001b[0;34m\u001b[0m\u001b[0;34m\u001b[0m\u001b[0m\n\u001b[1;32m      5\u001b[0m     \u001b[0mprint\u001b[0m\u001b[0;34m(\u001b[0m\u001b[0;34m)\u001b[0m\u001b[0;34m\u001b[0m\u001b[0;34m\u001b[0m\u001b[0m\n",
            "\u001b[0;32m<ipython-input-6-ab0a1b4ae345>\u001b[0m in \u001b[0;36mcreate_subterms\u001b[0;34m(y_term, num_sub)\u001b[0m\n\u001b[1;32m     25\u001b[0m         \u001b[0;32mfor\u001b[0m \u001b[0mn_s\u001b[0m \u001b[0;32min\u001b[0m \u001b[0mrange\u001b[0m\u001b[0;34m(\u001b[0m\u001b[0mnum_sub\u001b[0m\u001b[0;34m[\u001b[0m\u001b[0mi\u001b[0m\u001b[0;34m]\u001b[0m\u001b[0;34m)\u001b[0m\u001b[0;34m:\u001b[0m\u001b[0;34m\u001b[0m\u001b[0;34m\u001b[0m\u001b[0m\n\u001b[1;32m     26\u001b[0m             \u001b[0;31m# Determines function to be applied to the y_term\u001b[0m\u001b[0;34m\u001b[0m\u001b[0;34m\u001b[0m\u001b[0;34m\u001b[0m\u001b[0m\n\u001b[0;32m---> 27\u001b[0;31m             \u001b[0msubterms\u001b[0m\u001b[0;34m[\u001b[0m\u001b[0mcounter\u001b[0m\u001b[0;34m]\u001b[0m \u001b[0;34m=\u001b[0m \u001b[0mcreate_subterm\u001b[0m\u001b[0;34m(\u001b[0m\u001b[0my_t\u001b[0m\u001b[0;34m,\u001b[0m \u001b[0mfunction_cdf\u001b[0m\u001b[0;34m,\u001b[0m \u001b[0;36m1\u001b[0m\u001b[0;34m,\u001b[0m \u001b[0mmax_fun\u001b[0m\u001b[0;34m,\u001b[0m \u001b[0madd_c_prob\u001b[0m\u001b[0;34m)\u001b[0m\u001b[0;34m\u001b[0m\u001b[0;34m\u001b[0m\u001b[0m\n\u001b[0m\u001b[1;32m     28\u001b[0m             \u001b[0mcounter\u001b[0m \u001b[0;34m+=\u001b[0m \u001b[0;36m1\u001b[0m\u001b[0;34m\u001b[0m\u001b[0;34m\u001b[0m\u001b[0m\n\u001b[1;32m     29\u001b[0m \u001b[0;34m\u001b[0m\u001b[0m\n",
            "\u001b[0;32m<ipython-input-7-e25cf3621c91>\u001b[0m in \u001b[0;36mcreate_subterm\u001b[0;34m(y_term, cdf, iteration, max_it, const_prob)\u001b[0m\n\u001b[1;32m     33\u001b[0m \u001b[0;34m\u001b[0m\u001b[0m\n\u001b[1;32m     34\u001b[0m     \u001b[0;31m# RETURNING y3 alone\u001b[0m\u001b[0;34m\u001b[0m\u001b[0;34m\u001b[0m\u001b[0;34m\u001b[0m\u001b[0m\n\u001b[0;32m---> 35\u001b[0;31m     \u001b[0;32mif\u001b[0m \u001b[0msubterm\u001b[0m \u001b[0;34m==\u001b[0m \u001b[0my3\u001b[0m\u001b[0;34m:\u001b[0m\u001b[0;34m\u001b[0m\u001b[0;34m\u001b[0m\u001b[0m\n\u001b[0m\u001b[1;32m     36\u001b[0m       \u001b[0;32mreturn\u001b[0m \u001b[0my3\u001b[0m\u001b[0;34m\u001b[0m\u001b[0;34m\u001b[0m\u001b[0m\n\u001b[1;32m     37\u001b[0m \u001b[0;34m\u001b[0m\u001b[0m\n",
            "\u001b[0;31mNameError\u001b[0m: name 'y3' is not defined"
          ]
        }
      ]
    },
    {
      "cell_type": "code",
      "metadata": {
        "id": "zyzE_1CKz9BW"
      },
      "source": [
        "sum(terms)"
      ],
      "execution_count": null,
      "outputs": []
    },
    {
      "cell_type": "code",
      "metadata": {
        "id": "puB6Q70Q0aXC"
      },
      "source": [
        "solve(sum(terms),y3)"
      ],
      "execution_count": null,
      "outputs": []
    },
    {
      "cell_type": "markdown",
      "metadata": {
        "id": "mzTJ1nJf1zLK"
      },
      "source": [
        "# Dominant Balance Solver"
      ]
    },
    {
      "cell_type": "markdown",
      "metadata": {
        "id": "B4BE5OYN5YAU"
      },
      "source": [
        "## All helper functions for solver\n"
      ]
    },
    {
      "cell_type": "code",
      "metadata": {
        "id": "p8jLfcB3wZhP"
      },
      "source": [
        "import numpy as np\n",
        "import matplotlib.pyplot as plt\n",
        "from scipy.integrate import odeint\n",
        "from scipy.integrate import solve_ivp\n",
        "from sympy import *\n",
        "init_printing()\n",
        "from sympy.utilities.lambdify import lambdify, implemented_function"
      ],
      "execution_count": null,
      "outputs": []
    },
    {
      "cell_type": "code",
      "metadata": {
        "id": "NplKuzRx5b2e"
      },
      "source": [
        "# SOLVER (depending on which order it is, we would have to use different fun)\n",
        "# the following is an example for third order\n",
        "\n",
        "# define a function to convert sympy to numpy functions\n",
        "def sym_convert(eq):\n",
        "  return lambdify([y0,y1,y2,y3,x], eq)\n",
        "\n",
        "# here, we define the compiled solver\n",
        "def main_solver(odeterms, a, b, init_condition):\n",
        "\n",
        "  # i am not sure if this is necessary since the input is already sympy exp?\n",
        "  x,y1,y2,y0,y3 = symbols('x y1 y2 y0 y3')\n",
        "\n",
        "  # generate equation and y3 expression\n",
        "  eq = sum(odeterms)\n",
        "  y3 = solve(eq,y3)[0]\n",
        "\n",
        "  # generate function to put into odesystem\n",
        "  lam_y = lambdify([y0,y1,y2,x], [y1, y2, y3])\n",
        "  lam_y3 = lambdify([y0,y1,y2,x], y3)\n",
        "\n",
        "  # solve the ode\n",
        "  y_init = init_condition\n",
        "  y_sol = ode3_solver(lam_y, a, b, y_init)\n",
        "\n",
        "  # generate numerical solution for y3\n",
        "  y3_sol = lam_y3(y_sol[1,:], y_sol[2,:], y_sol[3,:], y_sol[0,:])\n",
        "  y_compiled = np.vstack((y_sol,y3_sol))\n",
        "\n",
        "  return y_compiled\n",
        "\n",
        "# define divergence event for when solve_ivp should terminate\n",
        "def div_event(t,y):\n",
        "    return abs(y[0]) - 1e3\n",
        "\n",
        "div_event.terminal = True\n",
        "\n",
        "def ode3_solver(lam_y, a, b, y_init):\n",
        "  # we define an ODE function to pass into the integrator\n",
        "  def ode_y(x,y):\n",
        "    y0,y1,y2 = y\n",
        "    return lam_y(y0,y1,y2,x)\n",
        "\n",
        "  # determine integration steps\n",
        "  t = np.linspace(a,b, num=int((b-a)*10+1))\n",
        "\n",
        "  # integrate to find y solutiont\n",
        "  print(y_init)\n",
        "  soln = solve_ivp(ode_y,[a,b],y_init,t_eval=t,events=div_event)\n",
        "\n",
        "  y_sol = np.vstack((soln.t,soln.y))\n",
        "\n",
        "  return y_sol\n",
        "\n",
        "def ode2_solver(lam_y, a, b, y_init):\n",
        "  # we define an ODE function to pass into the integrator\n",
        "  def ode_y(x,y):\n",
        "    y0,y1 = y\n",
        "    return lam_y(y0,y1,x)\n",
        "\n",
        "  # determine integration steps\n",
        "  t = np.linspace(a,b, num=int((b-a)*10+1))\n",
        "\n",
        "  # integrate to find y solution\n",
        "  print(y_init)\n",
        "  soln = solve_ivp(ode_y,[a,b],y_init,t_eval=t,events=div_event)\n",
        "\n",
        "  y_sol = np.vstack((soln.t,soln.y))\n",
        "\n",
        "  return y_sol\n",
        "\n",
        "def ode1_solver(lam_y, a, b, y_init):\n",
        "  # we define an ODE function to pass into the integrator\n",
        "  def ode_y(x,y):\n",
        "    y0 = y\n",
        "    return lam_y(y0,x)\n",
        "\n",
        "  # determine integration steps\n",
        "  t = np.linspace(a,b, num=int((b-a)*10+1))\n",
        "\n",
        "  # integrate to find y solution\n",
        "  print(y_init)\n",
        "  soln = solve_ivp(ode_y,[a,b],y_init,t_eval=t,events=div_event)\n",
        "\n",
        "  y_sol = np.vstack((soln.t,soln.y))\n",
        "\n",
        "  return y_sol\n",
        "\n",
        "\n",
        "# define the dom balance function\n",
        "def dom_bal(odeterms, sol, x):\n",
        "  \"\"\"\n",
        "  1. input odeterms as a list of sympy expressions of the terms\n",
        "  2. input sol as the numerical sol obtained from solver\n",
        "  3. input x as linspace array of the x domain\n",
        "  \"\"\"\n",
        "  # array to store the dominant balance values\n",
        "  absterms = np.zeros((len(odeterms), len(x)))\n",
        "  domterms = np.zeros((2, len(x)))\n",
        "\n",
        "  # generate abs value of each term\n",
        "  for idx, term in enumerate(odeterms):\n",
        "    abs_eq = sym_convert(term)\n",
        "    absterms[idx,:] = abs(abs_eq(sol[0,:], sol[1,:], sol[2,:], sol[3,:], x))\n",
        "\n",
        "  # iterate through to determine dominant balance throughout the domain\n",
        "  for i in range(len(x)):\n",
        "    domterms[:,i] = np.argsort(absterms[:,i])[-2:]\n",
        "\n",
        "  return absterms, domterms\n",
        "\n",
        "def dom_sol(domterms, a, b, y_init):\n",
        "  x,y1,y2,y0,y3 = symbols('x y1 y2 y0 y3')\n",
        "  # determine which y terms are in the dom bal terms\n",
        "\n",
        "  for term in domterms:\n",
        "    if y3 in term.free_symbols:\n",
        "      eq = sum(domterms)\n",
        "      y3 = solve(eq,y3)[0]\n",
        "      lam_y = lambdify([y0,y1,y2,x], [y1, y2, y3])\n",
        "\n",
        "      # solve the ode\n",
        "      y_compiled = ode3_solver(lam_y, a, b, y_init)\n",
        "\n",
        "      return y_compiled\n",
        "\n",
        "  for term in domterms:\n",
        "    if y2 in term.free_symbols:\n",
        "      eq = sum(domterms)\n",
        "      y2 = solve(eq,y2)[0]\n",
        "      lam_y = lambdify([y0,y1,x], [y1, y2])\n",
        "      lam_y2 = lambdify([y0,y1,x], y2)\n",
        "\n",
        "      # solve the ode\n",
        "      y_sol = ode2_solver(lam_y, a, b, y_init[0:2])\n",
        "\n",
        "      # generate numerical solution for y2\n",
        "      y2_sol = lam_y2(y_sol[1,:], y_sol[2,:], y_sol[0,:])\n",
        "      y_compiled = np.vstack((y_sol,y2_sol))\n",
        "\n",
        "      return y_compiled\n",
        "\n",
        "  for term in domterms:\n",
        "    if y1 in term.free_symbols:\n",
        "      eq = sum(domterms)\n",
        "      y1 = solve(eq,y1)[0]\n",
        "      lam_y = lambdify([y0,x], [y1])\n",
        "      lam_y1 = lambdify([y0,x], y1)\n",
        "\n",
        "      # solve the ode\n",
        "      y_sol = ode1_solver(lam_y, a, b, [y_init[0]])\n",
        "\n",
        "      # generate numerical solution for y1\n",
        "      y1_sol = lam_y1(y_sol[1,:], y_sol[0,:])\n",
        "\n",
        "      # generate numerical solution for y2 using finite difference\n",
        "      y2_sol = np.zeros(len(y1_sol))\n",
        "      y2_sol[-1] = (y1_sol[-1] - y1_sol[-2])/(y_sol[0,-1] - y_sol[0,-2])\n",
        "\n",
        "      y_compiled = np.vstack((np.vstack((y_sol,y1_sol)),y2_sol))\n",
        "      return y_compiled\n",
        "\n",
        "  for term in domterms:\n",
        "    if y0 in term.free_symbols:\n",
        "      eq = sum(domterms)\n",
        "      y0 = solve(eq,y0)[0]\n",
        "\n",
        "      # create y function and timesteps\n",
        "      lam_y = lambdify(x, y0)\n",
        "      t = np.linspace(a,b,num=int((b-a)*10 + 1))\n",
        "\n",
        "      # solve y function\n",
        "      y_sol = lam_y(t)\n",
        "      print(\"ysol is \" , y_sol)\n",
        "      # generate numerical solution for y1 using finite difference\n",
        "      y1_sol = np.zeros(len(y_sol))\n",
        "\n",
        "      y2_sol = np.zeros(len(y1_sol))\n",
        "      if len(y_sol) > 2:\n",
        "        y1_sol[-2] = (y_sol[1,-2] - y_sol[1,-3])/(y_sol[0,-2] - y_sol[0,-3])\n",
        "        y1_sol[-1] = (y_sol[1,-1] - y_sol[1,-2])/(y_sol[0,-1] - y_sol[0,-2])\n",
        "\n",
        "        # generate numerical solution for y2 using finite difference\n",
        "\n",
        "        y2_sol[-1] = (y1_sol[-1] - y1_sol[-2])/(y_sol[0,-1] - y_sol[0,-2])\n",
        "\n",
        "      y_compiled = np.vstack((np.vstack((y_sol,y1_sol)),y2_sol))\n",
        "\n",
        "      return y_compiled"
      ],
      "execution_count": null,
      "outputs": []
    },
    {
      "cell_type": "code",
      "metadata": {
        "id": "gRrEve59E4h5"
      },
      "source": [
        "def get_regimes(domterms):\n",
        "  leaders = {domterms[0,0],domterms[1,0]}\n",
        "  regimes = np.array(['start index','end index',{'term1','term2'}])\n",
        "  start_index = 0\n",
        "  for i in range(domterms.shape[1]):\n",
        "    if {domterms[0,i],domterms[1,i]} != leaders:\n",
        "      regimes = np.vstack((regimes,[start_index,i-1,leaders]))\n",
        "      leaders = {domterms[0,i],domterms[1,i]}\n",
        "      start_index = i-1\n",
        "  regimes = np.vstack((regimes,[start_index,domterms.shape[1]-1,leaders]))\n",
        "  return regimes"
      ],
      "execution_count": null,
      "outputs": []
    },
    {
      "cell_type": "code",
      "metadata": {
        "id": "qQTUbIb_-RXX"
      },
      "source": [
        "def verifier(soln, dom_bal, start_regime, squared_error):\n",
        "  \"\"\"\n",
        "  inputs to pass in: solution (of y), dom balance solution (of y), beginning index of regime in soln\n",
        "  \"\"\"\n",
        "  mre = 0\n",
        "  n = len(dom_bal)\n",
        "  for i in range(n):\n",
        "    # squared error version\n",
        "    if squared_error:\n",
        "      mre += ((soln[start_regime+i]-dom_bal[i])/(soln[start_regime+i]))**2\n",
        "    else:\n",
        "      mre += np.abs(soln[start_regime+i]-dom_bal[i])/np.abs(soln[start_regime+i])\n",
        "  mre = mre/n\n",
        "  return mre"
      ],
      "execution_count": null,
      "outputs": []
    },
    {
      "cell_type": "markdown",
      "metadata": {
        "id": "vMeS-9niQyIQ"
      },
      "source": [
        "## Implementing solver"
      ]
    },
    {
      "cell_type": "code",
      "metadata": {
        "colab": {
          "base_uri": "https://localhost:8080/",
          "height": 570
        },
        "id": "C-x9Xqu5RW0u",
        "outputId": "1b8896cc-6b21-4fef-9742-65eeac88a828"
      },
      "source": [
        "# Get initial conditions between -1 and 1 uniformly\n",
        "init_condition = (2 * np.random.random_sample((3,)) - 1)\n",
        "\n",
        "# Get equation for\n",
        "x,y1,y2,y0,y3 = symbols('x y1 y2 y0 y3')\n",
        "terms = create_subterms(y_terms, num_subterms(min_subterms, max_subterms))\n",
        "\n",
        "# Solve numerically\n",
        "print(\"terms are\",terms)\n",
        "print(\"init condition is \",init_condition)\n",
        "soln = main_solver(terms,0,10,init_condition)\n",
        "\n",
        "# Get the point at which it terminated\n",
        "t_stop = soln[0,soln.shape[1]-1]\n",
        "print(\"t_stop is \", t_stop)\n",
        "\n",
        "# Get the t-step\n",
        "t_step = soln[0,1]-soln[0,0]\n",
        "print(\"T step is \",t_step)\n",
        "\n",
        "# Graph it!\n",
        "plt.figure(figsize=(8,4))\n",
        "plt.plot(soln[0,],soln[1,],label='y0 numerical')\n",
        "plt.legend()\n",
        "plt.xticks(np.arange(0, t_stop,step=0.5))\n",
        "plt.tick_params(axis='both', which='major', labelsize=8)\n",
        "\n",
        "# Get the dominant balances\n",
        "x,y1,y2,y0,y3 = symbols('x y1 y2 y0 y3')\n",
        "absterms, domterms = dom_bal(terms, soln[1:5,:], soln[0,:])\n",
        "\n",
        "# Get the regimes\n",
        "regimes = get_regimes(domterms)\n",
        "print(regimes)\n",
        "\n",
        "# Iterate through regimes\n",
        "regime_init = init_condition\n",
        "regimes_soln = np.zeros(soln.shape[1])\n",
        "regimes_soln[0] = init_condition[0]\n",
        "for reg_num in range(1,len(regimes)):\n",
        "  start_idx = regimes[reg_num][0]\n",
        "  end_idx = regimes[reg_num][1]\n",
        "  if start_idx != end_idx:\n",
        "    start_t = 0.1*start_idx\n",
        "    end_t = 0.1*end_idx\n",
        "    winner_0 = int(list(regimes[reg_num][2])[0])\n",
        "    winner_1 = int(list(regimes[reg_num][2])[1])\n",
        "    regime_solved = dom_sol([terms[winner_0],terms[winner_1]],a=start_t,b=end_t,y_init=regime_init)\n",
        "    if len(regime_solved[1,]) != len(regimes_soln[start_idx:end_idx+1]):\n",
        "      regime_solved = dom_sol([terms[winner_0],terms[winner_1]],a=round(start_t,1),b=round(end_t,1),y_init=regime_init)\n",
        "    regimes_soln[start_idx:end_idx+1] = regime_solved[1,]\n",
        "    regime_init = regime_solved[1:,-1]\n",
        "\n",
        "plt.plot(soln[0,],regimes_soln,label='dominant balances')"
      ],
      "execution_count": null,
      "outputs": [
        {
          "output_type": "stream",
          "text": [
            "terms are [-10*exp(x), log(y1 + 1), -4*sin(x + 1)*tan(y1 + 1), -6*cos(10*y2**9 - 1), y3]\n",
            "init condition is  [ 0.2551927  -0.06077401 -0.35016031]\n",
            "[ 0.2551927  -0.06077401 -0.35016031]\n",
            "t_stop is  4.7\n",
            "T step is  0.1\n",
            "[['start index' 'end index' {'term2', 'term1'}]\n",
            " [0 2 {0.0, 4.0}]\n",
            " [2 3 {0.0, 2.0}]\n",
            " [3 14 {0.0, 4.0}]\n",
            " [14 15 {2.0, 4.0}]\n",
            " [15 47 {0.0, 4.0}]]\n",
            "[ 0.2551927  -0.06077401 -0.35016031]\n",
            "[0.2500622707308852]\n",
            "[ 0.02171839 -2.29266836 -0.18125208]\n",
            "[ 1.42849445  9.71293251 26.87215585]\n",
            "[ 1.42849445  9.71293251 26.87215585]\n",
            "[ 2.53283978 12.37042801 26.57552218]\n"
          ],
          "name": "stdout"
        },
        {
          "output_type": "execute_result",
          "data": {
            "text/plain": [
              "[<matplotlib.lines.Line2D at 0x7fcdfd66e208>]"
            ]
          },
          "metadata": {
            "tags": []
          },
          "execution_count": 26
        },
        {
          "output_type": "display_data",
          "data": {
            "image/png": "[encoded data removed]",
            "text/plain": [
              "<Figure size 576x288 with 1 Axes>"
            ]
          },
          "metadata": {
            "tags": [],
            "needs_background": "light"
          }
        }
      ]
    },
    {
      "cell_type": "code",
      "metadata": {
        "colab": {
          "base_uri": "https://localhost:8080/",
          "height": 37
        },
        "id": "FzMR9LXo-LXA",
        "outputId": "f39fbbc3-70ac-4211-d949-afca765f4a1c"
      },
      "source": [
        "#MRE\n",
        "round(100*verifier(soln[1,],regimes_soln,0,False),3)"
      ],
      "execution_count": null,
      "outputs": [
        {
          "output_type": "execute_result",
          "data": {
            "image/png": "[encoded data removed]",
            "text/latex": "$$52.635$$",
            "text/plain": [
              "52.635"
            ]
          },
          "metadata": {
            "tags": []
          },
          "execution_count": 27
        }
      ]
    },
    {
      "cell_type": "code",
      "metadata": {
        "colab": {
          "base_uri": "https://localhost:8080/",
          "height": 37
        },
        "id": "440R49rWA33m",
        "outputId": "c592ea96-ea33-4b35-90d9-d103656c40b5"
      },
      "source": [
        "#Number of regimes\n",
        "len(regimes)-1"
      ],
      "execution_count": null,
      "outputs": [
        {
          "output_type": "execute_result",
          "data": {
            "image/png": "[encoded data removed]",
            "text/latex": "$$5$$",
            "text/plain": [
              "5"
            ]
          },
          "metadata": {
            "tags": []
          },
          "execution_count": 28
        }
      ]
    },
    {
      "cell_type": "code",
      "metadata": {
        "id": "OS058MJmE6ko"
      },
      "source": [],
      "execution_count": null,
      "outputs": []
    }
  ]
}
