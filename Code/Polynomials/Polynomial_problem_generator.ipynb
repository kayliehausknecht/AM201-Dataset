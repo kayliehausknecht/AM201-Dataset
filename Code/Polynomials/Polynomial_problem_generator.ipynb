{
  "nbformat": 4,
  "nbformat_minor": 0,
  "metadata": {
    "colab": {
      "provenance": []
    },
    "kernelspec": {
      "name": "python3",
      "display_name": "Python 3"
    },
    "language_info": {
      "name": "python"
    }
  },
  "cells": [
    {
      "cell_type": "code",
      "source": [
        "# Imports\n",
        "import numpy as np\n",
        "from sympy import symbols, solve, Poly, simplify, latex\n",
        "import random\n",
        "# import sympy as sp"
      ],
      "metadata": {
        "id": "kH1dAP5utJWO"
      },
      "execution_count": 25,
      "outputs": []
    },
    {
      "cell_type": "markdown",
      "source": [
        "# Main functions"
      ],
      "metadata": {
        "id": "DtjwTD7UdiHd"
      }
    },
    {
      "cell_type": "markdown",
      "source": [
        "### Function to generate random polynomials\n",
        "Generates a polynomial of up to a given degree with a specific number of terms. The coefficients of the polynomial are within the specified bounds."
      ],
      "metadata": {
        "id": "aoimeMoNs_Wd"
      }
    },
    {
      "cell_type": "code",
      "execution_count": 1,
      "metadata": {
        "id": "CpFnqvbgo19g"
      },
      "outputs": [],
      "source": [
        "def generate_polynomial(max_degree, num_terms, coeff_bounds):\n",
        "    \"\"\"\n",
        "    Inputs:\n",
        "    max_degree (int): The maximum degree of the polynomial.\n",
        "    num_terms (int)\n",
        "    coeff_bounds (tuple): (lower bound, upper bound)\n",
        "\n",
        "    Outputs:\n",
        "    coefficients (list)\n",
        "    \"\"\"\n",
        "    # Initialize array of coeffs\n",
        "    coefficients = [0] * (max_degree + 1)\n",
        "    # Check number of terms\n",
        "    if num_terms > max_degree + 1:\n",
        "        raise ValueError(\"Number of terms cannot be more than the degree of the polynomial + 1\")\n",
        "    # Randomly choose positions for the (#) non-zero coefficients\n",
        "    non_zero_positions = random.sample(range(max_degree), num_terms - 1)\n",
        "    # Assign random values within the bounds to the chosen positions\n",
        "    for pos in non_zero_positions:\n",
        "        # Loop to make sure it is nonzero bc selecting from [-, +] includes 0\n",
        "        while coefficients[pos] is None or coefficients[pos] == 0:\n",
        "          coefficients[pos] = random.randint(coeff_bounds[0], coeff_bounds[1])\n",
        "    # Ensure the highest degree term is non-zero\n",
        "    if coefficients[-1] == 0:\n",
        "        # While loop until it is nonzero\n",
        "        while coefficients[-1] is None or coefficients[-1] == 0:\n",
        "          coefficients[-1] = random.randint(coeff_bounds[0], coeff_bounds[1])\n",
        "\n",
        "    return coefficients"
      ]
    },
    {
      "cell_type": "code",
      "source": [
        "# Test function\n",
        "generate_polynomial(max_degree=10, num_terms=3, coeff_bounds=[-10,10])"
      ],
      "metadata": {
        "colab": {
          "base_uri": "https://localhost:8080/"
        },
        "id": "66NploIOL9A9",
        "outputId": "0810d557-cb72-47e0-89c1-befbc08cf5a4"
      },
      "execution_count": 69,
      "outputs": [
        {
          "output_type": "execute_result",
          "data": {
            "text/plain": [
              "[-7, 6, 0, 0, 0, 0, 0, 0, 0, 0, -10]"
            ]
          },
          "metadata": {},
          "execution_count": 69
        }
      ]
    },
    {
      "cell_type": "markdown",
      "source": [
        "### Nondimensionalization function\n",
        "Takes in array of coefficients and returns in a nondimensionalized form (only works for 3-term polynomials due to how it reduces the 2nd and third terms to have coefficients of 1).\n",
        "\n"
      ],
      "metadata": {
        "id": "AS2ktmRqu3VE"
      }
    },
    {
      "cell_type": "code",
      "source": [
        "def nondimensionalize_polynomial(coefficients):\n",
        "    \"\"\"\n",
        "    Inputs:\n",
        "    coefficients(list): List of coefficients of a polynomial\n",
        "\n",
        "    Outputs:\n",
        "    new_coefficients (list): List of coefficients for equivalent non-dimensionalized polynomial\n",
        "    \"\"\"\n",
        "    # Identify nonzero coefficients and their powers\n",
        "    nonzero_coeffs = [(coeff, len(coefficients) - idx - 1) for idx, coeff in enumerate(coefficients) if coeff != 0]\n",
        "\n",
        "    # Ensure there are exactly three nonzero coefficients\n",
        "    if len(nonzero_coeffs) != 3:\n",
        "        return \"Polynomial must have exactly three nonzero coefficients.\", None\n",
        "\n",
        "    # Find largest, second largest powers\n",
        "    sorted_coeffs = sorted(nonzero_coeffs, key=lambda x: x[1], reverse=True)\n",
        "    max_power = sorted_coeffs[0][1]\n",
        "    second_max_power = sorted_coeffs[1][1]\n",
        "\n",
        "    # Compute ε\n",
        "    epsilon = sorted_coeffs[0][0] / sorted_coeffs[1][0]\n",
        "\n",
        "    # Construct the nondimensionalized polynomial\n",
        "    signs = [1 if coeff[0] > 0 else -1 for coeff in sorted_coeffs]\n",
        "\n",
        "    # Printing polynomial (commenting out because not needed)\n",
        "    # nondimensionalized_poly = f\"{epsilon:.2f}x^{max_power} \"\n",
        "    # nondimensionalized_poly += f\"{'+' if signs[1] == 1 else '-'} x^{second_max_power} \"\n",
        "    # nondimensionalized_poly += f\"{'+' if signs[2] == 1 else '-'} 1\"\n",
        "\n",
        "    # Construct new coeffs array\n",
        "    new_coefficients = [0] * (max_power + 1)\n",
        "    new_coefficients[max_power] = epsilon\n",
        "    new_coefficients[second_max_power] = signs[1]\n",
        "    new_coefficients[0] = signs[2]\n",
        "    new_coefficients = list(reversed(new_coefficients))\n",
        "\n",
        "    # Return\n",
        "    # return new_coefficients, nondimensionalized_poly\n",
        "    return new_coefficients"
      ],
      "metadata": {
        "id": "9N1SSZyo25sz"
      },
      "execution_count": 72,
      "outputs": []
    },
    {
      "cell_type": "code",
      "source": [
        "# Example usage\n",
        "polynomial = [0, 0, -8, 0, 5, 0, 0, 0, 0, 0, 7]\n",
        "nondimensionalize_polynomial(polynomial)"
      ],
      "metadata": {
        "colab": {
          "base_uri": "https://localhost:8080/"
        },
        "id": "Xeua-Xda3HP0",
        "outputId": "ae6857fd-0cbb-4b27-ccad-5a576d387296"
      },
      "execution_count": 71,
      "outputs": [
        {
          "output_type": "execute_result",
          "data": {
            "text/plain": [
              "[-1.6, 0, 1, 0, 0, 0, 0, 0, 1]"
            ]
          },
          "metadata": {},
          "execution_count": 71
        }
      ]
    },
    {
      "cell_type": "code",
      "source": [
        "print(np.roots([-7, 6, 0, 0, 0, 0, 0, 0, 0, 0, -10]))\n",
        "print(np.roots([-1.6, 0, 1, 0, 0, 0, 0, 0, 1]))"
      ],
      "metadata": {
        "colab": {
          "base_uri": "https://localhost:8080/"
        },
        "id": "0rrhE6s0f2-l",
        "outputId": "f51c224c-4d9c-46bc-811d-741d19aa91f8"
      },
      "execution_count": 75,
      "outputs": [
        {
          "output_type": "stream",
          "name": "stdout",
          "text": [
            "[ 1.11737589+0.29180969j  1.11737589-0.29180969j  0.70135589+0.80048499j\n",
            "  0.70135589-0.80048499j  0.07413512+1.00975443j  0.07413512-1.00975443j\n",
            " -0.92181274+0.31530581j -0.92181274-0.31530581j -0.54248273+0.82319706j\n",
            " -0.54248273-0.82319706j]\n",
            "[-1.04767631+0.j         -0.71023674+0.59814896j -0.71023674-0.59814896j\n",
            "  1.04767631+0.j          0.71023674+0.59814896j  0.71023674-0.59814896j\n",
            "  0.        +0.8751764j   0.        -0.8751764j ]\n"
          ]
        }
      ]
    },
    {
      "cell_type": "markdown",
      "source": [
        "### Generate nondimensionalized problem\n",
        "Main solving function for nondimensionalized problem of the form $\\epsilon x^{n_1} \\pm x^{n_2} \\pm 1$ where $n_1 > n_2$"
      ],
      "metadata": {
        "id": "0I_4Cl1bKg3z"
      }
    },
    {
      "cell_type": "code",
      "source": [
        "def generate_nondimensionalized(max_n1):\n",
        "    \"\"\"\n",
        "    Inputs:\n",
        "    max_n1 (int): Maximum power in polynomial\n",
        "\n",
        "    Outputs:\n",
        "    polynomial (sympy expression): Nondimensionalized random polynomial of the given format\n",
        "    \"\"\"\n",
        "    # Ensure max_n1 is at least 2\n",
        "    if max_n1 < 2:\n",
        "        raise ValueError(\"max_n1 must be at least 2\")\n",
        "\n",
        "    # Randomly choose n1 and n2\n",
        "    n1 = random.randint(2, max_n1)\n",
        "    n2 = random.randint(1, n1 - 1)\n",
        "    # Randomly choose signs\n",
        "    signs = random.choices([-1, 1], k=2)\n",
        "\n",
        "    # Construct polynomial\n",
        "    x = symbols('x')\n",
        "    epsilon = symbols('epsilon')\n",
        "    polynomial = epsilon * x**n1 + signs[0] * x**n2 + signs[1]\n",
        "\n",
        "    # Return\n",
        "    return polynomial"
      ],
      "metadata": {
        "id": "Iv5f8OH6KcCk"
      },
      "execution_count": 2,
      "outputs": []
    },
    {
      "cell_type": "code",
      "source": [
        "# Example usage\n",
        "polynomial = generate_nondimensionalized(10)\n",
        "\n",
        "list(polynomial.expand().args)[::-1]"
      ],
      "metadata": {
        "colab": {
          "base_uri": "https://localhost:8080/"
        },
        "id": "JipOb6syZ0xj",
        "outputId": "5fc2a0e7-cc21-4638-b7e1-0377af352e2d"
      },
      "execution_count": 3,
      "outputs": [
        {
          "output_type": "execute_result",
          "data": {
            "text/plain": [
              "[epsilon*x**9, x**7, 1]"
            ]
          },
          "metadata": {},
          "execution_count": 3
        }
      ]
    },
    {
      "cell_type": "markdown",
      "source": [
        "### Solve nondimensionalized problem\n",
        "\n",
        "We use the following for dominant balances:\n"
      ],
      "metadata": {
        "id": "8PYh975Io8sh"
      }
    },
    {
      "cell_type": "code",
      "source": [
        "# Generate a polynomial\n",
        "polynomial = generate_nondimensionalized(10)"
      ],
      "metadata": {
        "id": "1Ep48z353Kl_"
      },
      "execution_count": 31,
      "outputs": []
    },
    {
      "cell_type": "code",
      "source": [
        "# Extract terms and solve\n",
        "x, epsilon = symbols('x epsilon')\n",
        "terms = list(polynomial.expand().args)[::-1]\n",
        "A, B, C = terms[0], terms[1], terms[2]\n",
        "sol_ab = [simplify(sol) for sol in solve(A + B, x)]\n",
        "sol_bc = [simplify(sol) for sol in solve(B + C, x)]\n",
        "sol_ac = [simplify(sol) for sol in solve(A + C, x)]\n",
        "\n",
        "# Remove extraneous root 0 that shows up - bc it never occurs in this problem formulation\n",
        "# Helper function to remove zeros\n",
        "def remove_zeros(sol_list):\n",
        "    while 0 in sol_list:\n",
        "        sol_list.remove(0)\n",
        "remove_zeros(sol_ab)\n",
        "remove_zeros(sol_bc)\n",
        "remove_zeros(sol_ac)\n",
        "\n",
        "# Check dominant balances to see if roots belong to small or large epsilon regimes\n",
        "AB_valid_small_eps = (abs(A.subs(x, sol_ab[0]).subs(epsilon, 0.001)) > abs(C.subs(x, sol_ab[0]).subs(epsilon, 0.001))) # A,B >> C small eps\n",
        "AB_valid_large_eps = (abs(A.subs(x, sol_ab[0]).subs(epsilon, 1000)) > abs(C.subs(x, sol_ab[0]).subs(epsilon, 1000))) # A,B >> C large eps\n",
        "print(AB_valid_small_eps)\n",
        "print(AB_valid_large_eps)\n",
        "\n",
        "BC_valid_small_eps = (abs(B.subs(x, sol_bc[0]).subs(epsilon, 0.001)) > abs(A.subs(x, sol_bc[0]).subs(epsilon, 0.001))) # B,C >> A small eps\n",
        "BC_valid_large_eps = (abs(B.subs(x, sol_bc[0]).subs(epsilon, 1000)) > abs(A.subs(x, sol_bc[0]).subs(epsilon, 1000))) # B,C >> A large eps\n",
        "print(BC_valid_small_eps)\n",
        "print(BC_valid_large_eps)\n",
        "\n",
        "AC_valid_small_eps = (abs(A.subs(x, sol_ac[0]).subs(epsilon, 0.001)) > abs(B.subs(x, sol_ac[0]).subs(epsilon, 0.001))) # A,C >> B small eps\n",
        "AC_valid_large_eps = (abs(A.subs(x, sol_ac[0]).subs(epsilon, 1000)) > abs(B.subs(x, sol_ac[0]).subs(epsilon, 1000))) # A,C >> B large eps\n",
        "print(AC_valid_small_eps)\n",
        "print(AC_valid_large_eps)\n",
        "\n",
        "# TODO: Figure out how to go backwards from multiple complex roots/roots of unity to simpler format (e.g. 1/eps**5)\n",
        "\n",
        "\n",
        "# Display results\n",
        "print(\"polynomial:\")\n",
        "display(polynomial)\n",
        "print(\"\\n\")\n",
        "\n",
        "print(\"Balance A, B | \", len(sol_ab), \"roots\")\n",
        "display(sol_ab)\n",
        "print(\"\\n\")\n",
        "\n",
        "print(\"Balance B, C | \", len(sol_bc), \"roots\")\n",
        "display(sol_bc)\n",
        "print(\"\\n\")\n",
        "\n",
        "print(\"Balance A, C | \", len(sol_ac), \"roots\")\n",
        "display(sol_ac)\n",
        "print(\"\\n\")"
      ],
      "metadata": {
        "colab": {
          "base_uri": "https://localhost:8080/",
          "height": 628
        },
        "id": "GJ9HXDtEW245",
        "outputId": "fc289df6-eb3e-4ff9-e50d-679643d7f6bf"
      },
      "execution_count": 32,
      "outputs": [
        {
          "output_type": "stream",
          "name": "stdout",
          "text": [
            "True\n",
            "False\n",
            "True\n",
            "False\n",
            "False\n",
            "True\n",
            "polynomial:\n"
          ]
        },
        {
          "output_type": "display_data",
          "data": {
            "text/plain": [
              "epsilon*x**7 + x**5 + 1"
            ],
            "text/latex": "$\\displaystyle \\epsilon x^{7} + x^{5} + 1$"
          },
          "metadata": {}
        },
        {
          "output_type": "stream",
          "name": "stdout",
          "text": [
            "\n",
            "\n",
            "Balance A, B |  2 roots\n"
          ]
        },
        {
          "output_type": "display_data",
          "data": {
            "text/plain": [
              "[-sqrt(-1/epsilon), sqrt(-1/epsilon)]"
            ]
          },
          "metadata": {}
        },
        {
          "output_type": "stream",
          "name": "stdout",
          "text": [
            "\n",
            "\n",
            "Balance B, C |  5 roots\n"
          ]
        },
        {
          "output_type": "display_data",
          "data": {
            "text/plain": [
              "[-1,\n",
              " 1/4 + sqrt(5)/4 + sqrt(-10 + 2*sqrt(5))/4,\n",
              " -sqrt(5)/4 + 1/4 - I*sqrt(50 - 10*sqrt(5))/8 - I*sqrt(10 - 2*sqrt(5))/8,\n",
              " 1/4 + sqrt(5)/4 - I*sqrt(10*sqrt(5) + 50)/16 - I*sqrt(2*sqrt(5) + 10)/16 - I*sqrt(10 - 2*sqrt(5))/16 + I*sqrt(50 - 10*sqrt(5))/16,\n",
              " -sqrt(5)/4 + 1/4 - sqrt(-10 + 2*sqrt(5))/16 + sqrt(-10 - 2*sqrt(5))/16 + sqrt(-50 + 10*sqrt(5))/16 + sqrt(-50 - 10*sqrt(5))/16]"
            ]
          },
          "metadata": {}
        },
        {
          "output_type": "stream",
          "name": "stdout",
          "text": [
            "\n",
            "\n",
            "Balance A, C |  7 roots\n"
          ]
        },
        {
          "output_type": "display_data",
          "data": {
            "text/plain": [
              "[(-1/epsilon)**(1/7),\n",
              " -(-1/epsilon)**(1/7)*exp(I*pi/7),\n",
              " -(-1/epsilon)**(1/7)*exp(-I*pi/7),\n",
              " (-1/epsilon)**(1/7)*exp(-2*I*pi/7),\n",
              " (-1/epsilon)**(1/7)*exp(2*I*pi/7),\n",
              " -(-1/epsilon)**(1/7)*(sin(pi/14) + I*cos(pi/14)),\n",
              " (-1/epsilon)**(1/7)*(-sin(pi/14) + I*cos(pi/14))]"
            ]
          },
          "metadata": {}
        },
        {
          "output_type": "stream",
          "name": "stdout",
          "text": [
            "\n",
            "\n"
          ]
        }
      ]
    },
    {
      "cell_type": "code",
      "source": [
        "adef solve_nondimensionalized(polynomial):\n",
        "    \"\"\"\n",
        "    Inputs:\n",
        "    polynomial (sympy expression): Nondimensionalized polynomial\n",
        "\n",
        "    Outputs:\n",
        "    small x sols (sympy expression): Small x analytical solutions in terms of epsilon\n",
        "    large x sols (sympy expression): Large x analytical solutions in terms of epsilon\n",
        "    \"\"\"\n",
        "    # Separate into separate terms, assign to A,B,C\n",
        "    terms = list(polynomial.expand().args)[::-1]\n",
        "    A = terms[0]\n",
        "    B = terms[1]\n",
        "    C = terms[2]\n",
        "\n",
        "    # Try three different dominant balances\n",
        "    # For each dominant balance:\n",
        "    # 1) Solve equation for x in terms of epsilon\n",
        "    # 2) Check that balance in terms\n",
        "    # 3) Either append to small x solutions or large x solutions.\n",
        "\n",
        "    # A = B\n",
        "\n",
        "    # A = C\n",
        "\n",
        "    # B = C"
      ],
      "metadata": {
        "id": "yYWZHdC7pm-U"
      },
      "execution_count": null,
      "outputs": []
    },
    {
      "cell_type": "markdown",
      "source": [
        "### Function to generate latex problem statement"
      ],
      "metadata": {
        "id": "uR4Ulh7g735O"
      }
    },
    {
      "cell_type": "code",
      "source": [
        "\\noindent\\hrulefill\n",
        "problem = \"Solve for analytical approximaitions to the roots of the following polynomial. Present the roots for both large and small \\epsilon.\"\n",
        "latex(polynomial)"
      ],
      "metadata": {
        "colab": {
          "base_uri": "https://localhost:8080/",
          "height": 35
        },
        "id": "7Y7XLAMO73ox",
        "outputId": "381c452d-c0cd-4c27-b64c-fa9c45b83a49"
      },
      "execution_count": 27,
      "outputs": [
        {
          "output_type": "execute_result",
          "data": {
            "text/plain": [
              "'\\\\epsilon x^{9} - x^{4} + 1'"
            ],
            "application/vnd.google.colaboratory.intrinsic+json": {
              "type": "string"
            }
          },
          "metadata": {},
          "execution_count": 27
        }
      ]
    },
    {
      "cell_type": "code",
      "source": [
        "# Define the file name\n",
        "file_name = \"problem_dataset.tex\"\n",
        "\n",
        "# Write to file\n",
        "with open(file_name, \"w\") as file:\n",
        "    file.write(\"\\\\documentclass{article}\\n\")\n",
        "    file.write(\"\\\\usepackage{amsmath}\\n\")\n",
        "    file.write(\"\\\\begin{document}\\n\")\n",
        "    file.write(\"\\\\section*{Quadratic Equation}\\n\")\n",
        "    file.write(\"The quadratic equation is given by:\\n\")\n",
        "    file.write(\"\\\\[\" + latex(polynomial) + \"\\\\]\\n\")\n",
        "    file.write(\"\\\\end{document}\")"
      ],
      "metadata": {
        "id": "7_1bSZC493fv"
      },
      "execution_count": 29,
      "outputs": []
    },
    {
      "cell_type": "markdown",
      "source": [
        "### Helper function to generate sympy polynomial"
      ],
      "metadata": {
        "id": "8byWt2jDpi97"
      }
    },
    {
      "cell_type": "code",
      "source": [
        "# Generates sympy polynomial from\n",
        "def polynomial_from_coefficients(coefficients):\n",
        "    \"\"\"\n",
        "    Converts a list of coefficients into a polynomial expression using sympy.\n",
        "\n",
        "    Parameters:\n",
        "    coefficients (list): A list of coefficients, where the index represents the power of x.\n",
        "\n",
        "    Returns:\n",
        "    sympy expression: The polynomial expression.\n",
        "    \"\"\"\n",
        "    x = symbols('x')\n",
        "    coefficients_reverse = coefficients\n",
        "    coefficients_reverse.reverse()\n",
        "    polynomial = sum(coef * x**i for i, coef in enumerate(coefficients_reverse))\n",
        "    return Poly(polynomial)"
      ],
      "metadata": {
        "id": "ThcPY-RlvQLM"
      },
      "execution_count": 31,
      "outputs": []
    },
    {
      "cell_type": "code",
      "source": [
        "# Test functions\n",
        "coefficients = generate_polynomial(degree=10, num_terms=3, coeff_bounds=[-10,10])\n",
        "print(\"Coefficients\", coefficients)\n",
        "\n",
        "polynomial_expression = polynomial_from_coefficients(coefficients)\n",
        "polynomial_expression"
      ],
      "metadata": {
        "colab": {
          "base_uri": "https://localhost:8080/",
          "height": 57
        },
        "id": "rygKScfSv53m",
        "outputId": "2a652844-19dd-43fc-af0b-dcd3d511c24b"
      },
      "execution_count": 32,
      "outputs": [
        {
          "output_type": "stream",
          "name": "stdout",
          "text": [
            "Coefficients [0, 0, -8, 0, 5, 0, 0, 0, 0, 0, 7]\n"
          ]
        },
        {
          "output_type": "execute_result",
          "data": {
            "text/plain": [
              "Poly(-8*x**8 + 5*x**6 + 7, x, domain='ZZ')"
            ],
            "text/latex": "$\\displaystyle \\operatorname{Poly}{\\left( -8 x^{8} + 5 x^{6} + 7, x, domain=\\mathbb{Z} \\right)}$"
          },
          "metadata": {},
          "execution_count": 32
        }
      ]
    },
    {
      "cell_type": "markdown",
      "source": [
        "## Generate latex for problem and solution"
      ],
      "metadata": {
        "id": "9hi1tBJdtfSp"
      }
    },
    {
      "cell_type": "markdown",
      "source": [
        "## Check that analytical solutions are approx. equal to the numerical solution.\n",
        "\n",
        "If valid, generate latex -> add to dataset\n",
        "- Check for duplicates??\n",
        "\n",
        "Discard problem otherwise"
      ],
      "metadata": {
        "id": "G6JY56JVtW2K"
      }
    },
    {
      "cell_type": "code",
      "source": [],
      "metadata": {
        "id": "wxBAYP0kwTSX"
      },
      "execution_count": null,
      "outputs": []
    },
    {
      "cell_type": "markdown",
      "source": [
        "## Unit tests for each function"
      ],
      "metadata": {
        "id": "NSN8DevV2_lD"
      }
    },
    {
      "cell_type": "markdown",
      "source": [
        "### Generate polynomial\n",
        "- Generate several polynomials, check that there are exactly n nonzero coefficients and that there is a constant.\n",
        "\n",
        "### Nondimensionalize polynomial\n",
        "- Generate many polynomials, nondimensionalize, compare numerically-solved roots to check they are the same (but scaled)????????????"
      ],
      "metadata": {
        "id": "JPKzUMHDeGbO"
      }
    },
    {
      "cell_type": "code",
      "source": [
        "def test_generate(max_degree, num_terms, coeff_bounds):\n",
        "  # Test 100 different runs of the function\n",
        "  for i in range(100):\n",
        "    # Solve\n",
        "    coeffs = generate_polynomial(max_degree=max_degree, num_terms=num_terms, coeff_bounds=coeff_bounds)\n",
        "    # Check length of array\n",
        "    assert len(coeffs) == max_degree + 1\n",
        "    # Check number of terms\n",
        "    assert len([x for x in coeffs if x != 0]) == num_terms\n",
        "    # Check for nonzero constant term\n",
        "    assert coeffs[-1] != 0\n",
        "    # Check that coeff bounds are correct\n",
        "    all(coeff_bounds[0] <= x <= coeff_bounds[1] for x in coeffs)\n",
        "  print(\"All tests passed! (Generate polynomial function)\")"
      ],
      "metadata": {
        "id": "DVLfh7my3A4t"
      },
      "execution_count": 97,
      "outputs": []
    },
    {
      "cell_type": "code",
      "source": [
        "# Parameters\n",
        "max_degree = 10\n",
        "num_terms = 3\n",
        "coeff_bounds=[-10,10]\n",
        "\n",
        "# Run tests\n",
        "test_generate(max_degree, num_terms, coeff_bounds)"
      ],
      "metadata": {
        "colab": {
          "base_uri": "https://localhost:8080/"
        },
        "id": "q8HyZMj7mJZp",
        "outputId": "982aa554-f772-443b-e42d-baa152ab040b"
      },
      "execution_count": 102,
      "outputs": [
        {
          "output_type": "stream",
          "name": "stdout",
          "text": [
            "All tests passed! (Generate polynomial function)\n"
          ]
        }
      ]
    },
    {
      "cell_type": "code",
      "source": [],
      "metadata": {
        "id": "Lemzm8JRmZNn"
      },
      "execution_count": null,
      "outputs": []
    }
  ]
}