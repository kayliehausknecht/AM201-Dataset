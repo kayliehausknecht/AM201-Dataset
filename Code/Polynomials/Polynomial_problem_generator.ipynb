{
  "nbformat": 4,
  "nbformat_minor": 0,
  "metadata": {
    "colab": {
      "provenance": []
    },
    "kernelspec": {
      "name": "python3",
      "display_name": "Python 3"
    },
    "language_info": {
      "name": "python"
    }
  },
  "cells": [
    {
      "cell_type": "code",
      "source": [
        "# Imports\n",
        "import numpy as np\n",
        "from sympy import symbols, Poly\n",
        "import random"
      ],
      "metadata": {
        "id": "kH1dAP5utJWO"
      },
      "execution_count": 40,
      "outputs": []
    },
    {
      "cell_type": "markdown",
      "source": [
        "# Main functions"
      ],
      "metadata": {
        "id": "DtjwTD7UdiHd"
      }
    },
    {
      "cell_type": "markdown",
      "source": [
        "### Function to generate random polynomials\n",
        "Generates a polynomial of up to a given degree with a specific number of terms. The coefficients of the polynomial are within the specified bounds."
      ],
      "metadata": {
        "id": "aoimeMoNs_Wd"
      }
    },
    {
      "cell_type": "code",
      "execution_count": 65,
      "metadata": {
        "id": "CpFnqvbgo19g"
      },
      "outputs": [],
      "source": [
        "def generate_polynomial(max_degree, num_terms, coeff_bounds):\n",
        "    \"\"\"\n",
        "    Inputs:\n",
        "    max_degree (int): The maximum degree of the polynomial.\n",
        "    num_terms (int)\n",
        "    coeff_bounds (tuple): (lower bound, upper bound)\n",
        "\n",
        "    Outputs:\n",
        "    coefficients (list)\n",
        "    \"\"\"\n",
        "    # Initialize array of coeffs\n",
        "    coefficients = [0] * (max_degree + 1)\n",
        "    # Check number of terms\n",
        "    if num_terms > max_degree + 1:\n",
        "        raise ValueError(\"Number of terms cannot be more than the degree of the polynomial + 1\")\n",
        "    # Randomly choose positions for the (#) non-zero coefficients\n",
        "    non_zero_positions = random.sample(range(max_degree), num_terms - 1)\n",
        "    # Assign random values within the bounds to the chosen positions\n",
        "    for pos in non_zero_positions:\n",
        "        # Loop to make sure it is nonzero bc selecting from [-, +] includes 0\n",
        "        while coefficients[pos] is None or coefficients[pos] == 0:\n",
        "          coefficients[pos] = random.randint(coeff_bounds[0], coeff_bounds[1])\n",
        "    # Ensure the highest degree term is non-zero\n",
        "    if coefficients[-1] == 0:\n",
        "        # While loop until it is nonzero\n",
        "        while coefficients[-1] is None or coefficients[-1] == 0:\n",
        "          coefficients[-1] = random.randint(coeff_bounds[0], coeff_bounds[1])\n",
        "\n",
        "    return coefficients"
      ]
    },
    {
      "cell_type": "code",
      "source": [
        "# Test function\n",
        "generate_polynomial(max_degree=10, num_terms=3, coeff_bounds=[-10,10])"
      ],
      "metadata": {
        "colab": {
          "base_uri": "https://localhost:8080/"
        },
        "id": "66NploIOL9A9",
        "outputId": "0810d557-cb72-47e0-89c1-befbc08cf5a4"
      },
      "execution_count": 69,
      "outputs": [
        {
          "output_type": "execute_result",
          "data": {
            "text/plain": [
              "[-7, 6, 0, 0, 0, 0, 0, 0, 0, 0, -10]"
            ]
          },
          "metadata": {},
          "execution_count": 69
        }
      ]
    },
    {
      "cell_type": "markdown",
      "source": [
        "### Nondimensionalization function\n",
        "Takes in array of coefficients and returns in a nondimensionalized form (only works for 3-term polynomials due to how it reduces the 2nd and third terms to have coefficients of 1).\n",
        "\n"
      ],
      "metadata": {
        "id": "AS2ktmRqu3VE"
      }
    },
    {
      "cell_type": "code",
      "source": [
        "def nondimensionalize_polynomial(coefficients):\n",
        "    \"\"\"\n",
        "    Inputs:\n",
        "    coefficients(list): List of coefficients of a polynomial\n",
        "    num_terms (int)\n",
        "    coeff_bounds (tuple): (lower bound, upper bound)\n",
        "\n",
        "    Outputs:\n",
        "    coefficients (list)\n",
        "    \"\"\"\n",
        "    # Identify nonzero coefficients and their powers\n",
        "    nonzero_coeffs = [(coeff, len(coefficients) - idx - 1) for idx, coeff in enumerate(coefficients) if coeff != 0]\n",
        "\n",
        "    # Ensure there are exactly three nonzero coefficients\n",
        "    if len(nonzero_coeffs) != 3:\n",
        "        return \"Polynomial must have exactly three nonzero coefficients.\", None\n",
        "\n",
        "    # Find largest, second largest powers\n",
        "    sorted_coeffs = sorted(nonzero_coeffs, key=lambda x: x[1], reverse=True)\n",
        "    max_power = sorted_coeffs[0][1]\n",
        "    second_max_power = sorted_coeffs[1][1]\n",
        "\n",
        "    # Compute ε\n",
        "    epsilon = sorted_coeffs[0][0] / sorted_coeffs[1][0]\n",
        "\n",
        "    # Construct the nondimensionalized polynomial\n",
        "    signs = [1 if coeff[0] > 0 else -1 for coeff in sorted_coeffs]\n",
        "\n",
        "    # Printing polynomial (commenting out because not needed)\n",
        "    # nondimensionalized_poly = f\"{epsilon:.2f}x^{max_power} \"\n",
        "    # nondimensionalized_poly += f\"{'+' if signs[1] == 1 else '-'} x^{second_max_power} \"\n",
        "    # nondimensionalized_poly += f\"{'+' if signs[2] == 1 else '-'} 1\"\n",
        "\n",
        "    # Construct new coeffs array\n",
        "    new_coefficients = [0] * (max_power + 1)\n",
        "    new_coefficients[max_power] = epsilon\n",
        "    new_coefficients[second_max_power] = signs[1]\n",
        "    new_coefficients[0] = signs[2]\n",
        "    new_coefficients = list(reversed(new_coefficients))\n",
        "\n",
        "    # Return\n",
        "    # return new_coefficients, nondimensionalized_poly\n",
        "    return new_coefficients"
      ],
      "metadata": {
        "id": "9N1SSZyo25sz"
      },
      "execution_count": 72,
      "outputs": []
    },
    {
      "cell_type": "code",
      "source": [
        "# Example usage\n",
        "polynomial = [0, 0, -8, 0, 5, 0, 0, 0, 0, 0, 7]\n",
        "nondimensionalize_polynomial(polynomial)"
      ],
      "metadata": {
        "colab": {
          "base_uri": "https://localhost:8080/"
        },
        "id": "Xeua-Xda3HP0",
        "outputId": "ae6857fd-0cbb-4b27-ccad-5a576d387296"
      },
      "execution_count": 71,
      "outputs": [
        {
          "output_type": "execute_result",
          "data": {
            "text/plain": [
              "[-1.6, 0, 1, 0, 0, 0, 0, 0, 1]"
            ]
          },
          "metadata": {},
          "execution_count": 71
        }
      ]
    },
    {
      "cell_type": "code",
      "source": [
        "print(np.roots([-7, 6, 0, 0, 0, 0, 0, 0, 0, 0, -10]))\n",
        "print(np.roots([-1.6, 0, 1, 0, 0, 0, 0, 0, 1]))"
      ],
      "metadata": {
        "colab": {
          "base_uri": "https://localhost:8080/"
        },
        "id": "0rrhE6s0f2-l",
        "outputId": "f51c224c-4d9c-46bc-811d-741d19aa91f8"
      },
      "execution_count": 75,
      "outputs": [
        {
          "output_type": "stream",
          "name": "stdout",
          "text": [
            "[ 1.11737589+0.29180969j  1.11737589-0.29180969j  0.70135589+0.80048499j\n",
            "  0.70135589-0.80048499j  0.07413512+1.00975443j  0.07413512-1.00975443j\n",
            " -0.92181274+0.31530581j -0.92181274-0.31530581j -0.54248273+0.82319706j\n",
            " -0.54248273-0.82319706j]\n",
            "[-1.04767631+0.j         -0.71023674+0.59814896j -0.71023674-0.59814896j\n",
            "  1.04767631+0.j          0.71023674+0.59814896j  0.71023674-0.59814896j\n",
            "  0.        +0.8751764j   0.        -0.8751764j ]\n"
          ]
        }
      ]
    },
    {
      "cell_type": "code",
      "source": [
        "def nondimensionalize(arr):\n",
        "    # Identify the nonzero coefficients and their indices (which represent the powers of x)\n",
        "    nonzero_indices = [i for i, e in enumerate(arr) if e != 0]\n",
        "    nonzero_coeffs = [arr[i] for i in nonzero_indices]\n",
        "\n",
        "    # Ensure there are exactly 3 nonzero coefficients\n",
        "    if len(nonzero_coeffs) != 3:\n",
        "        return \"The array must contain exactly 3 nonzero coefficients.\", None\n",
        "\n",
        "    # Sort the coefficients and indices in descending order of power\n",
        "    sorted_pairs = sorted(zip(nonzero_indices, nonzero_coeffs), reverse=True)\n",
        "    sorted_indices, sorted_coeffs = zip(*sorted_pairs)\n",
        "\n",
        "    # The highest, middle, and lowest power terms\n",
        "    highest_power, middle_power, lowest_power = sorted_indices\n",
        "\n",
        "    # Scale the variable x so that the middle power term becomes x (i.e., x = a^(1/(middle_power - lowest_power)) * y)\n",
        "    # and calculate epsilon\n",
        "    scale_factor = (sorted_coeffs[1] ** (1 / (middle_power - lowest_power)))\n",
        "    epsilon = sorted_coeffs[0] * scale_factor ** (highest_power - middle_power)\n",
        "\n",
        "    # Construct the nondimensionalized polynomial string\n",
        "    nondim_poly = f\"{epsilon:.1f}x^{highest_power - middle_power} + x + 1\"\n",
        "\n",
        "    return nondim_poly\n",
        "\n",
        "# Example usage\n",
        "print(nondimensionalize([0, 0, 0, 0, 0, 0, 10, 0, 0, -9, -1]))\n"
      ],
      "metadata": {
        "colab": {
          "base_uri": "https://localhost:8080/"
        },
        "id": "Y6iCxuByu5u-",
        "outputId": "4c5e2fd6-b4aa-4f50-f9de-5d16e312ded1"
      },
      "execution_count": 35,
      "outputs": [
        {
          "output_type": "stream",
          "name": "stdout",
          "text": [
            "-1.0-1.8jx^1 + x + 1\n"
          ]
        }
      ]
    },
    {
      "cell_type": "code",
      "source": [
        "nondimensionalize([0, 0, 0, 0, 0, 0, 10, 0, 0, -9, -1])"
      ],
      "metadata": {
        "colab": {
          "base_uri": "https://localhost:8080/",
          "height": 35
        },
        "id": "us2mLUPv13rg",
        "outputId": "a845f26f-09a4-4df6-d2f9-ce0c74ae0ddd"
      },
      "execution_count": 34,
      "outputs": [
        {
          "output_type": "execute_result",
          "data": {
            "text/plain": [
              "'90.0x^10 + x^9 + 1'"
            ],
            "application/vnd.google.colaboratory.intrinsic+json": {
              "type": "string"
            }
          },
          "metadata": {},
          "execution_count": 34
        }
      ]
    },
    {
      "cell_type": "code",
      "source": [
        "# Generates sympy polynomial from\n",
        "def polynomial_from_coefficients(coefficients):\n",
        "    \"\"\"\n",
        "    Converts a list of coefficients into a polynomial expression using sympy.\n",
        "\n",
        "    Parameters:\n",
        "    coefficients (list): A list of coefficients, where the index represents the power of x.\n",
        "\n",
        "    Returns:\n",
        "    sympy expression: The polynomial expression.\n",
        "    \"\"\"\n",
        "    x = symbols('x')\n",
        "    coefficients_reverse = coefficients\n",
        "    coefficients_reverse.reverse()\n",
        "    polynomial = sum(coef * x**i for i, coef in enumerate(coefficients_reverse))\n",
        "    return Poly(polynomial)"
      ],
      "metadata": {
        "id": "ThcPY-RlvQLM"
      },
      "execution_count": 31,
      "outputs": []
    },
    {
      "cell_type": "code",
      "source": [
        "# Test functions\n",
        "coefficients = generate_polynomial(degree=10, num_terms=3, coeff_bounds=[-10,10])\n",
        "print(\"Coefficients\", coefficients)\n",
        "\n",
        "polynomial_expression = polynomial_from_coefficients(coefficients)\n",
        "polynomial_expression"
      ],
      "metadata": {
        "colab": {
          "base_uri": "https://localhost:8080/",
          "height": 57
        },
        "id": "rygKScfSv53m",
        "outputId": "2a652844-19dd-43fc-af0b-dcd3d511c24b"
      },
      "execution_count": 32,
      "outputs": [
        {
          "output_type": "stream",
          "name": "stdout",
          "text": [
            "Coefficients [0, 0, -8, 0, 5, 0, 0, 0, 0, 0, 7]\n"
          ]
        },
        {
          "output_type": "execute_result",
          "data": {
            "text/plain": [
              "Poly(-8*x**8 + 5*x**6 + 7, x, domain='ZZ')"
            ],
            "text/latex": "$\\displaystyle \\operatorname{Poly}{\\left( -8 x^{8} + 5 x^{6} + 7, x, domain=\\mathbb{Z} \\right)}$"
          },
          "metadata": {},
          "execution_count": 32
        }
      ]
    },
    {
      "cell_type": "markdown",
      "source": [
        "## Generate latex for problem and solution"
      ],
      "metadata": {
        "id": "9hi1tBJdtfSp"
      }
    },
    {
      "cell_type": "markdown",
      "source": [
        "## Check that analytical solutions are approx. equal to the numerical solution.\n",
        "\n",
        "If valid, generate latex -> add to dataset\n",
        "- Check for duplicates??\n",
        "\n",
        "Discard problem otherwise"
      ],
      "metadata": {
        "id": "G6JY56JVtW2K"
      }
    },
    {
      "cell_type": "code",
      "source": [],
      "metadata": {
        "id": "wxBAYP0kwTSX"
      },
      "execution_count": null,
      "outputs": []
    },
    {
      "cell_type": "markdown",
      "source": [
        "## Unit tests for each function"
      ],
      "metadata": {
        "id": "NSN8DevV2_lD"
      }
    },
    {
      "cell_type": "markdown",
      "source": [
        "### Generate polynomial\n",
        "- Generate several polynomials, check that there are exactly n nonzero coefficients and that there is a constant.\n",
        "\n",
        "### Nondimensionalize polynomial\n",
        "- Generate many polynomials, nondimensionalize, compare numerically-solved roots to check they are the same (but scaled)"
      ],
      "metadata": {
        "id": "JPKzUMHDeGbO"
      }
    },
    {
      "cell_type": "code",
      "source": [],
      "metadata": {
        "id": "DVLfh7my3A4t"
      },
      "execution_count": null,
      "outputs": []
    }
  ]
}