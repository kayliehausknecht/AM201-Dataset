{
  "nbformat": 4,
  "nbformat_minor": 0,
  "metadata": {
    "colab": {
      "provenance": []
    },
    "kernelspec": {
      "name": "python3",
      "display_name": "Python 3"
    },
    "language_info": {
      "name": "python"
    }
  },
  "cells": [
    {
      "cell_type": "code",
      "source": [
        "# Imports\n",
        "import numpy as np\n",
        "from sympy import symbols, solve, Poly, simplify, latex, Rational, init_printing\n",
        "import random\n",
        "import cmath\n",
        "import pandas as pd\n",
        "from tqdm import tqdm\n",
        "\n",
        "init_printing(use_latex=True)\n",
        "from io import StringIO"
      ],
      "metadata": {
        "id": "kH1dAP5utJWO"
      },
      "execution_count": 2,
      "outputs": []
    },
    {
      "cell_type": "markdown",
      "source": [
        "---\n",
        "# Problem type 1: Nondimensionalization of a polynomial with random powers (symbolic answer)\n",
        "\n",
        "For our first type of problem, we choose to do nondimensionalization problems of the format $a_1 x^{n_1} + a_2 x^{n_2} + a_3$ where $n_1 > n_2$\n",
        "\n",
        "\n",
        "The expected form of the final answer will be $\\epsilon y^{n_1} + y^{n_2} + 1$"
      ],
      "metadata": {
        "id": "R379Ls_MKQNZ"
      }
    },
    {
      "cell_type": "code",
      "source": [
        "# Generates two numbers n1, n2 < max_degree where n1 < n2\n",
        "def generate_n1n2(max_degree):\n",
        "    \"\"\"\n",
        "    Inputs:\n",
        "    max_degree (int): Maximum possible degree of polynomial\n",
        "\n",
        "    Outputs:\n",
        "    n1 (int): Degree of polynomial\n",
        "    n2 (int): Second largest power of polynomial\n",
        "    \"\"\"\n",
        "    n2 = random.randint(1, max_degree - 1)\n",
        "    n1 = random.randint(n2 + 1, max_degree)\n",
        "    return n1, n2"
      ],
      "metadata": {
        "id": "6yk8GW9VMhLg"
      },
      "execution_count": 3,
      "outputs": []
    },
    {
      "cell_type": "code",
      "source": [
        "# Solves nondimensionalization problem given n1, n2\n",
        "def nondimensionalize_polynomial1(n1, n2):\n",
        "    \"\"\"\n",
        "    Inputs:\n",
        "    n1 (int): Degree of polynomial\n",
        "    n2 (int): Second largest power of polynomial\n",
        "\n",
        "    Outputs:\n",
        "    question (string): Latex for problem\n",
        "    answer (string): Latex for answer\n",
        "    \"\"\"\n",
        "    # Define sympy symbols\n",
        "    x, y, a1, a2, a3, epsilon = symbols('x y a_1 a_2 a_3 epsilon')\n",
        "\n",
        "    # Generate sympy polynomial a1*x^n1 + a2*x^n2 + a3\n",
        "    n1r, n2r = Rational(n1), Rational(n2)\n",
        "    polynomial_x = a1 * x**n1r + a2 * x**n2r + a3\n",
        "\n",
        "    # Define x = (a/b)y\n",
        "    x_sub = ((a3/a2)**Rational(1/n2r)) * y\n",
        "\n",
        "    # Substitute\n",
        "    polynomial_y = polynomial_x.subs(x, x_sub).expand()\n",
        "    # polynomial_y = polynomial_y.subs(x, y).expand()\n",
        "\n",
        "    # Simplify before dividing by a3\n",
        "    simplified_polynomial = polynomial_y / a3\n",
        "\n",
        "    # Further simplify the expression\n",
        "    final_simplified_polynomial = simplify(simplified_polynomial)\n",
        "\n",
        "    # Return question and answer\n",
        "    question = \"\"\n",
        "    answer = \"\"\n",
        "\n",
        "    question += \"Nondimensionalize the following polynomial\"\n",
        "    question += \"\\[\" + latex(polynomial_x) + \"\\]\"\n",
        "    question += f\"into one of the form $\\epsilon y^{{{n1}}} + y^{{{n2}}} + 1$\"\n",
        "\n",
        "    answer += \"Start with the following substitution:\"\n",
        "    answer += \"\\[\" + \"x=\" + latex(x_sub) + \"\\]\"\n",
        "\n",
        "    answer += \"\\nThis gives us the following expression:\"\n",
        "    answer += \"\\[\" + latex(polynomial_y) + \"\\]\"\n",
        "\n",
        "    answer += \"\\nDivide by the coefficient remaining in front of the constant, giving us the nondimensionalized polynomial with coefficients in terms of $a_1, a_2, a_3$:\"\n",
        "    answer += \"\\[ \\\\boxed{\" + latex(final_simplified_polynomial) + \"}\\]\"\n",
        "\n",
        "    return question, answer"
      ],
      "metadata": {
        "id": "RGvYUAj6OyRY"
      },
      "execution_count": 110,
      "outputs": []
    },
    {
      "cell_type": "code",
      "source": [
        "# n1, n2 = generate_n1n2(max_degree=10)\n",
        "# question, answer = nondimensionalize_polynomial1(n1, n2)\n",
        "\n",
        "question, answer = nondimensionalize_polynomial1(n1=10, n2=4) # Problem from hw1 to check\n",
        "\n",
        "print(question)\n",
        "print(answer)"
      ],
      "metadata": {
        "colab": {
          "base_uri": "https://localhost:8080/"
        },
        "id": "n_UH3egzQTcs",
        "outputId": "cefa29ce-b376-46cf-c777-fc538756cdc2"
      },
      "execution_count": 14,
      "outputs": [
        {
          "output_type": "stream",
          "name": "stdout",
          "text": [
            "\n",
            "Nondimensionalize the following polynomial\\[a_{1} x^{10} + a_{2} x^{4} + a_{3}\\]into one of the form $\\epsilon y^{10} + y^{4} + 1$\n",
            "\n",
            "Start with the following substitution:\\[x=y \\sqrt[4]{\\frac{a_{3}}{a_{2}}}\\]\n",
            "This gives us the following expression:\\[a_{1} y^{10} \\left(\\frac{a_{3}}{a_{2}}\\right)^{\\frac{5}{2}} + a_{3} y^{4} + a_{3}\\]\n",
            "Divide by the coefficient remaining in front of the constant, giving us the nondimensionalized polynomial with coefficients in terms of $a_1, a_2, a_3$:\\[ \\boxed{\\frac{a_{1} y^{10} \\left(\\frac{a_{3}}{a_{2}}\\right)^{\\frac{5}{2}}}{a_{3}} + y^{4} + 1}\\]\n"
          ]
        }
      ]
    },
    {
      "cell_type": "markdown",
      "source": [
        "---\n",
        "# Problem type 2: Nondimensionalization of a polynomial with random powers AND coefficients\n",
        "\n",
        "The second type of problem is the same as the first, but with a random polynomial (coefficients provided instead of a1, a2, and a3, can also be +/-). The goal is then to nondimensionalize it in the same way, and solve for the value of epsilon."
      ],
      "metadata": {
        "id": "OS7La_9EKN6G"
      }
    },
    {
      "cell_type": "code",
      "execution_count": 17,
      "metadata": {
        "id": "CpFnqvbgo19g"
      },
      "outputs": [],
      "source": [
        "# Generates a list of coefficients corresponding to a random polynomial\n",
        "def generate_polynomial(max_degree, num_terms, coeff_bounds):\n",
        "    \"\"\"\n",
        "    Inputs:\n",
        "    max_degree (int): The maximum degree of the polynomial.\n",
        "    num_terms (int)\n",
        "    coeff_bounds (tuple): (lower bound, upper bound)\n",
        "\n",
        "    Outputs:\n",
        "    coefficients (list)\n",
        "    \"\"\"\n",
        "    # Initialize array of coeffs\n",
        "    coefficients = [0] * (max_degree + 1)\n",
        "    # Check number of terms\n",
        "    if num_terms > max_degree + 1:\n",
        "        raise ValueError(\"Number of terms cannot be more than the degree of the polynomial + 1\")\n",
        "    # Randomly choose positions for the (#) non-zero coefficients\n",
        "    non_zero_positions = random.sample(range(max_degree), num_terms - 1)\n",
        "    # Assign random values within the bounds to the chosen positions\n",
        "    for pos in non_zero_positions:\n",
        "        # Loop to make sure it is nonzero bc selecting from [-, +] includes 0\n",
        "        while coefficients[pos] is None or coefficients[pos] == 0:\n",
        "          coefficients[pos] = random.randint(coeff_bounds[0], coeff_bounds[1])\n",
        "    # Ensure the highest degree term is non-zero\n",
        "    if coefficients[-1] == 0:\n",
        "        # While loop until it is nonzero\n",
        "        while coefficients[-1] is None or coefficients[-1] == 0:\n",
        "          coefficients[-1] = random.randint(coeff_bounds[0], coeff_bounds[1])\n",
        "\n",
        "    return coefficients"
      ]
    },
    {
      "cell_type": "code",
      "source": [
        "# Test function\n",
        "coefficients = generate_polynomial(max_degree=10, num_terms=3, coeff_bounds=[-10,10])\n",
        "coefficients"
      ],
      "metadata": {
        "colab": {
          "base_uri": "https://localhost:8080/",
          "height": 37
        },
        "id": "66NploIOL9A9",
        "outputId": "8e03a162-b80c-4013-cc70-e5184b1896b3"
      },
      "execution_count": 69,
      "outputs": [
        {
          "output_type": "execute_result",
          "data": {
            "text/plain": [
              "[0, 1, 0, 0, 0, 0, -10, 0, 0, 0, -8]"
            ],
            "text/latex": "$\\displaystyle \\left[ 0, \\  1, \\  0, \\  0, \\  0, \\  0, \\  -10, \\  0, \\  0, \\  0, \\  -8\\right]$"
          },
          "metadata": {},
          "execution_count": 69
        }
      ]
    },
    {
      "cell_type": "code",
      "source": [
        "# Helper function to convert list of coefficients into a sympy expression\n",
        "def sympy_polynomial_from_coefficients(coefficients):\n",
        "    \"\"\"\n",
        "    Inputs:\n",
        "    coefficients (list): A list of coefficients, where the index represents the power of x.\n",
        "\n",
        "    Outputs:\n",
        "    polynomial (sympy expression): The polynomial expression.\n",
        "    \"\"\"\n",
        "    x = symbols('x')\n",
        "    coefficients_reverse = coefficients\n",
        "    coefficients_reverse.reverse()\n",
        "    polynomial = sum(coef * x**i for i, coef in enumerate(coefficients_reverse))\n",
        "    return polynomial"
      ],
      "metadata": {
        "id": "gCkUA1Wy9IKU"
      },
      "execution_count": 37,
      "outputs": []
    },
    {
      "cell_type": "code",
      "source": [
        "# Test helper function\n",
        "sympy_polynomial_from_coefficients(coefficients)"
      ],
      "metadata": {
        "colab": {
          "base_uri": "https://localhost:8080/",
          "height": 39
        },
        "id": "AZe_xTpg9fft",
        "outputId": "2c834c9c-0f2b-4def-894c-318f0ea506d8"
      },
      "execution_count": 39,
      "outputs": [
        {
          "output_type": "execute_result",
          "data": {
            "text/plain": [
              "     10      4      2\n",
              "- 6⋅x   - 6⋅x  - 3⋅x "
            ],
            "text/latex": "$\\displaystyle - 6 x^{10} - 6 x^{4} - 3 x^{2}$"
          },
          "metadata": {},
          "execution_count": 39
        }
      ]
    },
    {
      "cell_type": "code",
      "source": [
        "# Solves nondimensionalization problem given coefficients\n",
        "def nondimensionalize_polynomial2(coefficients):\n",
        "    \"\"\"\n",
        "    Inputs:\n",
        "    coefficients (list): The list of coefficients\n",
        "\n",
        "    Outputs:\n",
        "    question (string): Latex for problem\n",
        "    answer (string): Latex for answer\n",
        "    \"\"\"\n",
        "    question = \"\"\n",
        "    answer = \"\"\n",
        "\n",
        "    # Find nonzero coefficients & powers in the format [(coefficient, power)]\n",
        "    nonzero_coeffs = [(coeff, len(coefficients) - idx - 1) for idx, coeff in enumerate(coefficients) if coeff != 0]\n",
        "    # Find largest, second largest powers\n",
        "    sorted_coeffs = sorted(nonzero_coeffs, key=lambda x: x[1], reverse=True)\n",
        "    n1 = sorted_coeffs[0][1]\n",
        "    n2 = sorted_coeffs[1][1]\n",
        "    sign1 = np.sign(nonzero_coeffs[0][0])\n",
        "    sign2 = np.sign(nonzero_coeffs[1][0])\n",
        "    sign3 = np.sign(nonzero_coeffs[2][0])\n",
        "    a1_absvalue = abs(nonzero_coeffs[0][0])\n",
        "    a2_absvalue = abs(nonzero_coeffs[1][0])\n",
        "    a3_absvalue = abs(nonzero_coeffs[2][0])\n",
        "\n",
        "    # Debugging delete later\n",
        "    print(n1, n2)\n",
        "    print(sign1, sign2, sign3)\n",
        "    print(a1_absvalue, a2_absvalue, a3_absvalue)\n",
        "\n",
        "    # Define sympy symbols\n",
        "    x, y, a1, a2, a3, epsilon = symbols('x y a_1 a_2 a_3 epsilon')\n",
        "\n",
        "    # Generate sympy polynomial a1*x^n1 + a2*x^n2 + a3\n",
        "    n1r, n2r = Rational(n1), Rational(n2)\n",
        "    polynomial_x = sign1*a1 * x**n1r + sign2*a2 * x**n2r + sign3*a3 # included signs\n",
        "\n",
        "    answer += \"\\nSet aside the coefficient values and use $a_1, a_2, a_3$ for now. Our polynomial is then:\"\n",
        "    answer += \"\\[\" + latex(polynomial_x) + \"\\]\"\n",
        "\n",
        "    # Branching for if first coefficient is negative\n",
        "    if sign1 < 0:\n",
        "        polynomial_x *= (-1)\n",
        "        answer += \"\\nSince the first coefficient is negative, we multiply the entire expression by -1:\"\n",
        "        answer += \"\\[\" + latex(polynomial_x) + \"\\]\"\n",
        "\n",
        "    # Define x = (a/b)y\n",
        "    x_sub = ((a3/a2)**Rational(1/n2r)) * y\n",
        "\n",
        "    # Substitute\n",
        "    polynomial_y = polynomial_x.subs(x, x_sub).expand()\n",
        "\n",
        "    # Simplify before dividing by a3\n",
        "    simplified_polynomial = polynomial_y / a3\n",
        "\n",
        "    # Further simplify the expression\n",
        "    final_simplified_polynomial = simplify(simplified_polynomial)\n",
        "\n",
        "    # Substitute know values for a1, a2, a3\n",
        "    final_simplified_polynomial_subs = final_simplified_polynomial.subs([(a1, a1_absvalue), (a2, a2_absvalue), (a3, a3_absvalue)]).simplify()\n",
        "\n",
        "    # Find value of epsilon\n",
        "    epsilon_value = list(final_simplified_polynomial_subs.expand().args)[::-1][0] / (y**n1)\n",
        "\n",
        "    # Return question and answer\n",
        "    question += \"Nondimensionalize the following polynomial\"\n",
        "    question += \"\\[\" + latex(sympy_polynomial_from_coefficients(coefficients)) + \"\\]\"\n",
        "    question += f\"into one of the form $\\epsilon y^{{{n1}}} \\pm y^{{{n2}}} \\pm 1$. Solve for epsilon.\"\n",
        "\n",
        "    answer += \"Use the following substitution:\"\n",
        "    answer += \"\\[\" + \"x=\" + latex(x_sub) + \"\\]\"\n",
        "\n",
        "    answer += \"\\nThis gives us the following expression:\"\n",
        "    answer += \"\\[\" + latex(polynomial_y) + \"\\]\"\n",
        "\n",
        "    answer += \"\\nDivide by the coefficient remaining in front of the constant, giving us the nondimensionalized polynomial with coefficients in terms of $a_1, a_2, a_3$:\"\n",
        "    answer += \"\\[\" + latex(final_simplified_polynomial) + \"\\]\"\n",
        "\n",
        "    answer += \"\\nSubstituting the known values for $a_1, a_2, a_3$ (absolute values as we already accounted for sign):\"\n",
        "    answer += \"\\[\" + latex(final_simplified_polynomial_subs) + \"\\]\"\n",
        "\n",
        "    answer += \"\\nFrom inspection of our nondimensionalized equation, we can identify $\\epsilon$:\"\n",
        "    answer += \"\\[ \\\\boxed{\\epsilon=\" + latex(epsilon_value) + \"}\" + f\"\\\\approx{epsilon_value.evalf():.2f} \\]\"\n",
        "\n",
        "    return question, answer"
      ],
      "metadata": {
        "id": "Xe15pab-lT9z"
      },
      "execution_count": 111,
      "outputs": []
    },
    {
      "cell_type": "code",
      "source": [
        "print(coefficients)\n",
        "question, answer = nondimensionalize_polynomial2(coefficients)\n",
        "\n",
        "print(question)\n",
        "print(answer)"
      ],
      "metadata": {
        "colab": {
          "base_uri": "https://localhost:8080/"
        },
        "id": "JJYXVXLqme0h",
        "outputId": "d2d9c47d-3fe7-4bbe-f046-9e463dbce7a0"
      },
      "execution_count": 95,
      "outputs": [
        {
          "output_type": "stream",
          "name": "stdout",
          "text": [
            "[-8, 0, 0, 0, -10, 0, 0, 0, 0, 1, 0]\n",
            "10 6\n",
            "-1 -1 1\n",
            "8 10 1\n",
            "\n",
            "Nondimensionalize the following polynomial\\[- 8 x^{10} - 10 x^{6} + x\\]into one of the form $\\epsilon y^{10} \\pm y^{6} \\pm 1$. Solve for epsilon.\n",
            "\n",
            "Set aside the coefficient values and use $a_1, a_2, a_3$ for now. Our polynomial is then:\\[- a_{1} x^{10} - a_{2} x^{6} + a_{3}\\]\n",
            "Since the first coefficient is negative, we multiply the entire expression by -1:\\[a_{1} x^{10} + a_{2} x^{6} - a_{3}\\]\n",
            "Use the following substitution:\\[x=y \\sqrt[6]{\\frac{a_{3}}{a_{2}}}\\]\n",
            "This gives us the following expression:\\[a_{1} y^{10} \\left(\\frac{a_{3}}{a_{2}}\\right)^{\\frac{5}{3}} + a_{3} y^{6} - a_{3}\\]\n",
            "Divide by the coefficient remaining in front of the constant, giving us the nondimensionalized polynomial with coefficients in terms of $a_1, a_2, a_3$:\\[\\frac{a_{1} y^{10} \\left(\\frac{a_{3}}{a_{2}}\\right)^{\\frac{5}{3}}}{a_{3}} + y^{6} - 1\\]\n",
            "Substituting the known values for $a_1, a_2, a_3$ (absolute values as we already accounted for sign):\\[\\frac{2 \\cdot \\sqrt[3]{10} y^{10}}{25} + y^{6} - 1\\]\n",
            "From inspection of our nondimensionalized equation, we can identify $\\epsilon$:\\[ \\boxed{\\epsilon=\\frac{2 \\cdot \\sqrt[3]{10}}{25}}\\approx0.17 \\]\n"
          ]
        }
      ]
    },
    {
      "cell_type": "markdown",
      "source": [
        "---\n",
        "# Problem type 3: Solving for roots\n",
        "\n",
        "Given a nondimensionalized problem of form\n",
        "$\\epsilon x^{n_1} \\pm x^{n_2} \\pm 1$ where $n_1 > n_2$, find the roots in terms of epsilon (using dominant balances) for both large and small $\\epsilon$."
      ],
      "metadata": {
        "id": "fWL587NCU6yB"
      }
    },
    {
      "cell_type": "code",
      "source": [
        "# Generates nondimensionalized polynomial of the form described above\n",
        "def generate_nondimensionalized(max_n1):\n",
        "    \"\"\"\n",
        "    Inputs:\n",
        "    max_n1 (int): Maximum power in polynomial\n",
        "\n",
        "    Outputs:\n",
        "    polynomial (sympy expression): Nondimensionalized random polynomial of the given format\n",
        "    \"\"\"\n",
        "    # Ensure max_n1 is at least 2\n",
        "    if max_n1 < 2:\n",
        "        raise ValueError(\"max_n1 must be at least 2\")\n",
        "\n",
        "    # Randomly choose n1 and n2\n",
        "    n1 = random.randint(2, max_n1)\n",
        "    n2 = random.randint(1, n1 - 1)\n",
        "    # Randomly choose signs\n",
        "    signs = random.choices([-1, 1], k=2)\n",
        "\n",
        "    # Construct polynomial, let first term always be + since same as negating if negative\n",
        "    x = symbols('x')\n",
        "    epsilon = symbols('epsilon')\n",
        "    polynomial = epsilon * x**n1 + signs[0] * x**n2 + signs[1]\n",
        "\n",
        "    # Return\n",
        "    return polynomial"
      ],
      "metadata": {
        "id": "A8N4DAsauXm3"
      },
      "execution_count": 102,
      "outputs": []
    },
    {
      "cell_type": "code",
      "source": [
        "# Example usage of random polynomial generator\n",
        "polynomial = generate_nondimensionalized(10)\n",
        "display(polynomial)"
      ],
      "metadata": {
        "colab": {
          "base_uri": "https://localhost:8080/",
          "height": 39
        },
        "id": "QXP2_CG5uaBQ",
        "outputId": "d4687324-d7bc-4a4f-e6db-8902c4c6d791"
      },
      "execution_count": 137,
      "outputs": [
        {
          "output_type": "display_data",
          "data": {
            "text/plain": [
              "   5        \n",
              "ε⋅x  - x - 1"
            ],
            "text/latex": "$\\displaystyle \\epsilon x^{5} - x - 1$"
          },
          "metadata": {}
        }
      ]
    },
    {
      "cell_type": "code",
      "source": [
        "# Function to solve for roots of nondimensionalized polynomial\n",
        "def solve_roots(polynomial):\n",
        "    \"\"\"\n",
        "    Inputs:\n",
        "    polynomial (sympy expression): The nondimensionalized polynomial\n",
        "\n",
        "    Outputs:\n",
        "    question (string): Latex for problem\n",
        "    answer (string): Latex for answer\n",
        "    \"\"\"\n",
        "    # Extract terms and solve\n",
        "    x, epsilon = symbols('x epsilon')\n",
        "    terms = list(polynomial.expand().args)[::-1]\n",
        "    A, B, C = terms[0], terms[1], terms[2]\n",
        "    sol_ab = [simplify(sol) for sol in solve(A + B, x)]\n",
        "    sol_bc = [simplify(sol) for sol in solve(B + C, x)]\n",
        "    sol_ac = [simplify(sol) for sol in solve(A + C, x)]\n",
        "\n",
        "    # Remove extraneous root 0 that shows up - bc it never occurs in this problem formulation\n",
        "    # Helper function to remove zeros\n",
        "    def remove_zeros(sol_list):\n",
        "        while 0 in sol_list:\n",
        "            sol_list.remove(0)\n",
        "    remove_zeros(sol_ab)\n",
        "    remove_zeros(sol_bc)\n",
        "    remove_zeros(sol_ac)\n",
        "\n",
        "    # Check dominant balances to see if roots belong to small or large epsilon regimes\n",
        "    AB_valid_small_eps = (abs(A.subs(x, sol_ab[0]).subs(epsilon, 0.0001)) > abs(C.subs(x, sol_ab[0]).subs(epsilon, 0.001))) # A,B >> C small eps\n",
        "    AB_valid_large_eps = (abs(A.subs(x, sol_ab[0]).subs(epsilon, 10000)) > abs(C.subs(x, sol_ab[0]).subs(epsilon, 1000))) # A,B >> C large eps\n",
        "    AB_validity = \"small\" if AB_valid_small_eps else \"large\"\n",
        "\n",
        "    BC_valid_small_eps = (abs(B.subs(x, sol_bc[0]).subs(epsilon, 0.0001)) > abs(A.subs(x, sol_bc[0]).subs(epsilon, 0.001))) # B,C >> A small eps\n",
        "    BC_valid_large_eps = (abs(B.subs(x, sol_bc[0]).subs(epsilon, 10000)) > abs(A.subs(x, sol_bc[0]).subs(epsilon, 1000))) # B,C >> A large eps\n",
        "    BC_validity = \"small\" if BC_valid_small_eps else \"large\"\n",
        "\n",
        "    AC_valid_small_eps = (abs(A.subs(x, sol_ac[0]).subs(epsilon, 0.0001)) > abs(B.subs(x, sol_ac[0]).subs(epsilon, 0.001))) # A,C >> B small eps\n",
        "    AC_valid_large_eps = (abs(A.subs(x, sol_ac[0]).subs(epsilon, 10000)) > abs(B.subs(x, sol_ac[0]).subs(epsilon, 1000))) # A,C >> B large eps\n",
        "    AC_validity = \"small\" if AC_valid_small_eps else \"large\"\n",
        "\n",
        "\n",
        "    # Return answers\n",
        "    question = \"\"\n",
        "    answer = \"\"\n",
        "\n",
        "    question += \"Solve for the roots of the following polynomial in terms of $\\epsilon$:\"\n",
        "    question += \"\\[\" + latex(polynomial) + \"\\]\"\n",
        "    question += \"Use the method of dominant balances and find approximations of roots for both small and large $\\epsilon$\"\n",
        "\n",
        "    answer += \"Consider the problem to be $A+B+C=0$, with A,B, and C corresponding to our three terms.\"\n",
        "    answer += \"\\[ A=\" + latex(A) + \"\\]\"\n",
        "    answer += \"\\[ B=\" + latex(B) + \"\\]\"\n",
        "    answer += \"\\[ C=\" + latex(C) + \"\\]\"\n",
        "\n",
        "    answer += \"\\nWe will consider the three possible dominant balances, solving for the roots of each and evaluating if the balances hold for large or small $\\epsilon$.\"\n",
        "    answer += \"\\\\vspace{1em}\"\n",
        "\n",
        "    answer += \"\\n\\nWe start with the balance $A+B=0$, solving for x in terms of $\\epsilon$ gives us\"\n",
        "    answer += f\"\\n{len(sol_ab)} roots:\"\n",
        "    answer += \"\\[\" + latex(A+B) + \"=0\\]\"\n",
        "    answer += \"\\[ \\implies\\\\boxed{ x=\" + latex(sol_ab) + \"}\\]\"\n",
        "    answer += \"\\nChecking the consistency that $|A|,|B|>>|C|$, we substitute the root back into A, B, and C to check their magnitudes:\"\n",
        "    answer += f\"\\n\\nValidity for small $\\epsilon$: {str(AB_valid_small_eps)}\"\n",
        "    answer += f\"\\n\\nValidity for large $\\epsilon$: {str(AB_valid_large_eps)}\"\n",
        "    answer += f\"\\n\\n\\\\underline{{Therefore these are roots for {AB_validity} $\\epsilon$}}\"\n",
        "    answer += \"\\\\vspace{1em}\"\n",
        "\n",
        "    answer += \"\\n\\nNext we use the balance $B+C=0$, solving for x in terms of $\\epsilon$ gives us\"\n",
        "    answer += f\"\\n{len(sol_bc)} roots:\"\n",
        "    answer += \"\\[\" + latex(B+C) + \"=0\\]\"\n",
        "    answer += \"\\[ \\implies\\\\boxed{ x=\" + latex(sol_bc) + \"}\\]\"\n",
        "    answer += \"\\nChecking the consistency that $|B|,|C|>>|A|$, we substitute the root back into A, B, and C to check their magnitudes:\"\n",
        "    answer += f\"\\n\\nValidity for small $\\epsilon$: {str(BC_valid_small_eps)}\"\n",
        "    answer += f\"\\n\\nValidity for large $\\epsilon$: {str(BC_valid_large_eps)}\"\n",
        "    answer += f\"\\n\\n\\\\underline{{Therefore these are roots for {BC_validity} $\\epsilon$}}\"\n",
        "    answer += \"\\\\vspace{1em}\"\n",
        "\n",
        "    answer += \"\\n\\nNext we use the balance $A+C=0$, solving for x in terms of $\\epsilon$ gives us\"\n",
        "    answer += f\"\\n{len(sol_ac)} roots:\"\n",
        "    answer += \"\\[\" + latex(A+C) + \"=0\\]\"\n",
        "    answer += \"\\[ \\implies\\\\boxed{ x=\" + latex(sol_ac) + \"}\\]\"\n",
        "    answer += \"\\nChecking the consistency that $|A|,|C|>>|B|$, we substitute the root back into A, B, and C to check their magnitudes:\"\n",
        "    answer += f\"\\n\\nValidity for small $\\epsilon$: {str(AC_valid_small_eps)}\"\n",
        "    answer += f\"\\n\\nValidity for large $\\epsilon$: {str(AC_valid_large_eps)}\"\n",
        "    answer += f\"\\n\\n\\\\underline{{Therefore these are roots for {AC_validity} $\\epsilon$}}\"\n",
        "    answer += \"\\\\vspace{1em}\"\n",
        "\n",
        "    answer += \"\\n\\nCounting the total number of roots we have found, we count a total of\"\n",
        "    answer += f\"\\n{len(sol_ab) + len(sol_bc) + len(sol_ac)} roots which we expect given the degree of our polynomial.\"\n",
        "\n",
        "    return question, answer"
      ],
      "metadata": {
        "id": "2yTyXOqvvfWd"
      },
      "execution_count": 163,
      "outputs": []
    },
    {
      "cell_type": "code",
      "source": [
        "# Test root solver function\n",
        "polynomial = generate_nondimensionalized(4)\n",
        "question, answer = solve_roots(polynomial)\n",
        "\n",
        "print(question)\n",
        "print(answer)"
      ],
      "metadata": {
        "colab": {
          "base_uri": "https://localhost:8080/"
        },
        "id": "EkO2_izgw0yZ",
        "outputId": "a1355be0-fbc6-41a6-dfc9-c54ae853a9d8"
      },
      "execution_count": 164,
      "outputs": [
        {
          "output_type": "stream",
          "name": "stdout",
          "text": [
            "Solve for the roots of the following polynomial in terms of $\\epsilon$:\\[\\epsilon x^{2} - x + 1\\]Use the method of dominant balances and find approximations of roots for both small and large $\\epsilon$\n",
            "Consider the problem to be $A+B+C=0$, with A,B, and C corresponding to our three terms.\\[ A=\\epsilon x^{2}\\]\\[ B=- x\\]\\[ C=1\\]\n",
            "We will consider the three possible dominant balances, solving for the roots of each and evaluating if the balances hold for large or small $\\epsilon$.\\vspace{1em}\n",
            "\n",
            "We start with the balance $A+B=0$, solving for x in terms of $\\epsilon$ gives us\n",
            "1 roots:\\[\\epsilon x^{2} - x=0\\]\\[ \\implies\\boxed{ x=\\left[ \\frac{1}{\\epsilon}\\right]}\\]\n",
            "Checking the consistency that $|A|,|B|>>|C|$, we substitute the root back into A, B, and C to check their magnitudes:\n",
            "\n",
            "Validity for small $\\epsilon$: True\n",
            "\n",
            "Validity for large $\\epsilon$: False\n",
            "\n",
            "\\underline{Therefore these are roots for small $\\epsilon$}\\vspace{1em}\n",
            "\n",
            "Next we use the balance $B+C=0$, solving for x in terms of $\\epsilon$ gives us\n",
            "1 roots:\\[1 - x=0\\]\\[ \\implies\\boxed{ x=\\left[ 1\\right]}\\]\n",
            "Checking the consistency that $|B|,|C|>>|A|$, we substitute the root back into A, B, and C to check their magnitudes:\n",
            "\n",
            "Validity for small $\\epsilon$: True\n",
            "\n",
            "Validity for large $\\epsilon$: False\n",
            "\n",
            "\\underline{Therefore these are roots for small $\\epsilon$}\\vspace{1em}\n",
            "\n",
            "Next we use the balance $A+C=0$, solving for x in terms of $\\epsilon$ gives us\n",
            "2 roots:\\[\\epsilon x^{2} + 1=0\\]\\[ \\implies\\boxed{ x=\\left[ - \\sqrt{- \\frac{1}{\\epsilon}}, \\  \\sqrt{- \\frac{1}{\\epsilon}}\\right]}\\]\n",
            "Checking the consistency that $|A|,|C|>>|B|$, we substitute the root back into A, B, and C to check their magnitudes:\n",
            "\n",
            "Validity for small $\\epsilon$: False\n",
            "\n",
            "Validity for large $\\epsilon$: True\n",
            "\n",
            "\\underline{Therefore these are roots for large $\\epsilon$}\\vspace{1em}\n",
            "\n",
            "Counting the total number of roots we have found, we count a total of\n",
            "4 roots which we expect given the degree of our polynomial.\n"
          ]
        }
      ]
    },
    {
      "cell_type": "markdown",
      "source": [
        "---\n",
        "# Generate problems, save results to pandas dataframe, export to excel in desired format"
      ],
      "metadata": {
        "id": "VfRGHjKu_KcM"
      }
    },
    {
      "cell_type": "code",
      "source": [
        "# Number of desired problems\n",
        "n_problems = 10\n",
        "\n",
        "# Create empty dataframe\n",
        "df = pd.DataFrame(columns=['Question', 'Answer'])\n",
        "\n",
        "# Iterate once for each problem\n",
        "for i in tqdm(range(n_problems)):\n",
        "    # Generate new problem\n",
        "    coefficients = generate_polynomial(max_degree=10, num_terms=3, coeff_bounds=[-10,10])\n",
        "    # Solve new problem for new question, answer\n",
        "    new_question, new_answer = nondimensionalize_polynomial2(coefficients)\n",
        "    # Add new question answer pair to data\n",
        "    row_df = pd.DataFrame({'Question': [new_question], 'Answer': [new_answer]})\n",
        "    df = pd.concat([df, row_df], ignore_index=True)\n",
        "\n",
        "# Save dataframe to excel file of specified format\n",
        "df.to_excel('polynomial_dataset.xlsx', index=False)"
      ],
      "metadata": {
        "id": "Is1lK_PF_oUn"
      },
      "execution_count": 200,
      "outputs": []
    },
    {
      "cell_type": "markdown",
      "source": [
        "### Old (delete?)"
      ],
      "metadata": {
        "id": "uAiUUfbK29f1"
      }
    },
    {
      "cell_type": "code",
      "source": [
        "# Define the file name\n",
        "file_name = \"problem_dataset.tex\"\n",
        "\n",
        "# Write to file\n",
        "with open(file_name, \"w\") as file:\n",
        "    file.write(\"\\\\documentclass{article}\\n\")\n",
        "    file.write(\"\\\\usepackage{amsmath}\\n\")\n",
        "    file.write(\"\\\\begin{document}\\n\")\n",
        "    file.write(\"\\\\section*{Quadratic Equation}\\n\")\n",
        "    file.write(\"The quadratic equation is given by:\\n\")\n",
        "    file.write(\"\\\\[\" + latex(polynomial) + \"\\\\]\\n\")\n",
        "    file.write(\"\\\\end{document}\")"
      ],
      "metadata": {
        "id": "7_1bSZC493fv"
      },
      "execution_count": null,
      "outputs": []
    }
  ]
}