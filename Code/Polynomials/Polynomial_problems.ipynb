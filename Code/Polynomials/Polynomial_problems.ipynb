{
  "nbformat": 4,
  "nbformat_minor": 0,
  "metadata": {
    "colab": {
      "provenance": [],
      "collapsed_sections": [
        "8byWt2jDpi97"
      ]
    },
    "kernelspec": {
      "name": "python3",
      "display_name": "Python 3"
    },
    "language_info": {
      "name": "python"
    }
  },
  "cells": [
    {
      "cell_type": "code",
      "source": [
        "# Imports\n",
        "import numpy as np\n",
        "from sympy import symbols, solve, Poly, simplify, latex, Rational, init_printing\n",
        "import random\n",
        "import cmath\n",
        "import pandas as pd\n",
        "from tqdm import tqdm\n",
        "\n",
        "init_printing(use_latex=True)\n",
        "from io import StringIO"
      ],
      "metadata": {
        "id": "kH1dAP5utJWO"
      },
      "execution_count": 2,
      "outputs": []
    },
    {
      "cell_type": "markdown",
      "source": [
        "---\n",
        "# Problem type 1: Simple nondimensionalization of a random polynomial\n",
        "\n",
        "For our first type of problem, we choose to do nondimensionalization problems of the format $a_1 x^{n_1} + a_2 x^{n_2} + a_3$ where $n_1 > n_2$\n",
        "\n",
        "\n",
        "The expected form of the final answer will be $\\epsilon y^{n_1} + y^{n_2} + 1$"
      ],
      "metadata": {
        "id": "R379Ls_MKQNZ"
      }
    },
    {
      "cell_type": "code",
      "source": [
        "def generate_n1n2(max_degree):\n",
        "    \"\"\"\n",
        "    Generates two numbers n1, n2 < max_degree where n1 < n2\n",
        "    \"\"\"\n",
        "    n2 = random.randint(1, max_degree - 1)\n",
        "    n1 = random.randint(n2 + 1, max_degree)\n",
        "    return n1, n2"
      ],
      "metadata": {
        "id": "6yk8GW9VMhLg"
      },
      "execution_count": 3,
      "outputs": []
    },
    {
      "cell_type": "code",
      "source": [
        "def nondimensionalize_polynomial1(n1, n2):\n",
        "    \"\"\"\n",
        "    Inputs:\n",
        "    n1 (int): Degree of polynomial\n",
        "    n2 (int): Second largest power of polynomial\n",
        "\n",
        "    Outputs:\n",
        "    question (string): Latex for problem\n",
        "    answer (string): Latex for answer\n",
        "    \"\"\"\n",
        "    # Define sympy symbols\n",
        "    x, y, a1, a2, a3, epsilon = symbols('x y a_1 a_2 a_3 epsilon')\n",
        "\n",
        "    # Generate sympy polynomial a1*x^n1 + a2*x^n2 + a3\n",
        "    n1r, n2r = Rational(n1), Rational(n2)\n",
        "    polynomial_x = a1 * x**n1r + a2 * x**n2r + a3 # CHANGE BACK TO PLUS\n",
        "\n",
        "    # Define x = (a/b)y\n",
        "    x_sub = ((a3/a2)**Rational(1/n2r)) * y\n",
        "\n",
        "    # Substitute\n",
        "    polynomial_y = polynomial_x.subs(x, x_sub).expand()\n",
        "    # polynomial_y = polynomial_y.subs(x, y).expand()\n",
        "\n",
        "    # Simplify before dividing by a3\n",
        "    simplified_polynomial = polynomial_y / a3\n",
        "\n",
        "    # Further simplify the expression\n",
        "    final_simplified_polynomial = simplify(simplified_polynomial)\n",
        "\n",
        "    # Return question and answer\n",
        "    question = \"\"\n",
        "    answer = \"\"\n",
        "\n",
        "    question += \"\\nNondimensionalize the following polynomial\"\n",
        "    question += \"\\[\" + latex(polynomial_x) + \"\\]\"\n",
        "    question += f\"into one of the form $\\epsilon y^{{{n1}}} + y^{{{n2}}} + 1$\"\n",
        "\n",
        "    answer += \"\\nStart with the following substitution:\"\n",
        "    answer += \"\\[\" + \"x=\" + latex(x_sub) + \"\\]\"\n",
        "\n",
        "    answer += \"\\nThis gives us the following expression:\"\n",
        "    answer += \"\\[\" + latex(polynomial_y) + \"\\]\"\n",
        "\n",
        "    answer += \"\\nDivide by the coefficient remaining in front of the constant, giving us the nondimensionalized polynomial with coefficients in terms of $a_1, a_2, a_3$:\"\n",
        "    answer += \"\\[ \\\\boxed{\" + latex(final_simplified_polynomial) + \"}\\]\"\n",
        "\n",
        "    return question, answer"
      ],
      "metadata": {
        "id": "RGvYUAj6OyRY"
      },
      "execution_count": 12,
      "outputs": []
    },
    {
      "cell_type": "code",
      "source": [
        "n1, n2 = generate_n1n2(max_degree=10)\n",
        "question, answer = nondimensionalize_polynomial1(n1, n2)\n",
        "\n",
        "question, answer = nondimensionalize_polynomial1(10, 4)\n",
        "\n",
        "print(question)\n",
        "\n",
        "print(answer)"
      ],
      "metadata": {
        "colab": {
          "base_uri": "https://localhost:8080/"
        },
        "id": "n_UH3egzQTcs",
        "outputId": "b4567ae0-dc6c-4829-9174-98714b47d068"
      },
      "execution_count": 13,
      "outputs": [
        {
          "output_type": "stream",
          "name": "stdout",
          "text": [
            "\n",
            "Nondimensionalize the following polynomial\\[a_{1} x^{10} + a_{2} x^{4} + a_{3}\\]into one of the form $\\epsilon y^{10} + y^{4} + 1$\n",
            "\n",
            "Start with the following substitution:\\[x=y \\sqrt[4]{\\frac{a_{3}}{a_{2}}}\\]\n",
            "This gives us the following expression:\\[a_{1} y^{10} \\left(\\frac{a_{3}}{a_{2}}\\right)^{\\frac{5}{2}} + a_{3} y^{4} + a_{3}\\]\n",
            "Divide by the coefficient remaining in front of the constant, giving us the nondimensionalized polynomial with coefficients in terms of $a_1, a_2, a_3$:\\[ \\boxed{\\frac{a_{1} y^{10} \\left(\\frac{a_{3}}{a_{2}}\\right)^{\\frac{5}{2}}}{a_{3}} + y^{4} + 1}\\]\n"
          ]
        }
      ]
    },
    {
      "cell_type": "markdown",
      "source": [
        "---\n",
        "# Problem type 2: Nondimensionalization of polynomial with\n",
        "\n",
        "The first problem type we have is to nondimensionalize a polynomial. There are two functions in this section:\n",
        "\n",
        "1) Generate these random polynomials\n",
        "\n",
        "2) Nondimensionalize these random polynomials"
      ],
      "metadata": {
        "id": "OS7La_9EKN6G"
      }
    },
    {
      "cell_type": "markdown",
      "source": [
        "---\n",
        "### Function to generate random polynomials\n",
        "Generates a polynomial of up to a given degree with a specific number of terms. The coefficients of the polynomial are within the specified bounds."
      ],
      "metadata": {
        "id": "aoimeMoNs_Wd"
      }
    },
    {
      "cell_type": "code",
      "execution_count": 74,
      "metadata": {
        "id": "CpFnqvbgo19g"
      },
      "outputs": [],
      "source": [
        "def generate_polynomial(max_degree, num_terms, coeff_bounds):\n",
        "    \"\"\"\n",
        "    Inputs:\n",
        "    max_degree (int): The maximum degree of the polynomial.\n",
        "    num_terms (int)\n",
        "    coeff_bounds (tuple): (lower bound, upper bound)\n",
        "\n",
        "    Outputs:\n",
        "    coefficients (list)\n",
        "    \"\"\"\n",
        "    # Initialize array of coeffs\n",
        "    coefficients = [0] * (max_degree + 1)\n",
        "    # Check number of terms\n",
        "    if num_terms > max_degree + 1:\n",
        "        raise ValueError(\"Number of terms cannot be more than the degree of the polynomial + 1\")\n",
        "    # Randomly choose positions for the (#) non-zero coefficients\n",
        "    non_zero_positions = random.sample(range(max_degree), num_terms - 1)\n",
        "    # Assign random values within the bounds to the chosen positions\n",
        "    for pos in non_zero_positions:\n",
        "        # Loop to make sure it is nonzero bc selecting from [-, +] includes 0\n",
        "        while coefficients[pos] is None or coefficients[pos] == 0:\n",
        "          coefficients[pos] = random.randint(coeff_bounds[0], coeff_bounds[1])\n",
        "    # Ensure the highest degree term is non-zero\n",
        "    if coefficients[-1] == 0:\n",
        "        # While loop until it is nonzero\n",
        "        while coefficients[-1] is None or coefficients[-1] == 0:\n",
        "          coefficients[-1] = random.randint(coeff_bounds[0], coeff_bounds[1])\n",
        "\n",
        "    return coefficients"
      ]
    },
    {
      "cell_type": "code",
      "source": [
        "# Test function\n",
        "coefficients = generate_polynomial(max_degree=10, num_terms=3, coeff_bounds=[-10,10])\n",
        "coefficients"
      ],
      "metadata": {
        "colab": {
          "base_uri": "https://localhost:8080/"
        },
        "id": "66NploIOL9A9",
        "outputId": "ea7c47d8-e32a-45e5-f6cd-aac332bfa999"
      },
      "execution_count": 104,
      "outputs": [
        {
          "output_type": "execute_result",
          "data": {
            "text/plain": [
              "[0, 0, 0, -2, 0, 0, 0, 0, 6, 0, 10]"
            ]
          },
          "metadata": {},
          "execution_count": 104
        }
      ]
    },
    {
      "cell_type": "markdown",
      "source": [
        "---\n",
        "### Helper function to generate sympy polynomial from coefficients"
      ],
      "metadata": {
        "id": "kCSKpxBa9JIU"
      }
    },
    {
      "cell_type": "code",
      "source": [
        "def sympy_polynomial_from_coefficients(coefficients):\n",
        "    \"\"\"\n",
        "    Converts a list of coefficients into a polynomial expression using sympy.\n",
        "\n",
        "    Parameters:\n",
        "    coefficients (list): A list of coefficients, where the index represents the power of x.\n",
        "\n",
        "    Returns:\n",
        "    sympy expression: The polynomial expression.\n",
        "    \"\"\"\n",
        "    x = symbols('x')\n",
        "    coefficients_reverse = coefficients\n",
        "    coefficients_reverse.reverse()\n",
        "    polynomial = sum(coef * x**i for i, coef in enumerate(coefficients_reverse))\n",
        "    return polynomial"
      ],
      "metadata": {
        "id": "gCkUA1Wy9IKU"
      },
      "execution_count": 187,
      "outputs": []
    },
    {
      "cell_type": "code",
      "source": [
        "sympy_polynomial_from_coefficients(coefficients)"
      ],
      "metadata": {
        "colab": {
          "base_uri": "https://localhost:8080/",
          "height": 39
        },
        "id": "AZe_xTpg9fft",
        "outputId": "00943086-008d-43ee-fdd1-df030b81b9b2"
      },
      "execution_count": 188,
      "outputs": [
        {
          "output_type": "execute_result",
          "data": {
            "text/plain": [
              "     7      2     \n",
              "- 2⋅x  + 6⋅x  + 10"
            ],
            "text/latex": "$\\displaystyle - 2 x^{7} + 6 x^{2} + 10$"
          },
          "metadata": {},
          "execution_count": 188
        }
      ]
    },
    {
      "cell_type": "markdown",
      "source": [
        "---\n",
        "### Nondimensionalization function\n",
        "\n",
        "Takes in array of coefficients and returns in a nondimensionalized form (only works for 3-term polynomials due to how it reduces the 2nd and third terms to have coefficients of 1).\n",
        "\n",
        "First converts it to the form  $\\epsilon x^{n_1} \\pm x^{n_2} \\pm 1$ where $n_1 > n_2$\n",
        "\n",
        "Finally, it calculates the value of epsilon and outputs the equivalent nondimensionalized polynomial.\n",
        "\n"
      ],
      "metadata": {
        "id": "AS2ktmRqu3VE"
      }
    },
    {
      "cell_type": "code",
      "source": [
        "def nondimensionalize_polynomial(coefficients):\n",
        "    \"\"\"\n",
        "    Inputs:\n",
        "    coefficients (list): The list of coefficients\n",
        "\n",
        "    Outputs:\n",
        "    s (string): Latex for problem and solution\n",
        "    \"\"\"\n",
        "    question = \"\"\n",
        "    answer = \"\"\n",
        "\n",
        "    # Generate sympy polynomial from coefficients\n",
        "    sympy_polynomial = sympy_polynomial_from_coefficients(coefficients)\n",
        "\n",
        "    # Find nonzero coefficients & powers in the format [(coefficient, power)]\n",
        "    nonzero_coeffs = [(coeff, len(coefficients) - idx - 1) for idx, coeff in enumerate(coefficients) if coeff != 0]\n",
        "    # Ensure exactly 3 nonzero coefficients\n",
        "    if len(nonzero_coeffs) != 3:\n",
        "        return \"Polynomial must have exactly three nonzero coefficients.\", None\n",
        "\n",
        "    # Find largest, second largest powers\n",
        "    sorted_coeffs = sorted(nonzero_coeffs, key=lambda x: x[1], reverse=True)\n",
        "    max_power = sorted_coeffs[0][1]\n",
        "    second_max_power = sorted_coeffs[1][1]\n",
        "\n",
        "    # Get values for coefficients\n",
        "    a = [abs(sorted_coeffs[0][0]), abs(sorted_coeffs[1][0]), abs(sorted_coeffs[2][0])]\n",
        "    a_signs = [np.sign(sorted_coeffs[0][0]), np.sign(sorted_coeffs[1][0]), np.sign(sorted_coeffs[2][0])]\n",
        "\n",
        "    # Rename variables for largest, 2nd largest powers\n",
        "    n1, n2 = Rational(max_power), Rational(second_max_power)\n",
        "\n",
        "    # Define symbols for sympy\n",
        "    x = symbols('x')\n",
        "    a1, a2, a3 = symbols('a_1 a_2 a_3')\n",
        "    epsilon = symbols('epsilon')\n",
        "\n",
        "    # Define polynomial in sympy\n",
        "    polynomial_x = a_signs[0]*(a1 * x**n1) + a_signs[1]*(a2 * x**n2) + a_signs[2]*a3\n",
        "\n",
        "    # Define x = (a/b)y\n",
        "    y = ((a3/a2)**(1/n2)) * x\n",
        "\n",
        "    # Substitute\n",
        "    polynomial_y = polynomial_x.subs(x, y)\n",
        "\n",
        "    # Simplify before dividing by a3\n",
        "    simplified_polynomial = polynomial_y / a3\n",
        "\n",
        "    # Further simplify the expression\n",
        "    final_simplified_polynomial = simplify(simplified_polynomial)\n",
        "\n",
        "    # Substitute the values of a\n",
        "    nondim_polynomial_subs_a = final_simplified_polynomial.subs([(a1,a[0]), (a2,a[1]), (a3,a[2])])\n",
        "\n",
        "    # Get list of terms in polynomial\n",
        "    nondim_poly_terms = list(nondim_polynomial_subs_a.expand().args)[::-1]\n",
        "    # Divide by x term (x^n) to get the value of eps\n",
        "    epsilon = nondim_poly_terms[0] / x**n1\n",
        "\n",
        "\n",
        "    # Output results\n",
        "    question += \"\\nNondimensionalize the following polynomial:\"\n",
        "    question += \"\\[\" + latex(polynomial_x) + \"\\]\"\n",
        "# OR THIS PROBLEM - maybe separate into two types\n",
        "    question += \"\\nNondimensionalize the following polynomial:\"\n",
        "    question += \"\\[\" + latex(sympy_polynomial) + \"\\]\"\n",
        "\n",
        "\n",
        "    answer += \"\\nStart with the following substitution:\"\n",
        "    answer += \"\\[\" + \"y=\" + latex(y) + \"\\]\"\n",
        "\n",
        "    answer += \"\\nThis gives us the following expression:\"\n",
        "    answer += \"\\[\" + latex(polynomial_y) + \"\\]\"\n",
        "\n",
        "    answer += \"\\nDivide by the coefficient remaining in front of the constant, giving us the nondimensionalized polynomial with coefficients in terms of $a_1, a_2, a_3$:\"\n",
        "    answer += \"\\[\" + latex(final_simplified_polynomial) + \"\\]\"\n",
        "\n",
        "    answer += \"\\nSubstitute in known values of $a_1, a_2, a_3$:\"\n",
        "    answer += \"\\[ \\\\boxed{\" + latex(nondim_polynomial_subs_a) + \"}\\]\"\n",
        "\n",
        "    answer += \"\\nFrom the above equation we can identify the value of $\\epsilon$ to be\"\n",
        "    answer += \"\\[\" + latex(epsilon) + \"\\]\"\n",
        "\n",
        "    return question, answer"
      ],
      "metadata": {
        "id": "-Hw-caD1LEk1"
      },
      "execution_count": 221,
      "outputs": []
    },
    {
      "cell_type": "code",
      "source": [
        "# Test function\n",
        "question, answer = nondimensionalize_polynomial(coefficients)\n",
        "\n",
        "# Print output\n",
        "print(answer)"
      ],
      "metadata": {
        "colab": {
          "base_uri": "https://localhost:8080/"
        },
        "id": "1n9wE3kuK51M",
        "outputId": "b2148ec7-d530-4e2a-d2ac-b418201be950"
      },
      "execution_count": 222,
      "outputs": [
        {
          "output_type": "stream",
          "name": "stdout",
          "text": [
            "\n",
            "Start with the following substitution:\\[y=x \\sqrt{\\frac{a_{3}}{a_{2}}}\\]\n",
            "This gives us the following expression:\\[- a_{1} x^{7} \\left(\\frac{a_{3}}{a_{2}}\\right)^{\\frac{7}{2}} + a_{3} x^{2} + a_{3}\\]\n",
            "Divide by the coefficient remaining in front of the constant, giving us the nondimensionalized polynomial with coefficients in terms of $a_1, a_2, a_3$:\\[- \\frac{a_{1} x^{7} \\left(\\frac{a_{3}}{a_{2}}\\right)^{\\frac{7}{2}}}{a_{3}} + x^{2} + 1\\]\n",
            "Substitute in known values of $a_1, a_2, a_3$:\\[ \\boxed{- \\frac{25 \\sqrt{15} x^{7}}{81} + x^{2} + 1}\\]\n",
            "From the above equation we cn identify the value of $\\epsilon$ to be\\[- \\frac{25 \\sqrt{15}}{81}\\]\n"
          ]
        }
      ]
    },
    {
      "cell_type": "markdown",
      "source": [
        "### Save results to pandas dataframe, export to excel in desired format"
      ],
      "metadata": {
        "id": "VfRGHjKu_KcM"
      }
    },
    {
      "cell_type": "code",
      "source": [
        "# Number of desired problems\n",
        "n_problems = 10\n",
        "\n",
        "# Create empty dataframe\n",
        "df = pd.DataFrame(columns=['Question', 'Answer'])\n",
        "\n",
        "# Iterate once for each problem\n",
        "for i in tqdm(range(n_problems)):\n",
        "    # Generate new problem\n",
        "    coefficients = generate_polynomial(max_degree=10, num_terms=3, coeff_bounds=[-10,10])\n",
        "    # Solve new problem for new question, answer\n",
        "    new_question, new_answer = nondimensionalize_polynomial(coefficients)\n",
        "    # Add new question answer pair to data\n",
        "    row_df = pd.DataFrame({'Question': [new_question], 'Answer': [new_answer]})\n",
        "    df = pd.concat([df, row_df], ignore_index=True)\n",
        "\n",
        "# Save dataframe to excel file of specified format\n",
        "df.to_excel('polynomial_dataset.xlsx', index=False)"
      ],
      "metadata": {
        "id": "Is1lK_PF_oUn"
      },
      "execution_count": 200,
      "outputs": []
    },
    {
      "cell_type": "markdown",
      "source": [
        "---\n",
        "# Problem type 2: Solving for roots\n",
        "\n",
        "Given a nondimensionalized problem of a certain form, find all of the roots in terms of epsilon."
      ],
      "metadata": {
        "id": "fWL587NCU6yB"
      }
    },
    {
      "cell_type": "markdown",
      "source": [
        "---\n",
        "### Generate nondimensionalized problem\n",
        "Function for generating random nondimensionalized polynomial problem:\n",
        "$\\epsilon x^{n_1} \\pm x^{n_2} \\pm 1$ where $n_1 > n_2$"
      ],
      "metadata": {
        "id": "0I_4Cl1bKg3z"
      }
    },
    {
      "cell_type": "code",
      "source": [
        "def generate_nondimensionalized(max_n1):\n",
        "    \"\"\"\n",
        "    Inputs:\n",
        "    max_n1 (int): Maximum power in polynomial\n",
        "\n",
        "    Outputs:\n",
        "    polynomial (sympy expression): Nondimensionalized random polynomial of the given format\n",
        "    \"\"\"\n",
        "    # Ensure max_n1 is at least 2\n",
        "    if max_n1 < 2:\n",
        "        raise ValueError(\"max_n1 must be at least 2\")\n",
        "\n",
        "    # Randomly choose n1 and n2\n",
        "    n1 = random.randint(2, max_n1)\n",
        "    n2 = random.randint(1, n1 - 1)\n",
        "    # Randomly choose signs\n",
        "    signs = random.choices([-1, 1], k=2)\n",
        "\n",
        "    # Construct polynomial\n",
        "    x = symbols('x')\n",
        "    epsilon = symbols('epsilon')\n",
        "    polynomial = epsilon * x**n1 + signs[0] * x**n2 + signs[1]\n",
        "\n",
        "    # Return\n",
        "    return polynomial"
      ],
      "metadata": {
        "id": "Iv5f8OH6KcCk"
      },
      "execution_count": 140,
      "outputs": []
    },
    {
      "cell_type": "code",
      "source": [
        "# Example usage\n",
        "polynomial = generate_nondimensionalized(10)\n",
        "display(polynomial)\n",
        "\n",
        "# Get terms of polynomial as a list\n",
        "list(polynomial.expand().args)[::-1]"
      ],
      "metadata": {
        "colab": {
          "base_uri": "https://localhost:8080/",
          "height": 57
        },
        "id": "JipOb6syZ0xj",
        "outputId": "a7c153f8-9f81-4fc8-bc80-ebd97147a939"
      },
      "execution_count": 141,
      "outputs": [
        {
          "output_type": "display_data",
          "data": {
            "text/plain": [
              "epsilon*x**9 + x**4 + 1"
            ],
            "text/latex": "$\\displaystyle \\epsilon x^{9} + x^{4} + 1$"
          },
          "metadata": {}
        },
        {
          "output_type": "execute_result",
          "data": {
            "text/plain": [
              "[epsilon*x**9, x**4, 1]"
            ]
          },
          "metadata": {},
          "execution_count": 141
        }
      ]
    },
    {
      "cell_type": "markdown",
      "source": [
        "---\n",
        "### Solve nondimensionalized problem\n",
        "\n",
        "We use the following for dominant balances:\n"
      ],
      "metadata": {
        "id": "8PYh975Io8sh"
      }
    },
    {
      "cell_type": "code",
      "source": [
        "# Generate a polynomial\n",
        "polynomial = generate_nondimensionalized(10)"
      ],
      "metadata": {
        "id": "1Ep48z353Kl_"
      },
      "execution_count": 142,
      "outputs": []
    },
    {
      "cell_type": "code",
      "source": [
        "# Extract terms and solve\n",
        "x, epsilon = symbols('x epsilon')\n",
        "terms = list(polynomial.expand().args)[::-1]\n",
        "A, B, C = terms[0], terms[1], terms[2]\n",
        "sol_ab = [simplify(sol) for sol in solve(A + B, x)]\n",
        "sol_bc = [simplify(sol) for sol in solve(B + C, x)]\n",
        "sol_ac = [simplify(sol) for sol in solve(A + C, x)]\n",
        "\n",
        "# Remove extraneous root 0 that shows up - bc it never occurs in this problem formulation\n",
        "# Helper function to remove zeros\n",
        "def remove_zeros(sol_list):\n",
        "    while 0 in sol_list:\n",
        "        sol_list.remove(0)\n",
        "remove_zeros(sol_ab)\n",
        "remove_zeros(sol_bc)\n",
        "remove_zeros(sol_ac)\n",
        "\n",
        "# Check dominant balances to see if roots belong to small or large epsilon regimes\n",
        "AB_valid_small_eps = (abs(A.subs(x, sol_ab[0]).subs(epsilon, 0.0001)) > abs(C.subs(x, sol_ab[0]).subs(epsilon, 0.001))) # A,B >> C small eps\n",
        "AB_valid_large_eps = (abs(A.subs(x, sol_ab[0]).subs(epsilon, 10000)) > abs(C.subs(x, sol_ab[0]).subs(epsilon, 1000))) # A,B >> C large eps\n",
        "\n",
        "BC_valid_small_eps = (abs(B.subs(x, sol_bc[0]).subs(epsilon, 0.0001)) > abs(A.subs(x, sol_bc[0]).subs(epsilon, 0.001))) # B,C >> A small eps\n",
        "BC_valid_large_eps = (abs(B.subs(x, sol_bc[0]).subs(epsilon, 10000)) > abs(A.subs(x, sol_bc[0]).subs(epsilon, 1000))) # B,C >> A large eps\n",
        "\n",
        "AC_valid_small_eps = (abs(A.subs(x, sol_ac[0]).subs(epsilon, 0.0001)) > abs(B.subs(x, sol_ac[0]).subs(epsilon, 0.001))) # A,C >> B small eps\n",
        "AC_valid_large_eps = (abs(A.subs(x, sol_ac[0]).subs(epsilon, 10000)) > abs(B.subs(x, sol_ac[0]).subs(epsilon, 1000))) # A,C >> B large eps\n",
        "\n",
        "print(\"AB valid for small epsilon:\", AB_valid_small_eps)\n",
        "print(\"AB valid for large epsilon:\", AB_valid_large_eps)\n",
        "print(\"BC valid for small epsilon:\", BC_valid_small_eps)\n",
        "print(\"BC valid for large epsilon:\", BC_valid_large_eps)\n",
        "print(\"AC valid for small epsilon:\", AC_valid_small_eps)\n",
        "print(\"AC valid for large epsilon:\", AC_valid_large_eps)\n",
        "print(\"\\n\")\n",
        "\n",
        "# TODO (optional): Figure out how to go backwards from multiple complex roots/roots of unity to simpler format (e.g. 1/eps**5)\n",
        "\n",
        "# Display results\n",
        "print(\"polynomial:\")\n",
        "display(polynomial)\n",
        "print(\"\\n\")\n",
        "\n",
        "print(\"Balance A, B | \", len(sol_ab), \"roots\")\n",
        "display(sol_ab)\n",
        "print(\"\\n\")\n",
        "\n",
        "print(\"Balance B, C | \", len(sol_bc), \"roots\")\n",
        "display(sol_bc)\n",
        "print(\"\\n\")\n",
        "\n",
        "print(\"Balance A, C | \", len(sol_ac), \"roots\")\n",
        "display(sol_ac)\n",
        "print(\"\\n\")"
      ],
      "metadata": {
        "colab": {
          "base_uri": "https://localhost:8080/",
          "height": 700
        },
        "id": "GJ9HXDtEW245",
        "outputId": "3761326a-5946-44e3-8c92-a43b3ca57bda"
      },
      "execution_count": 143,
      "outputs": [
        {
          "output_type": "stream",
          "name": "stdout",
          "text": [
            "AB valid for small epsilon: True\n",
            "AB valid for large epsilon: False\n",
            "BC valid for small epsilon: True\n",
            "BC valid for large epsilon: False\n",
            "AC valid for small epsilon: False\n",
            "AC valid for large epsilon: True\n",
            "\n",
            "\n",
            "polynomial:\n"
          ]
        },
        {
          "output_type": "display_data",
          "data": {
            "text/plain": [
              "epsilon*x**9 + x**7 + 1"
            ],
            "text/latex": "$\\displaystyle \\epsilon x^{9} + x^{7} + 1$"
          },
          "metadata": {}
        },
        {
          "output_type": "stream",
          "name": "stdout",
          "text": [
            "\n",
            "\n",
            "Balance A, B |  2 roots\n"
          ]
        },
        {
          "output_type": "display_data",
          "data": {
            "text/plain": [
              "[-sqrt(-1/epsilon), sqrt(-1/epsilon)]"
            ]
          },
          "metadata": {}
        },
        {
          "output_type": "stream",
          "name": "stdout",
          "text": [
            "\n",
            "\n",
            "Balance B, C |  7 roots\n"
          ]
        },
        {
          "output_type": "display_data",
          "data": {
            "text/plain": [
              "[exp(I*pi/7),\n",
              " -1,\n",
              " -cos(2*pi/7) - I*cos(3*pi/14),\n",
              " sin(pi/14) + I*cos(pi/14),\n",
              " sin(5*pi/14) - I*cos(5*pi/14),\n",
              " -sin(3*pi/14) + I*cos(3*pi/14),\n",
              " sin(pi/14) - I*cos(pi/14)]"
            ]
          },
          "metadata": {}
        },
        {
          "output_type": "stream",
          "name": "stdout",
          "text": [
            "\n",
            "\n",
            "Balance A, C |  9 roots\n"
          ]
        },
        {
          "output_type": "display_data",
          "data": {
            "text/plain": [
              "[(-1/epsilon)**(1/9),\n",
              " (-1/epsilon)**(1/9)*(-1 - sqrt(3)*I)/2,\n",
              " (-1/epsilon)**(1/9)*(-1 + sqrt(3)*I)/2,\n",
              " -(-1/epsilon)**(1/9)*exp(I*pi/9),\n",
              " -(-1/epsilon)**(1/9)*exp(-I*pi/9),\n",
              " (-1/epsilon)**(1/9)*exp(-2*I*pi/9),\n",
              " (-1/epsilon)**(1/9)*exp(2*I*pi/9),\n",
              " (-1/epsilon)**(1/9)*(sin(pi/18) - I*cos(pi/18)),\n",
              " (-1/epsilon)**(1/9)*(sin(pi/18) + I*cos(pi/18))]"
            ]
          },
          "metadata": {}
        },
        {
          "output_type": "stream",
          "name": "stdout",
          "text": [
            "\n",
            "\n"
          ]
        }
      ]
    },
    {
      "cell_type": "code",
      "source": [],
      "metadata": {
        "id": "UVtyCG9DESGJ"
      },
      "execution_count": null,
      "outputs": []
    },
    {
      "cell_type": "code",
      "source": [
        "sol_ac_noeps = []\n",
        "for i in range(len(sol_ac)):\n",
        "  sol_ac_noeps.append(sol_ac[i].subs(epsilon,1))"
      ],
      "metadata": {
        "id": "oUDkQG0-CzDN"
      },
      "execution_count": null,
      "outputs": []
    },
    {
      "cell_type": "code",
      "source": [
        "# Convert each root to its polar form and then express it using Euler's formula\n",
        "euler_forms = []\n",
        "for root in sol_ac_noeps:\n",
        "    magnitude, angle = cmath.polar(root)\n",
        "    euler_form = f\"{magnitude} * exp(i * {angle})\"\n",
        "    euler_forms.append(euler_form)\n",
        "euler_forms"
      ],
      "metadata": {
        "colab": {
          "base_uri": "https://localhost:8080/"
        },
        "id": "6lFMLq17CnjX",
        "outputId": "28986ca2-50d6-4d93-bdbd-319ae56cd498"
      },
      "execution_count": null,
      "outputs": [
        {
          "output_type": "execute_result",
          "data": {
            "text/plain": [
              "['1.0 * exp(i * 0.4487989505128276)',\n",
              " '1.0 * exp(i * -2.243994752564138)',\n",
              " '1.0 * exp(i * 3.141592653589793)',\n",
              " '1.0 * exp(i * -0.4487989505128276)',\n",
              " '1.0 * exp(i * 1.3463968515384828)',\n",
              " '1.0 * exp(i * -1.3463968515384828)',\n",
              " '1.0 * exp(i * 2.243994752564138)']"
            ]
          },
          "metadata": {},
          "execution_count": 42
        }
      ]
    },
    {
      "cell_type": "markdown",
      "source": [
        "### Function to generate latex problem statement"
      ],
      "metadata": {
        "id": "uR4Ulh7g735O"
      }
    },
    {
      "cell_type": "code",
      "source": [
        "\\noindent\\hrulefill\n",
        "problem = \"Solve for analytical approximaitions to the roots of the following polynomial. Present the roots for both large and small \\epsilon.\"\n",
        "latex(polynomial)"
      ],
      "metadata": {
        "colab": {
          "base_uri": "https://localhost:8080/",
          "height": 35
        },
        "id": "7Y7XLAMO73ox",
        "outputId": "381c452d-c0cd-4c27-b64c-fa9c45b83a49"
      },
      "execution_count": null,
      "outputs": [
        {
          "output_type": "execute_result",
          "data": {
            "text/plain": [
              "'\\\\epsilon x^{9} - x^{4} + 1'"
            ],
            "application/vnd.google.colaboratory.intrinsic+json": {
              "type": "string"
            }
          },
          "metadata": {},
          "execution_count": 27
        }
      ]
    },
    {
      "cell_type": "code",
      "source": [
        "# Define the file name\n",
        "file_name = \"problem_dataset.tex\"\n",
        "\n",
        "# Write to file\n",
        "with open(file_name, \"w\") as file:\n",
        "    file.write(\"\\\\documentclass{article}\\n\")\n",
        "    file.write(\"\\\\usepackage{amsmath}\\n\")\n",
        "    file.write(\"\\\\begin{document}\\n\")\n",
        "    file.write(\"\\\\section*{Quadratic Equation}\\n\")\n",
        "    file.write(\"The quadratic equation is given by:\\n\")\n",
        "    file.write(\"\\\\[\" + latex(polynomial) + \"\\\\]\\n\")\n",
        "    file.write(\"\\\\end{document}\")"
      ],
      "metadata": {
        "id": "7_1bSZC493fv"
      },
      "execution_count": null,
      "outputs": []
    },
    {
      "cell_type": "markdown",
      "source": [
        "### Helper function to generate sympy polynomial"
      ],
      "metadata": {
        "id": "8byWt2jDpi97"
      }
    },
    {
      "cell_type": "code",
      "source": [
        "# Generates sympy polynomial from\n",
        "def polynomial_from_coefficients(coefficients):\n",
        "    \"\"\"\n",
        "    Converts a list of coefficients into a polynomial expression using sympy.\n",
        "\n",
        "    Parameters:\n",
        "    coefficients (list): A list of coefficients, where the index represents the power of x.\n",
        "\n",
        "    Returns:\n",
        "    sympy expression: The polynomial expression.\n",
        "    \"\"\"\n",
        "    x = symbols('x')\n",
        "    coefficients_reverse = coefficients\n",
        "    coefficients_reverse.reverse()\n",
        "    polynomial = sum(coef * x**i for i, coef in enumerate(coefficients_reverse))\n",
        "    return Poly(polynomial)"
      ],
      "metadata": {
        "id": "ThcPY-RlvQLM"
      },
      "execution_count": null,
      "outputs": []
    },
    {
      "cell_type": "code",
      "source": [
        "# Test functions\n",
        "coefficients = generate_polynomial(degree=10, num_terms=3, coeff_bounds=[-10,10])\n",
        "print(\"Coefficients\", coefficients)\n",
        "\n",
        "polynomial_expression = polynomial_from_coefficients(coefficients)\n",
        "polynomial_expression"
      ],
      "metadata": {
        "colab": {
          "base_uri": "https://localhost:8080/",
          "height": 57
        },
        "id": "rygKScfSv53m",
        "outputId": "2a652844-19dd-43fc-af0b-dcd3d511c24b"
      },
      "execution_count": null,
      "outputs": [
        {
          "output_type": "stream",
          "name": "stdout",
          "text": [
            "Coefficients [0, 0, -8, 0, 5, 0, 0, 0, 0, 0, 7]\n"
          ]
        },
        {
          "output_type": "execute_result",
          "data": {
            "text/plain": [
              "Poly(-8*x**8 + 5*x**6 + 7, x, domain='ZZ')"
            ],
            "text/latex": "$\\displaystyle \\operatorname{Poly}{\\left( -8 x^{8} + 5 x^{6} + 7, x, domain=\\mathbb{Z} \\right)}$"
          },
          "metadata": {},
          "execution_count": 32
        }
      ]
    },
    {
      "cell_type": "markdown",
      "source": [
        "## Generate latex for problem and solution"
      ],
      "metadata": {
        "id": "9hi1tBJdtfSp"
      }
    },
    {
      "cell_type": "markdown",
      "source": [
        "## Check that analytical solutions are approx. equal to the numerical solution.\n",
        "\n",
        "If valid, generate latex -> add to dataset\n",
        "- Check for duplicates??\n",
        "\n",
        "Discard problem otherwise"
      ],
      "metadata": {
        "id": "G6JY56JVtW2K"
      }
    },
    {
      "cell_type": "code",
      "source": [],
      "metadata": {
        "id": "wxBAYP0kwTSX"
      },
      "execution_count": null,
      "outputs": []
    },
    {
      "cell_type": "markdown",
      "source": [
        "## Unit tests for each function"
      ],
      "metadata": {
        "id": "NSN8DevV2_lD"
      }
    },
    {
      "cell_type": "markdown",
      "source": [
        "### Generate polynomial\n",
        "- Generate several polynomials, check that there are exactly n nonzero coefficients and that there is a constant.\n",
        "\n",
        "### Nondimensionalize polynomial\n",
        "- Generate many polynomials, nondimensionalize, compare numerically-solved roots to check they are the same (but scaled)????????????"
      ],
      "metadata": {
        "id": "JPKzUMHDeGbO"
      }
    },
    {
      "cell_type": "code",
      "source": [
        "def test_generate(max_degree, num_terms, coeff_bounds):\n",
        "  # Test 100 different runs of the function\n",
        "  for i in range(100):\n",
        "    # Solve\n",
        "    coeffs = generate_polynomial(max_degree=max_degree, num_terms=num_terms, coeff_bounds=coeff_bounds)\n",
        "    # Check length of array\n",
        "    assert len(coeffs) == max_degree + 1\n",
        "    # Check number of terms\n",
        "    assert len([x for x in coeffs if x != 0]) == num_terms\n",
        "    # Check for nonzero constant term\n",
        "    assert coeffs[-1] != 0\n",
        "    # Check that coeff bounds are correct\n",
        "    all(coeff_bounds[0] <= x <= coeff_bounds[1] for x in coeffs)\n",
        "  print(\"All tests passed! (Generate polynomial function)\")"
      ],
      "metadata": {
        "id": "DVLfh7my3A4t"
      },
      "execution_count": null,
      "outputs": []
    },
    {
      "cell_type": "code",
      "source": [
        "# Parameters\n",
        "max_degree = 10\n",
        "num_terms = 3\n",
        "coeff_bounds=[-10,10]\n",
        "\n",
        "# Run tests\n",
        "test_generate(max_degree, num_terms, coeff_bounds)"
      ],
      "metadata": {
        "colab": {
          "base_uri": "https://localhost:8080/"
        },
        "id": "q8HyZMj7mJZp",
        "outputId": "982aa554-f772-443b-e42d-baa152ab040b"
      },
      "execution_count": null,
      "outputs": [
        {
          "output_type": "stream",
          "name": "stdout",
          "text": [
            "All tests passed! (Generate polynomial function)\n"
          ]
        }
      ]
    },
    {
      "cell_type": "code",
      "source": [],
      "metadata": {
        "id": "Lemzm8JRmZNn"
      },
      "execution_count": null,
      "outputs": []
    }
  ]
}