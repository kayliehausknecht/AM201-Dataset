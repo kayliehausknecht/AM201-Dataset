{
  "nbformat": 4,
  "nbformat_minor": 0,
  "metadata": {
    "colab": {
      "provenance": [],
      "collapsed_sections": [
        "8byWt2jDpi97"
      ]
    },
    "kernelspec": {
      "name": "python3",
      "display_name": "Python 3"
    },
    "language_info": {
      "name": "python"
    }
  },
  "cells": [
    {
      "cell_type": "code",
      "source": [
        "# Imports\n",
        "import numpy as np\n",
        "from sympy import symbols, solve, Poly, simplify, latex, Rational, init_printing\n",
        "import random\n",
        "import cmath\n",
        "import pandas as pd\n",
        "from tqdm import tqdm\n",
        "\n",
        "init_printing(use_latex=True)\n",
        "from io import StringIO"
      ],
      "metadata": {
        "id": "kH1dAP5utJWO"
      },
      "execution_count": 2,
      "outputs": []
    },
    {
      "cell_type": "markdown",
      "source": [
        "---\n",
        "# Problem type 1: Nondimensionalization of a polynomial with random powers (symbolic answer)\n",
        "\n",
        "For our first type of problem, we choose to do nondimensionalization problems of the format $a_1 x^{n_1} + a_2 x^{n_2} + a_3$ where $n_1 > n_2$\n",
        "\n",
        "\n",
        "The expected form of the final answer will be $\\epsilon y^{n_1} + y^{n_2} + 1$"
      ],
      "metadata": {
        "id": "R379Ls_MKQNZ"
      }
    },
    {
      "cell_type": "code",
      "source": [
        "# Generates two numbers n1, n2 < max_degree where n1 < n2\n",
        "def generate_n1n2(max_degree):\n",
        "    \"\"\"\n",
        "    Inputs:\n",
        "    max_degree (int): Maximum possible degree of polynomial\n",
        "\n",
        "    Outputs:\n",
        "    n1 (int): Degree of polynomial\n",
        "    n2 (int): Second largest power of polynomial\n",
        "    \"\"\"\n",
        "    n2 = random.randint(1, max_degree - 1)\n",
        "    n1 = random.randint(n2 + 1, max_degree)\n",
        "    return n1, n2"
      ],
      "metadata": {
        "id": "6yk8GW9VMhLg"
      },
      "execution_count": 3,
      "outputs": []
    },
    {
      "cell_type": "code",
      "source": [
        "# Solves nondimensionalization problem given n1, n2\n",
        "def nondimensionalize_polynomial1(n1, n2):\n",
        "    \"\"\"\n",
        "    Inputs:\n",
        "    n1 (int): Degree of polynomial\n",
        "    n2 (int): Second largest power of polynomial\n",
        "\n",
        "    Outputs:\n",
        "    question (string): Latex for problem\n",
        "    answer (string): Latex for answer\n",
        "    \"\"\"\n",
        "    # Define sympy symbols\n",
        "    x, y, a1, a2, a3, epsilon = symbols('x y a_1 a_2 a_3 epsilon')\n",
        "\n",
        "    # Generate sympy polynomial a1*x^n1 + a2*x^n2 + a3\n",
        "    n1r, n2r = Rational(n1), Rational(n2)\n",
        "    polynomial_x = a1 * x**n1r + a2 * x**n2r + a3\n",
        "\n",
        "    # Define x = (a/b)y\n",
        "    x_sub = ((a3/a2)**Rational(1/n2r)) * y\n",
        "\n",
        "    # Substitute\n",
        "    polynomial_y = polynomial_x.subs(x, x_sub).expand()\n",
        "    # polynomial_y = polynomial_y.subs(x, y).expand()\n",
        "\n",
        "    # Simplify before dividing by a3\n",
        "    simplified_polynomial = polynomial_y / a3\n",
        "\n",
        "    # Further simplify the expression\n",
        "    final_simplified_polynomial = simplify(simplified_polynomial)\n",
        "\n",
        "    # Return question and answer\n",
        "    question = \"\"\n",
        "    answer = \"\"\n",
        "\n",
        "    question += \"Nondimensionalize the following polynomial\"\n",
        "    question += \"\\[\" + latex(polynomial_x) + \"\\]\"\n",
        "    question += f\"into one of the form $\\epsilon y^{{{n1}}} + y^{{{n2}}} + 1$\"\n",
        "\n",
        "    answer += \"Start with the following substitution:\"\n",
        "    answer += \"\\[\" + \"x=\" + latex(x_sub) + \"\\]\"\n",
        "\n",
        "    answer += \"\\nThis gives us the following expression:\"\n",
        "    answer += \"\\[\" + latex(polynomial_y) + \"\\]\"\n",
        "\n",
        "    answer += \"\\nDivide by the coefficient remaining in front of the constant, giving us the nondimensionalized polynomial with coefficients in terms of $a_1, a_2, a_3$:\"\n",
        "    answer += \"\\[ \\\\boxed{\" + latex(final_simplified_polynomial) + \"}\\]\"\n",
        "\n",
        "    return question, answer"
      ],
      "metadata": {
        "id": "RGvYUAj6OyRY"
      },
      "execution_count": 110,
      "outputs": []
    },
    {
      "cell_type": "code",
      "source": [
        "# n1, n2 = generate_n1n2(max_degree=10)\n",
        "# question, answer = nondimensionalize_polynomial1(n1, n2)\n",
        "\n",
        "question, answer = nondimensionalize_polynomial1(n1=10, n2=4) # Problem from hw1 to check\n",
        "\n",
        "print(question)\n",
        "print(answer)"
      ],
      "metadata": {
        "colab": {
          "base_uri": "https://localhost:8080/"
        },
        "id": "n_UH3egzQTcs",
        "outputId": "cefa29ce-b376-46cf-c777-fc538756cdc2"
      },
      "execution_count": 14,
      "outputs": [
        {
          "output_type": "stream",
          "name": "stdout",
          "text": [
            "\n",
            "Nondimensionalize the following polynomial\\[a_{1} x^{10} + a_{2} x^{4} + a_{3}\\]into one of the form $\\epsilon y^{10} + y^{4} + 1$\n",
            "\n",
            "Start with the following substitution:\\[x=y \\sqrt[4]{\\frac{a_{3}}{a_{2}}}\\]\n",
            "This gives us the following expression:\\[a_{1} y^{10} \\left(\\frac{a_{3}}{a_{2}}\\right)^{\\frac{5}{2}} + a_{3} y^{4} + a_{3}\\]\n",
            "Divide by the coefficient remaining in front of the constant, giving us the nondimensionalized polynomial with coefficients in terms of $a_1, a_2, a_3$:\\[ \\boxed{\\frac{a_{1} y^{10} \\left(\\frac{a_{3}}{a_{2}}\\right)^{\\frac{5}{2}}}{a_{3}} + y^{4} + 1}\\]\n"
          ]
        }
      ]
    },
    {
      "cell_type": "markdown",
      "source": [
        "---\n",
        "# Problem type 2: Nondimensionalization of a polynomial with random powers AND coefficients\n",
        "\n",
        "The second type of problem is the same as the first, but with a random polynomial (coefficients provided instead of a1, a2, and a3, can also be +/-). The goal is then to nondimensionalize it in the same way, and solve for the value of epsilon."
      ],
      "metadata": {
        "id": "OS7La_9EKN6G"
      }
    },
    {
      "cell_type": "code",
      "execution_count": 17,
      "metadata": {
        "id": "CpFnqvbgo19g"
      },
      "outputs": [],
      "source": [
        "# Generates a list of coefficients corresponding to a random polynomial\n",
        "def generate_polynomial(max_degree, num_terms, coeff_bounds):\n",
        "    \"\"\"\n",
        "    Inputs:\n",
        "    max_degree (int): The maximum degree of the polynomial.\n",
        "    num_terms (int)\n",
        "    coeff_bounds (tuple): (lower bound, upper bound)\n",
        "\n",
        "    Outputs:\n",
        "    coefficients (list)\n",
        "    \"\"\"\n",
        "    # Initialize array of coeffs\n",
        "    coefficients = [0] * (max_degree + 1)\n",
        "    # Check number of terms\n",
        "    if num_terms > max_degree + 1:\n",
        "        raise ValueError(\"Number of terms cannot be more than the degree of the polynomial + 1\")\n",
        "    # Randomly choose positions for the (#) non-zero coefficients\n",
        "    non_zero_positions = random.sample(range(max_degree), num_terms - 1)\n",
        "    # Assign random values within the bounds to the chosen positions\n",
        "    for pos in non_zero_positions:\n",
        "        # Loop to make sure it is nonzero bc selecting from [-, +] includes 0\n",
        "        while coefficients[pos] is None or coefficients[pos] == 0:\n",
        "          coefficients[pos] = random.randint(coeff_bounds[0], coeff_bounds[1])\n",
        "    # Ensure the highest degree term is non-zero\n",
        "    if coefficients[-1] == 0:\n",
        "        # While loop until it is nonzero\n",
        "        while coefficients[-1] is None or coefficients[-1] == 0:\n",
        "          coefficients[-1] = random.randint(coeff_bounds[0], coeff_bounds[1])\n",
        "\n",
        "    return coefficients"
      ]
    },
    {
      "cell_type": "code",
      "source": [
        "# Test function\n",
        "coefficients = generate_polynomial(max_degree=10, num_terms=3, coeff_bounds=[-10,10])\n",
        "coefficients"
      ],
      "metadata": {
        "colab": {
          "base_uri": "https://localhost:8080/",
          "height": 37
        },
        "id": "66NploIOL9A9",
        "outputId": "8e03a162-b80c-4013-cc70-e5184b1896b3"
      },
      "execution_count": 69,
      "outputs": [
        {
          "output_type": "execute_result",
          "data": {
            "text/plain": [
              "[0, 1, 0, 0, 0, 0, -10, 0, 0, 0, -8]"
            ],
            "text/latex": "$\\displaystyle \\left[ 0, \\  1, \\  0, \\  0, \\  0, \\  0, \\  -10, \\  0, \\  0, \\  0, \\  -8\\right]$"
          },
          "metadata": {},
          "execution_count": 69
        }
      ]
    },
    {
      "cell_type": "code",
      "source": [
        "# Helper function to convert list of coefficients into a sympy expression\n",
        "def sympy_polynomial_from_coefficients(coefficients):\n",
        "    \"\"\"\n",
        "    Inputs:\n",
        "    coefficients (list): A list of coefficients, where the index represents the power of x.\n",
        "\n",
        "    Outputs:\n",
        "    polynomial (sympy expression): The polynomial expression.\n",
        "    \"\"\"\n",
        "    x = symbols('x')\n",
        "    coefficients_reverse = coefficients\n",
        "    coefficients_reverse.reverse()\n",
        "    polynomial = sum(coef * x**i for i, coef in enumerate(coefficients_reverse))\n",
        "    return polynomial"
      ],
      "metadata": {
        "id": "gCkUA1Wy9IKU"
      },
      "execution_count": 37,
      "outputs": []
    },
    {
      "cell_type": "code",
      "source": [
        "# Test helper function\n",
        "sympy_polynomial_from_coefficients(coefficients)"
      ],
      "metadata": {
        "colab": {
          "base_uri": "https://localhost:8080/",
          "height": 39
        },
        "id": "AZe_xTpg9fft",
        "outputId": "2c834c9c-0f2b-4def-894c-318f0ea506d8"
      },
      "execution_count": 39,
      "outputs": [
        {
          "output_type": "execute_result",
          "data": {
            "text/plain": [
              "     10      4      2\n",
              "- 6⋅x   - 6⋅x  - 3⋅x "
            ],
            "text/latex": "$\\displaystyle - 6 x^{10} - 6 x^{4} - 3 x^{2}$"
          },
          "metadata": {},
          "execution_count": 39
        }
      ]
    },
    {
      "cell_type": "code",
      "source": [
        "# Solves nondimensionalization problem given coefficients\n",
        "def nondimensionalize_polynomial2(coefficients):\n",
        "    \"\"\"\n",
        "    Inputs:\n",
        "    coefficients (list): The list of coefficients\n",
        "\n",
        "    Outputs:\n",
        "    question (string): Latex for problem\n",
        "    answer (string): Latex for answer\n",
        "    \"\"\"\n",
        "    question = \"\"\n",
        "    answer = \"\"\n",
        "\n",
        "    # Find nonzero coefficients & powers in the format [(coefficient, power)]\n",
        "    nonzero_coeffs = [(coeff, len(coefficients) - idx - 1) for idx, coeff in enumerate(coefficients) if coeff != 0]\n",
        "    # Find largest, second largest powers\n",
        "    sorted_coeffs = sorted(nonzero_coeffs, key=lambda x: x[1], reverse=True)\n",
        "    n1 = sorted_coeffs[0][1]\n",
        "    n2 = sorted_coeffs[1][1]\n",
        "    sign1 = np.sign(nonzero_coeffs[0][0])\n",
        "    sign2 = np.sign(nonzero_coeffs[1][0])\n",
        "    sign3 = np.sign(nonzero_coeffs[2][0])\n",
        "    a1_absvalue = abs(nonzero_coeffs[0][0])\n",
        "    a2_absvalue = abs(nonzero_coeffs[1][0])\n",
        "    a3_absvalue = abs(nonzero_coeffs[2][0])\n",
        "\n",
        "    # Debugging delete later\n",
        "    print(n1, n2)\n",
        "    print(sign1, sign2, sign3)\n",
        "    print(a1_absvalue, a2_absvalue, a3_absvalue)\n",
        "\n",
        "    # Define sympy symbols\n",
        "    x, y, a1, a2, a3, epsilon = symbols('x y a_1 a_2 a_3 epsilon')\n",
        "\n",
        "    # Generate sympy polynomial a1*x^n1 + a2*x^n2 + a3\n",
        "    n1r, n2r = Rational(n1), Rational(n2)\n",
        "    polynomial_x = sign1*a1 * x**n1r + sign2*a2 * x**n2r + sign3*a3 # included signs\n",
        "\n",
        "    answer += \"\\nSet aside the coefficient values and use $a_1, a_2, a_3$ for now. Our polynomial is then:\"\n",
        "    answer += \"\\[\" + latex(polynomial_x) + \"\\]\"\n",
        "\n",
        "    # Branching for if first coefficient is negative\n",
        "    if sign1 < 0:\n",
        "        polynomial_x *= (-1)\n",
        "        answer += \"\\nSince the first coefficient is negative, we multiply the entire expression by -1:\"\n",
        "        answer += \"\\[\" + latex(polynomial_x) + \"\\]\"\n",
        "\n",
        "    # Define x = (a/b)y\n",
        "    x_sub = ((a3/a2)**Rational(1/n2r)) * y\n",
        "\n",
        "    # Substitute\n",
        "    polynomial_y = polynomial_x.subs(x, x_sub).expand()\n",
        "\n",
        "    # Simplify before dividing by a3\n",
        "    simplified_polynomial = polynomial_y / a3\n",
        "\n",
        "    # Further simplify the expression\n",
        "    final_simplified_polynomial = simplify(simplified_polynomial)\n",
        "\n",
        "    # Substitute know values for a1, a2, a3\n",
        "    final_simplified_polynomial_subs = final_simplified_polynomial.subs([(a1, a1_absvalue), (a2, a2_absvalue), (a3, a3_absvalue)]).simplify()\n",
        "\n",
        "    # Find value of epsilon\n",
        "    epsilon_value = list(final_simplified_polynomial_subs.expand().args)[::-1][0] / (y**n1)\n",
        "\n",
        "    # Return question and answer\n",
        "    question += \"Nondimensionalize the following polynomial\"\n",
        "    question += \"\\[\" + latex(sympy_polynomial_from_coefficients(coefficients)) + \"\\]\"\n",
        "    question += f\"into one of the form $\\epsilon y^{{{n1}}} \\pm y^{{{n2}}} \\pm 1$. Solve for epsilon.\"\n",
        "\n",
        "    answer += \"Use the following substitution:\"\n",
        "    answer += \"\\[\" + \"x=\" + latex(x_sub) + \"\\]\"\n",
        "\n",
        "    answer += \"\\nThis gives us the following expression:\"\n",
        "    answer += \"\\[\" + latex(polynomial_y) + \"\\]\"\n",
        "\n",
        "    answer += \"\\nDivide by the coefficient remaining in front of the constant, giving us the nondimensionalized polynomial with coefficients in terms of $a_1, a_2, a_3$:\"\n",
        "    answer += \"\\[\" + latex(final_simplified_polynomial) + \"\\]\"\n",
        "\n",
        "    answer += \"\\nSubstituting the known values for $a_1, a_2, a_3$ (absolute values as we already accounted for sign):\"\n",
        "    answer += \"\\[\" + latex(final_simplified_polynomial_subs) + \"\\]\"\n",
        "\n",
        "    answer += \"\\nFrom inspection of our nondimensionalized equation, we can identify $\\epsilon$:\"\n",
        "    answer += \"\\[ \\\\boxed{\\epsilon=\" + latex(epsilon_value) + \"}\" + f\"\\\\approx{epsilon_value.evalf():.2f} \\]\"\n",
        "\n",
        "    return question, answer"
      ],
      "metadata": {
        "id": "Xe15pab-lT9z"
      },
      "execution_count": 111,
      "outputs": []
    },
    {
      "cell_type": "code",
      "source": [
        "print(coefficients)\n",
        "question, answer = nondimensionalize_polynomial2(coefficients)\n",
        "\n",
        "print(question)\n",
        "print(answer)"
      ],
      "metadata": {
        "colab": {
          "base_uri": "https://localhost:8080/"
        },
        "id": "JJYXVXLqme0h",
        "outputId": "d2d9c47d-3fe7-4bbe-f046-9e463dbce7a0"
      },
      "execution_count": 95,
      "outputs": [
        {
          "output_type": "stream",
          "name": "stdout",
          "text": [
            "[-8, 0, 0, 0, -10, 0, 0, 0, 0, 1, 0]\n",
            "10 6\n",
            "-1 -1 1\n",
            "8 10 1\n",
            "\n",
            "Nondimensionalize the following polynomial\\[- 8 x^{10} - 10 x^{6} + x\\]into one of the form $\\epsilon y^{10} \\pm y^{6} \\pm 1$. Solve for epsilon.\n",
            "\n",
            "Set aside the coefficient values and use $a_1, a_2, a_3$ for now. Our polynomial is then:\\[- a_{1} x^{10} - a_{2} x^{6} + a_{3}\\]\n",
            "Since the first coefficient is negative, we multiply the entire expression by -1:\\[a_{1} x^{10} + a_{2} x^{6} - a_{3}\\]\n",
            "Use the following substitution:\\[x=y \\sqrt[6]{\\frac{a_{3}}{a_{2}}}\\]\n",
            "This gives us the following expression:\\[a_{1} y^{10} \\left(\\frac{a_{3}}{a_{2}}\\right)^{\\frac{5}{3}} + a_{3} y^{6} - a_{3}\\]\n",
            "Divide by the coefficient remaining in front of the constant, giving us the nondimensionalized polynomial with coefficients in terms of $a_1, a_2, a_3$:\\[\\frac{a_{1} y^{10} \\left(\\frac{a_{3}}{a_{2}}\\right)^{\\frac{5}{3}}}{a_{3}} + y^{6} - 1\\]\n",
            "Substituting the known values for $a_1, a_2, a_3$ (absolute values as we already accounted for sign):\\[\\frac{2 \\cdot \\sqrt[3]{10} y^{10}}{25} + y^{6} - 1\\]\n",
            "From inspection of our nondimensionalized equation, we can identify $\\epsilon$:\\[ \\boxed{\\epsilon=\\frac{2 \\cdot \\sqrt[3]{10}}{25}}\\approx0.17 \\]\n"
          ]
        }
      ]
    },
    {
      "cell_type": "markdown",
      "source": [
        "---\n",
        "# Problem type 3: Solving for roots\n",
        "\n",
        "Given a nondimensionalized problem of form\n",
        "$\\epsilon x^{n_1} \\pm x^{n_2} \\pm 1$ where $n_1 > n_2$, find the roots in terms of epsilon (using dominant balances) for both large and small $\\epsilon$."
      ],
      "metadata": {
        "id": "fWL587NCU6yB"
      }
    },
    {
      "cell_type": "code",
      "source": [
        "# Generates nondimensionalized polynomial of the form described above\n",
        "def generate_nondimensionalized(max_n1):\n",
        "    \"\"\"\n",
        "    Inputs:\n",
        "    max_n1 (int): Maximum power in polynomial\n",
        "\n",
        "    Outputs:\n",
        "    polynomial (sympy expression): Nondimensionalized random polynomial of the given format\n",
        "    \"\"\"\n",
        "    # Ensure max_n1 is at least 2\n",
        "    if max_n1 < 2:\n",
        "        raise ValueError(\"max_n1 must be at least 2\")\n",
        "\n",
        "    # Randomly choose n1 and n2\n",
        "    n1 = random.randint(2, max_n1)\n",
        "    n2 = random.randint(1, n1 - 1)\n",
        "    # Randomly choose signs\n",
        "    signs = random.choices([-1, 1], k=2)\n",
        "\n",
        "    # Construct polynomial, let first term always be + since same as negating if negative\n",
        "    x = symbols('x')\n",
        "    epsilon = symbols('epsilon')\n",
        "    polynomial = epsilon * x**n1 + signs[0] * x**n2 + signs[1]\n",
        "\n",
        "    # Return\n",
        "    return polynomial"
      ],
      "metadata": {
        "id": "A8N4DAsauXm3"
      },
      "execution_count": 102,
      "outputs": []
    },
    {
      "cell_type": "code",
      "source": [
        "# Example usage of random polynomial generator\n",
        "polynomial = generate_nondimensionalized(10)\n",
        "display(polynomial)"
      ],
      "metadata": {
        "colab": {
          "base_uri": "https://localhost:8080/",
          "height": 39
        },
        "id": "QXP2_CG5uaBQ",
        "outputId": "5ad94f4c-fa3e-4856-c40c-35c7b4b7627a"
      },
      "execution_count": 108,
      "outputs": [
        {
          "output_type": "display_data",
          "data": {
            "text/plain": [
              "   10    5    \n",
              "ε⋅x   - x  - 1"
            ],
            "text/latex": "$\\displaystyle \\epsilon x^{10} - x^{5} - 1$"
          },
          "metadata": {}
        }
      ]
    },
    {
      "cell_type": "code",
      "source": [
        "# Function to solve for roots of nondimensionalized polynomial\n",
        "def solve_roots(polynomial):\n",
        "    \"\"\"\n",
        "    Inputs:\n",
        "    polynomial (sympy expression): The nondimensionalized polynomial\n",
        "\n",
        "    Outputs:\n",
        "    question (string): Latex for problem\n",
        "    answer (string): Latex for answer\n",
        "    \"\"\"\n",
        "    # Extract terms and solve\n",
        "    x, epsilon = symbols('x epsilon')\n",
        "    terms = list(polynomial.expand().args)[::-1]\n",
        "    A, B, C = terms[0], terms[1], terms[2]\n",
        "    sol_ab = [simplify(sol) for sol in solve(A + B, x)]\n",
        "    sol_bc = [simplify(sol) for sol in solve(B + C, x)]\n",
        "    sol_ac = [simplify(sol) for sol in solve(A + C, x)]\n",
        "\n",
        "    # Remove extraneous root 0 that shows up - bc it never occurs in this problem formulation\n",
        "    # Helper function to remove zeros\n",
        "    def remove_zeros(sol_list):\n",
        "        while 0 in sol_list:\n",
        "            sol_list.remove(0)\n",
        "    remove_zeros(sol_ab)\n",
        "    remove_zeros(sol_bc)\n",
        "    remove_zeros(sol_ac)\n",
        "\n",
        "    # Check dominant balances to see if roots belong to small or large epsilon regimes\n",
        "    AB_valid_small_eps = (abs(A.subs(x, sol_ab[0]).subs(epsilon, 0.0001)) > abs(C.subs(x, sol_ab[0]).subs(epsilon, 0.001))) # A,B >> C small eps\n",
        "    AB_valid_large_eps = (abs(A.subs(x, sol_ab[0]).subs(epsilon, 10000)) > abs(C.subs(x, sol_ab[0]).subs(epsilon, 1000))) # A,B >> C large eps\n",
        "\n",
        "    BC_valid_small_eps = (abs(B.subs(x, sol_bc[0]).subs(epsilon, 0.0001)) > abs(A.subs(x, sol_bc[0]).subs(epsilon, 0.001))) # B,C >> A small eps\n",
        "    BC_valid_large_eps = (abs(B.subs(x, sol_bc[0]).subs(epsilon, 10000)) > abs(A.subs(x, sol_bc[0]).subs(epsilon, 1000))) # B,C >> A large eps\n",
        "\n",
        "    AC_valid_small_eps = (abs(A.subs(x, sol_ac[0]).subs(epsilon, 0.0001)) > abs(B.subs(x, sol_ac[0]).subs(epsilon, 0.001))) # A,C >> B small eps\n",
        "    AC_valid_large_eps = (abs(A.subs(x, sol_ac[0]).subs(epsilon, 10000)) > abs(B.subs(x, sol_ac[0]).subs(epsilon, 1000))) # A,C >> B large eps\n",
        "\n",
        "\n",
        "    # Return answers\n",
        "    question = \"\"\n",
        "    answer = \"\"\n",
        "\n",
        "\n",
        "\n",
        "    return question, answer\n",
        "\n",
        "    # print(\"AB valid for small epsilon:\", AB_valid_small_eps)\n",
        "    # print(\"AB valid for large epsilon:\", AB_valid_large_eps)\n",
        "    # print(\"BC valid for small epsilon:\", BC_valid_small_eps)\n",
        "    # print(\"BC valid for large epsilon:\", BC_valid_large_eps)\n",
        "    # print(\"AC valid for small epsilon:\", AC_valid_small_eps)\n",
        "    # print(\"AC valid for large epsilon:\", AC_valid_large_eps)\n",
        "    # print(\"\\n\")\n",
        "\n",
        "    # TODO (optional): Figure out how to go backwards from multiple complex roots/roots of unity to simpler format (e.g. 1/eps**5)\n",
        "\n",
        "    # # Display results\n",
        "    # print(\"polynomial:\")\n",
        "    # display(polynomial)\n",
        "    # print(\"\\n\")\n",
        "\n",
        "    # print(\"Balance A, B | \", len(sol_ab), \"roots\")\n",
        "    # display(sol_ab)\n",
        "    # print(\"\\n\")\n",
        "\n",
        "    # print(\"Balance B, C | \", len(sol_bc), \"roots\")\n",
        "    # display(sol_bc)\n",
        "    # print(\"\\n\")\n",
        "\n",
        "    # print(\"Balance A, C | \", len(sol_ac), \"roots\")\n",
        "    # display(sol_ac)\n",
        "    # print(\"\\n\")"
      ],
      "metadata": {
        "id": "2yTyXOqvvfWd"
      },
      "execution_count": null,
      "outputs": []
    },
    {
      "cell_type": "code",
      "source": [
        "# Extract terms and solve\n",
        "x, epsilon = symbols('x epsilon')\n",
        "terms = list(polynomial.expand().args)[::-1]\n",
        "A, B, C = terms[0], terms[1], terms[2]\n",
        "sol_ab = [simplify(sol) for sol in solve(A + B, x)]\n",
        "sol_bc = [simplify(sol) for sol in solve(B + C, x)]\n",
        "sol_ac = [simplify(sol) for sol in solve(A + C, x)]\n",
        "\n",
        "# Remove extraneous root 0 that shows up - bc it never occurs in this problem formulation\n",
        "# Helper function to remove zeros\n",
        "def remove_zeros(sol_list):\n",
        "    while 0 in sol_list:\n",
        "        sol_list.remove(0)\n",
        "remove_zeros(sol_ab)\n",
        "remove_zeros(sol_bc)\n",
        "remove_zeros(sol_ac)\n",
        "\n",
        "# Check dominant balances to see if roots belong to small or large epsilon regimes\n",
        "AB_valid_small_eps = (abs(A.subs(x, sol_ab[0]).subs(epsilon, 0.0001)) > abs(C.subs(x, sol_ab[0]).subs(epsilon, 0.001))) # A,B >> C small eps\n",
        "AB_valid_large_eps = (abs(A.subs(x, sol_ab[0]).subs(epsilon, 10000)) > abs(C.subs(x, sol_ab[0]).subs(epsilon, 1000))) # A,B >> C large eps\n",
        "\n",
        "BC_valid_small_eps = (abs(B.subs(x, sol_bc[0]).subs(epsilon, 0.0001)) > abs(A.subs(x, sol_bc[0]).subs(epsilon, 0.001))) # B,C >> A small eps\n",
        "BC_valid_large_eps = (abs(B.subs(x, sol_bc[0]).subs(epsilon, 10000)) > abs(A.subs(x, sol_bc[0]).subs(epsilon, 1000))) # B,C >> A large eps\n",
        "\n",
        "AC_valid_small_eps = (abs(A.subs(x, sol_ac[0]).subs(epsilon, 0.0001)) > abs(B.subs(x, sol_ac[0]).subs(epsilon, 0.001))) # A,C >> B small eps\n",
        "AC_valid_large_eps = (abs(A.subs(x, sol_ac[0]).subs(epsilon, 10000)) > abs(B.subs(x, sol_ac[0]).subs(epsilon, 1000))) # A,C >> B large eps\n",
        "\n",
        "print(\"AB valid for small epsilon:\", AB_valid_small_eps)\n",
        "print(\"AB valid for large epsilon:\", AB_valid_large_eps)\n",
        "print(\"BC valid for small epsilon:\", BC_valid_small_eps)\n",
        "print(\"BC valid for large epsilon:\", BC_valid_large_eps)\n",
        "print(\"AC valid for small epsilon:\", AC_valid_small_eps)\n",
        "print(\"AC valid for large epsilon:\", AC_valid_large_eps)\n",
        "print(\"\\n\")\n",
        "\n",
        "# TODO (optional): Figure out how to go backwards from multiple complex roots/roots of unity to simpler format (e.g. 1/eps**5)\n",
        "\n",
        "# Display results\n",
        "print(\"polynomial:\")\n",
        "display(polynomial)\n",
        "print(\"\\n\")\n",
        "\n",
        "print(\"Balance A, B | \", len(sol_ab), \"roots\")\n",
        "display(sol_ab)\n",
        "print(\"\\n\")\n",
        "\n",
        "print(\"Balance B, C | \", len(sol_bc), \"roots\")\n",
        "display(sol_bc)\n",
        "print(\"\\n\")\n",
        "\n",
        "print(\"Balance A, C | \", len(sol_ac), \"roots\")\n",
        "display(sol_ac)\n",
        "print(\"\\n\")"
      ],
      "metadata": {
        "colab": {
          "base_uri": "https://localhost:8080/",
          "height": 609
        },
        "id": "dlBYGzjPvL21",
        "outputId": "645a5d08-7d89-4910-9d78-d8242f6f0201"
      },
      "execution_count": 109,
      "outputs": [
        {
          "output_type": "stream",
          "name": "stdout",
          "text": [
            "AB valid for small epsilon: True\n",
            "AB valid for large epsilon: False\n",
            "BC valid for small epsilon: True\n",
            "BC valid for large epsilon: False\n",
            "AC valid for small epsilon: False\n",
            "AC valid for large epsilon: True\n",
            "\n",
            "\n",
            "polynomial:\n"
          ]
        },
        {
          "output_type": "display_data",
          "data": {
            "text/plain": [
              "   10    5    \n",
              "ε⋅x   - x  - 1"
            ],
            "text/latex": "$\\displaystyle \\epsilon x^{10} - x^{5} - 1$"
          },
          "metadata": {}
        },
        {
          "output_type": "stream",
          "name": "stdout",
          "text": [
            "\n",
            "\n",
            "Balance A, B |  5 roots\n"
          ]
        },
        {
          "output_type": "display_data",
          "data": {
            "text/plain": [
              "⎡                               ___                                 ___       \n",
              "⎢⎛               _________⎞    ╱ 1   ⎛               _________⎞    ╱ 1   ⎛    \n",
              "⎢⎝-√5 - 1 - √2⋅╲╱ -5 + √5 ⎠⋅5 ╱  ─   ⎝-√5 - 1 + √2⋅╲╱ -5 + √5 ⎠⋅5 ╱  ─   ⎝-1 +\n",
              "⎢                           ╲╱   ε                              ╲╱   ε        \n",
              "⎢──────────────────────────────────, ──────────────────────────────────, ─────\n",
              "⎣                4                                   4                        \n",
              "\n",
              "                          ___                                 ___         ⎤\n",
              "           _________⎞    ╱ 1   ⎛               _________⎞    ╱ 1          ⎥\n",
              " √5 - √2⋅╲╱ -5 - √5 ⎠⋅5 ╱  ─   ⎝-1 + √5 + √2⋅╲╱ -5 - √5 ⎠⋅5 ╱  ─       ___⎥\n",
              "                      ╲╱   ε                              ╲╱   ε      ╱ 1 ⎥\n",
              "─────────────────────────────, ──────────────────────────────────, 5 ╱  ─ ⎥\n",
              "           4                                   4                   ╲╱   ε ⎦"
            ],
            "text/latex": "$\\displaystyle \\left[ \\frac{\\left(- \\sqrt{5} - 1 - \\sqrt{2} \\sqrt{-5 + \\sqrt{5}}\\right) \\sqrt[5]{\\frac{1}{\\epsilon}}}{4}, \\  \\frac{\\left(- \\sqrt{5} - 1 + \\sqrt{2} \\sqrt{-5 + \\sqrt{5}}\\right) \\sqrt[5]{\\frac{1}{\\epsilon}}}{4}, \\  \\frac{\\left(-1 + \\sqrt{5} - \\sqrt{2} \\sqrt{-5 - \\sqrt{5}}\\right) \\sqrt[5]{\\frac{1}{\\epsilon}}}{4}, \\  \\frac{\\left(-1 + \\sqrt{5} + \\sqrt{2} \\sqrt{-5 - \\sqrt{5}}\\right) \\sqrt[5]{\\frac{1}{\\epsilon}}}{4}, \\  \\sqrt[5]{\\frac{1}{\\epsilon}}\\right]$"
          },
          "metadata": {}
        },
        {
          "output_type": "stream",
          "name": "stdout",
          "text": [
            "\n",
            "\n",
            "Balance B, C |  5 roots\n"
          ]
        },
        {
          "output_type": "display_data",
          "data": {
            "text/plain": [
              "⎡               ____________                 ____________       ___________   \n",
              "⎢    1   √5   ╲╱ -10 + 2⋅√5     √5   1   ⅈ⋅╲╱ 50 - 10⋅√5    ⅈ⋅╲╱ 10 - 2⋅√5   1\n",
              "⎢-1, ─ + ── + ──────────────, - ── + ─ - ──────────────── - ───────────────, ─\n",
              "⎣    4   4          4           4    4          8                  8         4\n",
              "\n",
              "            ____________       ___________       ___________       ___________\n",
              "   √5   ⅈ⋅╲╱ 10⋅√5 + 50    ⅈ⋅╲╱ 2⋅√5 + 10    ⅈ⋅╲╱ 10 - 2⋅√5    ⅈ⋅╲╱ 50 - 10⋅√5\n",
              " + ── - ──────────────── - ─────────────── - ─────────────── + ───────────────\n",
              "   4           16                 16                16                16      \n",
              "\n",
              "_               ____________     ____________     _____________     __________\n",
              "     √5   1   ╲╱ -10 + 2⋅√5    ╲╱ -10 - 2⋅√5    ╲╱ -50 + 10⋅√5    ╲╱ -50 - 10⋅\n",
              "─, - ── + ─ - ────────────── + ────────────── + ─────────────── + ────────────\n",
              "     4    4         16               16                16                16   \n",
              "\n",
              "___⎤\n",
              "√5 ⎥\n",
              "───⎥\n",
              "   ⎦"
            ],
            "text/latex": "$\\displaystyle \\left[ -1, \\  \\frac{1}{4} + \\frac{\\sqrt{5}}{4} + \\frac{\\sqrt{-10 + 2 \\sqrt{5}}}{4}, \\  - \\frac{\\sqrt{5}}{4} + \\frac{1}{4} - \\frac{i \\sqrt{50 - 10 \\sqrt{5}}}{8} - \\frac{i \\sqrt{10 - 2 \\sqrt{5}}}{8}, \\  \\frac{1}{4} + \\frac{\\sqrt{5}}{4} - \\frac{i \\sqrt{10 \\sqrt{5} + 50}}{16} - \\frac{i \\sqrt{2 \\sqrt{5} + 10}}{16} - \\frac{i \\sqrt{10 - 2 \\sqrt{5}}}{16} + \\frac{i \\sqrt{50 - 10 \\sqrt{5}}}{16}, \\  - \\frac{\\sqrt{5}}{4} + \\frac{1}{4} - \\frac{\\sqrt{-10 + 2 \\sqrt{5}}}{16} + \\frac{\\sqrt{-10 - 2 \\sqrt{5}}}{16} + \\frac{\\sqrt{-50 + 10 \\sqrt{5}}}{16} + \\frac{\\sqrt{-50 - 10 \\sqrt{5}}}{16}\\right]$"
          },
          "metadata": {}
        },
        {
          "output_type": "stream",
          "name": "stdout",
          "text": [
            "\n",
            "\n",
            "Balance A, C |  10 roots\n"
          ]
        },
        {
          "output_type": "display_data",
          "data": {
            "text/plain": [
              "⎡                               ___                                 ___       \n",
              "⎢⎛               _________⎞    ╱ 1   ⎛               _________⎞    ╱ 1   ⎛    \n",
              "⎢⎝-√5 - 1 - √2⋅╲╱ -5 + √5 ⎠⋅10╱  ─   ⎝-√5 - 1 + √2⋅╲╱ -5 + √5 ⎠⋅10╱  ─   ⎝-√5 \n",
              "⎢                           ╲╱   ε                              ╲╱   ε        \n",
              "⎢──────────────────────────────────, ──────────────────────────────────, ─────\n",
              "⎣                4                                   4                        \n",
              "\n",
              "                          ___                                 ___             \n",
              "           _________⎞    ╱ 1   ⎛               _________⎞    ╱ 1   ⎛          \n",
              "+ 1 - √2⋅╲╱ -5 - √5 ⎠⋅10╱  ─   ⎝-√5 + 1 + √2⋅╲╱ -5 - √5 ⎠⋅10╱  ─   ⎝-1 + √5 - \n",
              "                      ╲╱   ε                              ╲╱   ε              \n",
              "─────────────────────────────, ──────────────────────────────────, ───────────\n",
              "           4                                   4                              \n",
              "\n",
              "                    ___                                 ___                   \n",
              "     _________⎞    ╱ 1   ⎛               _________⎞    ╱ 1   ⎛              __\n",
              "√2⋅╲╱ -5 - √5 ⎠⋅10╱  ─   ⎝-1 + √5 + √2⋅╲╱ -5 - √5 ⎠⋅10╱  ─   ⎝1 + √5 - √2⋅╲╱ -\n",
              "                ╲╱   ε                              ╲╱   ε                    \n",
              "───────────────────────, ──────────────────────────────────, ─────────────────\n",
              "     4                                   4                                   4\n",
              "\n",
              "             ___                                ___                   ⎤\n",
              "_______⎞    ╱ 1   ⎛              _________⎞    ╱ 1                    ⎥\n",
              "5 + √5 ⎠⋅10╱  ─   ⎝1 + √5 + √2⋅╲╱ -5 + √5 ⎠⋅10╱  ─        ___      ___⎥\n",
              "         ╲╱   ε                             ╲╱   ε       ╱ 1      ╱ 1 ⎥\n",
              "────────────────, ─────────────────────────────────, -10╱  ─ , 10╱  ─ ⎥\n",
              "                                  4                   ╲╱   ε   ╲╱   ε ⎦"
            ],
            "text/latex": "$\\displaystyle \\left[ \\frac{\\left(- \\sqrt{5} - 1 - \\sqrt{2} \\sqrt{-5 + \\sqrt{5}}\\right) \\sqrt[10]{\\frac{1}{\\epsilon}}}{4}, \\  \\frac{\\left(- \\sqrt{5} - 1 + \\sqrt{2} \\sqrt{-5 + \\sqrt{5}}\\right) \\sqrt[10]{\\frac{1}{\\epsilon}}}{4}, \\  \\frac{\\left(- \\sqrt{5} + 1 - \\sqrt{2} \\sqrt{-5 - \\sqrt{5}}\\right) \\sqrt[10]{\\frac{1}{\\epsilon}}}{4}, \\  \\frac{\\left(- \\sqrt{5} + 1 + \\sqrt{2} \\sqrt{-5 - \\sqrt{5}}\\right) \\sqrt[10]{\\frac{1}{\\epsilon}}}{4}, \\  \\frac{\\left(-1 + \\sqrt{5} - \\sqrt{2} \\sqrt{-5 - \\sqrt{5}}\\right) \\sqrt[10]{\\frac{1}{\\epsilon}}}{4}, \\  \\frac{\\left(-1 + \\sqrt{5} + \\sqrt{2} \\sqrt{-5 - \\sqrt{5}}\\right) \\sqrt[10]{\\frac{1}{\\epsilon}}}{4}, \\  \\frac{\\left(1 + \\sqrt{5} - \\sqrt{2} \\sqrt{-5 + \\sqrt{5}}\\right) \\sqrt[10]{\\frac{1}{\\epsilon}}}{4}, \\  \\frac{\\left(1 + \\sqrt{5} + \\sqrt{2} \\sqrt{-5 + \\sqrt{5}}\\right) \\sqrt[10]{\\frac{1}{\\epsilon}}}{4}, \\  - \\sqrt[10]{\\frac{1}{\\epsilon}}, \\  \\sqrt[10]{\\frac{1}{\\epsilon}}\\right]$"
          },
          "metadata": {}
        },
        {
          "output_type": "stream",
          "name": "stdout",
          "text": [
            "\n",
            "\n"
          ]
        }
      ]
    },
    {
      "cell_type": "markdown",
      "source": [
        "### Save results to pandas dataframe, export to excel in desired format"
      ],
      "metadata": {
        "id": "VfRGHjKu_KcM"
      }
    },
    {
      "cell_type": "code",
      "source": [
        "# Number of desired problems\n",
        "n_problems = 10\n",
        "\n",
        "# Create empty dataframe\n",
        "df = pd.DataFrame(columns=['Question', 'Answer'])\n",
        "\n",
        "# Iterate once for each problem\n",
        "for i in tqdm(range(n_problems)):\n",
        "    # Generate new problem\n",
        "    coefficients = generate_polynomial(max_degree=10, num_terms=3, coeff_bounds=[-10,10])\n",
        "    # Solve new problem for new question, answer\n",
        "    new_question, new_answer = nondimensionalize_polynomial(coefficients)\n",
        "    # Add new question answer pair to data\n",
        "    row_df = pd.DataFrame({'Question': [new_question], 'Answer': [new_answer]})\n",
        "    df = pd.concat([df, row_df], ignore_index=True)\n",
        "\n",
        "# Save dataframe to excel file of specified format\n",
        "df.to_excel('polynomial_dataset.xlsx', index=False)"
      ],
      "metadata": {
        "id": "Is1lK_PF_oUn"
      },
      "execution_count": 200,
      "outputs": []
    },
    {
      "cell_type": "code",
      "source": [
        "sol_ac_noeps = []\n",
        "for i in range(len(sol_ac)):\n",
        "  sol_ac_noeps.append(sol_ac[i].subs(epsilon,1))"
      ],
      "metadata": {
        "id": "oUDkQG0-CzDN"
      },
      "execution_count": null,
      "outputs": []
    },
    {
      "cell_type": "code",
      "source": [
        "# Convert each root to its polar form and then express it using Euler's formula\n",
        "euler_forms = []\n",
        "for root in sol_ac_noeps:\n",
        "    magnitude, angle = cmath.polar(root)\n",
        "    euler_form = f\"{magnitude} * exp(i * {angle})\"\n",
        "    euler_forms.append(euler_form)\n",
        "euler_forms"
      ],
      "metadata": {
        "colab": {
          "base_uri": "https://localhost:8080/"
        },
        "id": "6lFMLq17CnjX",
        "outputId": "28986ca2-50d6-4d93-bdbd-319ae56cd498"
      },
      "execution_count": null,
      "outputs": [
        {
          "output_type": "execute_result",
          "data": {
            "text/plain": [
              "['1.0 * exp(i * 0.4487989505128276)',\n",
              " '1.0 * exp(i * -2.243994752564138)',\n",
              " '1.0 * exp(i * 3.141592653589793)',\n",
              " '1.0 * exp(i * -0.4487989505128276)',\n",
              " '1.0 * exp(i * 1.3463968515384828)',\n",
              " '1.0 * exp(i * -1.3463968515384828)',\n",
              " '1.0 * exp(i * 2.243994752564138)']"
            ]
          },
          "metadata": {},
          "execution_count": 42
        }
      ]
    },
    {
      "cell_type": "markdown",
      "source": [
        "### Function to generate latex problem statement"
      ],
      "metadata": {
        "id": "uR4Ulh7g735O"
      }
    },
    {
      "cell_type": "code",
      "source": [
        "\\noindent\\hrulefill\n",
        "problem = \"Solve for analytical approximaitions to the roots of the following polynomial. Present the roots for both large and small \\epsilon.\"\n",
        "latex(polynomial)"
      ],
      "metadata": {
        "colab": {
          "base_uri": "https://localhost:8080/",
          "height": 35
        },
        "id": "7Y7XLAMO73ox",
        "outputId": "381c452d-c0cd-4c27-b64c-fa9c45b83a49"
      },
      "execution_count": null,
      "outputs": [
        {
          "output_type": "execute_result",
          "data": {
            "text/plain": [
              "'\\\\epsilon x^{9} - x^{4} + 1'"
            ],
            "application/vnd.google.colaboratory.intrinsic+json": {
              "type": "string"
            }
          },
          "metadata": {},
          "execution_count": 27
        }
      ]
    },
    {
      "cell_type": "code",
      "source": [
        "# Define the file name\n",
        "file_name = \"problem_dataset.tex\"\n",
        "\n",
        "# Write to file\n",
        "with open(file_name, \"w\") as file:\n",
        "    file.write(\"\\\\documentclass{article}\\n\")\n",
        "    file.write(\"\\\\usepackage{amsmath}\\n\")\n",
        "    file.write(\"\\\\begin{document}\\n\")\n",
        "    file.write(\"\\\\section*{Quadratic Equation}\\n\")\n",
        "    file.write(\"The quadratic equation is given by:\\n\")\n",
        "    file.write(\"\\\\[\" + latex(polynomial) + \"\\\\]\\n\")\n",
        "    file.write(\"\\\\end{document}\")"
      ],
      "metadata": {
        "id": "7_1bSZC493fv"
      },
      "execution_count": null,
      "outputs": []
    },
    {
      "cell_type": "markdown",
      "source": [
        "### Helper function to generate sympy polynomial"
      ],
      "metadata": {
        "id": "8byWt2jDpi97"
      }
    },
    {
      "cell_type": "code",
      "source": [
        "# Generates sympy polynomial from\n",
        "def polynomial_from_coefficients(coefficients):\n",
        "    \"\"\"\n",
        "    Converts a list of coefficients into a polynomial expression using sympy.\n",
        "\n",
        "    Parameters:\n",
        "    coefficients (list): A list of coefficients, where the index represents the power of x.\n",
        "\n",
        "    Returns:\n",
        "    sympy expression: The polynomial expression.\n",
        "    \"\"\"\n",
        "    x = symbols('x')\n",
        "    coefficients_reverse = coefficients\n",
        "    coefficients_reverse.reverse()\n",
        "    polynomial = sum(coef * x**i for i, coef in enumerate(coefficients_reverse))\n",
        "    return Poly(polynomial)"
      ],
      "metadata": {
        "id": "ThcPY-RlvQLM"
      },
      "execution_count": null,
      "outputs": []
    },
    {
      "cell_type": "code",
      "source": [
        "# Test functions\n",
        "coefficients = generate_polynomial(degree=10, num_terms=3, coeff_bounds=[-10,10])\n",
        "print(\"Coefficients\", coefficients)\n",
        "\n",
        "polynomial_expression = polynomial_from_coefficients(coefficients)\n",
        "polynomial_expression"
      ],
      "metadata": {
        "colab": {
          "base_uri": "https://localhost:8080/",
          "height": 57
        },
        "id": "rygKScfSv53m",
        "outputId": "2a652844-19dd-43fc-af0b-dcd3d511c24b"
      },
      "execution_count": null,
      "outputs": [
        {
          "output_type": "stream",
          "name": "stdout",
          "text": [
            "Coefficients [0, 0, -8, 0, 5, 0, 0, 0, 0, 0, 7]\n"
          ]
        },
        {
          "output_type": "execute_result",
          "data": {
            "text/plain": [
              "Poly(-8*x**8 + 5*x**6 + 7, x, domain='ZZ')"
            ],
            "text/latex": "$\\displaystyle \\operatorname{Poly}{\\left( -8 x^{8} + 5 x^{6} + 7, x, domain=\\mathbb{Z} \\right)}$"
          },
          "metadata": {},
          "execution_count": 32
        }
      ]
    },
    {
      "cell_type": "markdown",
      "source": [
        "## Generate latex for problem and solution"
      ],
      "metadata": {
        "id": "9hi1tBJdtfSp"
      }
    },
    {
      "cell_type": "markdown",
      "source": [
        "## Check that analytical solutions are approx. equal to the numerical solution.\n",
        "\n",
        "If valid, generate latex -> add to dataset\n",
        "- Check for duplicates??\n",
        "\n",
        "Discard problem otherwise"
      ],
      "metadata": {
        "id": "G6JY56JVtW2K"
      }
    },
    {
      "cell_type": "code",
      "source": [],
      "metadata": {
        "id": "wxBAYP0kwTSX"
      },
      "execution_count": null,
      "outputs": []
    },
    {
      "cell_type": "markdown",
      "source": [
        "## Unit tests for each function"
      ],
      "metadata": {
        "id": "NSN8DevV2_lD"
      }
    },
    {
      "cell_type": "markdown",
      "source": [
        "### Generate polynomial\n",
        "- Generate several polynomials, check that there are exactly n nonzero coefficients and that there is a constant.\n",
        "\n",
        "### Nondimensionalize polynomial\n",
        "- Generate many polynomials, nondimensionalize, compare numerically-solved roots to check they are the same (but scaled)????????????"
      ],
      "metadata": {
        "id": "JPKzUMHDeGbO"
      }
    },
    {
      "cell_type": "code",
      "source": [
        "def test_generate(max_degree, num_terms, coeff_bounds):\n",
        "  # Test 100 different runs of the function\n",
        "  for i in range(100):\n",
        "    # Solve\n",
        "    coeffs = generate_polynomial(max_degree=max_degree, num_terms=num_terms, coeff_bounds=coeff_bounds)\n",
        "    # Check length of array\n",
        "    assert len(coeffs) == max_degree + 1\n",
        "    # Check number of terms\n",
        "    assert len([x for x in coeffs if x != 0]) == num_terms\n",
        "    # Check for nonzero constant term\n",
        "    assert coeffs[-1] != 0\n",
        "    # Check that coeff bounds are correct\n",
        "    all(coeff_bounds[0] <= x <= coeff_bounds[1] for x in coeffs)\n",
        "  print(\"All tests passed! (Generate polynomial function)\")"
      ],
      "metadata": {
        "id": "DVLfh7my3A4t"
      },
      "execution_count": null,
      "outputs": []
    },
    {
      "cell_type": "code",
      "source": [
        "# Parameters\n",
        "max_degree = 10\n",
        "num_terms = 3\n",
        "coeff_bounds=[-10,10]\n",
        "\n",
        "# Run tests\n",
        "test_generate(max_degree, num_terms, coeff_bounds)"
      ],
      "metadata": {
        "colab": {
          "base_uri": "https://localhost:8080/"
        },
        "id": "q8HyZMj7mJZp",
        "outputId": "982aa554-f772-443b-e42d-baa152ab040b"
      },
      "execution_count": null,
      "outputs": [
        {
          "output_type": "stream",
          "name": "stdout",
          "text": [
            "All tests passed! (Generate polynomial function)\n"
          ]
        }
      ]
    },
    {
      "cell_type": "code",
      "source": [],
      "metadata": {
        "id": "Lemzm8JRmZNn"
      },
      "execution_count": null,
      "outputs": []
    }
  ]
}