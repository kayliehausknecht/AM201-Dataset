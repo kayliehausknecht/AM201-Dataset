{
  "cells": [
    {
      "cell_type": "code",
      "execution_count": null,
      "metadata": {
        "id": "kH1dAP5utJWO"
      },
      "outputs": [],
      "source": [
        "# Imports\n",
        "import cmath\n",
        "import random\n",
        "import signal\n",
        "import time\n",
        "\n",
        "import matplotlib.pyplot as plt\n",
        "import numpy as np\n",
        "import pandas as pd\n",
        "\n",
        "from io import StringIO\n",
        "from matplotlib.patches import Patch\n",
        "from sympy import *\n",
        "from tqdm import tqdm\n",
        "\n",
        "init_printing(use_latex=True)"
      ]
    },
    {
      "cell_type": "markdown",
      "metadata": {
        "id": "R379Ls_MKQNZ"
      },
      "source": [
        "---\n",
        "# Problem type 1: Nondimensionalization of a polynomial with random powers (symbolic answer)\n",
        "\n",
        "For our first type of problem, we choose to do nondimensionalization problems of the format $a_1 x^{n_1} + a_2 x^{n_2} + a_3$ where $n_1 > n_2$\n",
        "\n",
        "\n",
        "The expected form of the final answer will be $\\epsilon y^{n_1} + y^{n_2} + 1$"
      ]
    },
    {
      "cell_type": "code",
      "execution_count": null,
      "metadata": {
        "id": "6yk8GW9VMhLg"
      },
      "outputs": [],
      "source": [
        "# Generates two numbers n1, n2 < max_degree where n1 < n2\n",
        "def generate_n1n2(max_degree):\n",
        "    \"\"\"\n",
        "    Inputs:\n",
        "    max_degree (int): Maximum possible degree of polynomial\n",
        "\n",
        "    Outputs:\n",
        "    n1 (int): Degree of polynomial\n",
        "    n2 (int): Second largest power of polynomial\n",
        "    \"\"\"\n",
        "    n2 = random.randint(1, max_degree - 1)\n",
        "    n1 = random.randint(n2 + 1, max_degree)\n",
        "    return n1, n2"
      ]
    },
    {
      "cell_type": "code",
      "execution_count": null,
      "metadata": {
        "id": "RGvYUAj6OyRY"
      },
      "outputs": [],
      "source": [
        "# Solves nondimensionalization problem given n1, n2\n",
        "def nondimensionalize_polynomial1(n1, n2):\n",
        "    \"\"\"\n",
        "    Inputs:\n",
        "    n1 (int): Degree of polynomial\n",
        "    n2 (int): Second largest power of polynomial\n",
        "\n",
        "    Outputs:\n",
        "    question (string): Latex for problem\n",
        "    answer (string): Latex for answer\n",
        "    \"\"\"\n",
        "    # Define sympy symbols\n",
        "    x, y, a1, a2, a3, epsilon = symbols('x y a_1 a_2 a_3 epsilon')\n",
        "\n",
        "    # Generate sympy polynomial a1*x^n1 + a2*x^n2 + a3\n",
        "    n1r, n2r = Rational(n1), Rational(n2)\n",
        "    polynomial_x = a1 * x**n1r + a2 * x**n2r + a3\n",
        "\n",
        "    # Define x = (a/b)y\n",
        "    x_sub = ((a3/a2)**Rational(1/n2r)) * y\n",
        "\n",
        "    # Substitute\n",
        "    polynomial_y = polynomial_x.subs(x, x_sub).expand()\n",
        "    # polynomial_y = polynomial_y.subs(x, y).expand()\n",
        "\n",
        "    # Simplify before dividing by a3\n",
        "    simplified_polynomial = polynomial_y / a3\n",
        "\n",
        "    # Further simplify the expression\n",
        "    final_simplified_polynomial = simplify(simplified_polynomial)\n",
        "\n",
        "    # Return question and answer\n",
        "    question = \"\"\n",
        "    answer = \"\"\n",
        "\n",
        "    question += \"Nondimensionalize the polynomial\"\n",
        "    question += \"\\[\" + latex(polynomial_x) + \"\\]\"\n",
        "    question += f\"into one of the form $\\epsilon y^{{{n1}}} + y^{{{n2}}} + 1$\"\n",
        "\n",
        "    answer += \"Start with the following substitution:\"\n",
        "    answer += \"\\[\" + \"x=\" + latex(x_sub) + \"\\]\"\n",
        "\n",
        "    answer += \"\\nThis gives us the following expression:\"\n",
        "    answer += \"\\[\" + latex(polynomial_y) + \"\\]\"\n",
        "\n",
        "    answer += \"\\nDivide by the coefficient remaining in front of the constant, giving us the nondimensionalized polynomial with coefficients in terms of $a_1, a_2, a_3$:\"\n",
        "    answer += \"\\[ \\\\boxed{\" + latex(final_simplified_polynomial) + \"}\\]\"\n",
        "\n",
        "    return question, answer"
      ]
    },
    {
      "cell_type": "markdown",
      "metadata": {
        "id": "zn1XkHKqUKb4"
      },
      "source": [
        "### Sample Usage"
      ]
    },
    {
      "cell_type": "code",
      "execution_count": null,
      "metadata": {
        "colab": {
          "base_uri": "https://localhost:8080/"
        },
        "id": "n_UH3egzQTcs",
        "outputId": "c5cf923e-4446-49f6-9ad7-5006e6708f7c"
      },
      "outputs": [
        {
          "output_type": "stream",
          "name": "stdout",
          "text": [
            "Nondimensionalize the polynomial\\[a_{1} x^{10} + a_{2} x^{4} + a_{3}\\]into one of the form $\\epsilon y^{10} + y^{4} + 1$\n",
            "Start with the following substitution:\\[x=y \\sqrt[4]{\\frac{a_{3}}{a_{2}}}\\]\n",
            "This gives us the following expression:\\[a_{1} y^{10} \\left(\\frac{a_{3}}{a_{2}}\\right)^{\\frac{5}{2}} + a_{3} y^{4} + a_{3}\\]\n",
            "Divide by the coefficient remaining in front of the constant, giving us the nondimensionalized polynomial with coefficients in terms of $a_1, a_2, a_3$:\\[ \\boxed{\\frac{a_{1} y^{10} \\left(\\frac{a_{3}}{a_{2}}\\right)^{\\frac{5}{2}}}{a_{3}} + y^{4} + 1}\\]\n"
          ]
        }
      ],
      "source": [
        "# n1, n2 = generate_n1n2(max_degree=10)\n",
        "# question, answer = nondimensionalize_polynomial1(n1, n2)\n",
        "\n",
        "question, answer = nondimensionalize_polynomial1(n1=10, n2=4) # Problem from hw1 to check\n",
        "\n",
        "print(question)\n",
        "print(answer)"
      ]
    },
    {
      "cell_type": "markdown",
      "metadata": {
        "id": "OS7La_9EKN6G"
      },
      "source": [
        "---\n",
        "# Problem type 2: Nondimensionalization of a polynomial with random powers AND coefficients\n",
        "\n",
        "The second type of problem is the same as the first, but with a random polynomial (numerical coefficients provided instead of $a_1,~ a_2, a_3$ variables, can also be positive or negative). The goal is then to nondimensionalize it in the same way, and to solve for the value of epsilon."
      ]
    },
    {
      "cell_type": "code",
      "execution_count": null,
      "metadata": {
        "id": "CpFnqvbgo19g"
      },
      "outputs": [],
      "source": [
        "# Generates a list of coefficients corresponding to a random polynomial\n",
        "def generate_polynomial(max_degree, num_terms, coeff_bounds):\n",
        "    \"\"\"\n",
        "    Inputs:\n",
        "    max_degree (int): The maximum degree of the polynomial.\n",
        "    num_terms (int)\n",
        "    coeff_bounds (tuple): (lower bound, upper bound)\n",
        "\n",
        "    Outputs:\n",
        "    coefficients (list)\n",
        "    \"\"\"\n",
        "    # Initialize array of coeffs\n",
        "    coefficients = [0] * (max_degree + 1)\n",
        "    # Check number of terms\n",
        "    if num_terms > max_degree + 1:\n",
        "        raise ValueError(\"Number of terms cannot be more than the degree of the polynomial + 1\")\n",
        "    # Randomly choose positions for the (#) non-zero coefficients\n",
        "    non_zero_positions = random.sample(range(max_degree), num_terms - 1)\n",
        "    # Assign random values within the bounds to the chosen positions\n",
        "    for pos in non_zero_positions:\n",
        "        # Loop to make sure it is nonzero bc selecting from [-, +] includes 0\n",
        "        while coefficients[pos] is None or coefficients[pos] == 0:\n",
        "          coefficients[pos] = random.randint(coeff_bounds[0], coeff_bounds[1])\n",
        "    # Ensure the highest degree term is non-zero\n",
        "    if coefficients[-1] == 0:\n",
        "        # While loop until it is nonzero\n",
        "        while coefficients[-1] is None or coefficients[-1] == 0:\n",
        "          coefficients[-1] = random.randint(coeff_bounds[0], coeff_bounds[1])\n",
        "\n",
        "    return coefficients"
      ]
    },
    {
      "cell_type": "code",
      "execution_count": null,
      "metadata": {
        "id": "7Ilx_1TAUhOw",
        "colab": {
          "base_uri": "https://localhost:8080/",
          "height": 37
        },
        "outputId": "de81b622-8449-4e75-8879-3b1b2ca80c4c"
      },
      "outputs": [
        {
          "output_type": "execute_result",
          "data": {
            "text/plain": [
              "[0, 0, 0, -4, 0, 0, 9, 0, 0, 0, -3]"
            ],
            "image/png": "[encoded data removed]",
            "text/latex": "$\\displaystyle \\left[ 0, \\  0, \\  0, \\  -4, \\  0, \\  0, \\  9, \\  0, \\  0, \\  0, \\  -3\\right]$"
          },
          "metadata": {},
          "execution_count": 6
        }
      ],
      "source": [
        "# Test function\n",
        "coefficients = generate_polynomial(max_degree=10, num_terms=3, coeff_bounds=[-10,10])\n",
        "coefficients"
      ]
    },
    {
      "cell_type": "code",
      "execution_count": null,
      "metadata": {
        "id": "gCkUA1Wy9IKU"
      },
      "outputs": [],
      "source": [
        "# Helper function to convert list of coefficients into a sympy expression\n",
        "def sympy_polynomial_from_coefficients(coefficients):\n",
        "    \"\"\"\n",
        "    Inputs:\n",
        "    coefficients (list): A list of coefficients, where the index represents the power of x.\n",
        "\n",
        "    Outputs:\n",
        "    polynomial (sympy expression): The polynomial expression.\n",
        "    \"\"\"\n",
        "    x = symbols('x')\n",
        "    coefficients_reverse = coefficients\n",
        "    coefficients_reverse.reverse()\n",
        "    polynomial = sum(coef * x**i for i, coef in enumerate(coefficients_reverse))\n",
        "    return polynomial"
      ]
    },
    {
      "cell_type": "code",
      "execution_count": null,
      "metadata": {
        "colab": {
          "base_uri": "https://localhost:8080/",
          "height": 39
        },
        "id": "AZe_xTpg9fft",
        "outputId": "330d8846-24c3-4816-9ffb-e368b52538ca"
      },
      "outputs": [
        {
          "output_type": "execute_result",
          "data": {
            "text/plain": [
              "     7      4    \n",
              "- 4⋅x  + 9⋅x  - 3"
            ],
            "image/png": "[encoded data removed]",
            "text/latex": "$\\displaystyle - 4 x^{7} + 9 x^{4} - 3$"
          },
          "metadata": {},
          "execution_count": 8
        }
      ],
      "source": [
        "# Test helper function\n",
        "sympy_polynomial_from_coefficients(coefficients)"
      ]
    },
    {
      "cell_type": "code",
      "execution_count": null,
      "metadata": {
        "id": "Xe15pab-lT9z"
      },
      "outputs": [],
      "source": [
        "# Solves nondimensionalization problem given coefficients\n",
        "def nondimensionalize_polynomial2(coefficients):\n",
        "    \"\"\"\n",
        "    Inputs:\n",
        "    coefficients (list): The list of coefficients\n",
        "\n",
        "    Outputs:\n",
        "    question (string): Latex for problem\n",
        "    answer (string): Latex for answer\n",
        "    \"\"\"\n",
        "    question = \"\"\n",
        "    answer = \"\"\n",
        "\n",
        "    # Find nonzero coefficients & powers in the format [(coefficient, power)]\n",
        "    nonzero_coeffs = [(coeff, len(coefficients) - idx - 1) for idx, coeff in enumerate(coefficients) if coeff != 0]\n",
        "    # Find largest, second largest powers\n",
        "    sorted_coeffs = sorted(nonzero_coeffs, key=lambda x: x[1], reverse=True)\n",
        "    n1 = sorted_coeffs[0][1]\n",
        "    n2 = sorted_coeffs[1][1]\n",
        "    sign1 = np.sign(nonzero_coeffs[0][0])\n",
        "    sign2 = np.sign(nonzero_coeffs[1][0])\n",
        "    sign3 = np.sign(nonzero_coeffs[2][0])\n",
        "    a1_absvalue = abs(nonzero_coeffs[0][0])\n",
        "    a2_absvalue = abs(nonzero_coeffs[1][0])\n",
        "    a3_absvalue = abs(nonzero_coeffs[2][0])\n",
        "\n",
        "    # Define sympy symbols\n",
        "    x, y, a1, a2, a3, epsilon = symbols('x y a_1 a_2 a_3 epsilon')\n",
        "\n",
        "    # Generate sympy polynomial a1*x^n1 + a2*x^n2 + a3\n",
        "    n1r, n2r = Rational(n1), Rational(n2)\n",
        "    polynomial_x = sign1*a1 * x**n1r + sign2*a2 * x**n2r + sign3*a3 # included signs\n",
        "\n",
        "    answer += \"For now, we ignore the numeric values of the coefficients and instead call them $a_1, a_2, a_3$. Our polynomial is then:\"\n",
        "    answer += \"\\[\" + latex(polynomial_x) + \"\\]. \"\n",
        "\n",
        "    # Branching for if first coefficient is negative\n",
        "    if sign1 < 0:\n",
        "        polynomial_x *= (-1)\n",
        "        answer += \"\\nSince the first coefficient is negative, we multiply the entire expression by -1:\"\n",
        "        answer += \"\\[\" + latex(polynomial_x) + \"\\]\"\n",
        "\n",
        "    # Define x = (a/b)y\n",
        "    x_sub = ((a3/a2)**Rational(1/n2r)) * y\n",
        "\n",
        "    # Substitute\n",
        "    polynomial_y = polynomial_x.subs(x, x_sub).expand()\n",
        "\n",
        "    # Simplify before dividing by a3\n",
        "    simplified_polynomial = polynomial_y / a3\n",
        "\n",
        "    # Further simplify the expression\n",
        "    final_simplified_polynomial = simplify(simplified_polynomial)\n",
        "\n",
        "    # Substitute know values for a1, a2, a3\n",
        "    final_simplified_polynomial_subs = final_simplified_polynomial.subs([(a1, a1_absvalue), (a2, a2_absvalue), (a3, a3_absvalue)]).simplify()\n",
        "\n",
        "    # Find value of epsilon\n",
        "    epsilon_value = list(final_simplified_polynomial_subs.expand().args)[::-1][0] / (y**n1)\n",
        "\n",
        "    # Return question and answer\n",
        "    question += \"Nondimensionalize the polynomial \\[P(x) = \"\n",
        "    question += latex(sympy_polynomial_from_coefficients(coefficients)) + \"\\] \"\n",
        "    question += f\"into a polynomial of the form $\\epsilon y^{{{n1}}} \\pm y^{{{n2}}} \\pm 1$. Solve for $\\epsilon$.\"\n",
        "\n",
        "    answer += \"Use the following substitution:\"\n",
        "    answer += \"\\[\" + \"x=\" + latex(x_sub) + \"\\]\"\n",
        "\n",
        "    answer += \"\\nThis gives us the following expression: \"\n",
        "    answer += \"\\[\" + latex(polynomial_y) + \"\\].\"\n",
        "\n",
        "    answer += \"\\nDivide all terms by the coefficient remaining in front of the constant term, giving us the nondimensionalized polynomial with coefficients in terms of $a_1, a_2, a_3$: \"\n",
        "    answer += \"\\[\" + latex(final_simplified_polynomial) + \"\\]\"\n",
        "\n",
        "    answer += \"\\nSubstituting in the known numeric values for $a_1, a_2, a_3$ (using their absolute values as we have already accounted for sign), we get: \"\n",
        "    answer += \"\\[\" + latex(final_simplified_polynomial_subs) + \"\\]\"\n",
        "\n",
        "    answer += \"\\nFrom inspection of this nondimensionalized equation, we can now identify $\\epsilon$: \"\n",
        "    answer += \"\\[ \\\\boxed{\\epsilon=\" + latex(epsilon_value) + \"}\" + f\"\\\\approx{float(epsilon_value.evalf()):.2f} \\]\"\n",
        "\n",
        "    return question, answer"
      ]
    },
    {
      "cell_type": "code",
      "execution_count": null,
      "metadata": {
        "colab": {
          "base_uri": "https://localhost:8080/"
        },
        "id": "JJYXVXLqme0h",
        "outputId": "c592698b-f34d-496b-e3e7-9a96f9fa5294"
      },
      "outputs": [
        {
          "output_type": "stream",
          "name": "stdout",
          "text": [
            "[-3, 0, 0, 0, 9, 0, 0, -4, 0, 0, 0]\n",
            "Nondimensionalize the polynomial \\[P(x) = - 3 x^{10} + 9 x^{6} - 4 x^{3}\\] into a polynomial of the form $\\epsilon y^{10} \\pm y^{6} \\pm 1$. Solve for $\\epsilon$.\n",
            "For now, we ignore the numeric values of the coefficients and instead call them $a_1, a_2, a_3$. Our polynomial is then:\\[- a_{1} x^{10} + a_{2} x^{6} - a_{3}\\]. \n",
            "Since the first coefficient is negative, we multiply the entire expression by -1:\\[a_{1} x^{10} - a_{2} x^{6} + a_{3}\\]Use the following substitution:\\[x=y \\sqrt[6]{\\frac{a_{3}}{a_{2}}}\\]\n",
            "This gives us the following expression: \\[a_{1} y^{10} \\left(\\frac{a_{3}}{a_{2}}\\right)^{\\frac{5}{3}} - a_{3} y^{6} + a_{3}\\].\n",
            "Divide all terms by the coefficient remaining in front of the constant term, giving us the nondimensionalized polynomial with coefficients in terms of $a_1, a_2, a_3$: \\[\\frac{a_{1} y^{10} \\left(\\frac{a_{3}}{a_{2}}\\right)^{\\frac{5}{3}}}{a_{3}} - y^{6} + 1\\]\n",
            "Substituting in the known numeric values for $a_1, a_2, a_3$ (using their absolute values as we have already accounted for sign), we get: \\[\\frac{2 \\cdot \\sqrt[3]{2} \\cdot 3^{\\frac{2}{3}} y^{10}}{27} - y^{6} + 1\\]\n",
            "From inspection of this nondimensionalized equation, we can now identify $\\epsilon$: \\[ \\boxed{\\epsilon=\\frac{2 \\cdot \\sqrt[3]{2} \\cdot 3^{\\frac{2}{3}}}{27}}\\approx0.19 \\]\n"
          ]
        }
      ],
      "source": [
        "print(coefficients)\n",
        "question, answer = nondimensionalize_polynomial2(coefficients)\n",
        "\n",
        "print(question)\n",
        "print(answer)"
      ]
    },
    {
      "cell_type": "markdown",
      "metadata": {
        "id": "fWL587NCU6yB"
      },
      "source": [
        "---\n",
        "# Problem type 3: Solving for roots\n",
        "\n",
        "Given a nondimensionalized problem of form\n",
        "$\\epsilon x^{n_1} \\pm x^{n_2} \\pm 1$ where $n_1 > n_2$, find the roots in terms of epsilon (using dominant balances) for both large and small $\\epsilon$. This is most similar to the problems we did in class."
      ]
    },
    {
      "cell_type": "code",
      "execution_count": null,
      "metadata": {
        "id": "A8N4DAsauXm3"
      },
      "outputs": [],
      "source": [
        "# Generates nondimensionalized polynomial of the form described above\n",
        "def generate_nondimensionalized(max_n1):\n",
        "    \"\"\"\n",
        "    Inputs:\n",
        "    max_n1 (int): Maximum power in polynomial\n",
        "\n",
        "    Outputs:\n",
        "    polynomial (sympy expression): Nondimensionalized random polynomial of the given format\n",
        "    \"\"\"\n",
        "    # Ensure max_n1 is at least 2\n",
        "    if max_n1 < 2:\n",
        "        raise ValueError(\"max_n1 must be at least 2\")\n",
        "\n",
        "    # Randomly choose n1 and n2\n",
        "    n1 = random.randint(2, max_n1)\n",
        "    n2 = random.randint(1, n1 - 1)\n",
        "    # Randomly choose signs\n",
        "    signs = random.choices([-1, 1], k=2)\n",
        "\n",
        "    # Construct polynomial, let first term always be + since same as negating if negative\n",
        "    x = symbols('x')\n",
        "    epsilon = symbols('epsilon')\n",
        "    polynomial = epsilon * x**n1 + signs[0] * x**n2 + signs[1]\n",
        "\n",
        "    # Return\n",
        "    return polynomial"
      ]
    },
    {
      "cell_type": "code",
      "execution_count": null,
      "metadata": {
        "colab": {
          "base_uri": "https://localhost:8080/",
          "height": 39
        },
        "id": "QXP2_CG5uaBQ",
        "outputId": "6a8dbd60-de32-41f8-c20e-d1c05f6f2edc"
      },
      "outputs": [
        {
          "output_type": "display_data",
          "data": {
            "text/plain": [
              "   2        \n",
              "ε⋅x  - x - 1"
            ],
            "image/png": "[encoded data removed]",
            "text/latex": "$\\displaystyle \\epsilon x^{2} - x - 1$"
          },
          "metadata": {}
        }
      ],
      "source": [
        "# Example usage of random polynomial generator\n",
        "polynomial = generate_nondimensionalized(10)\n",
        "display(polynomial)"
      ]
    },
    {
      "cell_type": "code",
      "execution_count": null,
      "metadata": {
        "id": "2yTyXOqvvfWd"
      },
      "outputs": [],
      "source": [
        "# Function to solve for roots of nondimensionalized polynomial\n",
        "def solve_roots(polynomial):\n",
        "    \"\"\"\n",
        "    Inputs:\n",
        "    polynomial (sympy expression): The nondimensionalized polynomial\n",
        "\n",
        "    Outputs:\n",
        "    question (string): Latex for problem\n",
        "    answer (string): Latex for answer\n",
        "    \"\"\"\n",
        "    # Extract terms and solve\n",
        "    x, epsilon = symbols('x epsilon')\n",
        "    terms = list(polynomial.expand().args)[::-1]\n",
        "    A, B, C = terms[0], terms[1], terms[2]\n",
        "    sol_ab = [simplify(sol) for sol in solve(A + B, x)]\n",
        "    sol_bc = [simplify(sol) for sol in solve(B + C, x)]\n",
        "    sol_ac = [simplify(sol) for sol in solve(A + C, x)]\n",
        "\n",
        "    # Remove extraneous root 0 that shows up - bc it never occurs in this problem formulation\n",
        "    def remove_zeros(sol_list):\n",
        "        # Helper function to remove zeros\n",
        "        while 0 in sol_list:\n",
        "            sol_list.remove(0)\n",
        "    remove_zeros(sol_ab)\n",
        "    remove_zeros(sol_bc)\n",
        "    remove_zeros(sol_ac)\n",
        "\n",
        "    # Check dominant balances to see if roots belong to small or large epsilon regimes\n",
        "    AB_valid_small_eps = (abs(A.subs(x, sol_ab[0]).subs(epsilon, 0.0001)) > abs(C.subs(x, sol_ab[0]).subs(epsilon, 0.001))) # A,B >> C small eps\n",
        "    AB_valid_large_eps = (abs(A.subs(x, sol_ab[0]).subs(epsilon, 10000)) > abs(C.subs(x, sol_ab[0]).subs(epsilon, 1000))) # A,B >> C large eps\n",
        "    AB_validity = \"small\" if AB_valid_small_eps else \"large\"\n",
        "\n",
        "    BC_valid_small_eps = (abs(B.subs(x, sol_bc[0]).subs(epsilon, 0.0001)) > abs(A.subs(x, sol_bc[0]).subs(epsilon, 0.001))) # B,C >> A small eps\n",
        "    BC_valid_large_eps = (abs(B.subs(x, sol_bc[0]).subs(epsilon, 10000)) > abs(A.subs(x, sol_bc[0]).subs(epsilon, 1000))) # B,C >> A large eps\n",
        "    BC_validity = \"small\" if BC_valid_small_eps else \"large\"\n",
        "\n",
        "    AC_valid_small_eps = (abs(A.subs(x, sol_ac[0]).subs(epsilon, 0.0001)) > abs(B.subs(x, sol_ac[0]).subs(epsilon, 0.001))) # A,C >> B small eps\n",
        "    AC_valid_large_eps = (abs(A.subs(x, sol_ac[0]).subs(epsilon, 10000)) > abs(B.subs(x, sol_ac[0]).subs(epsilon, 1000))) # A,C >> B large eps\n",
        "    AC_validity = \"small\" if AC_valid_small_eps else \"large\"\n",
        "\n",
        "\n",
        "    # Return answers\n",
        "    question = \"\"\n",
        "    answer = \"\"\n",
        "\n",
        "    question += \"Solve for the roots of the following polynomial $P(x)$ in terms of $\\epsilon$: \"\n",
        "    question += \"\\[P(x) =\" + latex(polynomial) + \".\\] \\n\"\n",
        "    question += \"Use the method of dominant balance to find approximations for all roots for both small and large $\\epsilon$. \\n\"\n",
        "\n",
        "    answer += \"Consider the problem of form $A+B+C=0$, with $A$, $B$, and $C$ corresponding to the three terms in $P(x)$:\"\n",
        "    answer += \"\\[A=\" + latex(A) + \"/]; \"\n",
        "    answer += \"\\[B=\" + latex(B) + \"/]; \"\n",
        "    answer += \"\\[C=\" + latex(C) + \"/].\"\n",
        "\n",
        "    answer += \"\\nWe now consider the three possible dominant balances, solving for the roots of each and evaluating whether each balance holds for large or small $\\epsilon$.\"\n",
        "    answer += \"\\\\vspace{1em}\"\n",
        "\n",
        "    answer += \"\\n\\nWe start with the balance $A+B=0$; solving for $x$ in terms of $\\epsilon$ then gives us\"\n",
        "    answer += f\"{len(sol_ab)} roots: \"\n",
        "    answer += \"\\n\\[\" + latex(A+B) + \"=0 \\]\"\n",
        "    answer += \"\\[ \\implies \\\\boxed{ x=\" + latex(sol_ab) + \"}\\]\"\n",
        "    answer += \"\\nTo Verify the roots found for consistency, we check that $|A|,|B|>>|C|$ holds for this root \"\n",
        "    answer += \"by substituting our found root expression for $x$ back into $A$, $B$, and $C$ and comparing their magnitudes.\"\n",
        "    answer += \" Using this method, we find the following:\"\n",
        "    answer += f\"\\n\\nValidity for small $\\epsilon$: {str(AB_valid_small_eps)}\"\n",
        "    answer += f\"\\nValidity for large $\\epsilon$: {str(AB_valid_large_eps)}\"\n",
        "    answer += f\"\\n\\n\\\\underline{{Therefore, these roots are valid for {AB_validity} $\\epsilon$ only.}}\"\n",
        "    answer += \"\\\\vspace{1em}\"\n",
        "\n",
        "    answer += \"\\n\\nNext we use the balance $B+C=0$, and solving this for $x$ in terms of $\\epsilon$ gives us \"\n",
        "    answer += f\"{len(sol_bc)} roots:\"\n",
        "    answer += \"\\[\" + latex(B+C) + \"=0\\]\"\n",
        "    answer += \"\\[ \\implies\\\\boxed{ x=\" + latex(sol_bc) + \"}\\]\"\n",
        "    answer += \"\\nChecking the consistency that $|B|,|C|>>|A|$, we substitute the root back into A, B, and C to check their magnitudes:\"\n",
        "    answer += f\"\\n\\nValidity for small $\\epsilon$: {str(BC_valid_small_eps)}\"\n",
        "    answer += f\"\\nValidity for large $\\epsilon$: {str(BC_valid_large_eps)}\"\n",
        "    answer += f\"\\n\\n\\\\underline{{Therefore these are roots for {BC_validity} $\\epsilon$}}\"\n",
        "    answer += \"\\\\vspace{1em}\"\n",
        "\n",
        "    answer += \"\\n\\nNext we use the balance $A+C=0$, solving for x in terms of $\\epsilon$ gives us\"\n",
        "    answer += f\"\\n{len(sol_ac)} roots:\"\n",
        "    answer += \"\\[\" + latex(A+C) + \"=0\\]\"\n",
        "    answer += \"\\[ \\implies\\\\boxed{ x=\" + latex(sol_ac) + \"}\\]\"\n",
        "    answer += \"\\nChecking the consistency that $|A|,|C|>>|B|$, we substitute the root back into A, B, and C to check their magnitudes:\"\n",
        "    answer += f\"\\n\\nValidity for small $\\epsilon$: {str(AC_valid_small_eps)}\"\n",
        "    answer += f\"\\nValidity for large $\\epsilon$: {str(AC_valid_large_eps)}\"\n",
        "    answer += f\"\\n\\n\\\\underline{{Therefore these are roots for {AC_validity} $\\epsilon$}}\"\n",
        "    answer += \"\\\\vspace{1em}\"\n",
        "\n",
        "    answer += \"\\n\\nCounting the total number of roots we have found, we count a total of\"\n",
        "    answer += f\"\\n{len(sol_ab) + len(sol_bc) + len(sol_ac)} roots which we expect given the degree of our polynomial.\"\n",
        "\n",
        "    return [[AB_validity, sol_ab], [BC_validity, sol_bc], [AC_validity, sol_ac]], question, answer"
      ]
    },
    {
      "cell_type": "markdown",
      "metadata": {
        "id": "k8CJkiiBP0qj"
      },
      "source": [
        "---\n",
        "# Problem type 4: Calculating corrections\n",
        "\n",
        "Here we calculate $\\delta$ correction terms to improve our existing approximations for the roots of the polynomial we've already calculated."
      ]
    },
    {
      "cell_type": "code",
      "execution_count": null,
      "metadata": {
        "id": "TtsS8zpNmXkJ"
      },
      "outputs": [],
      "source": [
        "def solve_delta_corrected_term(answer, center, validity, poly_eqn, x_var, term_trunc=3, eps_var=None, specific_val_eps=None):\n",
        "\n",
        "  if term_trunc == 1:\n",
        "    return ValueError(\"Need term_trunc to be larger than 1.\")\n",
        "\n",
        "  answer += \"\\[ \\overline{{x}} + \\delta =\" + latex(center) + \" \\delta \\] \\n\"\n",
        "  answer += \"substitute this into $P(x)$ for $x$ and equate to $0$: \\n\"\n",
        "\n",
        "  delta = symbols('\\delta') # delta is the sum of eps terms (expansion)\n",
        "  poly_delta = poly_eqn.subs(x_var, center + delta) # this is delta subbed back into the original eqn\n",
        "\n",
        "  answer += \"\\[\" + latex(poly_delta) +\". \\] \\n We then expand this expression: \\n\"\n",
        "\n",
        "  poly_delta = poly_delta.expand()\n",
        "\n",
        "  answer += \"\\[\" + latex(poly_delta) + \" \\] \\n \"\n",
        "  answer += f\"and represent it as a series of $O({term_trunc-1})$ in $\\delta$, discarding higher order $\\delta$ terms: \\n\"\n",
        "\n",
        "  poly_delta = poly_delta.series(delta, n=term_trunc).removeO() # selects correct number of terms\n",
        "\n",
        "  answer += \"\\[\" + latex(poly_delta) + \" \\] \\n \"\n",
        "  answer += f\"We can then solve the expression for the correction $\\delta$ to $O({term_trunc-1})$, and get \\n\"\n",
        "\n",
        "  #print(\"here before sol\")\n",
        "  sol = solve(poly_delta, delta) # solve for delta\n",
        "  sol = [simplify(d) for d in sol]\n",
        "  #print(\"here after sol\")\n",
        "\n",
        "  if len(sol) > 1:\n",
        "    answer += \"\\[ \\delta = \" + latex(sol) + \" \\] \\n \"\n",
        "    answer += f\"Note that here we find {len(sol)} solutions for $\\delta$ for the root $\\overline{{x}} =\" + latex(center) + f\"$ because we're calculating corrections to $O({term_trunc-1})$.\"\n",
        "    answer += \"We need to apply the definition $\\delta < \\overline{x}$ to select the smaller one. \"\n",
        "    answer += f\"We do this using our knowledge of the regime of validity for this root—since this root is valid for {validity} $\\epsilon$ we select \"\n",
        "\n",
        "    # get 2 solutions for delta — one will take you closer to root and other further away\n",
        "    # need to select the correct delta: use the fact that delta < root approx\n",
        "    if validity == \"small\":\n",
        "      test_eps = 0.0001\n",
        "    elif validity == \"large\":\n",
        "      test_eps = 10000\n",
        "\n",
        "    if eps_var:\n",
        "      delta_eval = [d.subs(eps_var, test_eps).evalf() for d in sol]\n",
        "      delta_correction = min(delta_eval, key=abs)\n",
        "\n",
        "      # check that it's smaller than the root approx:\n",
        "      try:\n",
        "        root_mag = abs(center.subs(eps_var, test_eps)).evalf()\n",
        "      except:\n",
        "        root_mag = abs(center)\n",
        "      if np.abs(delta_correction) < root_mag:\n",
        "        answer += \"\\[\" + latex(delta_correction) + \". \\] \\n\"\n",
        "      else:\n",
        "        raise Exception(\"Cannot calculate corrections.\")\n",
        "\n",
        "  else:\n",
        "    delta_correction = sol[0] # only option\n",
        "    answer += \"$\\delta = \\[\" + latex(delta_correction) + \" \\] \\n \"\n",
        "\n",
        "  if specific_val_eps:\n",
        "      delta_correction = simplify(delta_correction.subs(eps_var, specific_val_eps))\n",
        "\n",
        "  return delta_correction, answer"
      ]
    },
    {
      "cell_type": "code",
      "execution_count": null,
      "metadata": {
        "id": "yNRW84L8cwTX"
      },
      "outputs": [],
      "source": [
        "def get_delta_corrections(soln_info, poly_eqn, x_var, term_trunc=3, eps_var=None, specific_val_eps=None):\n",
        "  question = \"Given the polynomial \\[P(x) = \\epsilon x^{5} - x + 1 , \\] we can calculate analytical approximations to its roots using the method of dominant balance (see previous cell for solution). \"\n",
        "  question = f\"Now, calculate improved formulae for these roots to order {term_trunc-1} i.e. calculate $O({term_trunc-1})$ corrections for each root.\"\n",
        "  answer = \"We begin by remembering that we have two solution regimes, one for small $\\epsilon$ and the other for large $\\epsilon.$ \"\n",
        "  answer += \"As described in the previous answer, we were able to calculate analytical roots for \\[ P(x) =\" + latex(poly_eqn) + \"\\]\"\n",
        "  answer += f\" by applying the principles of dominant balance to each pair of terms in the equation and thereby solving for the {degree(poly_eqn, gen=x_var)} roots valid in each regime. \"\n",
        "  answer += \"\\nWe found that our root approximations were given by: \\n\"\n",
        "  answer += f\"- \\[ {', '.join([latex(soln_info[0][1][i]) for i in range(len(soln_info[0][1]))])} \\] valid for {soln_info[0][0]} $\\epsilon$ only. \\n\"\n",
        "  answer += f\"- \\[ {', '.join([latex(soln_info[1][1][i]) for i in range(len(soln_info[1][1]))])} \\] valid for {soln_info[1][0]} $\\epsilon$ only. \\n\"\n",
        "  answer += f\"- \\[ {', '.join([latex(soln_info[2][1][i]) for i in range(len(soln_info[2][1]))])} \\] valid for {soln_info[2][0]} $\\epsilon$ only. \\n\"\n",
        "  answer += \"The general idea in calculating correction terms for root approximations is to Taylor Expand the polynomial about each root. If $x^*$ is the true value of the root and $\\overline{x}$ is our calculated approximation, we write \"\n",
        "  answer += \"\\[ x^* = \\overline{x} + \\delta , \\]\"\n",
        "  answer += \"where the correction term $\\delta$ is the sum of higher order terms of $\\epsilon$ that we initially neglected in our approximation $\\overline{x}$. \"\"\"\n",
        "  answer += \"By definition, $ \\delta < \\overline{x} .$ \\n\"\n",
        "  answer += f\"In the following explanation, we keep $O({term_trunc-1})$ terms in the series expansion of the polynomial for correction calculations. In principle, you could calculate correction terms to any order using the same methods.\"\n",
        "  answer += \"\\n For each root, we substitute $\\overline{x} + \\delta$ \"\n",
        "  answer += \"for $x$ in $P(x)$ and equate the expression to $0$ since this is the root $x^*$. \\n\\n\"\n",
        "\n",
        "  for i, (validity, roots) in enumerate(soln_info):\n",
        "    corrections = []\n",
        "\n",
        "    answer += f\"\\\\underline{{Regime {i+1}: valid for {validity} $\\epsilon$}} \\n\\n\"\n",
        "    for j, guess in enumerate(roots):\n",
        "      answer += f\"\\\\underline{{Root {j+1}: $\" + latex(guess) + \"$} \\n\"\n",
        "      correction, answer = solve_delta_corrected_term(answer=answer, center=guess,\n",
        "                                                      validity=validity,\n",
        "                                                      poly_eqn=poly_eqn, x_var=x_var,\n",
        "                                                      term_trunc=term_trunc,\n",
        "                                                      eps_var=eps_var,\n",
        "                                                      specific_val_eps=specific_val_eps)\n",
        "      corrections.append(correction)\n",
        "\n",
        "    soln_info[i].append(corrections)\n",
        "\n",
        "  answer += f\"\\n\\n We have thus found $O({term_trunc-1})$ corrections for all {degree(poly_eqn, gen=x_var)} root approximations in both regimes.\"\n",
        "\n",
        "  return soln_info, question, answer"
      ]
    },
    {
      "cell_type": "markdown",
      "metadata": {
        "id": "lzLwVem9VPoC"
      },
      "source": [
        "#### Sample Usage"
      ]
    },
    {
      "cell_type": "code",
      "execution_count": null,
      "metadata": {
        "id": "DMO3VP8fbayV"
      },
      "outputs": [],
      "source": [
        "#polynomial = generate_nondimensionalized(10) # random polynomial\n",
        "x, eps = symbols('x epsilon')\n",
        "polynomial = eps * x**5 - x + 1 # polynomial from tb\n",
        "\n",
        "soln_info, q, a = solve_roots(polynomial)\n",
        "# soln_info contains (validity, [roots])\n",
        "\n",
        "soln_info, q, a = get_delta_corrections(soln_info, polynomial, x, eps_var=eps, term_trunc=2)\n",
        "# soln_info contains (validity, [roots], [corrections])"
      ]
    },
    {
      "cell_type": "markdown",
      "metadata": {
        "id": "PlOq6zQI5TiN"
      },
      "source": [
        "## Verification and Plotting\n",
        "\n",
        "### Verification\n",
        "\n",
        "We need to check that the analytical roots we find found are close to the corrrect numerical roots for the same problem. We can compare them by subsituting in epislon values from the correct regime and confirming that they are indeed close to the correct values.\n",
        "\n",
        "We can also check the correction terms by plotting all three solutions (numerical, analytical without correction, analytical with correction) on the same set of axes and/or calculating Euclidean distance between the pairs.\n"
      ]
    },
    {
      "cell_type": "code",
      "execution_count": null,
      "metadata": {
        "id": "WdorxZo05XG2"
      },
      "outputs": [],
      "source": [
        "def find_closest(num, list):\n",
        "    return min(list, key=lambda x: np.abs(complex(*x) - num))\n",
        "\n",
        "def compare(num_roots, ana_roots):\n",
        "    relative_errors = []\n",
        "    for num_root in num_roots:\n",
        "        closest = find_closest(num_root, ana_roots)\n",
        "        error = np.abs(num_root - complex(*closest))\n",
        "        if np.abs(num_root) != 0:\n",
        "            relative_error = error / np.abs(num_root)\n",
        "            relative_errors.append(relative_error)\n",
        "    return relative_errors\n",
        "\n",
        "def check_roots(soln_info, polynomial, x_var=x, eps_var=eps):\n",
        "  # x_var and eps_var should be Sympy symbols\n",
        "\n",
        "  all_ana_small = []\n",
        "  all_corr_small = []\n",
        "  all_ana_large = []\n",
        "  all_corr_large = []\n",
        "\n",
        "  # evaluate analytical roots and corrections at correct eps\n",
        "  for regime in soln_info:\n",
        "    # regime is a lst [validity, [root_approx], [deltas]]\n",
        "    validity, ana_roots, deltas = regime\n",
        "\n",
        "    ana_roots = [simplify(root) for root in ana_roots]\n",
        "\n",
        "    if validity == \"small\":\n",
        "      eps_value = 0.001\n",
        "\n",
        "      ana_roots_eval = [N(root.subs(eps_var, eps_value)) for root in ana_roots]\n",
        "      ana_roots_real = [complex(root).real for root in ana_roots_eval]\n",
        "      ana_roots_imag = [complex(root).imag for root in ana_roots_eval]\n",
        "      [all_ana_small.append((re, im)) for re, im in zip(ana_roots_real, ana_roots_imag)]\n",
        "\n",
        "      corrections = [N(delta.subs(eps_var, eps_value)) for delta in deltas]\n",
        "      corr_ana_roots = [root + delta for root, delta in zip(ana_roots_eval, corrections)]\n",
        "      corr_roots_real = [complex(root).real for root in corr_ana_roots]\n",
        "      corr_roots_imag = [complex(root).imag for root in corr_ana_roots]\n",
        "      [all_corr_small.append((re, im)) for re, im in zip(corr_roots_real, corr_roots_imag)]\n",
        "\n",
        "    elif validity == \"large\":\n",
        "      eps_value = 1000\n",
        "\n",
        "      ana_roots_eval = [N(root.subs(eps_var, eps_value)) for root in ana_roots]\n",
        "      ana_roots_real = [complex(root).real for root in ana_roots_eval]\n",
        "      ana_roots_imag = [complex(root).imag for root in ana_roots_eval]\n",
        "      [all_ana_large.append((re, im)) for re, im in zip(ana_roots_real, ana_roots_imag)]\n",
        "\n",
        "      corrections = [N(delta.subs(eps_var, eps_value)) for delta in deltas]\n",
        "      corr_ana_roots = [root + delta for root, delta in zip(ana_roots_eval, corrections)]\n",
        "      corr_roots_real = [complex(root).real for root in corr_ana_roots]\n",
        "      corr_roots_imag = [complex(root).imag for root in corr_ana_roots]\n",
        "      [all_corr_large.append((re, im)) for re, im in zip(corr_roots_real, corr_roots_imag)]\n",
        "\n",
        "  # small numeric\n",
        "  eps_value = 0.001\n",
        "  poly = polynomial.subs(eps_var, eps_value)\n",
        "  poly_obj = Poly(poly, x)\n",
        "  coefficients = poly_obj.all_coeffs()\n",
        "  num_roots_small = np.roots(coefficients)\n",
        "\n",
        "  # large numeric\n",
        "  eps_value = 1000\n",
        "  poly = polynomial.subs(eps_var, eps_value)\n",
        "  poly_obj = Poly(poly, x)\n",
        "  coefficients = poly_obj.all_coeffs()\n",
        "  num_roots_large = np.roots(coefficients)\n",
        "\n",
        "  # now the 'all' lists contain all analytic values, and num lists contain all numeric\n",
        "  # compare: find closest roots\n",
        "  as_errs = compare(num_roots_small, all_ana_small)\n",
        "  cs_errs = compare(num_roots_small, all_corr_small)\n",
        "  al_errs = compare(num_roots_large, all_ana_large)\n",
        "  cl_errs = compare(num_roots_large, all_corr_large)\n",
        "\n",
        "  threshold = 0.1 # accept approximations that are off by up to 10% — \"close enough\"\n",
        "  as_good = max(as_errs) < threshold\n",
        "  cs_good = max(cs_errs) < threshold\n",
        "  al_good = max(al_errs) < threshold\n",
        "  cl_good = max(cl_errs) < threshold\n",
        "  good_approx = as_good and cs_good and al_good and cl_good\n",
        "  good_corr = (np.mean(cs_errs) < np.mean(as_errs)) and (np.mean(cl_errs) < np.mean(al_errs))\n",
        "\n",
        "  return good_approx, good_corr, [[num_roots_small, all_ana_small, all_corr_small],\n",
        "                                  [num_roots_large, all_ana_large, all_corr_large]]\n"
      ]
    },
    {
      "cell_type": "code",
      "execution_count": null,
      "metadata": {
        "colab": {
          "base_uri": "https://localhost:8080/"
        },
        "id": "9C5aED6L-hXw",
        "outputId": "10b30c87-1e0d-440e-afb8-25865f32b19b"
      },
      "outputs": [
        {
          "output_type": "stream",
          "name": "stdout",
          "text": [
            "True\n",
            "True\n"
          ]
        }
      ],
      "source": [
        "good_approx, good_corr, root_to_plot = check_roots(soln_info, polynomial)\n",
        "print(good_approx)\n",
        "print(good_corr)"
      ]
    },
    {
      "cell_type": "code",
      "execution_count": null,
      "metadata": {
        "id": "iwTZjm8IfU-A"
      },
      "outputs": [],
      "source": [
        "def plot_root_corr(roots_to_plot):\n",
        "    num_roots_small, all_ana_small, all_corr_small = roots_to_plot[0]\n",
        "    num_roots_large, all_ana_large, all_corr_large = roots_to_plot[1]\n",
        "\n",
        "    fig, axs = plt.subplots(1, 2, figsize=(10, 5))\n",
        "\n",
        "    axs[0].scatter(np.real(num_roots_small), np.imag(num_roots_small),\n",
        "                   c='lightblue', s=120, zorder=0)\n",
        "    axs[0].scatter([root[0] for root in  all_ana_small], [root[1] for root in  all_ana_small],\n",
        "                   c='orange', zorder=1, s=80)\n",
        "    axs[0].scatter([root[0] for root in  all_corr_small], [root[1] for root in  all_corr_small],\n",
        "                   edgecolors='purple', facecolors='none', zorder=2, s=80)\n",
        "\n",
        "    axs[1].scatter(np.real(num_roots_large), np.imag(num_roots_large),\n",
        "                   c='lightblue', s=120, zorder=0, label=\"numeric roots\")\n",
        "    axs[1].scatter([root[0] for root in  all_ana_large], [root[1] for root in  all_ana_large],\n",
        "                   c='orange', zorder=1, s=80, label=\"analytic roots\")\n",
        "    axs[1].scatter([root[0] for root in  all_corr_large], [root[1] for root in  all_corr_large],\n",
        "                   edgecolors='purple', facecolors='none', zorder=2, s=80,\n",
        "                   label='corrected analytic roots')\n",
        "\n",
        "    axs[1].legend(bbox_to_anchor=(1.05, 1), loc=2, borderaxespad=0.)\n",
        "\n",
        "    axs[0].set_xlabel(\"Re($x^*$)\")\n",
        "    axs[0].set_ylabel(\"Im($x^*$)\")\n",
        "    axs[0].set_title(\"Roots for small $\\epsilon = 0.001$\")\n",
        "    axs[1].set_xlabel(\"Re($x^*$)\")\n",
        "    axs[1].set_title(\"Roots for large $\\epsilon = 1000$\")\n",
        "    plt.suptitle(\"Comparison of analytic and numerical roots of $P(x)=\" + latex(polynomial) + \"$.\")\n",
        "    plt.savefig(\"verifications_1st_order.png\")\n",
        "    plt.show()\n",
        "    return"
      ]
    },
    {
      "cell_type": "code",
      "execution_count": null,
      "metadata": {
        "colab": {
          "base_uri": "https://localhost:8080/",
          "height": 448
        },
        "id": "0q9-T6geqsBg",
        "outputId": "83748dce-7ca8-4863-c9cf-c0f64fd9597a"
      },
      "outputs": [
        {
          "output_type": "display_data",
          "data": {
            "text/plain": [
              "<Figure size 1000x500 with 2 Axes>"
            ],
            "image/png": "[encoded data removed]"
          },
          "metadata": {}
        }
      ],
      "source": [
        "plot_root_corr(root_to_plot)"
      ]
    },
    {
      "cell_type": "markdown",
      "metadata": {
        "id": "eO3g0wgdBK8M"
      },
      "source": [
        "#### Plot roots for a range of $\\epsilon$ values"
      ]
    },
    {
      "cell_type": "code",
      "execution_count": null,
      "metadata": {
        "id": "2Ao2AiWyEVvv"
      },
      "outputs": [],
      "source": [
        "def plot_roots(polynomial, soln_info, x_var=x, eps_var=eps):\n",
        "\n",
        "    poly_coeffs = Poly(polynomial, x_var).all_coeffs()\n",
        "    poly_coeffs.pop(0)\n",
        "\n",
        "    eps_list = [pow(10, eps) for eps in np.linspace(-2, 3, 500)] # all eps\n",
        "    y_num_all = np.array([np.roots([epsilon]+poly_coeffs) for epsilon in eps_list])\n",
        "\n",
        "    eps_mat = np.array(eps_list)[:, None].repeat(len(poly_coeffs), axis=1)\n",
        "    plt.scatter(np.real(y_num_all), np.imag(y_num_all), s=35, cmap='Blues', c=eps_mat, vmin=10^(-4), vmax=10^7)\n",
        "\n",
        "    eps_small = np.array(eps_list[:int(len(eps_list)/4)])\n",
        "    eps_large = np.array(eps_list[-int(len(eps_list)/3):])\n",
        "\n",
        "    for i, (validity, roots, corrections) in enumerate(soln_info):\n",
        "\n",
        "        if validity == \"small\":\n",
        "            for root, corr in zip(roots, corrections):\n",
        "                root_func = lambdify(eps, root, \"numpy\")\n",
        "                corr_func = lambdify(eps, corr, \"numpy\")\n",
        "\n",
        "                small_roots_real = np.real(root_func(eps_small))\n",
        "                small_roots_imag = np.imag(root_func(eps_small))\n",
        "                plt.scatter(small_roots_real, small_roots_imag, s=1, color='#8fce00')\n",
        "\n",
        "                delta_re = np.real(corr_func(eps_small))\n",
        "                delta_im = np.imag(corr_func(eps_small))\n",
        "                plt.scatter(small_roots_real+delta_re, small_roots_imag+delta_im,\n",
        "                            s=1, color='purple')\n",
        "\n",
        "        else:\n",
        "            for root, corr in zip(roots, corrections):\n",
        "                large_roots_real = [re(root.subs(eps, eps_val)) for eps_val in eps_large]\n",
        "                large_roots_imag = [im(root.subs(eps, eps_val)) for eps_val in eps_large]\n",
        "                plt.scatter(large_roots_real, large_roots_imag, s=1, color='pink')\n",
        "\n",
        "                delta_re = [re(corr.subs(eps, eps_val)) for eps_val in eps_large]\n",
        "                delta_im = [im(corr.subs(eps, eps_val)) for eps_val in eps_large]\n",
        "                plt.scatter(large_roots_real+delta_re, large_roots_imag+delta_im,\n",
        "                            s=1, color='orange')\n",
        "\n",
        "    labels = ['numerical solutions, coloured by $\\epsilon$',\n",
        "              'analytical solutions for small $\\epsilon$',\n",
        "              'corrected solutions for small $\\epsilon$',\n",
        "              'analytical solutions for large $\\epsilon$',\n",
        "              'corrected solutions for large $\\epsilon$']\n",
        "    num = Patch(color='#6ca9e0')\n",
        "    ana_small = Patch(color='#8fce00')\n",
        "    corr_small = Patch(color='purple')\n",
        "    ana_large = Patch(color='pink')\n",
        "    corr_large = Patch(color='darkorange')\n",
        "    plt.legend([num, ana_small, corr_small, ana_large, corr_large], labels,\n",
        "               bbox_to_anchor=(1.05, 1), loc=2, borderaxespad=0.)\n",
        "    plt.xlabel(\"Re($x^*$)\")\n",
        "    plt.ylabel(\"Im($x^*$)\")\n",
        "    plt.title(\"All roots of $P(x)$ plotted on the complex plane.\")\n",
        "    plt.savefig(\"all_eps_plot.png\")\n",
        "    plt.show()\n"
      ]
    },
    {
      "cell_type": "code",
      "execution_count": null,
      "metadata": {
        "colab": {
          "base_uri": "https://localhost:8080/",
          "height": 211
        },
        "id": "UnG_j9TZEa_X",
        "outputId": "6cfb673f-2893-4468-fbc8-8d91c2ef6e32"
      },
      "outputs": [
        {
          "output_type": "error",
          "ename": "NameError",
          "evalue": "ignored",
          "traceback": [
            "\u001b[0;31m---------------------------------------------------------------------------\u001b[0m",
            "\u001b[0;31mNameError\u001b[0m                                 Traceback (most recent call last)",
            "\u001b[0;32m<ipython-input-2-92d054bf415f>\u001b[0m in \u001b[0;36m<cell line: 1>\u001b[0;34m()\u001b[0m\n\u001b[0;32m----> 1\u001b[0;31m \u001b[0mx\u001b[0m\u001b[0;34m,\u001b[0m \u001b[0meps\u001b[0m \u001b[0;34m=\u001b[0m \u001b[0msymbols\u001b[0m\u001b[0;34m(\u001b[0m\u001b[0;34m'x epsilon'\u001b[0m\u001b[0;34m)\u001b[0m\u001b[0;34m\u001b[0m\u001b[0;34m\u001b[0m\u001b[0m\n\u001b[0m\u001b[1;32m      2\u001b[0m \u001b[0mpolynomial\u001b[0m \u001b[0;34m=\u001b[0m \u001b[0meps\u001b[0m \u001b[0;34m*\u001b[0m \u001b[0mx\u001b[0m\u001b[0;34m**\u001b[0m\u001b[0;36m5\u001b[0m \u001b[0;34m-\u001b[0m \u001b[0mx\u001b[0m \u001b[0;34m+\u001b[0m \u001b[0;36m1\u001b[0m\u001b[0;34m\u001b[0m\u001b[0;34m\u001b[0m\u001b[0m\n\u001b[1;32m      3\u001b[0m \u001b[0mplot_roots\u001b[0m\u001b[0;34m(\u001b[0m\u001b[0mpolynomial\u001b[0m\u001b[0;34m,\u001b[0m \u001b[0msoln_info\u001b[0m\u001b[0;34m,\u001b[0m \u001b[0mx_var\u001b[0m\u001b[0;34m=\u001b[0m\u001b[0mx\u001b[0m\u001b[0;34m,\u001b[0m \u001b[0meps_var\u001b[0m\u001b[0;34m=\u001b[0m\u001b[0meps\u001b[0m\u001b[0;34m)\u001b[0m\u001b[0;34m\u001b[0m\u001b[0;34m\u001b[0m\u001b[0m\n",
            "\u001b[0;31mNameError\u001b[0m: name 'symbols' is not defined"
          ]
        }
      ],
      "source": [
        "x, eps = symbols('x epsilon')\n",
        "polynomial = eps * x**5 - x + 1\n",
        "plot_roots(polynomial, soln_info, x_var=x, eps_var=eps)"
      ]
    },
    {
      "cell_type": "code",
      "execution_count": null,
      "metadata": {
        "colab": {
          "base_uri": "https://localhost:8080/",
          "height": 157
        },
        "id": "JGA47zD7ge9L",
        "outputId": "291ee3f3-1fc0-4246-9463-9b11eba6a3fa"
      },
      "outputs": [
        {
          "output_type": "execute_result",
          "data": {
            "text/plain": [
              "'eps_list = [pow(10, eps) for eps in np.linspace(-2, 3, int((7)/0.001))] # all eps\\ny_num_all = np.array([np.roots([eps, 0, 0, 0, -1, 1]) for eps in eps_list])\\n\\neps_mat = np.array(eps_list)[:, None].repeat(5, axis=1) # repeat needs to be same as poly degree\\nplt.scatter(np.real(y_num_all), np.imag(y_num_all), s=35, cmap=\\'Blues\\', c=eps_mat, vmin=10^(-4), vmax=10^7, label=r\"numerical solutions, coloured by $\\\\epsilon$\")\\n\\neps_small = eps_list[:int(len(eps_list)/4)]\\neps_large = eps_list[-int(len(eps_list)/3):]\\n\\nfor i, (validity, roots, corrections) in enumerate(soln_info):\\n  # evaluate small roots at small eps and large at large\\n  if validity == \"small\":\\n    for j in range(len(roots)):\\n      root = roots[j]\\n      small_roots_real = [re(root.subs(eps, eps_val)) for eps_val in eps_small]\\n      small_roots_imag = [im(root.subs(eps, eps_val)) for eps_val in eps_small]\\n      plt.scatter(small_roots_real, small_roots_imag, s=1, color=\\'purple\\',\\n                  label=\\'analytical solutions for small $\\\\epsilon$\\')\\n\\n      corr = corrections[j]\\n      delta_re = [re(corr.subs(eps, eps_val)) for eps_val in eps_small]\\n      delta_im = [im(corr.subs(eps, eps_val)) for eps_val in eps_small]\\n      plt.scatter(small_roots_real+delta_re, small_roots_imag+delta_im,\\n                  s=1, color=\\'pink\\', label=\\'corrected solutions for small $\\\\epsilon$\\')\\n\\n  else:\\n    for j in range(len(roots)):\\n      root = roots[j]\\n      large_roots_real = [re(root.subs(eps, eps_val)) for eps_val in eps_large]\\n      large_roots_imag = [im(root.subs(eps, eps_val)) for eps_val in eps_large]\\n      plt.scatter(large_roots_real, large_roots_imag, s=1, color=\\'orange\\',\\n                  label=\\'analytical solutions for large $\\\\epsilon$\\')\\n\\n      corr = corrections[j]\\n      delta_re = [re(corr.subs(eps, eps_val)) for eps_val in eps_large]\\n      delta_im = [im(corr.subs(eps, eps_val)) for eps_val in eps_large]\\n      plt.scatter(large_roots_real+delta_re, large_roots_imag+delta_im,\\n                  s=1, color=\\'red\\', label=\\'corrected solutions for small $\\\\epsilon$\\')\\n\\nplt.legend(bbox_to_anchor=(1.05, 1), loc=2, borderaxespad=0.)\\nplt.xlabel(\"Re($x^*$)\")\\nplt.ylabel(\"Im($x^*$)\")\\nplt.title(\"All roots of $P(x)$ plotted on the complex plane.\")\\nplt.show()'"
            ],
            "application/vnd.google.colaboratory.intrinsic+json": {
              "type": "string"
            }
          },
          "metadata": {},
          "execution_count": 1
        }
      ],
      "source": [
        "\"\"\"eps_list = [pow(10, eps) for eps in np.linspace(-2, 3, int((7)/0.001))] # all eps\n",
        "y_num_all = np.array([np.roots([eps, 0, 0, 0, -1, 1]) for eps in eps_list])\n",
        "\n",
        "eps_mat = np.array(eps_list)[:, None].repeat(5, axis=1) # repeat needs to be same as poly degree\n",
        "plt.scatter(np.real(y_num_all), np.imag(y_num_all), s=35, cmap='Blues', c=eps_mat, vmin=10^(-4), vmax=10^7, label=r\"numerical solutions, coloured by $\\epsilon$\")\n",
        "\n",
        "eps_small = eps_list[:int(len(eps_list)/4)]\n",
        "eps_large = eps_list[-int(len(eps_list)/3):]\n",
        "\n",
        "for i, (validity, roots, corrections) in enumerate(soln_info):\n",
        "  # evaluate small roots at small eps and large at large\n",
        "  if validity == \"small\":\n",
        "    for j in range(len(roots)):\n",
        "      root = roots[j]\n",
        "      small_roots_real = [re(root.subs(eps, eps_val)) for eps_val in eps_small]\n",
        "      small_roots_imag = [im(root.subs(eps, eps_val)) for eps_val in eps_small]\n",
        "      plt.scatter(small_roots_real, small_roots_imag, s=1, color='purple',\n",
        "                  label='analytical solutions for small $\\epsilon$')\n",
        "\n",
        "      corr = corrections[j]\n",
        "      delta_re = [re(corr.subs(eps, eps_val)) for eps_val in eps_small]\n",
        "      delta_im = [im(corr.subs(eps, eps_val)) for eps_val in eps_small]\n",
        "      plt.scatter(small_roots_real+delta_re, small_roots_imag+delta_im,\n",
        "                  s=1, color='pink', label='corrected solutions for small $\\epsilon$')\n",
        "\n",
        "  else:\n",
        "    for j in range(len(roots)):\n",
        "      root = roots[j]\n",
        "      large_roots_real = [re(root.subs(eps, eps_val)) for eps_val in eps_large]\n",
        "      large_roots_imag = [im(root.subs(eps, eps_val)) for eps_val in eps_large]\n",
        "      plt.scatter(large_roots_real, large_roots_imag, s=1, color='orange',\n",
        "                  label='analytical solutions for large $\\epsilon$')\n",
        "\n",
        "      corr = corrections[j]\n",
        "      delta_re = [re(corr.subs(eps, eps_val)) for eps_val in eps_large]\n",
        "      delta_im = [im(corr.subs(eps, eps_val)) for eps_val in eps_large]\n",
        "      plt.scatter(large_roots_real+delta_re, large_roots_imag+delta_im,\n",
        "                  s=1, color='red', label='corrected solutions for small $\\epsilon$')\n",
        "\n",
        "plt.legend(bbox_to_anchor=(1.05, 1), loc=2, borderaxespad=0.)\n",
        "plt.xlabel(\"Re($x^*$)\")\n",
        "plt.ylabel(\"Im($x^*$)\")\n",
        "plt.title(\"All roots of $P(x)$ plotted on the complex plane.\")\n",
        "plt.show()\"\"\""
      ]
    },
    {
      "cell_type": "markdown",
      "metadata": {
        "id": "VfRGHjKu_KcM"
      },
      "source": [
        "---\n",
        "# Generate problems, save results to pandas dataframe, export to excel in desired format"
      ]
    },
    {
      "cell_type": "markdown",
      "source": [
        "### Generate type 1"
      ],
      "metadata": {
        "id": "gb7jv5OFm1HG"
      }
    },
    {
      "cell_type": "code",
      "source": [
        "# Number of desired problems to generate for each type:\n",
        "n_problems = 1000\n",
        "# Create empty dataframe\n",
        "df = pd.DataFrame(columns=['Question', 'Answer'])\n",
        "\n",
        "# Problem type 1\n",
        "for i in tqdm(range(n_problems)):\n",
        "    n1, n2 = generate_n1n2(max_degree=10)\n",
        "    question, answer = nondimensionalize_polynomial1(n1, n2)\n",
        "    row_df = pd.DataFrame({'Question': [question], 'Answer': [answer]})\n",
        "    df = pd.concat([df, row_df], ignore_index=True)\n",
        "\n",
        "# Save dataframe to excel file of specified format\n",
        "df.to_excel('polynomial_dataset.xlsx', index=False)"
      ],
      "metadata": {
        "colab": {
          "base_uri": "https://localhost:8080/"
        },
        "id": "kRhOow45m0Kq",
        "outputId": "9b5cb02c-2c72-41fd-9012-4a8043503585"
      },
      "execution_count": null,
      "outputs": [
        {
          "output_type": "stream",
          "name": "stderr",
          "text": [
            "100%|██████████████████████████████████████| 1000/1000 [00:08<00:00, 118.52it/s]\n"
          ]
        }
      ]
    },
    {
      "cell_type": "markdown",
      "source": [
        "### Generate type 2"
      ],
      "metadata": {
        "id": "dOptd7VwnFM2"
      }
    },
    {
      "cell_type": "code",
      "source": [
        "# Number of desired problems to generate for each type:\n",
        "n_problems = 1000\n",
        "# Create empty dataframe\n",
        "df = pd.DataFrame(columns=['Question', 'Answer'])\n",
        "\n",
        "# Problem type 2\n",
        "for i in tqdm(range(n_problems)):\n",
        "    try:\n",
        "      coefficients = generate_polynomial(max_degree=10, num_terms=3, coeff_bounds=[-10,10])\n",
        "      new_question, new_answer = nondimensionalize_polynomial2(coefficients)\n",
        "      # Add new question answer pair to data\n",
        "      row_df = pd.DataFrame({'Question': [new_question], 'Answer': [new_answer]})\n",
        "      df = pd.concat([df, row_df], ignore_index=True)\n",
        "    except:\n",
        "      continue\n",
        "\n",
        "# Save dataframe to excel file of specified format\n",
        "df.to_excel('polynomial_dataset.xlsx', index=False)"
      ],
      "metadata": {
        "colab": {
          "base_uri": "https://localhost:8080/"
        },
        "id": "nXlCXwqcnEjS",
        "outputId": "a83dd1e7-e44d-4e3d-e713-4e4a13a09218"
      },
      "execution_count": null,
      "outputs": [
        {
          "output_type": "stream",
          "name": "stderr",
          "text": [
            "100%|███████████████████████████████████████| 1000/1000 [00:18<00:00, 54.61it/s]\n"
          ]
        }
      ]
    },
    {
      "cell_type": "markdown",
      "source": [
        "### Generate type 3"
      ],
      "metadata": {
        "id": "c4N38QWen6eN"
      }
    },
    {
      "cell_type": "code",
      "source": [
        "# Number of desired problems to generate for each type:\n",
        "n_problems = 1000\n",
        "# Create empty dataframe\n",
        "df = pd.DataFrame(columns=['Question', 'Answer'])\n",
        "\n",
        "# Problem type 3\n",
        "for i in tqdm(range(n_problems)):\n",
        "    try:\n",
        "      polynomial = generate_nondimensionalized(20)\n",
        "      soln_info, q, a = solve_roots(polynomial)\n",
        "      # Add new question answer pair to data\n",
        "      row_df = pd.DataFrame({'Question': [q], 'Answer': [a]})\n",
        "      df = pd.concat([df, row_df], ignore_index=True)\n",
        "    except:\n",
        "      continue\n",
        "\n",
        "# Save dataframe to excel file of specified format\n",
        "df.to_excel('polynomial_dataset.xlsx', index=False)"
      ],
      "metadata": {
        "colab": {
          "base_uri": "https://localhost:8080/"
        },
        "id": "ZyrL9J4xq6G4",
        "outputId": "48bd29fd-28a6-4b5e-b288-8949ff72a674"
      },
      "execution_count": null,
      "outputs": [
        {
          "output_type": "stream",
          "name": "stderr",
          "text": [
            "100%|███████████████████████████████████████| 1000/1000 [08:46<00:00,  1.90it/s]\n"
          ]
        }
      ]
    },
    {
      "cell_type": "markdown",
      "source": [
        "### Generate type 3 & 4 together"
      ],
      "metadata": {
        "id": "UTc5_2SStx8P"
      }
    },
    {
      "cell_type": "code",
      "source": [
        "TIMEOUT = 5 # seconds\n",
        "\n",
        "def timeout(func, args=(), kwargs={}, timeout_duration=TIMEOUT):\n",
        "    def handler(signum, frame):\n",
        "        raise TimeoutError()\n",
        "\n",
        "    old_handler = signal.signal(signal.SIGALRM, handler)\n",
        "    try:\n",
        "        signal.alarm(timeout_duration)\n",
        "        result = func(*args, **kwargs)\n",
        "    finally:\n",
        "        signal.signal(signal.SIGALRM, old_handler)\n",
        "    signal.alarm(0)\n",
        "    return result"
      ],
      "metadata": {
        "id": "LR77hqKRn-Xj"
      },
      "execution_count": null,
      "outputs": []
    },
    {
      "cell_type": "code",
      "source": [
        "# Number of desired problems to generate for each type:\n",
        "n_problems = 100\n",
        "\n",
        "# Create empty dataframe\n",
        "df = pd.DataFrame(columns=['Question', 'Answer'])\n",
        "\n",
        "for i in tqdm(range(n_problems)):\n",
        "    while True:\n",
        "        try:\n",
        "            # Problem type 3\n",
        "            polynomial = generate_nondimensionalized(10)\n",
        "            soln_info, q, a = solve_roots(polynomial)\n",
        "\n",
        "            # Problem type 4\n",
        "            x, eps = symbols('x epsilon')\n",
        "            order = random.choice([1, 2])\n",
        "            soln_info, newq, newa = timeout(get_delta_corrections,\n",
        "                                            args=(soln_info, polynomial, x),\n",
        "                                            kwargs={'eps_var': eps, 'term_trunc': order+1})\n",
        "\n",
        "            # check validity of roots and corrections (3 and 4)\n",
        "            good_roots, good_corr, comparisons = check_roots(soln_info,\n",
        "                                                             polynomial,\n",
        "                                                             x_var=x, eps_var=eps)\n",
        "            if (good_roots and good_corr):\n",
        "              # add both rows to df\n",
        "              row_df = pd.DataFrame({'Question': [q], 'Answer': [a]})\n",
        "              df = pd.concat([df, row_df], ignore_index=True)\n",
        "              row_df = pd.DataFrame({'Question': [newq], 'Answer': [newa]})\n",
        "              df = pd.concat([df, row_df], ignore_index=True)\n",
        "\n",
        "            else:\n",
        "              print(f\"approx for polynomial {polynomial} not good enough\")\n",
        "\n",
        "            break  # breaks while loop if no exception\n",
        "\n",
        "        except TimeoutError:\n",
        "            continue # handle timeout by starting over\n",
        "\n",
        "\n",
        "# Save dataframe to excel file of specified format\n",
        "df.to_excel('polynomial_dataset.xlsx', index=False)"
      ],
      "metadata": {
        "colab": {
          "base_uri": "https://localhost:8080/"
        },
        "id": "tF-NV9Ikvqqy",
        "outputId": "ea1820b8-df01-4207-b362-db2cc7f13350"
      },
      "execution_count": null,
      "outputs": [
        {
          "output_type": "stream",
          "name": "stderr",
          "text": [
            "100%|█████████████████████████████████████████| 100/100 [08:04<00:00,  4.85s/it]\n"
          ]
        }
      ]
    }
  ],
  "metadata": {
    "colab": {
      "provenance": []
    },
    "kernelspec": {
      "display_name": "Python 3",
      "name": "python3"
    },
    "language_info": {
      "name": "python"
    }
  },
  "nbformat": 4,
  "nbformat_minor": 0
}