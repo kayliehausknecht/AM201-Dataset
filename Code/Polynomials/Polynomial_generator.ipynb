{
  "nbformat": 4,
  "nbformat_minor": 0,
  "metadata": {
    "colab": {
      "provenance": []
    },
    "kernelspec": {
      "name": "python3",
      "display_name": "Python 3"
    },
    "language_info": {
      "name": "python"
    }
  },
  "cells": [
    {
      "cell_type": "code",
      "source": [
        "# Imports\n",
        "import numpy as np\n",
        "from sympy import symbols, Poly\n",
        "import random"
      ],
      "metadata": {
        "id": "kH1dAP5utJWO"
      },
      "execution_count": 4,
      "outputs": []
    },
    {
      "cell_type": "code",
      "execution_count": 41,
      "metadata": {
        "colab": {
          "base_uri": "https://localhost:8080/"
        },
        "id": "CpFnqvbgo19g",
        "outputId": "8510f4ef-8566-418b-90e2-b0363f9dd293"
      },
      "outputs": [
        {
          "output_type": "execute_result",
          "data": {
            "text/plain": [
              "[0, -4, 0, 0, 0, 0, 8, 0, 0, 0, 10]"
            ]
          },
          "metadata": {},
          "execution_count": 41
        }
      ],
      "source": [
        "# Function to generate polynomials\n",
        "def generate_polynomial(degree, num_terms, coeff_lower_bound, coeff_upper_bound):\n",
        "    \"\"\"\n",
        "    Generates a polynomial of a given degree with a specific number of terms.\n",
        "    The coefficients of the polynomial are within the specified bounds.\n",
        "\n",
        "    Parameters:\n",
        "    degree (int): The maximum degree of the polynomial.\n",
        "    num_terms (int): The number of terms the polynomial should have.\n",
        "    coeff_lower_bound (int): The lower bound for the coefficients.\n",
        "    coeff_upper_bound (int): The upper bound for the coefficients.\n",
        "\n",
        "    Returns:\n",
        "    list: A list representing the coefficients of the polynomial.\n",
        "    \"\"\"\n",
        "\n",
        "    # Initialize an array of zeros for the coefficients\n",
        "    coefficients = [0] * (degree + 1)\n",
        "\n",
        "    # Ensure the number of terms is valid\n",
        "    if num_terms > degree + 1:\n",
        "        raise ValueError(\"Number of terms cannot be more than the degree of the polynomial + 1\")\n",
        "\n",
        "    # Randomly choose positions for the non-zero coefficients\n",
        "    non_zero_positions = random.sample(range(degree + 1), num_terms)\n",
        "\n",
        "    # Assign random values within the bounds to the chosen positions\n",
        "    for pos in non_zero_positions:\n",
        "        coefficients[pos] = random.randint(coeff_lower_bound, coeff_upper_bound)\n",
        "\n",
        "    # Ensure the highest degree term is non-zero\n",
        "    if coefficients[-1] == 0:\n",
        "        coefficients[-1] = random.randint(coeff_lower_bound, coeff_upper_bound)\n",
        "\n",
        "    return coefficients\n",
        "\n",
        "# Example usage\n",
        "generate_polynomial(degree=10, num_terms=3, coeff_lower_bound=-10, coeff_upper_bound=10)\n"
      ]
    },
    {
      "cell_type": "code",
      "source": [
        "def polynomial_from_coefficients(coefficients):\n",
        "    \"\"\"\n",
        "    Converts a list of coefficients into a polynomial expression using sympy.\n",
        "\n",
        "    Parameters:\n",
        "    coefficients (list): A list of coefficients, where the index represents the power of x.\n",
        "\n",
        "    Returns:\n",
        "    sympy expression: The polynomial expression.\n",
        "    \"\"\"\n",
        "    x = symbols('x')\n",
        "    coefficients_reverse = coefficients\n",
        "    coefficients_reverse.reverse()\n",
        "    polynomial = sum(coef * x**i for i, coef in enumerate(coefficients_reverse))\n",
        "    return Poly(polynomial)"
      ],
      "metadata": {
        "id": "ThcPY-RlvQLM"
      },
      "execution_count": 42,
      "outputs": []
    },
    {
      "cell_type": "code",
      "source": [
        "# Test functions\n",
        "coefficients = generate_polynomial(degree=10, num_terms=3, coeff_lower_bound=-10, coeff_upper_bound=10)\n",
        "print(\"Coefficients\", coefficients)\n",
        "\n",
        "polynomial_expression = polynomial_from_coefficients(coefficients)\n",
        "polynomial_expression"
      ],
      "metadata": {
        "colab": {
          "base_uri": "https://localhost:8080/",
          "height": 57
        },
        "id": "rygKScfSv53m",
        "outputId": "f9d2531c-88ec-4961-8fe2-4efb0a4a7a50"
      },
      "execution_count": 45,
      "outputs": [
        {
          "output_type": "stream",
          "name": "stdout",
          "text": [
            "Coefficients [0, 0, 0, 9, 0, 0, -5, 0, 0, 0, 9]\n"
          ]
        },
        {
          "output_type": "execute_result",
          "data": {
            "text/plain": [
              "Poly(9*x**7 - 5*x**4 + 9, x, domain='ZZ')"
            ],
            "text/latex": "$\\displaystyle \\operatorname{Poly}{\\left( 9 x^{7} - 5 x^{4} + 9, x, domain=\\mathbb{Z} \\right)}$"
          },
          "metadata": {},
          "execution_count": 45
        }
      ]
    },
    {
      "cell_type": "code",
      "source": [],
      "metadata": {
        "id": "wxBAYP0kwTSX"
      },
      "execution_count": 43,
      "outputs": []
    }
  ]
}