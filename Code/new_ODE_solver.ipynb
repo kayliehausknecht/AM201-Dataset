{
 "cells": [
  {
   "cell_type": "markdown",
   "metadata": {
    "id": "J62oxRuooIdF"
   },
   "source": [
    "# Random ODE Generator"
   ]
  },
  {
   "cell_type": "markdown",
   "metadata": {
    "id": "QJBh4fOgoLTm"
   },
   "source": [
    "## Setting Problem Up"
   ]
  },
  {
   "cell_type": "code",
   "execution_count": 238,
   "metadata": {
    "id": "VP4b69KKPeVU"
   },
   "outputs": [],
   "source": [
    "### Imports ###\n",
    "import numpy as np\n",
    "from sympy import *\n",
    "import sympy\n",
    "import random as rand\n",
    "import random\n",
    "import IPython.display as disp\n",
    "init_printing()\n",
    "import matplotlib.pyplot as plt"
   ]
  },
  {
   "cell_type": "code",
   "execution_count": 239,
   "metadata": {
    "id": "EwB1x_1UO6JB"
   },
   "outputs": [],
   "source": [
    "### Setting predetermined values ###\n",
    "\n",
    "# Setting the order of the equation (fixed)\n",
    "n = 3\n",
    "\n",
    "########\n",
    "\n",
    "# Number of y-type terms (x, y, y', etc.)\n",
    "T = n + 2\n",
    "\n",
    "# Minimum number of subterms total (total number of terms in the final equation)\n",
    "min_subterms = 2\n",
    "\n",
    "# Maximum number of subterms total (total number of terms in the final equation)\n",
    "max_subterms = 3\n",
    "\n",
    "# Maximum number of times a function recursively called to create a function\n",
    "max_fun = 2\n",
    "\n",
    "# Sets the cumulative probabilities for the following function types:\n",
    "# (1) No change (2) power (3) exponential (4) logarithmic (5) trig (6) hyperbolic\n",
    "function_cdf = [0.1, 0.5, 0.62, 0.74, 1, 1]\n",
    "\n",
    "# Sets the probability that the function creating function will recursively call\n",
    "# itself again\n",
    "recurs_prob = 0.1\n",
    "\n",
    "# The probability of adding a constant to the function\n",
    "add_c_prob = 0.5"
   ]
  },
  {
   "cell_type": "code",
   "execution_count": 240,
   "metadata": {
    "id": "D9EIKzcEPe97"
   },
   "outputs": [
    {
     "data": {
      "text/plain": [
       "array([x, y0, y1, y2, y3], dtype=object)"
      ]
     },
     "execution_count": 240,
     "metadata": {},
     "output_type": "execute_result"
    }
   ],
   "source": [
    "### Defining the symbols, functions, and terms ###\n",
    "\n",
    "# Define symbol and function variables\n",
    "x = Symbol('x')\n",
    "\n",
    "# Stores the y-type terms (x, y, y', etc.) in an array called y_terms\n",
    "y_terms = np.empty(T, dtype=Symbol)\n",
    "y_terms[0] = x\n",
    "\n",
    "for i in range(1, T):\n",
    "    #y_terms[i] = y(x).diff(x, i - 1)\n",
    "    y_terms[i] = Symbol('y'+str(i-1))\n",
    "    \n",
    "y_terms"
   ]
  },
  {
   "cell_type": "markdown",
   "metadata": {
    "id": "DpB3Ml7MoOix"
   },
   "source": [
    "## Functions"
   ]
  },
  {
   "cell_type": "code",
   "execution_count": 241,
   "metadata": {
    "id": "iBcLOk1zWX0Y"
   },
   "outputs": [],
   "source": [
    "def num_subterms (sum_min, sum_max):\n",
    "    '''\n",
    "    This creates an array of the number of subterms for each y-type term.\n",
    "    If the number of subterms is less than the specified minimum or greater than\n",
    "    the specified maximum, the function will call itself recursively until\n",
    "    a valid number of subterms are determined.\n",
    "\n",
    "    Parameters\n",
    "    ----------\n",
    "    sum_min:  int\n",
    "              The minimum number of total subterms\n",
    "    sum_max:  int\n",
    "              The maximum number of total subterms\n",
    "\n",
    "    Returns\n",
    "    ----------\n",
    "    temp: numpy array of int\n",
    "          Returns the number of subterms for each y-type term\n",
    "    '''\n",
    "\n",
    "    temp = np.empty(T, dtype=int)\n",
    "    # Initially set that the nth derivative term has one subterm\n",
    "    temp[-1] = 1\n",
    "\n",
    "    # Set number of subterms (0, 1, or 2) for remaining terms\n",
    "    for i in range(T - 1):\n",
    "        # Sets the probability of having 0 subterms or 1 subterm\n",
    "        probabilities = [0] * 1 + [1] * 2\n",
    "        temp[i] = rand.choice(probabilities)\n",
    "\n",
    "    if (sum(temp) < sum_min or sum_min > sum_max):\n",
    "        return num_subterms (sum_min, sum_max)\n",
    "    # return temp\n",
    "    return [1, 1, 1, 1, 1] # changed this so every order is present in the final ODE"
   ]
  },
  {
   "cell_type": "code",
   "execution_count": 242,
   "metadata": {},
   "outputs": [],
   "source": [
    "def add_coeff_and_constant(subterm, const_prob = 0.5):\n",
    "    # Determines coefficient\n",
    "    coeffs = np.linspace(-5,-1,11, dtype=int)\n",
    "    if rand.random() < 0.5:\n",
    "        subterm *= rand.choice(coeffs)\n",
    "    # elif rand.random() > 0.8:\n",
    "    #     subterm /= rand.choice(coeffs)\n",
    "\n",
    "    # Determines added constant\n",
    "    if rand.random() < const_prob:\n",
    "        subterm += rand.choice(coeffs)\n",
    "\n",
    "    return subterm"
   ]
  },
  {
   "cell_type": "code",
   "execution_count": 243,
   "metadata": {},
   "outputs": [
    {
     "data": {
      "image/png": "[encoded data removed]",
      "text/latex": [
       "$\\displaystyle 6 x - 6$"
      ],
      "text/plain": [
       "6⋅x - 6"
      ]
     },
     "execution_count": 243,
     "metadata": {},
     "output_type": "execute_result"
    }
   ],
   "source": [
    "def generate_random_sympy_polynomial():\n",
    "    \"\"\"\n",
    "    Generates a simple sympy polynomial of x with two or three terms and a maximum power of 4.\n",
    "    Coefficients range from -5 to 5.\n",
    "\n",
    "    Returns:\n",
    "        sympy.Expr: A sympy expression representing the polynomial.\n",
    "    \"\"\"\n",
    "\n",
    "    x = symbols('x')\n",
    "    num_terms = random.choice([2, 3])\n",
    "    polynomial = 0\n",
    "\n",
    "    for _ in range(num_terms):\n",
    "        coeff = random.choice([i for i in range(-5, 6) if i != 0])\n",
    "        power = random.randint(0, 4)\n",
    "        polynomial += coeff * x**power\n",
    "\n",
    "    return add_coeff_and_constant(polynomial, 1)\n",
    "\n",
    "# Generate and display a sympy polynomial\n",
    "random_sympy_polynomial = generate_random_sympy_polynomial()\n",
    "random_sympy_polynomial"
   ]
  },
  {
   "cell_type": "code",
   "execution_count": 244,
   "metadata": {},
   "outputs": [],
   "source": [
    "def polynomial_from_coefficients(coefficients, special_func_prob=0.5, power_prob=0.5):\n",
    "    \"\"\"\n",
    "    Converts a list of coefficients into a polynomial expression using sympy.\n",
    "    Optionally adds a special function to the polynomial.\n",
    "\n",
    "    Parameters:\n",
    "    coefficients (list): A list of coefficients, where the index represents the power of x.\n",
    "    special_func_prob (float): Probability of adding a special function to the polynomial.\n",
    "    power_prob (float): Probability of raising the special function to a positive power.\n",
    "\n",
    "    Returns:\n",
    "    sympy expression: The polynomial expression.\n",
    "    \"\"\"\n",
    "    x = symbols('x')\n",
    "    polynomial = sum(coef * x**i for i, coef in enumerate(coefficients[::-1]))\n",
    "\n",
    "    # Check if a special function should be added\n",
    "    if random.random() < special_func_prob:\n",
    "        # List of special functions\n",
    "        special_funcs = [sin(x), cos(x), log(x+1), exp(x)]\n",
    "        # Choose one special function randomly\n",
    "        special_func = random.choice(special_funcs)\n",
    "\n",
    "        # Optionally raise the special function to a positive power\n",
    "        if random.random() < power_prob:\n",
    "            power = random.randint(1, 4)  # positive power between 1 and 4\n",
    "            special_func = special_func**power\n",
    "\n",
    "        # Add the special function to the polynomial\n",
    "        polynomial += special_func\n",
    "\n",
    "    return Poly(polynomial)"
   ]
  },
  {
   "cell_type": "code",
   "execution_count": 245,
   "metadata": {
    "id": "_GM9YlsrkFIb"
   },
   "outputs": [],
   "source": [
    "def create_subterm (y_term, cdf, iteration, max_it, const_prob):\n",
    "    '''\n",
    "    This returns a random subterm (a random function of the given y_term).\n",
    "    It may recursively call itself to make a more complicated funciton up to\n",
    "    max_it times.\n",
    "\n",
    "    The drawable functions include power, exponential, logarithmic,\n",
    "    trigonometric, and hyperbolic.\n",
    "\n",
    "    Parameters\n",
    "    ----------\n",
    "    y_term:     Object\n",
    "                The y-type term (x, y, y', etc.)\n",
    "    cdf:        int\n",
    "                The cumulative pobability of each function type (power,\n",
    "                exponential, logarithmic, trigonometric, and hyperbolic)\n",
    "    iteration:  int\n",
    "                The iteration number (how many times the function has\n",
    "                been called)\n",
    "    max_it:     int\n",
    "                The maximum number of times the function can be called\n",
    "    const_prob: float\n",
    "                The probability of adding a constant to the current subterm\n",
    "\n",
    "    Returns\n",
    "    ----------\n",
    "    subterm:  Object\n",
    "              Returns a subterm for a function of a given y_term\n",
    "    '''\n",
    "\n",
    "    # Default value (function does nothing)\n",
    "    subterm = y_term\n",
    "\n",
    "    # RETURNING y3 alone\n",
    "    if y_term == y_terms[4]:\n",
    "        return y_terms[4]\n",
    "\n",
    "    # Randomly determines if a function must be applied (and which function)\n",
    "    temp = rand.random()\n",
    "    \n",
    "    # New Feature: Raise y, y', or y'' to a positive power\n",
    "    if y_term in [y_terms[1], y_terms[2], y_terms[3]]:\n",
    "        if rand.random() < 0.5:  # the probability of raising to a power\n",
    "            power = rand.randint(1, 3)  # positive power between 1 and 4\n",
    "            subterm = y_term ** power\n",
    "            return simplify(subterm)\n",
    "        else:\n",
    "            polynomial = generate_random_sympy_polynomial()\n",
    "            print(polynomial)\n",
    "            subterm = 1 / polynomial * y_term\n",
    "            return simplify(subterm)\n",
    "\n",
    "    if y_term == y_terms[0]:\n",
    "        # Trig\n",
    "        if temp > 0.5:\n",
    "            # trig_fun = [sin(y_term)] + [cos(y_term)] + [tan(y_term)]\n",
    "            trig_fun = [sin(y_term)] + [cos(y_term)]\n",
    "            polynomial = generate_random_sympy_polynomial()\n",
    "            print(polynomial)\n",
    "            subterm = 1/(polynomial + rand.choice(trig_fun))\n",
    "            # subterm = add_coeff_and_constant(subterm, const_prob)\n",
    "            return simplify(subterm)\n",
    "        # Exponential\n",
    "        else:\n",
    "            subterm = 1/exp(y_term)\n",
    "            subterm = add_coeff_and_constant(subterm, const_prob)\n",
    "            return simplify(subterm)\n",
    "        # f(x)\n",
    "        # elif temp > cdf[0]:\n",
    "        #     coefficients = generate_polynomial(degree=4, num_terms=2,coeff_lower_bound=-3,coeff_upper_bound=3)\n",
    "        #     subterm = 1 / polynomial_from_coefficients(coefficients) * y_term\n",
    "\n",
    "\n",
    "    if subterm == 0:\n",
    "        return create_subterm(y_term, cdf, iteration, max_it, const_prob)\n",
    "\n",
    "    # Will consider reiterating if we have not yet reached the maximum\n",
    "    # number of iterations\n",
    "\n",
    "    # if iteration < max_it:\n",
    "    #     # If so, will add another function on top of this one\n",
    "    #     if rand.random() < recurs_prob:\n",
    "    #         # Recursively calls its own function to\n",
    "    #         # create a more complicated function\n",
    "    #         subterm = create_subterm(subterm, cdf, iteration + 1, max_it, const_prob)\n",
    "    #     # If not, will randomly determine if some additional p(x) should be added\n",
    "    #     elif rand.random() < 2/3:\n",
    "    #         # Only p(x)\n",
    "    #         subterm *= create_subterm(x, cdf, max_it, max_it, const_prob)\n",
    "\n",
    "    return simplify(subterm)"
   ]
  },
  {
   "cell_type": "code",
   "execution_count": 246,
   "metadata": {
    "id": "xhVpelJ0dcr4"
   },
   "outputs": [],
   "source": [
    "def create_subterms (y_term, num_sub):\n",
    "    # print(y_term)\n",
    "    '''\n",
    "    This returns all subterms of the equation.\n",
    "\n",
    "    Parameters\n",
    "    ----------\n",
    "    y_term:   numpy array of Object\n",
    "              The y-type terms (x, y, y', etc.)\n",
    "    num_sub:  numpy array of int\n",
    "              The number of subterms for each y-type term\n",
    "\n",
    "    Returns\n",
    "    ----------\n",
    "    subterms: numpy array of Object\n",
    "              Returns all of the subterms for the equation\n",
    "    '''\n",
    "\n",
    "    # Stores the subterms\n",
    "    subterms = np.empty(sum(num_sub), dtype=Mul)\n",
    "\n",
    "    # Keeps track of index of subterms we are at\n",
    "    counter = 0\n",
    "\n",
    "    for i, y_t in enumerate(y_term):\n",
    "        # print(num_sub[i])\n",
    "        for n_s in range(num_sub[i]):\n",
    "            # Determines function to be applied to the y_term\n",
    "            subterms[counter] = create_subterm(y_t, function_cdf, 1, max_fun, add_c_prob)\n",
    "            counter += 1\n",
    "\n",
    "    return subterms"
   ]
  },
  {
   "cell_type": "markdown",
   "metadata": {
    "id": "l72dU1KToQ_d"
   },
   "source": [
    "## Final Calculation and Output"
   ]
  },
  {
   "cell_type": "code",
   "execution_count": 219,
   "metadata": {
    "colab": {
     "base_uri": "https://localhost:8080/"
    },
    "id": "Iq3UwxriWWaZ",
    "outputId": "d7784c33-3c7a-479b-d4f2-65933d67ebc9"
   },
   "outputs": [
    {
     "name": "stdout",
     "output_type": "stream",
     "text": [
      "-15*x**4 - 5*x - 24\n",
      "The terms are:\n"
     ]
    },
    {
     "data": {
      "image/png": "[encoded data removed]",
      "text/latex": [
       "$\\displaystyle - \\frac{1}{15 x^{4} + 5 x - \\cos{\\left(x \\right)} + 24}$"
      ],
      "text/plain": [
       "           -1            \n",
       "─────────────────────────\n",
       "    4                    \n",
       "15⋅x  + 5⋅x - cos(x) + 24"
      ]
     },
     "metadata": {},
     "output_type": "display_data"
    },
    {
     "data": {
      "image/png": "[encoded data removed]",
      "text/latex": [
       "$\\displaystyle y_{0}^{3}$"
      ],
      "text/plain": [
       "  3\n",
       "y₀ "
      ]
     },
     "metadata": {},
     "output_type": "display_data"
    },
    {
     "data": {
      "image/png": "[encoded data removed]",
      "text/latex": [
       "$\\displaystyle y_{1}^{2}$"
      ],
      "text/plain": [
       "  2\n",
       "y₁ "
      ]
     },
     "metadata": {},
     "output_type": "display_data"
    },
    {
     "data": {
      "image/png": "[encoded data removed]",
      "text/latex": [
       "$\\displaystyle y_{2}^{2}$"
      ],
      "text/plain": [
       "  2\n",
       "y₂ "
      ]
     },
     "metadata": {},
     "output_type": "display_data"
    },
    {
     "data": {
      "image/png": "[encoded data removed]",
      "text/latex": [
       "$\\displaystyle y_{3}$"
      ],
      "text/plain": [
       "y₃"
      ]
     },
     "metadata": {},
     "output_type": "display_data"
    }
   ],
   "source": [
    "terms = create_subterms(y_terms, num_subterms(min_subterms, max_subterms))\n",
    "print(\"The terms are:\")\n",
    "for i in range(len(terms)):\n",
    "    disp.display(terms[i])"
   ]
  },
  {
   "cell_type": "code",
   "execution_count": 220,
   "metadata": {},
   "outputs": [
    {
     "data": {
      "image/png": "[encoded data removed]",
      "text/latex": [
       "$\\displaystyle \\left[ - \\frac{1}{15 x^{4} + 5 x - \\cos{\\left(x \\right)} + 24}, \\  y_{0}^{3}, \\  y_{1}^{2}, \\  y_{2}^{2}\\right]$"
      ],
      "text/plain": [
       "⎡           -1                3    2    2⎤\n",
       "⎢─────────────────────────, y₀ , y₁ , y₂ ⎥\n",
       "⎢    4                                   ⎥\n",
       "⎣15⋅x  + 5⋅x - cos(x) + 24               ⎦"
      ]
     },
     "execution_count": 220,
     "metadata": {},
     "output_type": "execute_result"
    }
   ],
   "source": [
    "y3 = y_terms[4]\n",
    "new_terms = terms.tolist()\n",
    "new_terms.remove(y3)\n",
    "new_terms"
   ]
  },
  {
   "cell_type": "code",
   "execution_count": 221,
   "metadata": {},
   "outputs": [],
   "source": [
    "y3 = -sum(new_terms)"
   ]
  },
  {
   "cell_type": "code",
   "execution_count": 222,
   "metadata": {},
   "outputs": [
    {
     "data": {
      "image/png": "[encoded data removed]",
      "text/latex": [
       "$\\displaystyle - y_{0}^{3} - y_{1}^{2} - y_{2}^{2} + \\frac{1}{15 x^{4} + 5 x - \\cos{\\left(x \\right)} + 24}$"
      ],
      "text/plain": [
       "    3     2     2               1            \n",
       "- y₀  - y₁  - y₂  + ─────────────────────────\n",
       "                        4                    \n",
       "                    15⋅x  + 5⋅x - cos(x) + 24"
      ]
     },
     "execution_count": 222,
     "metadata": {},
     "output_type": "execute_result"
    }
   ],
   "source": [
    "y3"
   ]
  },
  {
   "cell_type": "code",
   "execution_count": 248,
   "metadata": {},
   "outputs": [
    {
     "name": "stdout",
     "output_type": "stream",
     "text": [
      "4*x**3 + 3*x**2 - 9\n"
     ]
    },
    {
     "data": {
      "image/png": "[encoded data removed]",
      "text/latex": [
       "$\\displaystyle y + y'^{2} + \\frac{y''}{4 x^{3} + 3 x^{2} - 9} + e^{- x}$"
      ],
      "text/plain": [
       "      2         y''          -x\n",
       "y + y'  + ─────────────── + ℯ  \n",
       "             3      2          \n",
       "          4⋅x  + 3⋅x  - 9      "
      ]
     },
     "metadata": {},
     "output_type": "display_data"
    },
    {
     "name": "stdout",
     "output_type": "stream",
     "text": [
      "None\n",
      "\n",
      "\\text{Approximate the solution to the third-order ODE: } y''' = y + y'^{2} + \\frac{y''}{4 x^{3} + 3 x^{2} - 9} + e^{- x}\n",
      "\n",
      "\\text{With initial conditions at } x = 0:\n",
      "\\begin{align*}\n",
      "y(0) &= 1.00 \\\\\n",
      "y'(0) &= 0.00 \\\\\n",
      "y''(0) &= 0.00\n",
      "\\end{align*}\n",
      "\n",
      "-y0 - y1**2 - y2/(4*x**3 + 3*x**2 - 9) - exp(-x)\n"
     ]
    },
    {
     "data": {
      "image/png": "[encoded data removed]",
      "text/plain": [
       "<Figure size 640x480 with 1 Axes>"
      ]
     },
     "metadata": {},
     "output_type": "display_data"
    }
   ],
   "source": [
    "from sympy import symbols, diff, exp\n",
    "from scipy.integrate import solve_ivp\n",
    "\n",
    "x = symbols('x')\n",
    "y, y0, y1, y2, y3 = symbols('y y0 y1 y2 y3')\n",
    "\n",
    "from sympy.utilities.lambdify import lambdify\n",
    "\n",
    "terms = create_subterms(y_terms, num_subterms(min_subterms, max_subterms))\n",
    "\n",
    "# Define the mapping for replacement\n",
    "replacement_mapping = {\n",
    "    y0: y,\n",
    "    y1: symbols(\"y'\"),\n",
    "    y2: symbols(\"y''\"),\n",
    "    y3: 0\n",
    "}\n",
    "\n",
    "# Function to replace y0, y1, y2 with y, y', y''\n",
    "def replace_with_differential(expr):\n",
    "    return expr.subs(replacement_mapping)\n",
    "\n",
    "replaced_expr = replace_with_differential(sum(terms))\n",
    "\n",
    "print(disp.display(replaced_expr))\n",
    "\n",
    "# Converting the replaced expression to LaTeX\n",
    "latex_replaced_expr = latex(replaced_expr)\n",
    "\n",
    "# Extracting the values a, b, c from init_condition\n",
    "a, b, c = [1,0,0]\n",
    "\n",
    "# Preparing the updated LaTeX formatted equation with x_0 as 0 and the new form of the equation\n",
    "updated_latex_equation = f\"\"\"\n",
    "\\\\text{{Approximate the solution to the third-order ODE: }} y''' = {latex_replaced_expr}\n",
    "\n",
    "\\\\text{{With initial conditions at }} x = 0:\n",
    "\\\\begin{{align*}}\n",
    "y(0) &= {a:.2f} \\\\\\\\\n",
    "y'(0) &= {b:.2f} \\\\\\\\\n",
    "y''(0) &= {c:.2f}\n",
    "\\\\end{{align*}}\n",
    "\"\"\"\n",
    "\n",
    "print(updated_latex_equation)\n",
    "\n",
    "y3 = y_terms[4]\n",
    "new_terms = terms.tolist()\n",
    "new_terms.remove(y3)\n",
    "y3 = -sum(new_terms)\n",
    "\n",
    "print(y3)\n",
    "\n",
    "# Lambdify the y3 expression so it can be used as a function\n",
    "y3_func = lambdify((x, y0, y1, y2), y3)\n",
    "\n",
    "# Define the system of first-order ODEs using y3 directly\n",
    "def system_of_odes_with_y3(x, y):\n",
    "    y0, y1, y2 = y\n",
    "    # Use y3 as a function\n",
    "    dy2_dx = y3_func(x, y0, y1, y2)\n",
    "    return [y1, y2, dy2_dx]\n",
    "\n",
    "initial_conditions = [1, 0, 0]  # placeholder initial conditions\n",
    "x_range = (0, 100)\n",
    "X = np.linspace(x_range[0], x_range[1], 10000)\n",
    "\n",
    "# Solve the system of ODEs\n",
    "solution_with_y3 = solve_ivp(system_of_odes_with_y3, x_range, initial_conditions, t_eval=X)\n",
    "\n",
    "plt.plot(solution_with_y3.t, solution_with_y3.y[0], 'o', mfc='none', label='Numerical Solution')\n",
    "# plt.plot(solution_with_y3.t, solution_with_y3.y[1], label=\"y'(x)\")\n",
    "# plt.plot(solution_with_y3.t, solution_with_y3.y[2], label=\"y''(x)\")\n",
    "plt.legend()\n",
    "plt.xlabel('x')\n",
    "plt.ylabel('y and its derivatives')\n",
    "plt.title('Numerical Solution')\n",
    "plt.show()"
   ]
  },
  {
   "cell_type": "code",
   "execution_count": 292,
   "metadata": {},
   "outputs": [
    {
     "name": "stdout",
     "output_type": "stream",
     "text": [
      "The solution diverges at x = 3.0203020302030206\n"
     ]
    }
   ],
   "source": [
    "def find_divergence_x_value(solution, component_index=0, threshold=1e3):\n",
    "    y_values = solution.y[component_index]\n",
    "    for i, y in enumerate(y_values):\n",
    "        if abs(y) > threshold:\n",
    "            return solution.t[i], i\n",
    "    return None, None  # Return None if the solution does not diverge within the given range\n",
    "\n",
    "# Example usage:\n",
    "div_point, index = find_divergence_x_value(solution_with_y3, component_index=0)\n",
    "if div_point is not None:\n",
    "    print(f\"The solution diverges at x = {div_point}\")\n",
    "else:\n",
    "    print(\"The solution does not diverge within the given range\")\n"
   ]
  },
  {
   "cell_type": "markdown",
   "metadata": {},
   "source": [
    "**Plotting the dominant balances**"
   ]
  },
  {
   "cell_type": "code",
   "execution_count": 252,
   "metadata": {},
   "outputs": [
    {
     "data": {
      "text/plain": [
       "array([exp(-x), y0, y1**2, y2/(4*x**3 + 3*x**2 - 9), y3], dtype=object)"
      ]
     },
     "execution_count": 252,
     "metadata": {},
     "output_type": "execute_result"
    }
   ],
   "source": [
    "terms"
   ]
  },
  {
   "cell_type": "code",
   "execution_count": 254,
   "metadata": {},
   "outputs": [],
   "source": [
    "from sympy import lambdify, symbols, log\n",
    "import numpy as np\n",
    "\n",
    "# Define the symbols used in the expressions\n",
    "x, y0, y1, y2 = symbols('x y0 y1 y2')\n",
    "\n",
    "new_terms = terms[:4]\n",
    "# Your array of expressions\n",
    "# terms = np.array([log(x + 1) - 3, x**2*y0*(x - 4), y1**2, y2*(-4*x**4 - 4*x**3 + 1)], dtype=object) \n",
    "# removed the hardcoding issue by creating a new_terms list\n",
    "\n",
    "# Convert each expression to a function\n",
    "term_funcs = [lambdify((x, y0, y1, y2), new_term) for new_term in new_terms]\n",
    "\n",
    "# Assuming solution_with_y3 is your solution object from solve_ivp\n",
    "x_values = solution_with_y3.t\n",
    "y_values0 = solution_with_y3.y[0]\n",
    "y_values1 = solution_with_y3.y[1]\n",
    "y_values2 = solution_with_y3.y[2]\n",
    "\n",
    "# Evaluate each function with the numerical solutions\n",
    "evaluated_terms = [func(x_values, y_values0, y_values1, y_values2) for func in term_funcs]\n",
    "\n",
    "# y_values3 is calculated as the sum of all the other evaluated terms\n",
    "y_values3 = sum(evaluated_terms)\n",
    "\n",
    "# Now you can access each term\n",
    "term1, term2, term3, term4 = evaluated_terms\n",
    "list_of_terms = [term1, term2, term3, term4]\n",
    "term5 = y_values3"
   ]
  },
  {
   "cell_type": "code",
   "execution_count": 228,
   "metadata": {},
   "outputs": [
    {
     "data": {
      "text/plain": [
       "array([0.        , 0.010001  , 0.020002  , 0.030003  , 0.040004  ,\n",
       "       0.050005  , 0.060006  , 0.070007  , 0.080008  , 0.090009  ,\n",
       "       0.10001   , 0.110011  , 0.120012  , 0.130013  , 0.140014  ,\n",
       "       0.150015  , 0.160016  , 0.170017  , 0.180018  , 0.190019  ,\n",
       "       0.20002   , 0.210021  , 0.220022  , 0.230023  , 0.240024  ,\n",
       "       0.250025  , 0.260026  , 0.270027  , 0.280028  , 0.290029  ,\n",
       "       0.30003   , 0.310031  , 0.320032  , 0.330033  , 0.340034  ,\n",
       "       0.350035  , 0.360036  , 0.370037  , 0.380038  , 0.390039  ,\n",
       "       0.40004   , 0.410041  , 0.420042  , 0.430043  , 0.440044  ,\n",
       "       0.450045  , 0.460046  , 0.470047  , 0.480048  , 0.490049  ,\n",
       "       0.50005001, 0.51005101, 0.52005201, 0.53005301, 0.54005401,\n",
       "       0.55005501, 0.56005601, 0.57005701, 0.58005801, 0.59005901,\n",
       "       0.60006001, 0.61006101, 0.62006201, 0.63006301, 0.64006401,\n",
       "       0.65006501, 0.66006601, 0.67006701, 0.68006801, 0.69006901,\n",
       "       0.70007001, 0.71007101, 0.72007201, 0.73007301, 0.74007401,\n",
       "       0.75007501, 0.76007601, 0.77007701, 0.78007801, 0.79007901,\n",
       "       0.80008001, 0.81008101, 0.82008201, 0.83008301, 0.84008401,\n",
       "       0.85008501, 0.86008601, 0.87008701, 0.88008801, 0.89008901,\n",
       "       0.90009001, 0.91009101, 0.92009201, 0.93009301, 0.94009401,\n",
       "       0.95009501, 0.96009601, 0.97009701, 0.98009801, 0.99009901,\n",
       "       1.00010001, 1.01010101, 1.02010201, 1.03010301, 1.04010401,\n",
       "       1.05010501, 1.06010601, 1.07010701, 1.08010801, 1.09010901,\n",
       "       1.10011001, 1.11011101, 1.12011201, 1.13011301, 1.14011401,\n",
       "       1.15011501, 1.16011601, 1.17011701, 1.18011801, 1.19011901,\n",
       "       1.20012001, 1.21012101, 1.22012201, 1.23012301, 1.24012401,\n",
       "       1.25012501, 1.26012601, 1.27012701, 1.28012801, 1.29012901,\n",
       "       1.30013001, 1.31013101, 1.32013201, 1.33013301, 1.34013401,\n",
       "       1.35013501, 1.36013601, 1.37013701, 1.38013801, 1.39013901,\n",
       "       1.40014001, 1.41014101, 1.42014201, 1.43014301, 1.44014401,\n",
       "       1.45014501, 1.46014601, 1.47014701, 1.48014801, 1.49014901,\n",
       "       1.50015002, 1.51015102, 1.52015202, 1.53015302, 1.54015402,\n",
       "       1.55015502, 1.56015602, 1.57015702, 1.58015802, 1.59015902,\n",
       "       1.60016002, 1.61016102, 1.62016202, 1.63016302, 1.64016402,\n",
       "       1.65016502, 1.66016602, 1.67016702, 1.68016802, 1.69016902,\n",
       "       1.70017002, 1.71017102, 1.72017202, 1.73017302, 1.74017402,\n",
       "       1.75017502, 1.76017602, 1.77017702, 1.78017802, 1.79017902,\n",
       "       1.80018002, 1.81018102, 1.82018202, 1.83018302, 1.84018402,\n",
       "       1.85018502, 1.86018602, 1.87018702, 1.88018802, 1.89018902,\n",
       "       1.90019002, 1.91019102, 1.92019202, 1.93019302, 1.94019402,\n",
       "       1.95019502, 1.96019602, 1.97019702, 1.98019802, 1.99019902,\n",
       "       2.00020002, 2.01020102, 2.02020202, 2.03020302, 2.04020402,\n",
       "       2.05020502, 2.06020602, 2.07020702, 2.08020802, 2.09020902,\n",
       "       2.10021002, 2.11021102, 2.12021202, 2.13021302, 2.14021402,\n",
       "       2.15021502, 2.16021602, 2.17021702, 2.18021802, 2.19021902,\n",
       "       2.20022002, 2.21022102, 2.22022202, 2.23022302, 2.24022402,\n",
       "       2.25022502, 2.26022602, 2.27022702, 2.28022802, 2.29022902,\n",
       "       2.30023002, 2.31023102, 2.32023202, 2.33023302, 2.34023402,\n",
       "       2.35023502, 2.36023602, 2.37023702, 2.38023802, 2.39023902,\n",
       "       2.40024002, 2.41024102, 2.42024202, 2.43024302, 2.44024402,\n",
       "       2.45024502, 2.46024602, 2.47024702, 2.48024802, 2.49024902,\n",
       "       2.50025003, 2.51025103, 2.52025203, 2.53025303, 2.54025403,\n",
       "       2.55025503, 2.56025603, 2.57025703, 2.58025803, 2.59025903,\n",
       "       2.60026003, 2.61026103, 2.62026203, 2.63026303, 2.64026403,\n",
       "       2.65026503, 2.66026603, 2.67026703, 2.68026803, 2.69026903,\n",
       "       2.70027003, 2.71027103, 2.72027203, 2.73027303, 2.74027403,\n",
       "       2.75027503, 2.76027603, 2.77027703, 2.78027803, 2.79027903,\n",
       "       2.80028003, 2.81028103, 2.82028203, 2.83028303, 2.84028403,\n",
       "       2.85028503, 2.86028603, 2.87028703, 2.88028803, 2.89028903,\n",
       "       2.90029003, 2.91029103, 2.92029203, 2.93029303, 2.94029403,\n",
       "       2.95029503, 2.96029603, 2.97029703, 2.98029803, 2.99029903,\n",
       "       3.00030003, 3.01030103, 3.02030203, 3.03030303, 3.04030403,\n",
       "       3.05030503, 3.06030603, 3.07030703, 3.08030803, 3.09030903,\n",
       "       3.10031003, 3.11031103, 3.12031203, 3.13031303, 3.14031403,\n",
       "       3.15031503, 3.16031603, 3.17031703, 3.18031803, 3.19031903,\n",
       "       3.20032003, 3.21032103, 3.22032203, 3.23032303, 3.24032403,\n",
       "       3.25032503, 3.26032603, 3.27032703, 3.28032803, 3.29032903,\n",
       "       3.30033003, 3.31033103, 3.32033203, 3.33033303, 3.34033403,\n",
       "       3.35033503, 3.36033603, 3.37033703, 3.38033803, 3.39033903,\n",
       "       3.40034003, 3.41034103, 3.42034203, 3.43034303, 3.44034403,\n",
       "       3.45034503, 3.46034603, 3.47034703, 3.48034803, 3.49034903,\n",
       "       3.50035004, 3.51035104, 3.52035204, 3.53035304, 3.54035404,\n",
       "       3.55035504, 3.56035604, 3.57035704, 3.58035804, 3.59035904,\n",
       "       3.60036004, 3.61036104, 3.62036204, 3.63036304, 3.64036404,\n",
       "       3.65036504, 3.66036604, 3.67036704, 3.68036804, 3.69036904,\n",
       "       3.70037004, 3.71037104, 3.72037204, 3.73037304, 3.74037404,\n",
       "       3.75037504, 3.76037604, 3.77037704, 3.78037804, 3.79037904,\n",
       "       3.80038004, 3.81038104, 3.82038204, 3.83038304, 3.84038404,\n",
       "       3.85038504, 3.86038604, 3.87038704, 3.88038804, 3.89038904,\n",
       "       3.90039004, 3.91039104, 3.92039204, 3.93039304, 3.94039404,\n",
       "       3.95039504, 3.96039604, 3.97039704, 3.98039804, 3.99039904,\n",
       "       4.00040004, 4.01040104, 4.02040204, 4.03040304, 4.04040404,\n",
       "       4.05040504, 4.06040604, 4.07040704, 4.08040804, 4.09040904,\n",
       "       4.10041004, 4.11041104, 4.12041204, 4.13041304, 4.14041404,\n",
       "       4.15041504, 4.16041604, 4.17041704, 4.18041804, 4.19041904,\n",
       "       4.20042004, 4.21042104, 4.22042204, 4.23042304, 4.24042404,\n",
       "       4.25042504, 4.26042604, 4.27042704, 4.28042804, 4.29042904,\n",
       "       4.30043004, 4.31043104, 4.32043204, 4.33043304, 4.34043404,\n",
       "       4.35043504, 4.36043604, 4.37043704, 4.38043804, 4.39043904,\n",
       "       4.40044004, 4.41044104, 4.42044204, 4.43044304, 4.44044404,\n",
       "       4.45044504, 4.46044604, 4.47044704, 4.48044804, 4.49044904,\n",
       "       4.50045005, 4.51045105, 4.52045205, 4.53045305, 4.54045405,\n",
       "       4.55045505, 4.56045605, 4.57045705, 4.58045805, 4.59045905,\n",
       "       4.60046005, 4.61046105, 4.62046205, 4.63046305, 4.64046405,\n",
       "       4.65046505, 4.66046605, 4.67046705, 4.68046805, 4.69046905,\n",
       "       4.70047005])"
      ]
     },
     "execution_count": 228,
     "metadata": {},
     "output_type": "execute_result"
    }
   ],
   "source": [
    "solution_with_y3.t"
   ]
  },
  {
   "cell_type": "code",
   "execution_count": 255,
   "metadata": {},
   "outputs": [
    {
     "data": {
      "image/png": "[encoded data removed]",
      "text/plain": [
       "<Figure size 640x480 with 1 Axes>"
      ]
     },
     "metadata": {},
     "output_type": "display_data"
    }
   ],
   "source": [
    "for i in range(len(list_of_terms)):\n",
    "    plt.plot(solution_with_y3.t, abs(list_of_terms[i]), label = f\"Term {i+1}\");\n",
    "\n",
    "plt.plot(solution_with_y3.t, term5, label = \"Term 5\");\n",
    "plt.xlabel('x')\n",
    "plt.ylabel('magnitude')\n",
    "# plt.xlim([0,3])\n",
    "plt.yscale(\"log\")\n",
    "plt.title(\"Comparing magnitudes of each term at small x\")\n",
    "plt.legend();"
   ]
  },
  {
   "cell_type": "code",
   "execution_count": 293,
   "metadata": {},
   "outputs": [
    {
     "data": {
      "image/png": "[encoded data removed]",
      "text/latex": [
       "$\\displaystyle 3.02030203020302$"
      ],
      "text/plain": [
       "3.0203020302030206"
      ]
     },
     "execution_count": 293,
     "metadata": {},
     "output_type": "execute_result"
    }
   ],
   "source": [
    "div_point"
   ]
  },
  {
   "cell_type": "markdown",
   "metadata": {},
   "source": [
    "## Approximate Formula for Divergent Solution"
   ]
  },
  {
   "cell_type": "markdown",
   "metadata": {},
   "source": [
    "### Find the two largest terms at the divergence point"
   ]
  },
  {
   "cell_type": "code",
   "execution_count": 282,
   "metadata": {},
   "outputs": [
    {
     "data": {
      "image/png": "[encoded data removed]",
      "text/latex": [
       "$\\displaystyle \\frac{d^{3}}{d x^{3}} y = \\left(\\frac{d}{d x} y\\right)^{2}$"
      ],
      "text/plain": [
       "  3             2\n",
       " d       ⎛d    ⎞ \n",
       "───(y) = ⎜──(y)⎟ \n",
       "  3      ⎝dx   ⎠ \n",
       "dx               "
      ]
     },
     "execution_count": 282,
     "metadata": {},
     "output_type": "execute_result"
    }
   ],
   "source": [
    "from sympy import Derivative, symbols\n",
    "\n",
    "# Define the symbolic variable y and x\n",
    "y, x = symbols('y x')\n",
    "\n",
    "# Function to translate terms into differential forms\n",
    "def translate_to_differential(expr):\n",
    "    return expr.subs({y0: y, y1: Derivative(y, x), y2: Derivative(y, x, x)})\n",
    "\n",
    "# Assuming new_terms, solution_with_y3, and other variables are already defined as per your context\n",
    "\n",
    "# Steps to find indices of two largest terms at the last x-value\n",
    "last_x_value = solution_with_y3.t[-1]\n",
    "evaluated_at_last_x = [abs(term[-1]) for term in list_of_terms]\n",
    "evaluated_at_last_x.append(abs(term5[-1]))  # Including term5 (sum of all terms)\n",
    "terms_with_index = [(i, value) for i, value in enumerate(evaluated_at_last_x)]\n",
    "terms_with_index.sort(key=lambda x: x[1], reverse=True)\n",
    "largest_terms_indices = [terms_with_index[0][0], terms_with_index[1][0]]\n",
    "\n",
    "# Translate the largest term into its differential form\n",
    "largest_term_index = largest_terms_indices[0]\n",
    "largest_term_expression = new_terms[largest_term_index] if largest_term_index < len(new_terms) else None\n",
    "\n",
    "largest_term_differential = translate_to_differential(largest_term_expression) \\\n",
    "if largest_term_expression is not None else None\n",
    "\n",
    "# Define an equation where the third derivative of y is equal to the largest term's differential\n",
    "y_triple_prime_equation = Eq(Derivative(y, x, x, x), largest_term_differential)\n",
    "\n",
    "y_triple_prime_equation"
   ]
  },
  {
   "cell_type": "markdown",
   "metadata": {},
   "source": [
    "### Plug in the Ansatz to Obtain Approximation"
   ]
  },
  {
   "cell_type": "code",
   "execution_count": 303,
   "metadata": {},
   "outputs": [
    {
     "data": {
      "image/png": "[encoded data removed]",
      "text/latex": [
       "$\\displaystyle \\alpha p \\left(p - 2\\right) \\left(p - 1\\right) \\left(x - 3.02030203020302\\right)^{p - 3} = \\alpha^{2} p^{2} \\left(x - 3.02030203020302\\right)^{2 p - 2}$"
      ],
      "text/plain": [
       "                                          p - 3    2  2                       2⋅p - 2\n",
       "α⋅p⋅(p - 2)⋅(p - 1)⋅(x - 3.02030203020302)      = α ⋅p ⋅(x - 3.02030203020302)       "
      ]
     },
     "execution_count": 303,
     "metadata": {},
     "output_type": "execute_result"
    }
   ],
   "source": [
    "from sympy import symbols, Eq\n",
    "\n",
    "# Define the symbols\n",
    "alpha, p = symbols('alpha p')\n",
    "x = symbols('x')\n",
    "\n",
    "# Define the expressions for the derivatives of y based on your solution guess\n",
    "y_prime_expr = alpha * p * (x - div_point)**(p - 1)\n",
    "y_double_prime_expr = alpha * p * (p - 1) * (x - div_point)**(p - 2)\n",
    "y_triple_prime_expr = alpha * p * (p - 1) * (p - 2) * (x - div_point)**(p - 3)\n",
    "\n",
    "# Assuming y_triple_prime_equation is already defined and includes terms with y', y'', and y'''\n",
    "# Substitute these expressions into the equation\n",
    "equation_with_derivatives = y_triple_prime_equation.subs({\n",
    "    Derivative(y, x): y_prime_expr,\n",
    "    Derivative(y, x, x): y_double_prime_expr,\n",
    "    Derivative(y, x, x, x): y_triple_prime_expr\n",
    "})\n",
    "\n",
    "equation_with_derivatives"
   ]
  },
  {
   "cell_type": "code",
   "execution_count": 305,
   "metadata": {},
   "outputs": [
    {
     "name": "stdout",
     "output_type": "stream",
     "text": [
      "Eq(alpha*p*(p - 2)*(p - 1)*(x - 3.02030203020302)**(p - 3), alpha**2*p**2*(x - 3.02030203020302)**(2*p - 2))\n"
     ]
    }
   ],
   "source": [
    "print(equation_with_derivatives)"
   ]
  },
  {
   "cell_type": "markdown",
   "metadata": {},
   "source": [
    "### Find $\\alpha$ and $p$"
   ]
  },
  {
   "cell_type": "code",
   "execution_count": 308,
   "metadata": {},
   "outputs": [
    {
     "name": "stdout",
     "output_type": "stream",
     "text": [
      "Nonzero solution found: alpha = -6, p = -1\n"
     ]
    }
   ],
   "source": [
    "from sympy import symbols, Eq, solve, collect\n",
    "\n",
    "# Collect terms with respect to (x - div_point) on both sides to isolate coefficients and powers\n",
    "lhs_collected = collect(equation_with_derivatives.lhs, (x - div_point))\n",
    "rhs_collected = collect(equation_with_derivatives.rhs, (x - div_point))\n",
    "\n",
    "# Extract the coefficients and powers\n",
    "# This assumes the equation is simplified to a single term on each side\n",
    "coeffs1, power1 = lhs_collected.as_coeff_exponent((x - div_point))\n",
    "coeffs2, power2 = rhs_collected.as_coeff_exponent((x - div_point))\n",
    "\n",
    "# Set up the equations\n",
    "coeff_eq = Eq(coeffs1, coeffs2)\n",
    "power_eq = Eq(power1, power2)\n",
    "\n",
    "# Solve the system of equations\n",
    "solution = solve((coeff_eq, power_eq), (alpha, p))\n",
    "\n",
    "for sol in solution:\n",
    "    alpha_val, p_val = sol\n",
    "    if alpha_val != 0 and p_val != 0:\n",
    "        nonzero_solution = sol\n",
    "        break\n",
    "\n",
    "if nonzero_solution:\n",
    "    alpha_val, p_val = nonzero_solution\n",
    "    print(f\"Nonzero solution found: alpha = {alpha_val}, p = {p_val}\")\n",
    "else:\n",
    "    print(\"No nonzero solution found.\")"
   ]
  },
  {
   "cell_type": "markdown",
   "metadata": {},
   "source": [
    "### Find C"
   ]
  },
  {
   "cell_type": "code",
   "execution_count": 309,
   "metadata": {},
   "outputs": [
    {
     "name": "stdout",
     "output_type": "stream",
     "text": [
      "Value of C: -8.29546621143386\n"
     ]
    }
   ],
   "source": [
    "from sympy import symbols, solve\n",
    "\n",
    "x_value = solution_with_y3.t[-100]\n",
    "y_value = solution_with_y3.y[0, -100]\n",
    "\n",
    "# Define the symbols\n",
    "x, C = symbols('x C')\n",
    "\n",
    "# The formula\n",
    "y_formula = alpha_val * (x - div_point)**p_val + C\n",
    "\n",
    "# Create an equation by substituting x_value and y_value\n",
    "equation_for_C = Eq(y_value, y_formula.subs(x, x_value))\n",
    "\n",
    "# Solve for C\n",
    "C_value = solve(equation_for_C, C)\n",
    "\n",
    "# Assuming there's a unique solution for C\n",
    "if C_value:\n",
    "    C_solution = C_value[0]\n",
    "    print(f\"Value of C: {C_solution}\")\n",
    "else:\n",
    "    print(\"No solution found for C.\")"
   ]
  },
  {
   "cell_type": "markdown",
   "metadata": {},
   "source": [
    "### Plot"
   ]
  },
  {
   "cell_type": "code",
   "execution_count": 315,
   "metadata": {},
   "outputs": [],
   "source": [
    "# Define the approximate solution function\n",
    "def analyticalapproximation(x):\n",
    "    return np.sign((x-div_point)) * alpha_val * (np.abs((x-div_point))) ** p_val + C_solution"
   ]
  },
  {
   "cell_type": "code",
   "execution_count": 321,
   "metadata": {},
   "outputs": [
    {
     "name": "stderr",
     "output_type": "stream",
     "text": [
      "/var/folders/ph/f3vf2rcs6ld2p8ml934pj0600000gp/T/ipykernel_90570/3394857850.py:3: RuntimeWarning: divide by zero encountered in reciprocal\n",
      "  return np.sign((x-div_point)) * alpha_val * (np.abs((x-div_point))) ** p_val + C_solution\n"
     ]
    },
    {
     "data": {
      "image/png": "[encoded data removed]",
      "text/plain": [
       "<Figure size 1400x1000 with 1 Axes>"
      ]
     },
     "metadata": {},
     "output_type": "display_data"
    }
   ],
   "source": [
    "plt.figure(figsize=[14, 10])\n",
    "plt.plot((div_point-solution_with_y3.t), solution_with_y3.y[0,:],'-',label = 'Numerical')\n",
    "Yana = analyticalapproximation(solution_with_y3.t)\n",
    "plt.plot((div_point-solution_with_y3.t), Yana,'--',label = 'Analytical')\n",
    "plt.title(\"Solution Comparison\")\n",
    "# plt.xlim([1e-10,1])\n",
    "plt.xlabel(\"$(x^{*}-x)$\")\n",
    "plt.ylabel(\"y\")\n",
    "plt.legend()\n",
    "plt.show()"
   ]
  },
  {
   "cell_type": "code",
   "execution_count": 311,
   "metadata": {},
   "outputs": [
    {
     "data": {
      "image/png": "[encoded data removed]",
      "text/plain": [
       "<Figure size 1000x600 with 1 Axes>"
      ]
     },
     "metadata": {},
     "output_type": "display_data"
    }
   ],
   "source": [
    "# Plotting\n",
    "plt.figure(figsize=(10, 6))\n",
    "\n",
    "# Plot the numerical solution\n",
    "plt.plot(solution_with_y3.t, solution_with_y3.y[0], label='Numerical Solution', color='blue')\n",
    "\n",
    "# Plot the approximate solution\n",
    "plt.plot(x_values, approx_y_values, label='Approximate Solution', color='red', linestyle='--')\n",
    "\n",
    "# Labels and legend\n",
    "plt.xlabel('x')\n",
    "plt.ylabel('y')\n",
    "plt.title('Comparison of Numerical and Approximate Solutions')\n",
    "plt.legend()\n",
    "\n",
    "# Show the plot\n",
    "plt.show()"
   ]
  },
  {
   "cell_type": "markdown",
   "metadata": {},
   "source": [
    "For the small x regime, the dominant terms are determined by looking at the point div_point / 4 (arbitrarily chosen, but to prevent it from going into other intermediate regimes) "
   ]
  },
  {
   "cell_type": "code",
   "execution_count": 231,
   "metadata": {},
   "outputs": [
    {
     "data": {
      "image/png": "[encoded data removed]",
      "text/latex": [
       "$\\displaystyle 471$"
      ],
      "text/plain": [
       "471"
      ]
     },
     "execution_count": 231,
     "metadata": {},
     "output_type": "execute_result"
    }
   ],
   "source": [
    "solution_with_y3.t.size"
   ]
  },
  {
   "cell_type": "code",
   "execution_count": 232,
   "metadata": {},
   "outputs": [
    {
     "data": {
      "image/png": "[encoded data removed]",
      "text/latex": [
       "$\\displaystyle -2725.38094801174$"
      ],
      "text/plain": [
       "-2725.3809480117357"
      ]
     },
     "execution_count": 232,
     "metadata": {},
     "output_type": "execute_result"
    }
   ],
   "source": [
    "index"
   ]
  },
  {
   "cell_type": "code",
   "execution_count": 233,
   "metadata": {},
   "outputs": [],
   "source": [
    "import heapq"
   ]
  },
  {
   "cell_type": "markdown",
   "metadata": {},
   "source": [
    "The method below finds the dominant balance at a variable x position"
   ]
  },
  {
   "cell_type": "code",
   "execution_count": 234,
   "metadata": {},
   "outputs": [
    {
     "name": "stdout",
     "output_type": "stream",
     "text": [
      "3 1\n"
     ]
    }
   ],
   "source": [
    "endpoint_values = []\n",
    "for i in range(len(list_of_terms)):\n",
    "    endpoint_values.append(abs(list_of_terms[i])[round(index/8)]) # adding the points to do dominant balance at\n",
    "\n",
    "largest = heapq.nlargest(2, endpoint_values) \n",
    "\n",
    "# get the indices of the two largest elements\n",
    "index1 = endpoint_values.index(largest[0])\n",
    "index2 = endpoint_values.index(largest[1])\n",
    "\n",
    "print(index1+1, index2+1) # these are the dominant terms"
   ]
  },
  {
   "cell_type": "markdown",
   "metadata": {},
   "source": [
    "It might be better to fix x at something like $x=0.01$ for where to compute the dominant balance at."
   ]
  },
  {
   "cell_type": "code",
   "execution_count": 235,
   "metadata": {},
   "outputs": [
    {
     "name": "stdout",
     "output_type": "stream",
     "text": [
      "Index of the value closest to x=0.01: 10\n",
      "2 1\n"
     ]
    }
   ],
   "source": [
    "solution_with_y3.t\n",
    "\n",
    "# Target value\n",
    "target_x = 0.1\n",
    "\n",
    "# Find the index of the value closest to target_x\n",
    "index_closest = np.argmin(np.abs(x_values - target_x))\n",
    "\n",
    "# index_closest is the index of the closest value\n",
    "print(\"Index of the value closest to x=0.01:\", index_closest)\n",
    "\n",
    "endpoint_values = []\n",
    "for i in range(len(list_of_terms)):\n",
    "    endpoint_values.append(abs(list_of_terms[i])[index_closest]) # adding the points to do dominant balance at\n",
    "\n",
    "largest = heapq.nlargest(2, endpoint_values) \n",
    "\n",
    "# get the indices of the two largest elements\n",
    "index1 = endpoint_values.index(largest[0])\n",
    "index2 = endpoint_values.index(largest[1])\n",
    "\n",
    "print(index1+1, index2+1) # these are the dominant terms"
   ]
  },
  {
   "cell_type": "code",
   "execution_count": 236,
   "metadata": {},
   "outputs": [
    {
     "data": {
      "image/png": "[encoded data removed]",
      "text/latex": [
       "$\\displaystyle y_{0}^{3}$"
      ],
      "text/plain": [
       "  3\n",
       "y₀ "
      ]
     },
     "execution_count": 236,
     "metadata": {},
     "output_type": "execute_result"
    }
   ],
   "source": [
    "terms[index1]"
   ]
  },
  {
   "cell_type": "markdown",
   "metadata": {},
   "source": [
    "**LaTeX problem statement generator**"
   ]
  },
  {
   "cell_type": "code",
   "execution_count": 237,
   "metadata": {},
   "outputs": [
    {
     "data": {
      "text/plain": [
       "array([1/(-2*x**3 + cos(x) + 1), y0**3, y1**2, y2/(2*x**3 + 3*x - 2), y3],\n",
       "      dtype=object)"
      ]
     },
     "execution_count": 237,
     "metadata": {},
     "output_type": "execute_result"
    }
   ],
   "source": [
    "terms"
   ]
  },
  {
   "cell_type": "code",
   "execution_count": 242,
   "metadata": {},
   "outputs": [
    {
     "name": "stdout",
     "output_type": "stream",
     "text": [
      "y_{3} = y^{3}{\\left(x \\right)} + \\left(\\frac{d}{d x} y{\\left(x \\right)}\\right)^{2} + \\frac{\\frac{d^{2}}{d x^{2}} y{\\left(x \\right)}}{2 x^{3} + 3 x - 2} + \\frac{1}{- 2 x^{3} + \\cos{\\left(x \\right)} + 1}\n"
     ]
    }
   ],
   "source": [
    "x = sympy.symbols('x')\n",
    "y = sympy.Function('y')(x)\n",
    "\n",
    "derivatives = [y, y.diff(x), y.diff(x, x), y.diff(x, x, x)]\n",
    "\n",
    "first_term_replaced = terms[0].subs(x, x) # x\n",
    "second_term_replaced = terms[1].subs(y0, y) # y\n",
    "third_term_replaced = terms[2].subs(y1, y.diff(x)) # dydx\n",
    "fourth_term_replaced = terms[3].subs(y2, y.diff(x, x)) # d2ydx2\n",
    "fifth_term_replaced = terms[4].subs(y3, y.diff(x, x, x)) # d3ydx3\n",
    "\n",
    "sum_terms = first_term_replaced + second_term_replaced + third_term_replaced + fourth_term_replaced\n",
    "\n",
    "differential_equation = Eq(fifth_term_replaced, sum_terms)\n",
    "\n",
    "print(latex(differential_equation))\n"
   ]
  },
  {
   "cell_type": "markdown",
   "metadata": {},
   "source": []
  }
 ],
 "metadata": {
  "colab": {
   "collapsed_sections": [
    "QJBh4fOgoLTm",
    "DpB3Ml7MoOix",
    "l72dU1KToQ_d"
   ],
   "provenance": []
  },
  "kernelspec": {
   "display_name": "Python 3 (ipykernel)",
   "language": "python",
   "name": "python3"
  },
  "language_info": {
   "codemirror_mode": {
    "name": "ipython",
    "version": 3
   },
   "file_extension": ".py",
   "mimetype": "text/x-python",
   "name": "python",
   "nbconvert_exporter": "python",
   "pygments_lexer": "ipython3",
   "version": "3.11.4"
  }
 },
 "nbformat": 4,
 "nbformat_minor": 1
}
