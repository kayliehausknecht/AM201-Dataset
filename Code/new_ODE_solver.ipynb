{
 "cells": [
  {
   "cell_type": "markdown",
   "metadata": {
    "id": "J62oxRuooIdF"
   },
   "source": [
    "# Random ODE Generator"
   ]
  },
  {
   "cell_type": "markdown",
   "metadata": {
    "id": "QJBh4fOgoLTm"
   },
   "source": [
    "## Setting Problem Up"
   ]
  },
  {
   "cell_type": "code",
   "execution_count": 62,
   "metadata": {
    "id": "VP4b69KKPeVU"
   },
   "outputs": [],
   "source": [
    "### Imports ###\n",
    "import numpy as np\n",
    "from sympy import *\n",
    "import sympy\n",
    "import random as rand\n",
    "import random\n",
    "import IPython.display as disp\n",
    "init_printing()\n",
    "import matplotlib.pyplot as plt"
   ]
  },
  {
   "cell_type": "code",
   "execution_count": 63,
   "metadata": {
    "id": "EwB1x_1UO6JB"
   },
   "outputs": [],
   "source": [
    "### Setting predetermined values ###\n",
    "\n",
    "# Setting the order of the equation (fixed)\n",
    "n = 3\n",
    "\n",
    "########\n",
    "\n",
    "# Number of y-type terms (x, y, y', etc.)\n",
    "T = n + 2\n",
    "\n",
    "# Minimum number of subterms total (total number of terms in the final equation)\n",
    "min_subterms = 2\n",
    "\n",
    "# Maximum number of subterms total (total number of terms in the final equation)\n",
    "max_subterms = 3\n",
    "\n",
    "# Maximum number of times a function recursively called to create a function\n",
    "max_fun = 2\n",
    "\n",
    "# Sets the cumulative probabilities for the following function types:\n",
    "# (1) No change (2) power (3) exponential (4) logarithmic (5) trig (6) hyperbolic\n",
    "function_cdf = [0.1, 0.5, 0.62, 0.74, 1, 1]\n",
    "\n",
    "# Sets the probability that the function creating function will recursively call\n",
    "# itself again\n",
    "recurs_prob = 0.1\n",
    "\n",
    "# The probability of adding a constant to the function\n",
    "add_c_prob = 0.5"
   ]
  },
  {
   "cell_type": "code",
   "execution_count": 64,
   "metadata": {
    "id": "D9EIKzcEPe97"
   },
   "outputs": [
    {
     "data": {
      "text/plain": [
       "array([x, y0, y1, y2, y3], dtype=object)"
      ]
     },
     "execution_count": 64,
     "metadata": {},
     "output_type": "execute_result"
    }
   ],
   "source": [
    "### Defining the symbols, functions, and terms ###\n",
    "\n",
    "# Define symbol and function variables\n",
    "x = Symbol('x')\n",
    "\n",
    "# Stores the y-type terms (x, y, y', etc.) in an array called y_terms\n",
    "y_terms = np.empty(T, dtype=Symbol)\n",
    "y_terms[0] = x\n",
    "\n",
    "for i in range(1, T):\n",
    "    #y_terms[i] = y(x).diff(x, i - 1)\n",
    "    y_terms[i] = Symbol('y'+str(i-1))\n",
    "    \n",
    "y_terms"
   ]
  },
  {
   "cell_type": "markdown",
   "metadata": {
    "id": "DpB3Ml7MoOix"
   },
   "source": [
    "## Functions"
   ]
  },
  {
   "cell_type": "code",
   "execution_count": 65,
   "metadata": {
    "id": "iBcLOk1zWX0Y"
   },
   "outputs": [],
   "source": [
    "def num_subterms (sum_min, sum_max):\n",
    "    '''\n",
    "    This creates an array of the number of subterms for each y-type term.\n",
    "    If the number of subterms is less than the specified minimum or greater than\n",
    "    the specified maximum, the function will call itself recursively until\n",
    "    a valid number of subterms are determined.\n",
    "\n",
    "    Parameters\n",
    "    ----------\n",
    "    sum_min:  int\n",
    "              The minimum number of total subterms\n",
    "    sum_max:  int\n",
    "              The maximum number of total subterms\n",
    "\n",
    "    Returns\n",
    "    ----------\n",
    "    temp: numpy array of int\n",
    "          Returns the number of subterms for each y-type term\n",
    "    '''\n",
    "\n",
    "    temp = np.empty(T, dtype=int)\n",
    "    # Initially set that the nth derivative term has one subterm\n",
    "    temp[-1] = 1\n",
    "\n",
    "    # Set number of subterms (0, 1, or 2) for remaining terms\n",
    "    for i in range(T - 1):\n",
    "        # Sets the probability of having 0 subterms or 1 subterm\n",
    "        probabilities = [0] * 1 + [1] * 2\n",
    "        temp[i] = rand.choice(probabilities)\n",
    "\n",
    "    if (sum(temp) < sum_min or sum_min > sum_max):\n",
    "        return num_subterms (sum_min, sum_max)\n",
    "    # return temp\n",
    "    return [1, 1, 1, 1, 1] # changed this so every order is present in the final ODE"
   ]
  },
  {
   "cell_type": "code",
   "execution_count": 66,
   "metadata": {},
   "outputs": [
    {
     "data": {
      "image/png": "[encoded data removed]",
      "text/latex": [
       "$\\displaystyle 7$"
      ],
      "text/plain": [
       "7"
      ]
     },
     "execution_count": 66,
     "metadata": {},
     "output_type": "execute_result"
    }
   ],
   "source": [
    "def generate_random_sympy_polynomial():\n",
    "    \"\"\"\n",
    "    Generates a simple sympy polynomial of x with two or three terms and a maximum power of 4.\n",
    "    Coefficients range from -5 to 5.\n",
    "\n",
    "    Returns:\n",
    "        sympy.Expr: A sympy expression representing the polynomial.\n",
    "    \"\"\"\n",
    "\n",
    "    x = symbols('x')\n",
    "    num_terms = random.choice([2, 3])\n",
    "    polynomial = 0\n",
    "\n",
    "    for _ in range(num_terms):\n",
    "        coeff = random.choice([i for i in range(-5, 6) if i != 0])\n",
    "        power = random.randint(0, 4)\n",
    "        polynomial += coeff * x**power\n",
    "\n",
    "    return polynomial\n",
    "\n",
    "# Generate and display a sympy polynomial\n",
    "random_sympy_polynomial = generate_random_sympy_polynomial()\n",
    "random_sympy_polynomial\n",
    "\n"
   ]
  },
  {
   "cell_type": "code",
   "execution_count": 67,
   "metadata": {},
   "outputs": [],
   "source": [
    "def polynomial_from_coefficients(coefficients, special_func_prob=0.5, power_prob=0.5):\n",
    "    \"\"\"\n",
    "    Converts a list of coefficients into a polynomial expression using sympy.\n",
    "    Optionally adds a special function to the polynomial.\n",
    "\n",
    "    Parameters:\n",
    "    coefficients (list): A list of coefficients, where the index represents the power of x.\n",
    "    special_func_prob (float): Probability of adding a special function to the polynomial.\n",
    "    power_prob (float): Probability of raising the special function to a positive power.\n",
    "\n",
    "    Returns:\n",
    "    sympy expression: The polynomial expression.\n",
    "    \"\"\"\n",
    "    x = symbols('x')\n",
    "    polynomial = sum(coef * x**i for i, coef in enumerate(coefficients[::-1]))\n",
    "\n",
    "    # Check if a special function should be added\n",
    "    if random.random() < special_func_prob:\n",
    "        # List of special functions\n",
    "        special_funcs = [sin(x), cos(x), log(x+1), exp(x)]\n",
    "        # Choose one special function randomly\n",
    "        special_func = random.choice(special_funcs)\n",
    "\n",
    "        # Optionally raise the special function to a positive power\n",
    "        if random.random() < power_prob:\n",
    "            power = random.randint(1, 4)  # positive power between 1 and 4\n",
    "            special_func = special_func**power\n",
    "\n",
    "        # Add the special function to the polynomial\n",
    "        polynomial += special_func\n",
    "\n",
    "    return Poly(polynomial)"
   ]
  },
  {
   "cell_type": "code",
   "execution_count": 68,
   "metadata": {
    "id": "_GM9YlsrkFIb"
   },
   "outputs": [],
   "source": [
    "def create_subterm (y_term, cdf, iteration, max_it, const_prob):\n",
    "    '''\n",
    "    This returns a random subterm (a random function of the given y_term).\n",
    "    It may recursively call itself to make a more complicated funciton up to\n",
    "    max_it times.\n",
    "\n",
    "    The drawable functions include power, exponential, logarithmic,\n",
    "    trigonometric, and hyperbolic.\n",
    "\n",
    "    Parameters\n",
    "    ----------\n",
    "    y_term:     Object\n",
    "                The y-type term (x, y, y', etc.)\n",
    "    cdf:        int\n",
    "                The cumulative pobability of each function type (power,\n",
    "                exponential, logarithmic, trigonometric, and hyperbolic)\n",
    "    iteration:  int\n",
    "                The iteration number (how many times the function has\n",
    "                been called)\n",
    "    max_it:     int\n",
    "                The maximum number of times the function can be called\n",
    "    const_prob: float\n",
    "                The probability of adding a constant to the current subterm\n",
    "\n",
    "    Returns\n",
    "    ----------\n",
    "    subterm:  Object\n",
    "              Returns a subterm for a function of a given y_term\n",
    "    '''\n",
    "\n",
    "    # Default value (function does nothing)\n",
    "    subterm = y_term\n",
    "\n",
    "    # RETURNING y3 alone\n",
    "    if y_term == y_terms[4]:\n",
    "        return y_terms[4]\n",
    "\n",
    "    # Randomly determines if a function must be applied (and which function)\n",
    "    temp = rand.random()\n",
    "    \n",
    "    def add_coeff_and_constant(subterm, const_prob):\n",
    "        # Determines coefficient\n",
    "        coeffs = np.linspace(-5,-1,11, dtype=int)\n",
    "        if rand.random() < 0.5:\n",
    "            subterm *= rand.choice(coeffs)\n",
    "        # elif rand.random() > 0.8:\n",
    "        #     subterm /= rand.choice(coeffs)\n",
    "\n",
    "        # Determines added constant\n",
    "        if rand.random() < 0.5:\n",
    "            subterm += rand.choice(coeffs)\n",
    "            \n",
    "        return subterm\n",
    "    \n",
    "    # New Feature: Raise y, y', or y'' to a positive power\n",
    "    if y_term in [y_terms[1], y_terms[2], y_terms[3]]:\n",
    "        if rand.random() < 0.5:  # the probability of raising to a power\n",
    "            power = rand.randint(1, 3)  # positive power between 1 and 4\n",
    "            subterm = y_term ** power\n",
    "        else:\n",
    "            subterm = 1 / generate_random_sympy_polynomial() * y_term\n",
    "\n",
    "    if y_term == y_terms[0]:\n",
    "        # Trig\n",
    "        if temp > 0.5:\n",
    "            # trig_fun = [sin(y_term)] + [cos(y_term)] + [tan(y_term)]\n",
    "            trig_fun = [sin(y_term)] + [cos(y_term)]\n",
    "            subterm = rand.choice(trig_fun)\n",
    "            subterm = add_coeff_and_constant(subterm, const_prob)\n",
    "        # Log\n",
    "        if temp > 0.5:\n",
    "            subterm = log(y_term+1)\n",
    "            subterm = add_coeff_and_constant(subterm, const_prob)\n",
    "        # Exponential\n",
    "        else:\n",
    "            subterm = exp(y_term)\n",
    "            subterm = add_coeff_and_constant(subterm, const_prob)\n",
    "        # f(x)\n",
    "        # elif temp > cdf[0]:\n",
    "        #     coefficients = generate_polynomial(degree=4, num_terms=2,coeff_lower_bound=-3,coeff_upper_bound=3)\n",
    "        #     subterm = 1 / polynomial_from_coefficients(coefficients) * y_term\n",
    "\n",
    "\n",
    "    if subterm == 0:\n",
    "        return create_subterm(y_term, cdf, iteration, max_it, const_prob)\n",
    "\n",
    "    # Will consider reiterating if we have not yet reached the maximum\n",
    "    # number of iterations\n",
    "\n",
    "    # if iteration < max_it:\n",
    "    #     # If so, will add another function on top of this one\n",
    "    #     if rand.random() < recurs_prob:\n",
    "    #         # Recursively calls its own function to\n",
    "    #         # create a more complicated function\n",
    "    #         subterm = create_subterm(subterm, cdf, iteration + 1, max_it, const_prob)\n",
    "    #     # If not, will randomly determine if some additional p(x) should be added\n",
    "    #     elif rand.random() < 2/3:\n",
    "    #         # Only p(x)\n",
    "    #         subterm *= create_subterm(x, cdf, max_it, max_it, const_prob)\n",
    "\n",
    "    return simplify(subterm)"
   ]
  },
  {
   "cell_type": "code",
   "execution_count": 69,
   "metadata": {
    "id": "xhVpelJ0dcr4"
   },
   "outputs": [],
   "source": [
    "def create_subterms (y_term, num_sub):\n",
    "    print(y_term)\n",
    "    '''\n",
    "    This returns all subterms of the equation.\n",
    "\n",
    "    Parameters\n",
    "    ----------\n",
    "    y_term:   numpy array of Object\n",
    "              The y-type terms (x, y, y', etc.)\n",
    "    num_sub:  numpy array of int\n",
    "              The number of subterms for each y-type term\n",
    "\n",
    "    Returns\n",
    "    ----------\n",
    "    subterms: numpy array of Object\n",
    "              Returns all of the subterms for the equation\n",
    "    '''\n",
    "\n",
    "    # Stores the subterms\n",
    "    subterms = np.empty(sum(num_sub), dtype=Mul)\n",
    "\n",
    "    # Keeps track of index of subterms we are at\n",
    "    counter = 0\n",
    "\n",
    "    for i, y_t in enumerate(y_term):\n",
    "        print(num_sub[i])\n",
    "        for n_s in range(num_sub[i]):\n",
    "            # Determines function to be applied to the y_term\n",
    "            subterms[counter] = create_subterm(y_t, function_cdf, 1, max_fun, add_c_prob)\n",
    "            counter += 1\n",
    "\n",
    "    return subterms"
   ]
  },
  {
   "cell_type": "markdown",
   "metadata": {
    "id": "l72dU1KToQ_d"
   },
   "source": [
    "## Final Calculation and Output"
   ]
  },
  {
   "cell_type": "code",
   "execution_count": 70,
   "metadata": {
    "colab": {
     "base_uri": "https://localhost:8080/"
    },
    "id": "Iq3UwxriWWaZ",
    "outputId": "d7784c33-3c7a-479b-d4f2-65933d67ebc9"
   },
   "outputs": [
    {
     "name": "stdout",
     "output_type": "stream",
     "text": [
      "[x y0 y1 y2 y3]\n",
      "1\n",
      "1\n",
      "1\n",
      "1\n",
      "1\n",
      "The terms are:\n"
     ]
    },
    {
     "data": {
      "image/png": "[encoded data removed]",
      "text/latex": [
       "$\\displaystyle e^{x} - 4$"
      ],
      "text/plain": [
       " x    \n",
       "ℯ  - 4"
      ]
     },
     "metadata": {},
     "output_type": "display_data"
    },
    {
     "data": {
      "image/png": "[encoded data removed]",
      "text/latex": [
       "$\\displaystyle - \\frac{y_{0}}{2 x^{2} + 2}$"
      ],
      "text/plain": [
       "  -y₀   \n",
       "────────\n",
       "   2    \n",
       "2⋅x  + 2"
      ]
     },
     "metadata": {},
     "output_type": "display_data"
    },
    {
     "data": {
      "image/png": "[encoded data removed]",
      "text/latex": [
       "$\\displaystyle - \\frac{y_{1}}{x^{4} - 4 x^{3} + 2}$"
      ],
      "text/plain": [
       "     -y₁     \n",
       "─────────────\n",
       " 4      3    \n",
       "x  - 4⋅x  + 2"
      ]
     },
     "metadata": {},
     "output_type": "display_data"
    },
    {
     "data": {
      "image/png": "[encoded data removed]",
      "text/latex": [
       "$\\displaystyle y_{2}^{3}$"
      ],
      "text/plain": [
       "  3\n",
       "y₂ "
      ]
     },
     "metadata": {},
     "output_type": "display_data"
    },
    {
     "data": {
      "image/png": "[encoded data removed]",
      "text/latex": [
       "$\\displaystyle y_{3}$"
      ],
      "text/plain": [
       "y₃"
      ]
     },
     "metadata": {},
     "output_type": "display_data"
    }
   ],
   "source": [
    "terms = create_subterms(y_terms, num_subterms(min_subterms, max_subterms))\n",
    "print(\"The terms are:\")\n",
    "for i in range(len(terms)):\n",
    "    disp.display(terms[i])"
   ]
  },
  {
   "cell_type": "code",
   "execution_count": 71,
   "metadata": {
    "id": "zyzE_1CKz9BW"
   },
   "outputs": [
    {
     "data": {
      "image/png": "[encoded data removed]",
      "text/latex": [
       "$\\displaystyle - \\frac{y_{0}}{2 x^{2} + 2} - \\frac{y_{1}}{x^{4} - 4 x^{3} + 2} + y_{2}^{3} + y_{3} + e^{x} - 4$"
      ],
      "text/plain": [
       "     y₀            y₁          3         x    \n",
       "- ──────── - ───────────── + y₂  + y₃ + ℯ  - 4\n",
       "     2        4      3                        \n",
       "  2⋅x  + 2   x  - 4⋅x  + 2                    "
      ]
     },
     "execution_count": 71,
     "metadata": {},
     "output_type": "execute_result"
    }
   ],
   "source": [
    "sum(terms)"
   ]
  },
  {
   "cell_type": "markdown",
   "metadata": {},
   "source": [
    "The following method for solving for y3 is undesirable because it simplifies the expression by distributing the denominator, which actually complicates it significantly"
   ]
  },
  {
   "cell_type": "code",
   "execution_count": 72,
   "metadata": {
    "id": "puB6Q70Q0aXC"
   },
   "outputs": [
    {
     "data": {
      "image/png": "[encoded data removed]",
      "text/latex": [
       "$\\displaystyle \\left[ \\frac{- x^{6} y_{2}^{3} - x^{6} e^{x} + 4 x^{6} + 4 x^{5} y_{2}^{3} + 4 x^{5} e^{x} - 16 x^{5} + \\frac{x^{4} y_{0}}{2} - x^{4} y_{2}^{3} - x^{4} e^{x} + 4 x^{4} - 2 x^{3} y_{0} + 4 x^{3} y_{2}^{3} + 4 x^{3} e^{x} - 16 x^{3} + x^{2} y_{1} - 2 x^{2} y_{2}^{3} - 2 x^{2} e^{x} + 8 x^{2} + y_{0} + y_{1} - 2 y_{2}^{3} - 2 e^{x} + 8}{x^{6} - 4 x^{5} + x^{4} - 4 x^{3} + 2 x^{2} + 2}\\right]$"
      ],
      "text/plain": [
       "⎡                                                        4                    \n",
       "⎢   6   3    6  x      6      5   3      5  x       5   x ⋅y₀    4   3    4  x\n",
       "⎢- x ⋅y₂  - x ⋅ℯ  + 4⋅x  + 4⋅x ⋅y₂  + 4⋅x ⋅ℯ  - 16⋅x  + ───── - x ⋅y₂  - x ⋅ℯ \n",
       "⎢                                                         2                   \n",
       "⎢─────────────────────────────────────────────────────────────────────────────\n",
       "⎢                                                                             \n",
       "⎣                                                                             \n",
       "\n",
       "                                                                              \n",
       "      4      3         3   3      3  x       3    2         2   3      2  x   \n",
       " + 4⋅x  - 2⋅x ⋅y₀ + 4⋅x ⋅y₂  + 4⋅x ⋅ℯ  - 16⋅x  + x ⋅y₁ - 2⋅x ⋅y₂  - 2⋅x ⋅ℯ  + \n",
       "                                                                              \n",
       "──────────────────────────────────────────────────────────────────────────────\n",
       "  6      5    4      3      2                                                 \n",
       " x  - 4⋅x  + x  - 4⋅x  + 2⋅x  + 2                                             \n",
       "\n",
       "                                 ⎤\n",
       "   2                 3      x    ⎥\n",
       "8⋅x  + y₀ + y₁ - 2⋅y₂  - 2⋅ℯ  + 8⎥\n",
       "                                 ⎥\n",
       "─────────────────────────────────⎥\n",
       "                                 ⎥\n",
       "                                 ⎦"
      ]
     },
     "execution_count": 72,
     "metadata": {},
     "output_type": "execute_result"
    }
   ],
   "source": [
    "# Define y3 from y_terms\n",
    "y3 = y_terms[4]\n",
    "solve(sum(terms),y3, evaluate=False)"
   ]
  },
  {
   "cell_type": "code",
   "execution_count": 73,
   "metadata": {},
   "outputs": [
    {
     "data": {
      "image/png": "[encoded data removed]",
      "text/latex": [
       "$\\displaystyle \\left[ e^{x} - 4, \\  - \\frac{y_{0}}{2 x^{2} + 2}, \\  - \\frac{y_{1}}{x^{4} - 4 x^{3} + 2}, \\  y_{2}^{3}\\right]$"
      ],
      "text/plain": [
       "⎡ x        -y₀          -y₁         3⎤\n",
       "⎢ℯ  - 4, ────────, ─────────────, y₂ ⎥\n",
       "⎢           2       4      3         ⎥\n",
       "⎣        2⋅x  + 2  x  - 4⋅x  + 2     ⎦"
      ]
     },
     "execution_count": 73,
     "metadata": {},
     "output_type": "execute_result"
    }
   ],
   "source": [
    "new_terms = terms.tolist()\n",
    "new_terms.remove(y3)\n",
    "new_terms"
   ]
  },
  {
   "cell_type": "code",
   "execution_count": 74,
   "metadata": {},
   "outputs": [],
   "source": [
    "y3 = -sum(new_terms)"
   ]
  },
  {
   "cell_type": "code",
   "execution_count": 75,
   "metadata": {},
   "outputs": [
    {
     "data": {
      "image/png": "[encoded data removed]",
      "text/latex": [
       "$\\displaystyle \\frac{y_{0}}{2 x^{2} + 2} + \\frac{y_{1}}{x^{4} - 4 x^{3} + 2} - y_{2}^{3} - e^{x} + 4$"
      ],
      "text/plain": [
       "   y₀            y₁          3    x    \n",
       "──────── + ───────────── - y₂  - ℯ  + 4\n",
       "   2        4      3                   \n",
       "2⋅x  + 2   x  - 4⋅x  + 2               "
      ]
     },
     "execution_count": 75,
     "metadata": {},
     "output_type": "execute_result"
    }
   ],
   "source": [
    "y3"
   ]
  },
  {
   "cell_type": "code",
   "execution_count": 88,
   "metadata": {},
   "outputs": [
    {
     "data": {
      "image/png": "[encoded data removed]",
      "text/plain": [
       "<Figure size 640x480 with 1 Axes>"
      ]
     },
     "metadata": {},
     "output_type": "display_data"
    }
   ],
   "source": [
    "from sympy import symbols, diff, exp\n",
    "from scipy.integrate import solve_ivp\n",
    "\n",
    "x = symbols('x')\n",
    "y0, y1, y2 = symbols('y0 y1 y2')\n",
    "\n",
    "from sympy.utilities.lambdify import lambdify\n",
    "\n",
    "# Lambdify the y3 expression so it can be used as a function\n",
    "y3_func = lambdify((x, y0, y1, y2), y3)\n",
    "\n",
    "# Define the system of first-order ODEs using y3 directly\n",
    "def system_of_odes_with_y3(x, y):\n",
    "    y0, y1, y2 = y\n",
    "    # Use y3 as a function\n",
    "    dy2_dx = y3_func(x, y0, y1, y2)\n",
    "    return [y1, y2, dy2_dx]\n",
    "\n",
    "initial_conditions = [1, 0, 0]  # placeholder initial conditions\n",
    "x_range = (0, 15)\n",
    "X = np.linspace(x_range[0], x_range[1], 10000)\n",
    "\n",
    "\n",
    "# Solve the system of ODEs\n",
    "solution_with_y3 = solve_ivp(system_of_odes_with_y3, x_range, initial_conditions, t_eval=X)\n",
    "\n",
    "plt.plot(solution_with_y3.t, solution_with_y3.y[0], label='y(x)')\n",
    "# plt.plot(solution_with_y3.t, solution_with_y3.y[1], label=\"y'(x)\")\n",
    "# plt.plot(solution_with_y3.t, solution_with_y3.y[2], label=\"y''(x)\")\n",
    "plt.legend()\n",
    "plt.xlabel('x')\n",
    "plt.ylabel('y and its derivatives')\n",
    "plt.title('Solution')\n",
    "plt.show()\n"
   ]
  },
  {
   "cell_type": "code",
   "execution_count": 89,
   "metadata": {},
   "outputs": [
    {
     "data": {
      "text/plain": [
       "array([ 1.00000000e+00,  1.00000000e+00,  1.00000004e+00, ...,\n",
       "       -6.88651065e+03, -6.89120365e+03, -6.89589978e+03])"
      ]
     },
     "execution_count": 89,
     "metadata": {},
     "output_type": "execute_result"
    }
   ],
   "source": [
    "solution_with_y3.y[0]"
   ]
  },
  {
   "cell_type": "code",
   "execution_count": 91,
   "metadata": {},
   "outputs": [
    {
     "name": "stdout",
     "output_type": "stream",
     "text": [
      "The solution diverges at x = 14.493449344934493\n"
     ]
    }
   ],
   "source": [
    "def find_divergence_x_value(solution, component_index=0, threshold=1e3):\n",
    "    y_values = solution.y[component_index]\n",
    "    for i, y in enumerate(y_values):\n",
    "        if abs(y) > threshold:\n",
    "            return solution.t[i], i\n",
    "    return None, None  # Return None if the solution does not diverge within the given range\n",
    "\n",
    "# Example usage:\n",
    "div_point, index = find_divergence_x_value(solution_with_y3, component_index=0)\n",
    "if div_point is not None:\n",
    "    print(f\"The solution diverges at x = {div_point}\")\n",
    "else:\n",
    "    print(\"The solution does not diverge within the given range\")\n"
   ]
  },
  {
   "cell_type": "markdown",
   "metadata": {},
   "source": [
    "**Plotting the dominant balances**"
   ]
  },
  {
   "cell_type": "code",
   "execution_count": 79,
   "metadata": {},
   "outputs": [
    {
     "data": {
      "text/plain": [
       "array([exp(x) - 4, -y0/(2*x**2 + 2), -y1/(x**4 - 4*x**3 + 2), y2**3, y3],\n",
       "      dtype=object)"
      ]
     },
     "execution_count": 79,
     "metadata": {},
     "output_type": "execute_result"
    }
   ],
   "source": [
    "terms"
   ]
  },
  {
   "cell_type": "code",
   "execution_count": 80,
   "metadata": {},
   "outputs": [],
   "source": [
    "from sympy import lambdify, symbols, log\n",
    "import numpy as np\n",
    "\n",
    "# Define the symbols used in the expressions\n",
    "x, y0, y1, y2 = symbols('x y0 y1 y2')\n",
    "\n",
    "# Your array of expressions\n",
    "terms = np.array([log(x + 1) - 3, x**2*y0*(x - 4), y1**2, y2*(-4*x**4 - 4*x**3 + 1)], dtype=object)\n",
    "\n",
    "# Convert each expression to a function\n",
    "term_funcs = [lambdify((x, y0, y1, y2), term) for term in terms]\n",
    "\n",
    "# Assuming solution_with_y3 is your solution object from solve_ivp\n",
    "x_values = solution_with_y3.t\n",
    "y_values0 = solution_with_y3.y[0]\n",
    "y_values1 = solution_with_y3.y[1]\n",
    "y_values2 = solution_with_y3.y[2]\n",
    "\n",
    "# Evaluate each function with the numerical solutions\n",
    "evaluated_terms = [func(x_values, y_values0, y_values1, y_values2) for func in term_funcs]\n",
    "\n",
    "# y_values3 is calculated as the sum of all the other evaluated terms\n",
    "y_values3 = sum(evaluated_terms)\n",
    "\n",
    "# Now you can access each term\n",
    "term1, term2, term3, term4 = evaluated_terms\n",
    "list_of_terms = [term1, term2, term3, term4]\n",
    "term5 = y_values3\n"
   ]
  },
  {
   "cell_type": "code",
   "execution_count": 96,
   "metadata": {},
   "outputs": [
    {
     "data": {
      "text/plain": [
       "array([0.00000000e+00, 2.00020002e-03, 4.00040004e-03, ...,\n",
       "       1.99959996e+01, 1.99979998e+01, 2.00000000e+01])"
      ]
     },
     "execution_count": 96,
     "metadata": {},
     "output_type": "execute_result"
    }
   ],
   "source": [
    "solution_with_y3.t"
   ]
  },
  {
   "cell_type": "code",
   "execution_count": 82,
   "metadata": {},
   "outputs": [
    {
     "data": {
      "image/png": "[encoded data removed]",
      "text/plain": [
       "<Figure size 640x480 with 1 Axes>"
      ]
     },
     "metadata": {},
     "output_type": "display_data"
    }
   ],
   "source": [
    "for i in range(len(list_of_terms)):\n",
    "    plt.plot(solution_with_y3.t, abs(list_of_terms[i]), label = f\"Term {i+1}\");\n",
    "\n",
    "plt.plot(solution_with_y3.t, term5, label = \"Term 5\");\n",
    "plt.xlabel('x')\n",
    "plt.ylabel('magnitude')\n",
    "# plt.xlim([0,3])\n",
    "plt.yscale(\"log\")\n",
    "plt.title(\"Comparing magnitudes of each term at small x\")\n",
    "plt.legend();"
   ]
  },
  {
   "cell_type": "code",
   "execution_count": 83,
   "metadata": {},
   "outputs": [],
   "source": [
    "div_point"
   ]
  },
  {
   "cell_type": "markdown",
   "metadata": {},
   "source": [
    "For the small x regime, the dominant terms are determined by looking at the point div_point / 4 (arbitrarily chosen, but to prevent it from going into other intermediate regimes) "
   ]
  },
  {
   "cell_type": "code",
   "execution_count": 84,
   "metadata": {},
   "outputs": [
    {
     "data": {
      "image/png": "[encoded data removed]",
      "text/latex": [
       "$\\displaystyle 10000$"
      ],
      "text/plain": [
       "10000"
      ]
     },
     "execution_count": 84,
     "metadata": {},
     "output_type": "execute_result"
    }
   ],
   "source": [
    "solution_with_y3.t.size"
   ]
  },
  {
   "cell_type": "code",
   "execution_count": 93,
   "metadata": {},
   "outputs": [
    {
     "data": {
      "image/png": "[encoded data removed]",
      "text/latex": [
       "$\\displaystyle 7246$"
      ],
      "text/plain": [
       "7246"
      ]
     },
     "execution_count": 93,
     "metadata": {},
     "output_type": "execute_result"
    }
   ],
   "source": [
    "index"
   ]
  },
  {
   "cell_type": "code",
   "execution_count": 94,
   "metadata": {},
   "outputs": [],
   "source": [
    "import heapq"
   ]
  },
  {
   "cell_type": "markdown",
   "metadata": {},
   "source": [
    "The method below finds the dominant balance at a variable x position"
   ]
  },
  {
   "cell_type": "code",
   "execution_count": 95,
   "metadata": {},
   "outputs": [
    {
     "name": "stdout",
     "output_type": "stream",
     "text": [
      "4 2\n"
     ]
    }
   ],
   "source": [
    "endpoint_values = []\n",
    "for i in range(len(list_of_terms)):\n",
    "    endpoint_values.append(abs(list_of_terms[i])[round(index/8)]) # adding the points to do dominant balance at\n",
    "\n",
    "largest = heapq.nlargest(2, endpoint_values) \n",
    "\n",
    "# get the indices of the two largest elements\n",
    "index1 = endpoint_values.index(largest[0])\n",
    "index2 = endpoint_values.index(largest[1])\n",
    "\n",
    "print(index1+1, index2+1) # these are the dominant terms"
   ]
  },
  {
   "cell_type": "markdown",
   "metadata": {},
   "source": [
    "It might be better to fix x at something like $x=0.01$ for where to compute the dominant balance at."
   ]
  },
  {
   "cell_type": "code",
   "execution_count": 98,
   "metadata": {},
   "outputs": [
    {
     "name": "stdout",
     "output_type": "stream",
     "text": [
      "Index of the value closest to x=0.01: 100\n",
      "1 4\n"
     ]
    }
   ],
   "source": [
    "solution_with_y3.t\n",
    "\n",
    "# Target value\n",
    "target_x = 0.1\n",
    "\n",
    "# Find the index of the value closest to target_x\n",
    "index_closest = np.argmin(np.abs(x_values - target_x))\n",
    "\n",
    "# index_closest is the index of the closest value\n",
    "print(\"Index of the value closest to x=0.01:\", index_closest)\n",
    "\n",
    "endpoint_values = []\n",
    "for i in range(len(list_of_terms)):\n",
    "    endpoint_values.append(abs(list_of_terms[i])[index_closest]) # adding the points to do dominant balance at\n",
    "\n",
    "largest = heapq.nlargest(2, endpoint_values) \n",
    "\n",
    "# get the indices of the two largest elements\n",
    "index1 = endpoint_values.index(largest[0])\n",
    "index2 = endpoint_values.index(largest[1])\n",
    "\n",
    "print(index1+1, index2+1) # these are the dominant terms"
   ]
  },
  {
   "cell_type": "code",
   "execution_count": 101,
   "metadata": {},
   "outputs": [
    {
     "data": {
      "image/png": "[encoded data removed]",
      "text/latex": [
       "$\\displaystyle \\log{\\left(x + 1 \\right)} - 3$"
      ],
      "text/plain": [
       "log(x + 1) - 3"
      ]
     },
     "execution_count": 101,
     "metadata": {},
     "output_type": "execute_result"
    }
   ],
   "source": [
    "terms[index1]"
   ]
  },
  {
   "cell_type": "markdown",
   "metadata": {},
   "source": []
  }
 ],
 "metadata": {
  "colab": {
   "collapsed_sections": [
    "QJBh4fOgoLTm",
    "DpB3Ml7MoOix",
    "l72dU1KToQ_d"
   ],
   "provenance": []
  },
  "kernelspec": {
   "display_name": "Python 3 (ipykernel)",
   "language": "python",
   "name": "python3"
  },
  "language_info": {
   "codemirror_mode": {
    "name": "ipython",
    "version": 3
   },
   "file_extension": ".py",
   "mimetype": "text/x-python",
   "name": "python",
   "nbconvert_exporter": "python",
   "pygments_lexer": "ipython3",
   "version": "3.11.3"
  }
 },
 "nbformat": 4,
 "nbformat_minor": 1
}
