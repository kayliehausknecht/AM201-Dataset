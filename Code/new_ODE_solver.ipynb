{
 "cells": [
  {
   "cell_type": "markdown",
   "metadata": {
    "id": "J62oxRuooIdF"
   },
   "source": [
    "# Random ODE Generator"
   ]
  },
  {
   "cell_type": "markdown",
   "metadata": {
    "id": "QJBh4fOgoLTm"
   },
   "source": [
    "## Setting Problem Up"
   ]
  },
  {
   "cell_type": "code",
   "execution_count": 596,
   "metadata": {
    "id": "VP4b69KKPeVU"
   },
   "outputs": [],
   "source": [
    "### Imports ###\n",
    "import numpy as np\n",
    "from sympy import *\n",
    "import sympy\n",
    "import random as rand\n",
    "import random\n",
    "import IPython.display as disp\n",
    "init_printing()\n",
    "import matplotlib.pyplot as plt"
   ]
  },
  {
   "cell_type": "code",
   "execution_count": 597,
   "metadata": {
    "id": "EwB1x_1UO6JB"
   },
   "outputs": [],
   "source": [
    "### Setting predetermined values ###\n",
    "\n",
    "# Setting the order of the equation (fixed)\n",
    "n = 3\n",
    "\n",
    "########\n",
    "\n",
    "# Number of y-type terms (x, y, y', etc.)\n",
    "T = n + 2\n",
    "\n",
    "# Minimum number of subterms total (total number of terms in the final equation)\n",
    "min_subterms = 2\n",
    "\n",
    "# Maximum number of subterms total (total number of terms in the final equation)\n",
    "max_subterms = 3\n",
    "\n",
    "# Maximum number of times a function recursively called to create a function\n",
    "max_fun = 2\n",
    "\n",
    "# Sets the cumulative probabilities for the following function types:\n",
    "# (1) No change (2) power (3) exponential (4) logarithmic (5) trig (6) hyperbolic\n",
    "function_cdf = [0.1, 0.5, 0.62, 0.74, 1, 1]\n",
    "\n",
    "# Sets the probability that the function creating function will recursively call\n",
    "# itself again\n",
    "recurs_prob = 0.1\n",
    "\n",
    "# The probability of adding a constant to the function\n",
    "add_c_prob = 0.5"
   ]
  },
  {
   "cell_type": "code",
   "execution_count": 598,
   "metadata": {
    "id": "D9EIKzcEPe97"
   },
   "outputs": [
    {
     "data": {
      "text/plain": [
       "array([x, y0, y1, y2, y3], dtype=object)"
      ]
     },
     "execution_count": 598,
     "metadata": {},
     "output_type": "execute_result"
    }
   ],
   "source": [
    "### Defining the symbols, functions, and terms ###\n",
    "\n",
    "# Define symbol and function variables\n",
    "x = Symbol('x')\n",
    "\n",
    "# Stores the y-type terms (x, y, y', etc.) in an array called y_terms\n",
    "y_terms = np.empty(T, dtype=Symbol)\n",
    "y_terms[0] = x\n",
    "\n",
    "for i in range(1, T):\n",
    "    #y_terms[i] = y(x).diff(x, i - 1)\n",
    "    y_terms[i] = Symbol('y'+str(i-1))\n",
    "    \n",
    "y_terms"
   ]
  },
  {
   "cell_type": "markdown",
   "metadata": {
    "id": "DpB3Ml7MoOix"
   },
   "source": [
    "## Functions"
   ]
  },
  {
   "cell_type": "code",
   "execution_count": 599,
   "metadata": {
    "id": "iBcLOk1zWX0Y"
   },
   "outputs": [],
   "source": [
    "def num_subterms (sum_min, sum_max):\n",
    "    '''\n",
    "    This creates an array of the number of subterms for each y-type term.\n",
    "    If the number of subterms is less than the specified minimum or greater than\n",
    "    the specified maximum, the function will call itself recursively until\n",
    "    a valid number of subterms are determined.\n",
    "\n",
    "    Parameters\n",
    "    ----------\n",
    "    sum_min:  int\n",
    "              The minimum number of total subterms\n",
    "    sum_max:  int\n",
    "              The maximum number of total subterms\n",
    "\n",
    "    Returns\n",
    "    ----------\n",
    "    temp: numpy array of int\n",
    "          Returns the number of subterms for each y-type term\n",
    "    '''\n",
    "\n",
    "    temp = np.empty(T, dtype=int)\n",
    "    # Initially set that the nth derivative term has one subterm\n",
    "    temp[-1] = 1\n",
    "\n",
    "    # Set number of subterms (0, 1, or 2) for remaining terms\n",
    "    for i in range(T - 1):\n",
    "        # Sets the probability of having 0 subterms or 1 subterm\n",
    "        probabilities = [0] * 1 + [1] * 2\n",
    "        temp[i] = rand.choice(probabilities)\n",
    "\n",
    "    if (sum(temp) < sum_min or sum_min > sum_max):\n",
    "        return num_subterms (sum_min, sum_max)\n",
    "    # return temp\n",
    "    return [1, 1, 1, 1, 1] # changed this so every order is present in the final ODE"
   ]
  },
  {
   "cell_type": "code",
   "execution_count": 600,
   "metadata": {},
   "outputs": [],
   "source": [
    "def add_coeff_and_constant(subterm, const_prob = 0.5):\n",
    "    # Determines coefficient\n",
    "    coeffs = np.linspace(-5,-1,11, dtype=int)\n",
    "    if rand.random() < 0.5:\n",
    "        subterm *= rand.choice(coeffs)\n",
    "    # elif rand.random() > 0.8:\n",
    "    #     subterm /= rand.choice(coeffs)\n",
    "\n",
    "    # Determines added constant\n",
    "    if rand.random() < const_prob:\n",
    "        subterm += rand.choice(coeffs)\n",
    "\n",
    "    return subterm"
   ]
  },
  {
   "cell_type": "code",
   "execution_count": 601,
   "metadata": {},
   "outputs": [
    {
     "data": {
      "image/png": "[encoded data removed]",
      "text/latex": [
       "$\\displaystyle 2 x^{3} + 16 x^{2} - 5$"
      ],
      "text/plain": [
       "   3       2    \n",
       "2⋅x  + 16⋅x  - 5"
      ]
     },
     "execution_count": 601,
     "metadata": {},
     "output_type": "execute_result"
    }
   ],
   "source": [
    "def generate_random_sympy_polynomial():\n",
    "    \"\"\"\n",
    "    Generates a simple sympy polynomial of x with two or three terms and a maximum power of 4.\n",
    "    Coefficients range from -5 to 5.\n",
    "\n",
    "    Returns:\n",
    "        sympy.Expr: A sympy expression representing the polynomial.\n",
    "    \"\"\"\n",
    "\n",
    "    x = symbols('x')\n",
    "    num_terms = random.choice([2, 3])\n",
    "    polynomial = 0\n",
    "\n",
    "    for _ in range(num_terms):\n",
    "        coeff = random.choice([i for i in range(-5, 6) if i != 0])\n",
    "        power = random.randint(0, 4)\n",
    "        polynomial += coeff * x**power\n",
    "\n",
    "    return add_coeff_and_constant(polynomial, 1)\n",
    "\n",
    "# Generate and display a sympy polynomial\n",
    "random_sympy_polynomial = generate_random_sympy_polynomial()\n",
    "random_sympy_polynomial"
   ]
  },
  {
   "cell_type": "code",
   "execution_count": 602,
   "metadata": {},
   "outputs": [],
   "source": [
    "def polynomial_from_coefficients(coefficients, special_func_prob=0.5, power_prob=0.5):\n",
    "    \"\"\"\n",
    "    Converts a list of coefficients into a polynomial expression using sympy.\n",
    "    Optionally adds a special function to the polynomial.\n",
    "\n",
    "    Parameters:\n",
    "    coefficients (list): A list of coefficients, where the index represents the power of x.\n",
    "    special_func_prob (float): Probability of adding a special function to the polynomial.\n",
    "    power_prob (float): Probability of raising the special function to a positive power.\n",
    "\n",
    "    Returns:\n",
    "    sympy expression: The polynomial expression.\n",
    "    \"\"\"\n",
    "    x = symbols('x')\n",
    "    polynomial = sum(coef * x**i for i, coef in enumerate(coefficients[::-1]))\n",
    "\n",
    "    # Check if a special function should be added\n",
    "    if random.random() < special_func_prob:\n",
    "        # List of special functions\n",
    "        special_funcs = [sin(x), cos(x), log(x+1), exp(x)]\n",
    "        # Choose one special function randomly\n",
    "        special_func = random.choice(special_funcs)\n",
    "\n",
    "        # Optionally raise the special function to a positive power\n",
    "        if random.random() < power_prob:\n",
    "            power = random.randint(1, 4)  # positive power between 1 and 4\n",
    "            special_func = special_func**power\n",
    "\n",
    "        # Add the special function to the polynomial\n",
    "        polynomial += special_func\n",
    "\n",
    "    return Poly(polynomial)"
   ]
  },
  {
   "cell_type": "code",
   "execution_count": 603,
   "metadata": {
    "id": "_GM9YlsrkFIb"
   },
   "outputs": [],
   "source": [
    "def create_subterm (y_term, cdf, iteration, max_it, const_prob):\n",
    "    '''\n",
    "    This returns a random subterm (a random function of the given y_term).\n",
    "    It may recursively call itself to make a more complicated funciton up to\n",
    "    max_it times.\n",
    "\n",
    "    The drawable functions include power, exponential, logarithmic,\n",
    "    trigonometric, and hyperbolic.\n",
    "\n",
    "    Parameters\n",
    "    ----------\n",
    "    y_term:     Object\n",
    "                The y-type term (x, y, y', etc.)\n",
    "    cdf:        int\n",
    "                The cumulative pobability of each function type (power,\n",
    "                exponential, logarithmic, trigonometric, and hyperbolic)\n",
    "    iteration:  int\n",
    "                The iteration number (how many times the function has\n",
    "                been called)\n",
    "    max_it:     int\n",
    "                The maximum number of times the function can be called\n",
    "    const_prob: float\n",
    "                The probability of adding a constant to the current subterm\n",
    "\n",
    "    Returns\n",
    "    ----------\n",
    "    subterm:  Object\n",
    "              Returns a subterm for a function of a given y_term\n",
    "    '''\n",
    "\n",
    "    # Default value (function does nothing)\n",
    "    subterm = y_term\n",
    "\n",
    "    # RETURNING y3 alone\n",
    "    if y_term == y_terms[4]:\n",
    "        return y_terms[4]\n",
    "\n",
    "    # Randomly determines if a function must be applied (and which function)\n",
    "    temp = rand.random()\n",
    "    \n",
    "    # New Feature: Raise y, y', or y'' to a positive power\n",
    "    if y_term == y_terms[2]:\n",
    "        power = rand.randint(2, 5)  # positive power between 1 and 4\n",
    "        subterm = y_term ** power\n",
    "        return simplify(subterm)\n",
    "        \n",
    "    if y_term in [y_terms[1], y_terms[3]]:\n",
    "        polynomial = generate_random_sympy_polynomial()\n",
    "        print(polynomial)\n",
    "        subterm = 1 / polynomial * y_term\n",
    "        return simplify(subterm)\n",
    "\n",
    "    if y_term == y_terms[0]:\n",
    "        # Trig\n",
    "        if temp > 0.5:\n",
    "            # trig_fun = [sin(y_term)] + [cos(y_term)] + [tan(y_term)]\n",
    "            trig_fun = [sin(y_term)] + [cos(y_term)]\n",
    "            polynomial = generate_random_sympy_polynomial()\n",
    "            print(polynomial)\n",
    "            subterm = 1/(polynomial + rand.choice(trig_fun))\n",
    "            # subterm = add_coeff_and_constant(subterm, const_prob)\n",
    "            return simplify(subterm)\n",
    "        # Exponential\n",
    "        else:\n",
    "            subterm = 1/exp(y_term)\n",
    "            subterm = add_coeff_and_constant(subterm, const_prob)\n",
    "            return simplify(subterm)\n",
    "        # f(x)\n",
    "        # elif temp > cdf[0]:\n",
    "        #     coefficients = generate_polynomial(degree=4, num_terms=2,coeff_lower_bound=-3,coeff_upper_bound=3)\n",
    "        #     subterm = 1 / polynomial_from_coefficients(coefficients) * y_term\n",
    "\n",
    "\n",
    "    if subterm == 0:\n",
    "        return create_subterm(y_term, cdf, iteration, max_it, const_prob)\n",
    "\n",
    "    # Will consider reiterating if we have not yet reached the maximum\n",
    "    # number of iterations\n",
    "\n",
    "    # if iteration < max_it:\n",
    "    #     # If so, will add another function on top of this one\n",
    "    #     if rand.random() < recurs_prob:\n",
    "    #         # Recursively calls its own function to\n",
    "    #         # create a more complicated function\n",
    "    #         subterm = create_subterm(subterm, cdf, iteration + 1, max_it, const_prob)\n",
    "    #     # If not, will randomly determine if some additional p(x) should be added\n",
    "    #     elif rand.random() < 2/3:\n",
    "    #         # Only p(x)\n",
    "    #         subterm *= create_subterm(x, cdf, max_it, max_it, const_prob)\n",
    "\n",
    "    return simplify(subterm)"
   ]
  },
  {
   "cell_type": "code",
   "execution_count": 604,
   "metadata": {
    "id": "xhVpelJ0dcr4"
   },
   "outputs": [],
   "source": [
    "def create_subterms (y_term, num_sub):\n",
    "    # print(y_term)\n",
    "    '''\n",
    "    This returns all subterms of the equation.\n",
    "\n",
    "    Parameters\n",
    "    ----------\n",
    "    y_term:   numpy array of Object\n",
    "              The y-type terms (x, y, y', etc.)\n",
    "    num_sub:  numpy array of int\n",
    "              The number of subterms for each y-type term\n",
    "\n",
    "    Returns\n",
    "    ----------\n",
    "    subterms: numpy array of Object\n",
    "              Returns all of the subterms for the equation\n",
    "    '''\n",
    "\n",
    "    # Stores the subterms\n",
    "    subterms = np.empty(sum(num_sub), dtype=Mul)\n",
    "\n",
    "    # Keeps track of index of subterms we are at\n",
    "    counter = 0\n",
    "\n",
    "    for i, y_t in enumerate(y_term):\n",
    "        # print(num_sub[i])\n",
    "        for n_s in range(num_sub[i]):\n",
    "            # Determines function to be applied to the y_term\n",
    "            subterms[counter] = create_subterm(y_t, function_cdf, 1, max_fun, add_c_prob)\n",
    "            counter += 1\n",
    "\n",
    "    return subterms"
   ]
  },
  {
   "cell_type": "markdown",
   "metadata": {
    "id": "l72dU1KToQ_d"
   },
   "source": [
    "## Final Calculation and Output"
   ]
  },
  {
   "cell_type": "code",
   "execution_count": 605,
   "metadata": {
    "colab": {
     "base_uri": "https://localhost:8080/"
    },
    "id": "Iq3UwxriWWaZ",
    "outputId": "d7784c33-3c7a-479b-d4f2-65933d67ebc9"
   },
   "outputs": [
    {
     "name": "stdout",
     "output_type": "stream",
     "text": [
      "-20*x**4 - 40*x**2 - 2\n",
      "-5*x**4 - 15\n",
      "The terms are:\n"
     ]
    },
    {
     "data": {
      "image/png": "[encoded data removed]",
      "text/latex": [
       "$\\displaystyle - 2 e^{- x}$"
      ],
      "text/plain": [
       "    -x\n",
       "-2⋅ℯ  "
      ]
     },
     "metadata": {},
     "output_type": "display_data"
    },
    {
     "data": {
      "image/png": "[encoded data removed]",
      "text/latex": [
       "$\\displaystyle - \\frac{y_{0}}{20 x^{4} + 40 x^{2} + 2}$"
      ],
      "text/plain": [
       "       -y₀       \n",
       "─────────────────\n",
       "    4       2    \n",
       "20⋅x  + 40⋅x  + 2"
      ]
     },
     "metadata": {},
     "output_type": "display_data"
    },
    {
     "data": {
      "image/png": "[encoded data removed]",
      "text/latex": [
       "$\\displaystyle y_{1}^{2}$"
      ],
      "text/plain": [
       "  2\n",
       "y₁ "
      ]
     },
     "metadata": {},
     "output_type": "display_data"
    },
    {
     "data": {
      "image/png": "[encoded data removed]",
      "text/latex": [
       "$\\displaystyle - \\frac{y_{2}}{5 x^{4} + 15}$"
      ],
      "text/plain": [
       "   -y₂   \n",
       "─────────\n",
       "   4     \n",
       "5⋅x  + 15"
      ]
     },
     "metadata": {},
     "output_type": "display_data"
    },
    {
     "data": {
      "image/png": "[encoded data removed]",
      "text/latex": [
       "$\\displaystyle y_{3}$"
      ],
      "text/plain": [
       "y₃"
      ]
     },
     "metadata": {},
     "output_type": "display_data"
    }
   ],
   "source": [
    "terms = create_subterms(y_terms, num_subterms(min_subterms, max_subterms))\n",
    "print(\"The terms are:\")\n",
    "for i in range(len(terms)):\n",
    "    disp.display(terms[i])"
   ]
  },
  {
   "cell_type": "code",
   "execution_count": 606,
   "metadata": {},
   "outputs": [
    {
     "data": {
      "image/png": "[encoded data removed]",
      "text/latex": [
       "$\\displaystyle \\left[ - 2 e^{- x}, \\  - \\frac{y_{0}}{20 x^{4} + 40 x^{2} + 2}, \\  y_{1}^{2}, \\  - \\frac{y_{2}}{5 x^{4} + 15}\\right]$"
      ],
      "text/plain": [
       "⎡    -x         -y₀           2     -y₂   ⎤\n",
       "⎢-2⋅ℯ  , ─────────────────, y₁ , ─────────⎥\n",
       "⎢            4       2              4     ⎥\n",
       "⎣        20⋅x  + 40⋅x  + 2       5⋅x  + 15⎦"
      ]
     },
     "execution_count": 606,
     "metadata": {},
     "output_type": "execute_result"
    }
   ],
   "source": [
    "y3 = y_terms[4]\n",
    "new_terms = terms.tolist()\n",
    "new_terms.remove(y3)\n",
    "new_terms"
   ]
  },
  {
   "cell_type": "code",
   "execution_count": 607,
   "metadata": {},
   "outputs": [],
   "source": [
    "y3 = -sum(new_terms)"
   ]
  },
  {
   "cell_type": "code",
   "execution_count": 608,
   "metadata": {},
   "outputs": [
    {
     "data": {
      "image/png": "[encoded data removed]",
      "text/latex": [
       "$\\displaystyle \\frac{y_{0}}{20 x^{4} + 40 x^{2} + 2} - y_{1}^{2} + \\frac{y_{2}}{5 x^{4} + 15} + 2 e^{- x}$"
      ],
      "text/plain": [
       "        y₀            2       y₂         -x\n",
       "───────────────── - y₁  + ───────── + 2⋅ℯ  \n",
       "    4       2                4             \n",
       "20⋅x  + 40⋅x  + 2         5⋅x  + 15        "
      ]
     },
     "execution_count": 608,
     "metadata": {},
     "output_type": "execute_result"
    }
   ],
   "source": [
    "y3"
   ]
  },
  {
   "cell_type": "code",
   "execution_count": 609,
   "metadata": {},
   "outputs": [
    {
     "name": "stdout",
     "output_type": "stream",
     "text": [
      "25*x**4 - 20*x**2 - 10*x - 2\n",
      "-4*x**3 - 4*x**2 + 3*x - 3\n",
      "-9*x**3 - 6*x**2 - 4\n"
     ]
    },
    {
     "data": {
      "text/plain": [
       "\"- \\\\frac{y}{4 x^{3} + 4 x^{2} - 3 x + 3} + y'^{2} - \\\\frac{y''}{9 x^{3} + 6 x^{2} + 4} + \\\\frac{1}{25 x^{4} - 20 x^{2} - 10 x + \\\\cos{\\\\left(x \\\\right)} - 2}\""
      ]
     },
     "metadata": {},
     "output_type": "display_data"
    },
    {
     "name": "stdout",
     "output_type": "stream",
     "text": [
      "\n",
      "\\text{Approximate the solution to the third-order ODE: } y''' = - \\frac{y}{4 x^{3} + 4 x^{2} - 3 x + 3} + y'^{2} - \\frac{y''}{9 x^{3} + 6 x^{2} + 4} + \\frac{1}{25 x^{4} - 20 x^{2} - 10 x + \\cos{\\left(x \\right)} - 2}\n",
      "\n",
      "\\text{With initial conditions at } x = 0:\n",
      "\\begin{align*}\n",
      "y(0) &= 1.00 \\\\\n",
      "y'(0) &= 0.00 \\\\\n",
      "y''(0) &= 0.00\n",
      "\\end{align*}\n",
      "\n",
      "y0/(4*x**3 + 4*x**2 - 3*x + 3) - y1**2 + y2/(9*x**3 + 6*x**2 + 4) - 1/(25*x**4 - 20*x**2 - 10*x + cos(x) - 2)\n"
     ]
    },
    {
     "data": {
      "image/png": "[encoded data removed]",
      "text/plain": [
       "<Figure size 640x480 with 1 Axes>"
      ]
     },
     "metadata": {},
     "output_type": "display_data"
    }
   ],
   "source": [
    "from sympy import symbols, diff, exp\n",
    "from scipy.integrate import solve_ivp\n",
    "\n",
    "x = symbols('x')\n",
    "y, y0, y1, y2, y3 = symbols('y y0 y1 y2 y3')\n",
    "\n",
    "from sympy.utilities.lambdify import lambdify\n",
    "\n",
    "terms = create_subterms(y_terms, num_subterms(min_subterms, max_subterms))\n",
    "\n",
    "# Define the mapping for replacement\n",
    "replacement_mapping = {\n",
    "    y0: y,\n",
    "    y1: symbols(\"y'\"),\n",
    "    y2: symbols(\"y''\"),\n",
    "    y3: 0\n",
    "}\n",
    "\n",
    "# Function to replace y0, y1, y2 with y, y', y''\n",
    "def replace_with_differential(expr):\n",
    "    return expr.subs(replacement_mapping)\n",
    "\n",
    "replaced_expr = replace_with_differential(sum(terms))\n",
    "\n",
    "# Converting the replaced expression to LaTeX\n",
    "latex_replaced_expr = latex(replaced_expr)\n",
    "\n",
    "display(latex_replaced_expr)\n",
    "\n",
    "# Extracting the values a, b, c from init_condition\n",
    "a, b, c = [1,0,0]\n",
    "\n",
    "# Preparing the updated LaTeX formatted equation with x_0 as 0 and the new form of the equation\n",
    "updated_latex_equation = f\"\"\"\n",
    "\\\\text{{Approximate the solution to the third-order ODE: }} y''' = {latex_replaced_expr}\n",
    "\n",
    "\\\\text{{With initial conditions at }} x = 0:\n",
    "\\\\begin{{align*}}\n",
    "y(0) &= {a:.2f} \\\\\\\\\n",
    "y'(0) &= {b:.2f} \\\\\\\\\n",
    "y''(0) &= {c:.2f}\n",
    "\\\\end{{align*}}\n",
    "\"\"\"\n",
    "\n",
    "print(updated_latex_equation)\n",
    "\n",
    "y3 = y_terms[4]\n",
    "new_terms = terms.tolist()\n",
    "new_terms.remove(y3)\n",
    "y3 = -sum(new_terms)\n",
    "\n",
    "print(y3)\n",
    "\n",
    "# Lambdify the y3 expression so it can be used as a function\n",
    "y3_func = lambdify((x, y0, y1, y2), y3)\n",
    "\n",
    "# Define the system of first-order ODEs using y3 directly\n",
    "def system_of_odes_with_y3(x, y):\n",
    "    y0, y1, y2 = y\n",
    "    # Use y3 as a function\n",
    "    dy2_dx = y3_func(x, y0, y1, y2)\n",
    "    return [y1, y2, dy2_dx]\n",
    "\n",
    "initial_conditions = [1, 0, 0]  # placeholder initial conditions\n",
    "x_range = (0, 100)\n",
    "X = np.linspace(x_range[0], x_range[1], 10000)\n",
    "\n",
    "# Solve the system of ODEs\n",
    "solution_with_y3 = solve_ivp(system_of_odes_with_y3, x_range, initial_conditions, t_eval=X)\n",
    "\n",
    "plt.plot(solution_with_y3.t, solution_with_y3.y[0], 'o', mfc='none', label='Numerical Solution')\n",
    "# plt.plot(solution_with_y3.t, solution_with_y3.y[1], label=\"y'(x)\")\n",
    "# plt.plot(solution_with_y3.t, solution_with_y3.y[2], label=\"y''(x)\")\n",
    "plt.legend()\n",
    "plt.xlabel('x')\n",
    "plt.ylabel('y and its derivatives')\n",
    "plt.title('Numerical Solution')\n",
    "plt.show()"
   ]
  },
  {
   "cell_type": "code",
   "execution_count": 610,
   "metadata": {},
   "outputs": [
    {
     "name": "stdout",
     "output_type": "stream",
     "text": [
      "The solution does not diverge within the given range\n"
     ]
    }
   ],
   "source": [
    "def find_divergence_x_value(solution, component_index=0, threshold=1e3):\n",
    "    y_values = solution.y[component_index]\n",
    "    for i, y in enumerate(y_values):\n",
    "        if abs(y) > threshold:\n",
    "            return solution.t[i], i\n",
    "    return None, None  # Return None if the solution does not diverge within the given range\n",
    "\n",
    "# Example usage:\n",
    "div_point, index = find_divergence_x_value(solution_with_y3, component_index=0)\n",
    "if div_point is not None:\n",
    "    print(f\"The solution diverges at x = {div_point}\")\n",
    "else:\n",
    "    print(\"The solution does not diverge within the given range\")\n"
   ]
  },
  {
   "cell_type": "code",
   "execution_count": 611,
   "metadata": {},
   "outputs": [
    {
     "name": "stdout",
     "output_type": "stream",
     "text": [
      "The solution diverges at x = 8.090809080908091\n"
     ]
    }
   ],
   "source": [
    "def find_divergence_x_value(solution, component_index=0, threshold=1e3):\n",
    "    y_values = solution.y[-1]\n",
    "    return solution.t[-1], y_values  # Return None if the solution does not diverge within the given range\n",
    "\n",
    "# Example usage:\n",
    "div_point, index = find_divergence_x_value(solution_with_y3, component_index=0)\n",
    "if div_point is not None:\n",
    "    print(f\"The solution diverges at x = {div_point}\")\n",
    "else:\n",
    "    print(\"The solution does not diverge within the given range\")"
   ]
  },
  {
   "cell_type": "markdown",
   "metadata": {},
   "source": [
    "**Plotting the dominant balances**"
   ]
  },
  {
   "cell_type": "code",
   "execution_count": 612,
   "metadata": {},
   "outputs": [
    {
     "data": {
      "text/plain": [
       "array([-1/(25*x**4 - 20*x**2 - 10*x + cos(x) - 2),\n",
       "       y0/(4*x**3 + 4*x**2 - 3*x + 3), -y1**2, y2/(9*x**3 + 6*x**2 + 4),\n",
       "       -y3], dtype=object)"
      ]
     },
     "execution_count": 612,
     "metadata": {},
     "output_type": "execute_result"
    }
   ],
   "source": [
    "terms = -terms\n",
    "terms"
   ]
  },
  {
   "cell_type": "code",
   "execution_count": 613,
   "metadata": {},
   "outputs": [
    {
     "name": "stdout",
     "output_type": "stream",
     "text": [
      "[-1/(25*x**4 - 20*x**2 - 10*x + cos(x) - 2) y0/(4*x**3 + 4*x**2 - 3*x + 3)\n",
      " -y1**2 y2/(9*x**3 + 6*x**2 + 4)]\n"
     ]
    }
   ],
   "source": [
    "# Define the symbols used in the expressions\n",
    "x, y0, y1, y2 = symbols('x y0 y1 y2')\n",
    "\n",
    "new_terms = terms[:4]\n",
    "print(new_terms)\n",
    "\n",
    "# Convert each expression to a function\n",
    "term_funcs = [lambdify((x, y0, y1, y2), new_term) for new_term in new_terms]\n",
    "\n",
    "# Assuming solution_with_y3 is your solution object from solve_ivp\n",
    "x_values = solution_with_y3.t\n",
    "y_values0 = solution_with_y3.y[0]\n",
    "y_values1 = solution_with_y3.y[1]\n",
    "y_values2 = solution_with_y3.y[2]\n",
    "\n",
    "# Evaluate each function with the numerical solutions\n",
    "evaluated_terms = [func(x_values, y_values0, y_values1, y_values2) for func in term_funcs]\n",
    "\n",
    "# y_values3 is calculated as the sum of all the other evaluated terms\n",
    "y_values3 = sum(evaluated_terms)\n",
    "\n",
    "# Now you can access each term\n",
    "term1, term2, term3, term4 = evaluated_terms\n",
    "list_of_terms = [term1, term2, term3, term4]\n",
    "term5 = y_values3"
   ]
  },
  {
   "cell_type": "code",
   "execution_count": 614,
   "metadata": {},
   "outputs": [
    {
     "data": {
      "image/png": "[encoded data removed]",
      "text/plain": [
       "<Figure size 640x480 with 1 Axes>"
      ]
     },
     "metadata": {},
     "output_type": "display_data"
    }
   ],
   "source": [
    "for i in range(len(list_of_terms)):\n",
    "    plt.plot(solution_with_y3.t, abs(list_of_terms[i]), label = f\"Term {i+1}\");\n",
    "\n",
    "plt.plot(solution_with_y3.t, abs(term5), label = \"Term 5\");\n",
    "plt.xlabel('x')\n",
    "plt.ylabel('magnitude')\n",
    "# plt.xlim([0,3])\n",
    "plt.yscale(\"log\")\n",
    "plt.title(\"Comparing magnitudes of each term at small x\")\n",
    "plt.legend();"
   ]
  },
  {
   "cell_type": "code",
   "execution_count": 615,
   "metadata": {},
   "outputs": [
    {
     "data": {
      "image/png": "[encoded data removed]",
      "text/latex": [
       "$\\displaystyle 8.09080908090809$"
      ],
      "text/plain": [
       "8.090809080908091"
      ]
     },
     "execution_count": 615,
     "metadata": {},
     "output_type": "execute_result"
    }
   ],
   "source": [
    "div_point"
   ]
  },
  {
   "cell_type": "markdown",
   "metadata": {},
   "source": [
    "## Approximate Formula for Divergent Solution"
   ]
  },
  {
   "cell_type": "markdown",
   "metadata": {},
   "source": [
    "### Find the two largest terms at the divergence point"
   ]
  },
  {
   "cell_type": "code",
   "execution_count": 616,
   "metadata": {},
   "outputs": [
    {
     "data": {
      "image/png": "[encoded data removed]",
      "text/latex": [
       "$\\displaystyle \\frac{d^{3}}{d x^{3}} y = - \\left(\\frac{d}{d x} y\\right)^{2}$"
      ],
      "text/plain": [
       "  3              2\n",
       " d        ⎛d    ⎞ \n",
       "───(y) = -⎜──(y)⎟ \n",
       "  3       ⎝dx   ⎠ \n",
       "dx                "
      ]
     },
     "execution_count": 616,
     "metadata": {},
     "output_type": "execute_result"
    }
   ],
   "source": [
    "# Define the symbolic variable y and x\n",
    "y, x = symbols('y x')\n",
    "\n",
    "# Function to translate terms into differential forms\n",
    "def translate_to_differential(expr):\n",
    "    return expr.subs({y0: y, y1: Derivative(y, x), y2: Derivative(y, x, x)})\n",
    "\n",
    "# Steps to find index of the largest term at the last x-value\n",
    "last_x_value = solution_with_y3.t[-1]\n",
    "evaluated_at_last_x = [abs(term[-1]) for term in list_of_terms]\n",
    "terms_with_index = [(i, value) for i, value in enumerate(evaluated_at_last_x)]\n",
    "terms_with_index.sort(key=lambda x: x[1], reverse=True)\n",
    "largest_terms_indices = [terms_with_index[0][0]]\n",
    "\n",
    "# Translate the largest term into its differential form\n",
    "largest_term_index = largest_terms_indices[0]\n",
    "largest_term_expression = new_terms[largest_term_index] if largest_term_index < len(new_terms) else None\n",
    "\n",
    "largest_term_differential = translate_to_differential(largest_term_expression) \\\n",
    "if largest_term_expression is not None else None\n",
    "\n",
    "# Define an equation where the third derivative of y is equal to the largest term's differential\n",
    "y_triple_prime_equation = Eq(Derivative(y, x, x, x), largest_term_differential)\n",
    "\n",
    "y_triple_prime_equation"
   ]
  },
  {
   "cell_type": "markdown",
   "metadata": {},
   "source": [
    "### Plug in the Ansatz to Obtain Approximation"
   ]
  },
  {
   "cell_type": "code",
   "execution_count": 617,
   "metadata": {},
   "outputs": [
    {
     "data": {
      "image/png": "[encoded data removed]",
      "text/latex": [
       "$\\displaystyle \\alpha p \\left(p - 2\\right) \\left(p - 1\\right) \\left(x - 8.09080908090809\\right)^{p - 3} = - \\alpha^{2} p^{2} \\left(x - 8.09080908090809\\right)^{2 p - 2}$"
      ],
      "text/plain": [
       "                                          p - 3     2  2                      \n",
       "α⋅p⋅(p - 2)⋅(p - 1)⋅(x - 8.09080908090809)      = -α ⋅p ⋅(x - 8.09080908090809\n",
       "\n",
       " 2⋅p - 2\n",
       ")       "
      ]
     },
     "execution_count": 617,
     "metadata": {},
     "output_type": "execute_result"
    }
   ],
   "source": [
    "# Define the symbols\n",
    "alpha, p = symbols('alpha p')\n",
    "x = symbols('x')\n",
    "\n",
    "# Define the expressions for the derivatives of y based on your solution guess\n",
    "y_prime_expr = alpha * p * (x - div_point)**(p - 1)\n",
    "y_double_prime_expr = alpha * p * (p - 1) * (x - div_point)**(p - 2)\n",
    "y_triple_prime_expr = alpha * p * (p - 1) * (p - 2) * (x - div_point)**(p - 3)\n",
    "\n",
    "# Assuming y_triple_prime_equation is already defined and includes terms with y', y'', and y'''\n",
    "# Substitute these expressions into the equation\n",
    "equation_with_derivatives = y_triple_prime_equation.subs({\n",
    "    Derivative(y, x): y_prime_expr,\n",
    "    Derivative(y, x, x): y_double_prime_expr,\n",
    "    Derivative(y, x, x, x): y_triple_prime_expr\n",
    "})\n",
    "\n",
    "equation_with_derivatives"
   ]
  },
  {
   "cell_type": "markdown",
   "metadata": {},
   "source": [
    "### Find $\\alpha$ and $p$"
   ]
  },
  {
   "cell_type": "code",
   "execution_count": 618,
   "metadata": {},
   "outputs": [
    {
     "name": "stdout",
     "output_type": "stream",
     "text": [
      "Nonzero solution found: alpha = 6, p = -1\n"
     ]
    }
   ],
   "source": [
    "from sympy import symbols, Eq, solve, collect\n",
    "\n",
    "# Collect terms with respect to (x - div_point) on both sides to isolate coefficients and powers\n",
    "lhs_collected = collect(equation_with_derivatives.lhs, (x - div_point))\n",
    "rhs_collected = collect(equation_with_derivatives.rhs, (x - div_point))\n",
    "\n",
    "# Extract the coefficients and powers\n",
    "# This assumes the equation is simplified to a single term on each side\n",
    "coeffs1, power1 = lhs_collected.as_coeff_exponent((x - div_point))\n",
    "coeffs2, power2 = rhs_collected.as_coeff_exponent((x - div_point))\n",
    "\n",
    "# Set up the equations\n",
    "coeff_eq = Eq(coeffs1, coeffs2)\n",
    "power_eq = Eq(power1, power2)\n",
    "\n",
    "# print(coeff_eq)\n",
    "\n",
    "# Solve the system of equations\n",
    "solution = solve((coeff_eq, power_eq), (alpha, p))\n",
    "\n",
    "for sol in solution:\n",
    "    alpha_val, p_val = sol\n",
    "    if alpha_val != 0 and p_val != 0:\n",
    "        nonzero_solution = sol\n",
    "        break\n",
    "\n",
    "if nonzero_solution:\n",
    "    alpha_val, p_val = nonzero_solution\n",
    "    # alpha_val = N(alpha_val)\n",
    "    print(f\"Nonzero solution found: alpha = {alpha_val}, p = {p_val}\")\n",
    "else:\n",
    "    print(\"No nonzero solution found.\")"
   ]
  },
  {
   "cell_type": "markdown",
   "metadata": {},
   "source": [
    "### Find C"
   ]
  },
  {
   "cell_type": "code",
   "execution_count": 619,
   "metadata": {},
   "outputs": [
    {
     "name": "stdout",
     "output_type": "stream",
     "text": [
      "Value of C: 4.98627316229289\n"
     ]
    }
   ],
   "source": [
    "x_value = solution_with_y3.t[-100]\n",
    "y_value = solution_with_y3.y[0, -100]\n",
    "\n",
    "# Define the symbols\n",
    "x, C = symbols('x C')\n",
    "\n",
    "# The formula\n",
    "y_formula = alpha_val * -(div_point-x)**p_val + C\n",
    "\n",
    "# Create an equation by substituting x_value and y_value\n",
    "equation_for_C = Eq(y_value, y_formula.subs(x, x_value))\n",
    "\n",
    "# print(equation_for_C)\n",
    "\n",
    "# Solve for C\n",
    "C_value = solve(equation_for_C, C)\n",
    "\n",
    "# Assuming there's a unique solution for C\n",
    "if C_value:\n",
    "    C_solution = C_value[0]\n",
    "    print(f\"Value of C: {C_solution}\")\n",
    "else:\n",
    "    print(\"No solution found for C.\")"
   ]
  },
  {
   "cell_type": "markdown",
   "metadata": {},
   "source": [
    "### Plot"
   ]
  },
  {
   "cell_type": "code",
   "execution_count": 620,
   "metadata": {},
   "outputs": [],
   "source": [
    "# Define the approximate solution function\n",
    "def analyticalapproximation(x):\n",
    "    return np.sign((x-div_point)) * alpha_val * (np.abs((x-div_point))) ** p_val + C_solution"
   ]
  },
  {
   "cell_type": "code",
   "execution_count": 621,
   "metadata": {},
   "outputs": [
    {
     "data": {
      "image/png": "[encoded data removed]",
      "text/plain": [
       "<Figure size 1400x1000 with 1 Axes>"
      ]
     },
     "metadata": {},
     "output_type": "display_data"
    }
   ],
   "source": [
    "# Remove the last element from solution_with_y3.t\n",
    "modified_t_values = solution_with_y3.t[:-1]\n",
    "\n",
    "# Calculate the analytical approximation using the modified t values\n",
    "Yana = analyticalapproximation(modified_t_values)\n",
    "\n",
    "# Plotting\n",
    "plt.figure(figsize=[14, 10])\n",
    "plt.plot((div_point - modified_t_values), solution_with_y3.y[0, :-1], '-', label='Numerical')\n",
    "plt.plot((div_point - modified_t_values), Yana, '--', label='Analytical')\n",
    "plt.title(\"Solution Comparison\")\n",
    "# plt.xlim([1e-10,1])  # Uncomment if you need to set x-axis limits\n",
    "plt.xlabel(\"$(x^{*}-x)$\")\n",
    "plt.ylabel(\"y\")\n",
    "plt.legend()\n",
    "plt.show()"
   ]
  },
  {
   "cell_type": "markdown",
   "metadata": {},
   "source": [
    "For the small x regime, the dominant terms are determined by looking at the point div_point / 4 (arbitrarily chosen, but to prevent it from going into other intermediate regimes) "
   ]
  },
  {
   "cell_type": "code",
   "execution_count": 622,
   "metadata": {},
   "outputs": [
    {
     "data": {
      "image/png": "[encoded data removed]",
      "text/latex": [
       "$\\displaystyle 810$"
      ],
      "text/plain": [
       "810"
      ]
     },
     "execution_count": 622,
     "metadata": {},
     "output_type": "execute_result"
    }
   ],
   "source": [
    "solution_with_y3.t.size"
   ]
  },
  {
   "cell_type": "code",
   "execution_count": 623,
   "metadata": {},
   "outputs": [
    {
     "data": {
      "text/plain": [
       "array([ 0.00000000e+00,  1.28927755e-02,  2.49940059e-02,  3.64126875e-02,\n",
       "        4.72399563e-02,  5.75554202e-02,  6.74271589e-02,  7.69117242e-02,\n",
       "        8.60541395e-02,  9.48915220e-02,  1.03461236e-01,  1.11789236e-01,\n",
       "        1.19898855e-01,  1.27811500e-01,  1.35546656e-01,  1.43121884e-01,\n",
       "        1.50552824e-01,  1.57853188e-01,  1.65034768e-01,  1.72107433e-01,\n",
       "        1.79079125e-01,  1.85955866e-01,  1.92742029e-01,  1.99446774e-01,\n",
       "        2.06075184e-01,  2.12629404e-01,  2.19111412e-01,  2.25523017e-01,\n",
       "        2.31865858e-01,  2.38141409e-01,  2.44350974e-01,  2.50495687e-01,\n",
       "        2.56576517e-01,  2.62594262e-01,  2.68549554e-01,  2.74442854e-01,\n",
       "        2.80274456e-01,  2.86044487e-01,  2.91752904e-01,  2.97399496e-01,\n",
       "        3.02983884e-01,  3.08505520e-01,  3.13963688e-01,  3.19357505e-01,\n",
       "        3.24685919e-01,  3.29947707e-01,  3.35141482e-01,  3.40265686e-01,\n",
       "        3.45318593e-01,  3.50299665e-01,  3.55210888e-01,  3.60051459e-01,\n",
       "        3.64820494e-01,  3.69517205e-01,  3.74140891e-01,  3.78690940e-01,\n",
       "        3.83166835e-01,  3.87568145e-01,  3.91894531e-01,  3.96145746e-01,\n",
       "        4.00321631e-01,  4.04422119e-01,  4.08447232e-01,  4.12397083e-01,\n",
       "        4.16271876e-01,  4.20071905e-01,  4.23797554e-01,  4.27449297e-01,\n",
       "        4.31027701e-01,  4.34533419e-01,  4.37967199e-01,  4.41329876e-01,\n",
       "        4.44622377e-01,  4.47845719e-01,  4.51001010e-01,  4.54089447e-01,\n",
       "        4.57112318e-01,  4.60071003e-01,  4.62966970e-01,  4.65801778e-01,\n",
       "        4.68577077e-01,  4.71294608e-01,  4.73956201e-01,  4.76563777e-01,\n",
       "        4.79119347e-01,  4.81625014e-01,  4.84082968e-01,  4.86495493e-01,\n",
       "        4.88864962e-01,  4.91193838e-01,  4.93484674e-01,  4.95740116e-01,\n",
       "        4.97962896e-01,  5.00155840e-01,  5.02321864e-01,  5.04463973e-01,\n",
       "        5.06585263e-01,  5.08688920e-01,  5.10877409e-01,  5.13659117e-01,\n",
       "        5.16981356e-01,  5.20705716e-01,  5.24703721e-01,  5.28856830e-01,\n",
       "        5.33056436e-01,  5.37203870e-01,  5.41210395e-01,  5.44997211e-01,\n",
       "        5.48495451e-01,  5.51646187e-01,  5.54400422e-01,  5.56719095e-01,\n",
       "        5.58573082e-01,  5.59943193e-01,  5.60820172e-01,  5.61204699e-01,\n",
       "        5.61107389e-01,  5.60548792e-01,  5.59559394e-01,  5.58179615e-01,\n",
       "        5.56459809e-01,  5.54460269e-01,  5.52251217e-01,  5.49912817e-01,\n",
       "        5.47535162e-01,  5.45218284e-01,  5.43072149e-01,  5.41212590e-01,\n",
       "        5.39468754e-01,  5.37691234e-01,  5.35877552e-01,  5.34025340e-01,\n",
       "        5.32132343e-01,  5.30196411e-01,  5.28215509e-01,  5.26187709e-01,\n",
       "        5.24111193e-01,  5.21984254e-01,  5.19805295e-01,  5.17572829e-01,\n",
       "        5.15285478e-01,  5.12941976e-01,  5.10541164e-01,  5.08081995e-01,\n",
       "        5.05563532e-01,  5.02984949e-01,  5.00345527e-01,  4.97644659e-01,\n",
       "        4.94881848e-01,  4.92056706e-01,  4.89168957e-01,  4.86218433e-01,\n",
       "        4.83205076e-01,  4.80128940e-01,  4.76990187e-01,  4.73789089e-01,\n",
       "        4.70525953e-01,  4.67199084e-01,  4.63807725e-01,  4.60352026e-01,\n",
       "        4.56832151e-01,  4.53248280e-01,  4.49600606e-01,  4.45889336e-01,\n",
       "        4.42114693e-01,  4.38276911e-01,  4.34376241e-01,  4.30412947e-01,\n",
       "        4.26387307e-01,  4.22299614e-01,  4.18150174e-01,  4.13939309e-01,\n",
       "        4.09667353e-01,  4.05334656e-01,  4.00941580e-01,  3.96488505e-01,\n",
       "        3.91975821e-01,  3.87403934e-01,  3.82773265e-01,  3.78084247e-01,\n",
       "        3.73337330e-01,  3.68532976e-01,  3.63671662e-01,  3.58753879e-01,\n",
       "        3.53780132e-01,  3.48750941e-01,  3.43666838e-01,  3.38528373e-01,\n",
       "        3.33336107e-01,  3.28090615e-01,  3.22792489e-01,  3.17442333e-01,\n",
       "        3.12040765e-01,  3.06588419e-01,  3.01085941e-01,  2.95533992e-01,\n",
       "        2.89933249e-01,  2.84284400e-01,  2.78588150e-01,  2.72845216e-01,\n",
       "        2.67056330e-01,  2.61222239e-01,  2.55343703e-01,  2.49421497e-01,\n",
       "        2.43456410e-01,  2.37449245e-01,  2.31400818e-01,  2.25311962e-01,\n",
       "        2.19183522e-01,  2.13016357e-01,  2.06811342e-01,  2.00569365e-01,\n",
       "        1.94291327e-01,  1.87978146e-01,  1.81630753e-01,  1.75250091e-01,\n",
       "        1.68837120e-01,  1.62392814e-01,  1.55918159e-01,  1.49414157e-01,\n",
       "        1.42881824e-01,  1.36322189e-01,  1.29736298e-01,  1.23125208e-01,\n",
       "        1.16489991e-01,  1.09831735e-01,  1.03151540e-01,  9.64505211e-02,\n",
       "        8.97298074e-02,  8.29905425e-02,  7.62338837e-02,  6.94610030e-02,\n",
       "        6.26730861e-02,  5.58713332e-02,  4.90569585e-02,  4.22311752e-02,\n",
       "        3.53945380e-02,  2.85480670e-02,  2.16931958e-02,  1.48313433e-02,\n",
       "        7.96391380e-03,  1.09229650e-03, -5.78213395e-03, -1.26580177e-02,\n",
       "       -1.95340098e-02, -2.64087799e-02, -3.32810124e-02, -4.01494067e-02,\n",
       "       -4.70126768e-02, -5.38695515e-02, -6.07187743e-02, -6.75591036e-02,\n",
       "       -7.43893126e-02, -8.12081890e-02, -8.80145356e-02, -9.48071699e-02,\n",
       "       -1.01584924e-01, -1.08346645e-01, -1.15091194e-01, -1.21817448e-01,\n",
       "       -1.28524299e-01, -1.35210652e-01, -1.41875428e-01, -1.48517563e-01,\n",
       "       -1.55136007e-01, -1.61729725e-01, -1.68297698e-01, -1.74838919e-01,\n",
       "       -1.81352399e-01, -1.87837161e-01, -1.94292245e-01, -2.00716704e-01,\n",
       "       -2.07109607e-01, -2.13470037e-01, -2.19797092e-01, -2.26089885e-01,\n",
       "       -2.32347544e-01, -2.38569211e-01, -2.44754043e-01, -2.50901213e-01,\n",
       "       -2.57009906e-01, -2.63079325e-01, -2.69108685e-01, -2.75097217e-01,\n",
       "       -2.81044169e-01, -2.86948799e-01, -2.92810383e-01, -2.98628212e-01,\n",
       "       -3.04401589e-01, -3.10129836e-01, -3.15812286e-01, -3.21448289e-01,\n",
       "       -3.27037208e-01, -3.32578422e-01, -3.38071324e-01, -3.43515324e-01,\n",
       "       -3.48909843e-01, -3.54254320e-01, -3.59548208e-01, -3.64790973e-01,\n",
       "       -3.69982098e-01, -3.75121080e-01, -3.80207430e-01, -3.85240674e-01,\n",
       "       -3.90220355e-01, -3.95146028e-01, -4.00017263e-01, -4.04833647e-01,\n",
       "       -4.09594779e-01, -4.14300274e-01, -4.18949763e-01, -4.23542890e-01,\n",
       "       -4.28079315e-01, -4.32558711e-01, -4.36980767e-01, -4.41345187e-01,\n",
       "       -4.45651690e-01, -4.49900009e-01, -4.54089891e-01, -4.58221100e-01,\n",
       "       -4.62293414e-01, -4.66306623e-01, -4.70260536e-01, -4.74154974e-01,\n",
       "       -4.77989775e-01, -4.81764788e-01, -4.85479881e-01, -4.89134935e-01,\n",
       "       -4.92729844e-01, -4.96264521e-01, -4.99739151e-01, -5.03154905e-01,\n",
       "       -5.06512053e-01, -5.09810743e-01, -5.13051137e-01, -5.16233406e-01,\n",
       "       -5.19357730e-01, -5.22424301e-01, -5.25433320e-01, -5.28385000e-01,\n",
       "       -5.31279562e-01, -5.34117239e-01, -5.36898274e-01, -5.39622920e-01,\n",
       "       -5.42291441e-01, -5.44904111e-01, -5.47461213e-01, -5.49963041e-01,\n",
       "       -5.52409901e-01, -5.54802108e-01, -5.57139987e-01, -5.59423873e-01,\n",
       "       -5.61654113e-01, -5.63831062e-01, -5.65955087e-01, -5.68026565e-01,\n",
       "       -5.70045884e-01, -5.72013440e-01, -5.73929641e-01, -5.75794906e-01,\n",
       "       -5.77609663e-01, -5.79374350e-01, -5.81089417e-01, -5.82755322e-01,\n",
       "       -5.84372536e-01, -5.85941538e-01, -5.87462818e-01, -5.88936877e-01,\n",
       "       -5.90364226e-01, -5.91745387e-01, -5.93080889e-01, -5.94371275e-01,\n",
       "       -5.95617098e-01, -5.96818919e-01, -5.97977312e-01, -5.99092858e-01,\n",
       "       -6.00166152e-01, -6.01197797e-01, -6.02188407e-01, -6.03138606e-01,\n",
       "       -6.04049028e-01, -6.04920319e-01, -6.05753133e-01, -6.06548136e-01,\n",
       "       -6.07306004e-01, -6.08027422e-01, -6.08713088e-01, -6.09363707e-01,\n",
       "       -6.09979996e-01, -6.10562684e-01, -6.11112506e-01, -6.11630212e-01,\n",
       "       -6.12116560e-01, -6.12572317e-01, -6.12998264e-01, -6.13395187e-01,\n",
       "       -6.13763889e-01, -6.14105177e-01, -6.14419872e-01, -6.14708804e-01,\n",
       "       -6.14972814e-01, -6.15212753e-01, -6.15429482e-01, -6.15623872e-01,\n",
       "       -6.15796806e-01, -6.15949175e-01, -6.16081883e-01, -6.16195841e-01,\n",
       "       -6.16291974e-01, -6.16371213e-01, -6.16434504e-01, -6.16482799e-01,\n",
       "       -6.16517064e-01, -6.16538272e-01, -6.16547410e-01, -6.16545471e-01,\n",
       "       -6.16533462e-01, -6.16512398e-01, -6.16483306e-01, -6.16447222e-01,\n",
       "       -6.16405192e-01, -6.16358274e-01, -6.16307536e-01, -6.16254054e-01,\n",
       "       -6.16198917e-01, -6.16143173e-01, -6.16085591e-01, -6.16025634e-01,\n",
       "       -6.15963909e-01, -6.15901027e-01, -6.15837608e-01, -6.15774273e-01,\n",
       "       -6.15711652e-01, -6.15650377e-01, -6.15591088e-01, -6.15534429e-01,\n",
       "       -6.15481049e-01, -6.15431604e-01, -6.15386753e-01, -6.15347162e-01,\n",
       "       -6.15313502e-01, -6.15286449e-01, -6.15266683e-01, -6.15254892e-01,\n",
       "       -6.15251767e-01, -6.15258006e-01, -6.15274311e-01, -6.15301391e-01,\n",
       "       -6.15339957e-01, -6.15390729e-01, -6.15454430e-01, -6.15531789e-01,\n",
       "       -6.15623541e-01, -6.15730425e-01, -6.15853186e-01, -6.15992574e-01,\n",
       "       -6.16149344e-01, -6.16324258e-01, -6.16518082e-01, -6.16731587e-01,\n",
       "       -6.16965549e-01, -6.17220751e-01, -6.17497980e-01, -6.17798028e-01,\n",
       "       -6.18121694e-01, -6.18469780e-01, -6.18843095e-01, -6.19242453e-01,\n",
       "       -6.19668672e-01, -6.20122578e-01, -6.20605000e-01, -6.21116772e-01,\n",
       "       -6.21658736e-01, -6.22231736e-01, -6.22836623e-01, -6.23474255e-01,\n",
       "       -6.24145491e-01, -6.24851199e-01, -6.25592251e-01, -6.26369524e-01,\n",
       "       -6.27183902e-01, -6.28036270e-01, -6.28927524e-01, -6.29858562e-01,\n",
       "       -6.30830287e-01, -6.31843609e-01, -6.32899441e-01, -6.33998705e-01,\n",
       "       -6.35142324e-01, -6.36331229e-01, -6.37566356e-01, -6.38848645e-01,\n",
       "       -6.40179044e-01, -6.41558502e-01, -6.42987978e-01, -6.44468433e-01,\n",
       "       -6.46000835e-01, -6.47586157e-01, -6.49225376e-01, -6.50919475e-01,\n",
       "       -6.52669444e-01, -6.54476276e-01, -6.56340971e-01, -6.58264532e-01,\n",
       "       -6.60247971e-01, -6.62292301e-01, -6.64398543e-01, -6.66567724e-01,\n",
       "       -6.68800873e-01, -6.71099028e-01, -6.73463229e-01, -6.75894524e-01,\n",
       "       -6.78393965e-01, -6.80962609e-01, -6.83601520e-01, -6.86311765e-01,\n",
       "       -6.89094417e-01, -6.91950555e-01, -6.94881264e-01, -6.97887632e-01,\n",
       "       -7.00970755e-01, -7.04131731e-01, -7.07371899e-01, -7.10697916e-01,\n",
       "       -7.14112726e-01, -7.17616808e-01, -7.21210721e-01, -7.24895100e-01,\n",
       "       -7.28670662e-01, -7.32538199e-01, -7.36498584e-01, -7.40552768e-01,\n",
       "       -7.44701780e-01, -7.48946730e-01, -7.53288803e-01, -7.57729265e-01,\n",
       "       -7.62269460e-01, -7.66910811e-01, -7.71654819e-01, -7.76503065e-01,\n",
       "       -7.81457206e-01, -7.86518980e-01, -7.91690203e-01, -7.96972769e-01,\n",
       "       -8.02368651e-01, -8.07879901e-01, -8.13508650e-01, -8.19257105e-01,\n",
       "       -8.25127555e-01, -8.31122366e-01, -8.37243983e-01, -8.43494928e-01,\n",
       "       -8.49877805e-01, -8.56395293e-01, -8.63050152e-01, -8.69845220e-01,\n",
       "       -8.76783413e-01, -8.83867727e-01, -8.91101236e-01, -8.98487090e-01,\n",
       "       -9.06028523e-01, -9.13728842e-01, -9.21591437e-01, -9.29619775e-01,\n",
       "       -9.37817400e-01, -9.46187937e-01, -9.54735089e-01, -9.63462637e-01,\n",
       "       -9.72374441e-01, -9.81474440e-01, -9.90766650e-01, -1.00025517e+00,\n",
       "       -1.00994417e+00, -1.01983790e+00, -1.02994071e+00, -1.04025698e+00,\n",
       "       -1.05079123e+00, -1.06154801e+00, -1.07253197e+00, -1.08374783e+00,\n",
       "       -1.09520040e+00, -1.10689457e+00, -1.11883528e+00, -1.13102758e+00,\n",
       "       -1.14347659e+00, -1.15618751e+00, -1.16916560e+00, -1.18241623e+00,\n",
       "       -1.19594483e+00, -1.20975690e+00, -1.22385804e+00, -1.23825391e+00,\n",
       "       -1.25295026e+00, -1.26795293e+00, -1.28326780e+00, -1.29890087e+00,\n",
       "       -1.31485819e+00, -1.33114591e+00, -1.34777024e+00, -1.36473748e+00,\n",
       "       -1.38205401e+00, -1.39972629e+00, -1.41776084e+00, -1.43616996e+00,\n",
       "       -1.45501326e+00, -1.47430434e+00, -1.49404313e+00, -1.51423055e+00,\n",
       "       -1.53486848e+00, -1.55595976e+00, -1.57750819e+00, -1.59951855e+00,\n",
       "       -1.62199658e+00, -1.64494899e+00, -1.66838343e+00, -1.69230855e+00,\n",
       "       -1.71673394e+00, -1.74167017e+00, -1.76712878e+00, -1.79312225e+00,\n",
       "       -1.81966405e+00, -1.84676860e+00, -1.87445130e+00, -1.90272850e+00,\n",
       "       -1.93161753e+00, -1.96113667e+00, -1.99130518e+00, -2.02214328e+00,\n",
       "       -2.05367215e+00, -2.08591393e+00, -2.11889175e+00, -2.15262968e+00,\n",
       "       -2.18715277e+00, -2.22248704e+00, -2.25865944e+00, -2.29569794e+00,\n",
       "       -2.33363143e+00, -2.37248978e+00, -2.41230384e+00, -2.45310541e+00,\n",
       "       -2.49492725e+00, -2.53780310e+00, -2.58176765e+00, -2.62685658e+00,\n",
       "       -2.67310651e+00, -2.72055503e+00, -2.76924071e+00, -2.81920307e+00,\n",
       "       -2.87048260e+00, -2.92312076e+00, -2.97715997e+00, -3.03264361e+00,\n",
       "       -3.08961605e+00, -3.14812259e+00, -3.20820952e+00, -3.26992409e+00,\n",
       "       -3.33331451e+00, -3.39842996e+00, -3.46532059e+00, -3.53403750e+00,\n",
       "       -3.60463278e+00, -3.67715945e+00, -3.75167153e+00, -3.82822398e+00,\n",
       "       -3.90687275e+00, -3.98767473e+00, -4.07068780e+00, -4.15597078e+00,\n",
       "       -4.24358347e+00, -4.33367083e+00, -4.42668458e+00, -4.52267960e+00,\n",
       "       -4.62166467e+00, -4.72366270e+00, -4.82871075e+00, -4.93686004e+00,\n",
       "       -5.04817591e+00, -5.16273785e+00, -5.28063950e+00, -5.40198865e+00,\n",
       "       -5.52690722e+00, -5.65553128e+00, -5.78801105e+00, -5.92451088e+00,\n",
       "       -6.06520928e+00, -6.21029889e+00, -6.35998651e+00, -6.51449307e+00,\n",
       "       -6.67405364e+00, -6.83891746e+00, -7.00934789e+00, -7.18562244e+00,\n",
       "       -7.36803277e+00, -7.55688467e+00, -7.75249810e+00, -7.95520713e+00,\n",
       "       -8.16536001e+00, -8.38331910e+00, -8.60946094e+00, -8.84417617e+00,\n",
       "       -9.08786962e+00, -9.34096022e+00, -9.60388110e+00, -9.87707947e+00,\n",
       "       -1.01610167e+01, -1.04561684e+01, -1.07630242e+01, -1.10820878e+01,\n",
       "       -1.14138774e+01, -1.17589249e+01, -1.21177766e+01, -1.24909930e+01,\n",
       "       -1.28791485e+01, -1.32828319e+01, -1.37035481e+01, -1.41442363e+01,\n",
       "       -1.46051145e+01, -1.50864199e+01, -1.55885964e+01, -1.61122948e+01,\n",
       "       -1.66583720e+01, -1.72278920e+01, -1.78221253e+01, -1.84425489e+01,\n",
       "       -1.90908465e+01, -1.97689086e+01, -2.04788319e+01, -2.12229203e+01,\n",
       "       -2.20036838e+01, -2.28238394e+01, -2.36863105e+01, -2.45942273e+01,\n",
       "       -2.55509265e+01, -2.65599515e+01, -2.76250522e+01, -2.87501854e+01,\n",
       "       -2.99395143e+01, -3.11974088e+01, -3.25284454e+01, -3.39374072e+01,\n",
       "       -3.54292841e+01, -3.70092724e+01, -3.86827752e+01, -4.04554022e+01,\n",
       "       -4.23329696e+01, -4.43325024e+01, -4.64697158e+01, -4.87468872e+01,\n",
       "       -5.11692983e+01, -5.37452720e+01, -5.64861719e+01, -5.94064025e+01,\n",
       "       -6.25234089e+01, -6.58576775e+01, -6.94327353e+01, -7.32751501e+01,\n",
       "       -7.74145307e+01, -8.18835267e+01, -8.67178285e+01, -9.19561675e+01,\n",
       "       -9.76403158e+01, -1.03815086e+02, -1.10528333e+02, -1.17830951e+02,\n",
       "       -1.25776876e+02, -1.34423098e+02, -1.43911136e+02, -1.54346616e+02,\n",
       "       -1.65775492e+02, -1.78288466e+02, -1.92020986e+02, -2.07153248e+02,\n",
       "       -2.23910196e+02, -2.42561522e+02, -2.63421662e+02, -2.86849803e+02,\n",
       "       -3.13249877e+02, -3.43070564e+02, -3.76805292e+02, -4.14992234e+02,\n",
       "       -4.58517136e+02, -5.08514666e+02, -5.65632021e+02, -6.31134138e+02,\n",
       "       -7.06944728e+02, -7.95646276e+02, -9.00480034e+02, -1.02534603e+03,\n",
       "       -1.17480306e+03, -1.35407497e+03, -1.57251084e+03, -1.83866389e+03,\n",
       "       -2.16526963e+03, -2.57476335e+03, -3.09928008e+03, -3.78065460e+03,\n",
       "       -4.67478908e+03, -5.87150145e+03, -7.49380612e+03, -9.79457294e+03,\n",
       "       -1.31695051e+04, -1.82752588e+04, -2.62913461e+04, -3.99849850e+04,\n",
       "       -6.49791207e+04, -1.15881044e+05, -2.37566054e+05, -6.13376705e+05,\n",
       "       -2.45967591e+06, -3.56717398e+07])"
      ]
     },
     "execution_count": 623,
     "metadata": {},
     "output_type": "execute_result"
    }
   ],
   "source": [
    "index"
   ]
  },
  {
   "cell_type": "code",
   "execution_count": 624,
   "metadata": {},
   "outputs": [],
   "source": [
    "import heapq"
   ]
  },
  {
   "cell_type": "markdown",
   "metadata": {},
   "source": [
    "**For small x approximation**\n",
    "\n",
    "It might be better to fix x at something like $x=0.01$ for where to compute the dominant balance at."
   ]
  },
  {
   "cell_type": "code",
   "execution_count": 640,
   "metadata": {},
   "outputs": [
    {
     "data": {
      "image/png": "[encoded data removed]",
      "text/latex": [
       "$\\displaystyle \\frac{d^{3}}{d x^{3}} y{\\left(x \\right)} = - \\frac{1}{25 x^{4} - 20 x^{2} - 10 x + \\cos{\\left(x \\right)} - 2}$"
      ],
      "text/plain": [
       "  3                                          \n",
       " d                         -1                \n",
       "───(y(x)) = ─────────────────────────────────\n",
       "  3             4       2                    \n",
       "dx          25⋅x  - 20⋅x  - 10⋅x + cos(x) - 2"
      ]
     },
     "execution_count": 640,
     "metadata": {},
     "output_type": "execute_result"
    }
   ],
   "source": [
    "target_x = 0.1\n",
    "\n",
    "# Find the index of the value closest to target_x\n",
    "index_closest_small_x = np.argmin(np.abs(solution_with_y3.t - target_x))\n",
    "\n",
    "# Steps to find index of the largest term at the last x-value\n",
    "small_x_value = solution_with_y3.t[index_closest_small_x]\n",
    "evaluated_at_last_x = [abs(term[index_closest_small_x]) for term in list_of_terms]\n",
    "terms_with_index = [(i, value) for i, value in enumerate(evaluated_at_last_x)]\n",
    "terms_with_index.sort(key=lambda x: x[1], reverse=True)\n",
    "largest_terms_indices = [terms_with_index[0][0]]\n",
    "\n",
    "# Translate the largest term into its differential form\n",
    "largest_term_index = largest_terms_indices[0]\n",
    "largest_term_expression = new_terms[largest_term_index] if largest_term_index < len(new_terms) else None\n",
    "\n",
    "largest_term_differential = translate_to_differential(largest_term_expression) \\\n",
    "if largest_term_expression is not None else None\n",
    "\n",
    "# Define an equation where the third derivative of y is equal to the largest term's differential\n",
    "y_triple_prime_equation_small = Eq(Derivative(y, x, x, x), largest_term_differential)\n",
    "\n",
    "y_triple_prime_equation_small"
   ]
  },
  {
   "cell_type": "code",
   "execution_count": 626,
   "metadata": {},
   "outputs": [],
   "source": [
    "largest_term_differential = largest_term_differential.subs(x, 0)"
   ]
  },
  {
   "cell_type": "code",
   "execution_count": 627,
   "metadata": {},
   "outputs": [
    {
     "data": {
      "image/png": "[encoded data removed]",
      "text/latex": [
       "$\\displaystyle 1$"
      ],
      "text/plain": [
       "1"
      ]
     },
     "execution_count": 627,
     "metadata": {},
     "output_type": "execute_result"
    }
   ],
   "source": [
    "largest_term_differential"
   ]
  },
  {
   "cell_type": "code",
   "execution_count": 628,
   "metadata": {},
   "outputs": [],
   "source": [
    "y = Function('y')(x)\n"
   ]
  },
  {
   "cell_type": "code",
   "execution_count": 629,
   "metadata": {},
   "outputs": [
    {
     "data": {
      "image/png": "[encoded data removed]",
      "text/latex": [
       "$\\displaystyle y{\\left(x \\right)} = C_{1} + C_{2} x + C_{3} x^{2} + \\frac{x^{3}}{6}$"
      ],
      "text/plain": [
       "                            3\n",
       "                       2   x \n",
       "y(x) = C₁ + C₂⋅x + C₃⋅x  + ──\n",
       "                           6 "
      ]
     },
     "execution_count": 629,
     "metadata": {},
     "output_type": "execute_result"
    }
   ],
   "source": [
    "small_x_expression = dsolve(Derivative(y, x, x, x) -  largest_term_differential, y)\n",
    "small_x_expression"
   ]
  },
  {
   "cell_type": "code",
   "execution_count": 630,
   "metadata": {},
   "outputs": [
    {
     "data": {
      "image/png": "[encoded data removed]",
      "text/latex": [
       "$\\displaystyle y{\\left(x \\right)} = \\frac{x^{3}}{6} + 1$"
      ],
      "text/plain": [
       "        3    \n",
       "       x     \n",
       "y(x) = ── + 1\n",
       "       6     "
      ]
     },
     "execution_count": 630,
     "metadata": {},
     "output_type": "execute_result"
    }
   ],
   "source": [
    "small_x_expression_substituted = small_x_expression.subs({sympy.Symbol('C1'): 1, sympy.Symbol('C2'): 0, sympy.Symbol('C3'): 0})\n",
    "small_x_expression_substituted"
   ]
  },
  {
   "cell_type": "code",
   "execution_count": 631,
   "metadata": {},
   "outputs": [],
   "source": [
    "final_eq = lambdify(x, small_x_expression_substituted.rhs)"
   ]
  },
  {
   "cell_type": "code",
   "execution_count": 632,
   "metadata": {},
   "outputs": [
    {
     "data": {
      "text/plain": [
       "<function _lambdifygenerated(x)>"
      ]
     },
     "execution_count": 632,
     "metadata": {},
     "output_type": "execute_result"
    }
   ],
   "source": [
    "final_eq"
   ]
  },
  {
   "cell_type": "code",
   "execution_count": 633,
   "metadata": {},
   "outputs": [],
   "source": [
    "# Define the approximate solution function\n",
    "def small_analytical_approximation(x):\n",
    "    return final_eq(x)"
   ]
  },
  {
   "cell_type": "code",
   "execution_count": 634,
   "metadata": {},
   "outputs": [
    {
     "data": {
      "image/png": "[encoded data removed]",
      "text/plain": [
       "<Figure size 640x480 with 1 Axes>"
      ]
     },
     "metadata": {},
     "output_type": "display_data"
    }
   ],
   "source": [
    "Yana=np.array([[small_analytical_approximation(xi)]for xi in solution_with_y3.t])\n",
    "\n",
    "one_third_index = len(solution_with_y3.t) // 3\n",
    "\n",
    "plt.loglog(solution_with_y3.t[:one_third_index], np.abs(solution_with_y3.y[0,:one_third_index]),'--',label = 'Numerical')\n",
    "plt.loglog(solution_with_y3.t[:one_third_index], np.abs(Yana[:one_third_index]),'-',label = 'Analytical', linewidth=2)\n",
    "plt.title(\"Small x and large x comparison\")\n",
    "plt.xlabel(\"x\")\n",
    "plt.ylabel(\"y\")\n",
    "plt.legend()\n",
    "plt.show()"
   ]
  },
  {
   "cell_type": "markdown",
   "metadata": {},
   "source": [
    "**LaTeX problem statement generator**"
   ]
  },
  {
   "cell_type": "code",
   "execution_count": 635,
   "metadata": {},
   "outputs": [
    {
     "data": {
      "text/plain": [
       "array([-1/(25*x**4 - 20*x**2 - 10*x + cos(x) - 2),\n",
       "       y0/(4*x**3 + 4*x**2 - 3*x + 3), -y1**2, y2/(9*x**3 + 6*x**2 + 4),\n",
       "       -y3], dtype=object)"
      ]
     },
     "execution_count": 635,
     "metadata": {},
     "output_type": "execute_result"
    }
   ],
   "source": [
    "terms"
   ]
  },
  {
   "cell_type": "code",
   "execution_count": 647,
   "metadata": {},
   "outputs": [
    {
     "name": "stdout",
     "output_type": "stream",
     "text": [
      "The third-order ODE is given by the following equation: $$- y_{3} = - \\left(\\frac{d}{d x} y{\\left(x \\right)}\\right)^{2} - \\frac{1}{25 x^{4} - 20 x^{2} - 10 x + \\cos{\\left(x \\right)} - 2} + \\frac{y{\\left(x \\right)}}{4 x^{3} + 4 x^{2} - 3 x + 3} + \\frac{\\frac{d^{2}}{d x^{2}} y{\\left(x \\right)}}{9 x^{3} + 6 x^{2} + 4}$$\n",
      "The dominant balance in the small x regime is given by $$\\frac{d^{3}}{d x^{3}} y{\\left(x \\right)} = - \\frac{1}{25 x^{4} - 20 x^{2} - 10 x + \\cos{\\left(x \\right)} - 2}$$, and the dominant balance in the large x regime is given by $$\\frac{d^{3}}{d x^{3}} y = - \\frac{1}{25 x^{4} - 20 x^{2} - 10 x + \\cos{\\left(x \\right)} - 2}$$\n",
      "Using the dominant balance in the small x regime, the solution can be derived by     setting $x=0$, analytically solving the dominant balance equation     for y, and plugging in the initial conditions. The solution is thus $$y{\\left(x \\right)} = \\frac{x^{3}}{6} + 1$$ in the small x regime.\n",
      "The solution for the large x regime uses an ansatz of the form $$ y=\\alpha (x-x^*)^p $$, where $x^*$ is the divergence point. Plugging in the ansatz and solving for the terms yields $$\\alpha p \\left(p - 2\\right) \\left(p - 1\\right) \\left(x - 8.09080908090809\\right)^{p - 3} = - \\alpha^{2} p^{2} \\left(x - 8.09080908090809\\right)^{2 p - 2}$$\n"
     ]
    }
   ],
   "source": [
    "x = sympy.symbols('x')\n",
    "y = sympy.Function('y')(x)\n",
    "\n",
    "derivatives = [y, y.diff(x), y.diff(x, x), y.diff(x, x, x)]\n",
    "\n",
    "first_term_replaced = terms[0].subs(x, x) # x\n",
    "second_term_replaced = terms[1].subs(y0, y) # y\n",
    "third_term_replaced = terms[2].subs(y1, y.diff(x)) # dydx\n",
    "fourth_term_replaced = terms[3].subs(y2, y.diff(x, x)) # d2ydx2\n",
    "fifth_term_replaced = terms[4].subs(y3, y.diff(x, x, x)) # d3ydx3\n",
    "\n",
    "sum_terms = first_term_replaced + second_term_replaced + third_term_replaced + fourth_term_replaced\n",
    "\n",
    "differential_equation = Eq(fifth_term_replaced, sum_terms)\n",
    "\n",
    "dollar_sign = \"$$\"\n",
    "\n",
    "print(\"The third-order ODE is given by the following equation: \" + \"$$\" + latex(differential_equation) + \"$$\")\n",
    "print(\"The dominant balance in the small x regime is given by \" + \"$$\" + latex(y_triple_prime_equation_small) + \",$$\"\n",
    "    + \" and the dominant balance in the large x regime is given by \" + \"$$\" + latex(y_triple_prime_equation) + \"$$\")\n",
    "\n",
    "print(\"Using the dominant balance in the small x regime, the solution can be derived by \\\n",
    "    setting $x=0$, analytically solving the dominant balance equation \\\n",
    "    for y, and plugging in the initial conditions. The solution is thus \" + \"$$\" + latex(small_x_expression_substituted)\n",
    "    + \"$$\" + \" in the small x regime.\")\n",
    "\n",
    "print(\"The solution for the large x regime uses an ansatz of the form \" + \"$$ y=\\\\alpha (x-x^*)^p, $$\" \n",
    "    + \" where $x^*$ is the divergence point. Plugging in the ansatz and solving for the terms yields \"\n",
    "    + \"$$\" + latex(equation_with_derivatives) + \"$$\")\n"
   ]
  },
  {
   "cell_type": "markdown",
   "metadata": {},
   "source": []
  }
 ],
 "metadata": {
  "colab": {
   "collapsed_sections": [
    "QJBh4fOgoLTm",
    "DpB3Ml7MoOix",
    "l72dU1KToQ_d"
   ],
   "provenance": []
  },
  "kernelspec": {
   "display_name": "Python 3 (ipykernel)",
   "language": "python",
   "name": "python3"
  },
  "language_info": {
   "codemirror_mode": {
    "name": "ipython",
    "version": 3
   },
   "file_extension": ".py",
   "mimetype": "text/x-python",
   "name": "python",
   "nbconvert_exporter": "python",
   "pygments_lexer": "ipython3",
   "version": "3.11.4"
  }
 },
 "nbformat": 4,
 "nbformat_minor": 1
}
