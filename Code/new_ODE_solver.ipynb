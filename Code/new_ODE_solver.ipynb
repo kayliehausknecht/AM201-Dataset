{
 "cells": [
  {
   "cell_type": "markdown",
   "metadata": {
    "id": "J62oxRuooIdF"
   },
   "source": [
    "# Random ODE Generator"
   ]
  },
  {
   "cell_type": "markdown",
   "metadata": {
    "id": "QJBh4fOgoLTm"
   },
   "source": [
    "## Setting Problem Up"
   ]
  },
  {
   "cell_type": "code",
   "execution_count": 238,
   "metadata": {
    "id": "VP4b69KKPeVU"
   },
   "outputs": [],
   "source": [
    "### Imports ###\n",
    "import numpy as np\n",
    "from sympy import *\n",
    "import sympy\n",
    "import random as rand\n",
    "import random\n",
    "import IPython.display as disp\n",
    "init_printing()\n",
    "import matplotlib.pyplot as plt"
   ]
  },
  {
   "cell_type": "code",
   "execution_count": 239,
   "metadata": {
    "id": "EwB1x_1UO6JB"
   },
   "outputs": [],
   "source": [
    "### Setting predetermined values ###\n",
    "\n",
    "# Setting the order of the equation (fixed)\n",
    "n = 3\n",
    "\n",
    "########\n",
    "\n",
    "# Number of y-type terms (x, y, y', etc.)\n",
    "T = n + 2\n",
    "\n",
    "# Minimum number of subterms total (total number of terms in the final equation)\n",
    "min_subterms = 2\n",
    "\n",
    "# Maximum number of subterms total (total number of terms in the final equation)\n",
    "max_subterms = 3\n",
    "\n",
    "# Maximum number of times a function recursively called to create a function\n",
    "max_fun = 2\n",
    "\n",
    "# Sets the cumulative probabilities for the following function types:\n",
    "# (1) No change (2) power (3) exponential (4) logarithmic (5) trig (6) hyperbolic\n",
    "function_cdf = [0.1, 0.5, 0.62, 0.74, 1, 1]\n",
    "\n",
    "# Sets the probability that the function creating function will recursively call\n",
    "# itself again\n",
    "recurs_prob = 0.1\n",
    "\n",
    "# The probability of adding a constant to the function\n",
    "add_c_prob = 0.5"
   ]
  },
  {
   "cell_type": "code",
   "execution_count": 240,
   "metadata": {
    "id": "D9EIKzcEPe97"
   },
   "outputs": [
    {
     "data": {
      "text/plain": [
       "array([x, y0, y1, y2, y3], dtype=object)"
      ]
     },
     "execution_count": 240,
     "metadata": {},
     "output_type": "execute_result"
    }
   ],
   "source": [
    "### Defining the symbols, functions, and terms ###\n",
    "\n",
    "# Define symbol and function variables\n",
    "x = Symbol('x')\n",
    "\n",
    "# Stores the y-type terms (x, y, y', etc.) in an array called y_terms\n",
    "y_terms = np.empty(T, dtype=Symbol)\n",
    "y_terms[0] = x\n",
    "\n",
    "for i in range(1, T):\n",
    "    #y_terms[i] = y(x).diff(x, i - 1)\n",
    "    y_terms[i] = Symbol('y'+str(i-1))\n",
    "    \n",
    "y_terms"
   ]
  },
  {
   "cell_type": "markdown",
   "metadata": {
    "id": "DpB3Ml7MoOix"
   },
   "source": [
    "## Functions"
   ]
  },
  {
   "cell_type": "code",
   "execution_count": 241,
   "metadata": {
    "id": "iBcLOk1zWX0Y"
   },
   "outputs": [],
   "source": [
    "def num_subterms (sum_min, sum_max):\n",
    "    '''\n",
    "    This creates an array of the number of subterms for each y-type term.\n",
    "    If the number of subterms is less than the specified minimum or greater than\n",
    "    the specified maximum, the function will call itself recursively until\n",
    "    a valid number of subterms are determined.\n",
    "\n",
    "    Parameters\n",
    "    ----------\n",
    "    sum_min:  int\n",
    "              The minimum number of total subterms\n",
    "    sum_max:  int\n",
    "              The maximum number of total subterms\n",
    "\n",
    "    Returns\n",
    "    ----------\n",
    "    temp: numpy array of int\n",
    "          Returns the number of subterms for each y-type term\n",
    "    '''\n",
    "\n",
    "    temp = np.empty(T, dtype=int)\n",
    "    # Initially set that the nth derivative term has one subterm\n",
    "    temp[-1] = 1\n",
    "\n",
    "    # Set number of subterms (0, 1, or 2) for remaining terms\n",
    "    for i in range(T - 1):\n",
    "        # Sets the probability of having 0 subterms or 1 subterm\n",
    "        probabilities = [0] * 1 + [1] * 2\n",
    "        temp[i] = rand.choice(probabilities)\n",
    "\n",
    "    if (sum(temp) < sum_min or sum_min > sum_max):\n",
    "        return num_subterms (sum_min, sum_max)\n",
    "    # return temp\n",
    "    return [1, 1, 1, 1, 1] # changed this so every order is present in the final ODE"
   ]
  },
  {
   "cell_type": "code",
   "execution_count": 242,
   "metadata": {},
   "outputs": [],
   "source": [
    "def add_coeff_and_constant(subterm, const_prob = 0.5):\n",
    "    # Determines coefficient\n",
    "    coeffs = np.linspace(-5,-1,11, dtype=int)\n",
    "    if rand.random() < 0.5:\n",
    "        subterm *= rand.choice(coeffs)\n",
    "    # elif rand.random() > 0.8:\n",
    "    #     subterm /= rand.choice(coeffs)\n",
    "\n",
    "    # Determines added constant\n",
    "    if rand.random() < const_prob:\n",
    "        subterm += rand.choice(coeffs)\n",
    "\n",
    "    return subterm"
   ]
  },
  {
   "cell_type": "code",
   "execution_count": 243,
   "metadata": {},
   "outputs": [
    {
     "data": {
      "image/png": "[encoded data removed]",
      "text/latex": [
       "$\\displaystyle 6 x - 6$"
      ],
      "text/plain": [
       "6⋅x - 6"
      ]
     },
     "execution_count": 243,
     "metadata": {},
     "output_type": "execute_result"
    }
   ],
   "source": [
    "def generate_random_sympy_polynomial():\n",
    "    \"\"\"\n",
    "    Generates a simple sympy polynomial of x with two or three terms and a maximum power of 4.\n",
    "    Coefficients range from -5 to 5.\n",
    "\n",
    "    Returns:\n",
    "        sympy.Expr: A sympy expression representing the polynomial.\n",
    "    \"\"\"\n",
    "\n",
    "    x = symbols('x')\n",
    "    num_terms = random.choice([2, 3])\n",
    "    polynomial = 0\n",
    "\n",
    "    for _ in range(num_terms):\n",
    "        coeff = random.choice([i for i in range(-5, 6) if i != 0])\n",
    "        power = random.randint(0, 4)\n",
    "        polynomial += coeff * x**power\n",
    "\n",
    "    return add_coeff_and_constant(polynomial, 1)\n",
    "\n",
    "# Generate and display a sympy polynomial\n",
    "random_sympy_polynomial = generate_random_sympy_polynomial()\n",
    "random_sympy_polynomial"
   ]
  },
  {
   "cell_type": "code",
   "execution_count": 244,
   "metadata": {},
   "outputs": [],
   "source": [
    "def polynomial_from_coefficients(coefficients, special_func_prob=0.5, power_prob=0.5):\n",
    "    \"\"\"\n",
    "    Converts a list of coefficients into a polynomial expression using sympy.\n",
    "    Optionally adds a special function to the polynomial.\n",
    "\n",
    "    Parameters:\n",
    "    coefficients (list): A list of coefficients, where the index represents the power of x.\n",
    "    special_func_prob (float): Probability of adding a special function to the polynomial.\n",
    "    power_prob (float): Probability of raising the special function to a positive power.\n",
    "\n",
    "    Returns:\n",
    "    sympy expression: The polynomial expression.\n",
    "    \"\"\"\n",
    "    x = symbols('x')\n",
    "    polynomial = sum(coef * x**i for i, coef in enumerate(coefficients[::-1]))\n",
    "\n",
    "    # Check if a special function should be added\n",
    "    if random.random() < special_func_prob:\n",
    "        # List of special functions\n",
    "        special_funcs = [sin(x), cos(x), log(x+1), exp(x)]\n",
    "        # Choose one special function randomly\n",
    "        special_func = random.choice(special_funcs)\n",
    "\n",
    "        # Optionally raise the special function to a positive power\n",
    "        if random.random() < power_prob:\n",
    "            power = random.randint(1, 4)  # positive power between 1 and 4\n",
    "            special_func = special_func**power\n",
    "\n",
    "        # Add the special function to the polynomial\n",
    "        polynomial += special_func\n",
    "\n",
    "    return Poly(polynomial)"
   ]
  },
  {
   "cell_type": "code",
   "execution_count": 429,
   "metadata": {
    "id": "_GM9YlsrkFIb"
   },
   "outputs": [],
   "source": [
    "def create_subterm (y_term, cdf, iteration, max_it, const_prob):\n",
    "    '''\n",
    "    This returns a random subterm (a random function of the given y_term).\n",
    "    It may recursively call itself to make a more complicated funciton up to\n",
    "    max_it times.\n",
    "\n",
    "    The drawable functions include power, exponential, logarithmic,\n",
    "    trigonometric, and hyperbolic.\n",
    "\n",
    "    Parameters\n",
    "    ----------\n",
    "    y_term:     Object\n",
    "                The y-type term (x, y, y', etc.)\n",
    "    cdf:        int\n",
    "                The cumulative pobability of each function type (power,\n",
    "                exponential, logarithmic, trigonometric, and hyperbolic)\n",
    "    iteration:  int\n",
    "                The iteration number (how many times the function has\n",
    "                been called)\n",
    "    max_it:     int\n",
    "                The maximum number of times the function can be called\n",
    "    const_prob: float\n",
    "                The probability of adding a constant to the current subterm\n",
    "\n",
    "    Returns\n",
    "    ----------\n",
    "    subterm:  Object\n",
    "              Returns a subterm for a function of a given y_term\n",
    "    '''\n",
    "\n",
    "    # Default value (function does nothing)\n",
    "    subterm = y_term\n",
    "\n",
    "    # RETURNING y3 alone\n",
    "    if y_term == y_terms[4]:\n",
    "        return y_terms[4]\n",
    "\n",
    "    # Randomly determines if a function must be applied (and which function)\n",
    "    temp = rand.random()\n",
    "    \n",
    "    # New Feature: Raise y, y', or y'' to a positive power\n",
    "    if y_term == y_terms[2]:\n",
    "        power = rand.randint(2, 5)  # positive power between 1 and 4\n",
    "        subterm = y_term ** power\n",
    "        return simplify(subterm)\n",
    "        \n",
    "    if y_term in [y_terms[1], y_terms[3]]:\n",
    "        polynomial = generate_random_sympy_polynomial()\n",
    "        print(polynomial)\n",
    "        subterm = 1 / polynomial * y_term\n",
    "        return simplify(subterm)\n",
    "\n",
    "    if y_term == y_terms[0]:\n",
    "        # Trig\n",
    "        if temp > 0.5:\n",
    "            # trig_fun = [sin(y_term)] + [cos(y_term)] + [tan(y_term)]\n",
    "            trig_fun = [sin(y_term)] + [cos(y_term)]\n",
    "            polynomial = generate_random_sympy_polynomial()\n",
    "            print(polynomial)\n",
    "            subterm = 1/(polynomial + rand.choice(trig_fun))\n",
    "            # subterm = add_coeff_and_constant(subterm, const_prob)\n",
    "            return simplify(subterm)\n",
    "        # Exponential\n",
    "        else:\n",
    "            subterm = 1/exp(y_term)\n",
    "            subterm = add_coeff_and_constant(subterm, const_prob)\n",
    "            return simplify(subterm)\n",
    "        # f(x)\n",
    "        # elif temp > cdf[0]:\n",
    "        #     coefficients = generate_polynomial(degree=4, num_terms=2,coeff_lower_bound=-3,coeff_upper_bound=3)\n",
    "        #     subterm = 1 / polynomial_from_coefficients(coefficients) * y_term\n",
    "\n",
    "\n",
    "    if subterm == 0:\n",
    "        return create_subterm(y_term, cdf, iteration, max_it, const_prob)\n",
    "\n",
    "    # Will consider reiterating if we have not yet reached the maximum\n",
    "    # number of iterations\n",
    "\n",
    "    # if iteration < max_it:\n",
    "    #     # If so, will add another function on top of this one\n",
    "    #     if rand.random() < recurs_prob:\n",
    "    #         # Recursively calls its own function to\n",
    "    #         # create a more complicated function\n",
    "    #         subterm = create_subterm(subterm, cdf, iteration + 1, max_it, const_prob)\n",
    "    #     # If not, will randomly determine if some additional p(x) should be added\n",
    "    #     elif rand.random() < 2/3:\n",
    "    #         # Only p(x)\n",
    "    #         subterm *= create_subterm(x, cdf, max_it, max_it, const_prob)\n",
    "\n",
    "    return simplify(subterm)"
   ]
  },
  {
   "cell_type": "code",
   "execution_count": 430,
   "metadata": {
    "id": "xhVpelJ0dcr4"
   },
   "outputs": [],
   "source": [
    "def create_subterms (y_term, num_sub):\n",
    "    # print(y_term)\n",
    "    '''\n",
    "    This returns all subterms of the equation.\n",
    "\n",
    "    Parameters\n",
    "    ----------\n",
    "    y_term:   numpy array of Object\n",
    "              The y-type terms (x, y, y', etc.)\n",
    "    num_sub:  numpy array of int\n",
    "              The number of subterms for each y-type term\n",
    "\n",
    "    Returns\n",
    "    ----------\n",
    "    subterms: numpy array of Object\n",
    "              Returns all of the subterms for the equation\n",
    "    '''\n",
    "\n",
    "    # Stores the subterms\n",
    "    subterms = np.empty(sum(num_sub), dtype=Mul)\n",
    "\n",
    "    # Keeps track of index of subterms we are at\n",
    "    counter = 0\n",
    "\n",
    "    for i, y_t in enumerate(y_term):\n",
    "        # print(num_sub[i])\n",
    "        for n_s in range(num_sub[i]):\n",
    "            # Determines function to be applied to the y_term\n",
    "            subterms[counter] = create_subterm(y_t, function_cdf, 1, max_fun, add_c_prob)\n",
    "            counter += 1\n",
    "\n",
    "    return subterms"
   ]
  },
  {
   "cell_type": "markdown",
   "metadata": {
    "id": "l72dU1KToQ_d"
   },
   "source": [
    "## Final Calculation and Output"
   ]
  },
  {
   "cell_type": "code",
   "execution_count": 219,
   "metadata": {
    "colab": {
     "base_uri": "https://localhost:8080/"
    },
    "id": "Iq3UwxriWWaZ",
    "outputId": "d7784c33-3c7a-479b-d4f2-65933d67ebc9"
   },
   "outputs": [
    {
     "name": "stdout",
     "output_type": "stream",
     "text": [
      "-15*x**4 - 5*x - 24\n",
      "The terms are:\n"
     ]
    },
    {
     "data": {
      "image/png": "[encoded data removed]",
      "text/latex": [
       "$\\displaystyle - \\frac{1}{15 x^{4} + 5 x - \\cos{\\left(x \\right)} + 24}$"
      ],
      "text/plain": [
       "           -1            \n",
       "─────────────────────────\n",
       "    4                    \n",
       "15⋅x  + 5⋅x - cos(x) + 24"
      ]
     },
     "metadata": {},
     "output_type": "display_data"
    },
    {
     "data": {
      "image/png": "[encoded data removed]",
      "text/latex": [
       "$\\displaystyle y_{0}^{3}$"
      ],
      "text/plain": [
       "  3\n",
       "y₀ "
      ]
     },
     "metadata": {},
     "output_type": "display_data"
    },
    {
     "data": {
      "image/png": "[encoded data removed]",
      "text/latex": [
       "$\\displaystyle y_{1}^{2}$"
      ],
      "text/plain": [
       "  2\n",
       "y₁ "
      ]
     },
     "metadata": {},
     "output_type": "display_data"
    },
    {
     "data": {
      "image/png": "[encoded data removed]",
      "text/latex": [
       "$\\displaystyle y_{2}^{2}$"
      ],
      "text/plain": [
       "  2\n",
       "y₂ "
      ]
     },
     "metadata": {},
     "output_type": "display_data"
    },
    {
     "data": {
      "image/png": "[encoded data removed]",
      "text/latex": [
       "$\\displaystyle y_{3}$"
      ],
      "text/plain": [
       "y₃"
      ]
     },
     "metadata": {},
     "output_type": "display_data"
    }
   ],
   "source": [
    "terms = create_subterms(y_terms, num_subterms(min_subterms, max_subterms))\n",
    "print(\"The terms are:\")\n",
    "for i in range(len(terms)):\n",
    "    disp.display(terms[i])"
   ]
  },
  {
   "cell_type": "code",
   "execution_count": 220,
   "metadata": {},
   "outputs": [
    {
     "data": {
      "image/png": "[encoded data removed]",
      "text/latex": [
       "$\\displaystyle \\left[ - \\frac{1}{15 x^{4} + 5 x - \\cos{\\left(x \\right)} + 24}, \\  y_{0}^{3}, \\  y_{1}^{2}, \\  y_{2}^{2}\\right]$"
      ],
      "text/plain": [
       "⎡           -1                3    2    2⎤\n",
       "⎢─────────────────────────, y₀ , y₁ , y₂ ⎥\n",
       "⎢    4                                   ⎥\n",
       "⎣15⋅x  + 5⋅x - cos(x) + 24               ⎦"
      ]
     },
     "execution_count": 220,
     "metadata": {},
     "output_type": "execute_result"
    }
   ],
   "source": [
    "y3 = y_terms[4]\n",
    "new_terms = terms.tolist()\n",
    "new_terms.remove(y3)\n",
    "new_terms"
   ]
  },
  {
   "cell_type": "code",
   "execution_count": 221,
   "metadata": {},
   "outputs": [],
   "source": [
    "y3 = -sum(new_terms)"
   ]
  },
  {
   "cell_type": "code",
   "execution_count": 222,
   "metadata": {},
   "outputs": [
    {
     "data": {
      "image/png": "[encoded data removed]",
      "text/latex": [
       "$\\displaystyle - y_{0}^{3} - y_{1}^{2} - y_{2}^{2} + \\frac{1}{15 x^{4} + 5 x - \\cos{\\left(x \\right)} + 24}$"
      ],
      "text/plain": [
       "    3     2     2               1            \n",
       "- y₀  - y₁  - y₂  + ─────────────────────────\n",
       "                        4                    \n",
       "                    15⋅x  + 5⋅x - cos(x) + 24"
      ]
     },
     "execution_count": 222,
     "metadata": {},
     "output_type": "execute_result"
    }
   ],
   "source": [
    "y3"
   ]
  },
  {
   "cell_type": "code",
   "execution_count": 434,
   "metadata": {},
   "outputs": [
    {
     "name": "stdout",
     "output_type": "stream",
     "text": [
      "3*x**3 + 1\n",
      "5*x**3 + 5*x**2 - 1\n"
     ]
    },
    {
     "data": {
      "text/plain": [
       "\"\\\\frac{y}{3 x^{3} + 1} + y'^{4} + \\\\frac{y''}{5 x^{3} + 5 x^{2} - 1} - 3 e^{- x}\""
      ]
     },
     "metadata": {},
     "output_type": "display_data"
    },
    {
     "name": "stdout",
     "output_type": "stream",
     "text": [
      "\n",
      "\\text{Approximate the solution to the third-order ODE: } y''' = \\frac{y}{3 x^{3} + 1} + y'^{4} + \\frac{y''}{5 x^{3} + 5 x^{2} - 1} - 3 e^{- x}\n",
      "\n",
      "\\text{With initial conditions at } x = 0:\n",
      "\\begin{align*}\n",
      "y(0) &= 1.00 \\\\\n",
      "y'(0) &= 0.00 \\\\\n",
      "y''(0) &= 0.00\n",
      "\\end{align*}\n",
      "\n",
      "-y0/(3*x**3 + 1) - y1**4 - y2/(5*x**3 + 5*x**2 - 1) + 3*exp(-x)\n"
     ]
    },
    {
     "data": {
      "image/png": "[encoded data removed]",
      "text/plain": [
       "<Figure size 640x480 with 1 Axes>"
      ]
     },
     "metadata": {},
     "output_type": "display_data"
    }
   ],
   "source": [
    "from sympy import symbols, diff, exp\n",
    "from scipy.integrate import solve_ivp\n",
    "\n",
    "x = symbols('x')\n",
    "y, y0, y1, y2, y3 = symbols('y y0 y1 y2 y3')\n",
    "\n",
    "from sympy.utilities.lambdify import lambdify\n",
    "\n",
    "terms = create_subterms(y_terms, num_subterms(min_subterms, max_subterms))\n",
    "\n",
    "# Define the mapping for replacement\n",
    "replacement_mapping = {\n",
    "    y0: y,\n",
    "    y1: symbols(\"y'\"),\n",
    "    y2: symbols(\"y''\"),\n",
    "    y3: 0\n",
    "}\n",
    "\n",
    "# Function to replace y0, y1, y2 with y, y', y''\n",
    "def replace_with_differential(expr):\n",
    "    return expr.subs(replacement_mapping)\n",
    "\n",
    "replaced_expr = replace_with_differential(sum(terms))\n",
    "\n",
    "# Converting the replaced expression to LaTeX\n",
    "latex_replaced_expr = latex(replaced_expr)\n",
    "\n",
    "display(latex_replaced_expr)\n",
    "\n",
    "# Extracting the values a, b, c from init_condition\n",
    "a, b, c = [1,0,0]\n",
    "\n",
    "# Preparing the updated LaTeX formatted equation with x_0 as 0 and the new form of the equation\n",
    "updated_latex_equation = f\"\"\"\n",
    "\\\\text{{Approximate the solution to the third-order ODE: }} y''' = {latex_replaced_expr}\n",
    "\n",
    "\\\\text{{With initial conditions at }} x = 0:\n",
    "\\\\begin{{align*}}\n",
    "y(0) &= {a:.2f} \\\\\\\\\n",
    "y'(0) &= {b:.2f} \\\\\\\\\n",
    "y''(0) &= {c:.2f}\n",
    "\\\\end{{align*}}\n",
    "\"\"\"\n",
    "\n",
    "print(updated_latex_equation)\n",
    "\n",
    "y3 = y_terms[4]\n",
    "new_terms = terms.tolist()\n",
    "new_terms.remove(y3)\n",
    "y3 = -sum(new_terms)\n",
    "\n",
    "print(y3)\n",
    "\n",
    "# Lambdify the y3 expression so it can be used as a function\n",
    "y3_func = lambdify((x, y0, y1, y2), y3)\n",
    "\n",
    "# Define the system of first-order ODEs using y3 directly\n",
    "def system_of_odes_with_y3(x, y):\n",
    "    y0, y1, y2 = y\n",
    "    # Use y3 as a function\n",
    "    dy2_dx = y3_func(x, y0, y1, y2)\n",
    "    return [y1, y2, dy2_dx]\n",
    "\n",
    "initial_conditions = [1, 0, 0]  # placeholder initial conditions\n",
    "x_range = (0, 100)\n",
    "X = np.linspace(x_range[0], x_range[1], 10000)\n",
    "\n",
    "# Solve the system of ODEs\n",
    "solution_with_y3 = solve_ivp(system_of_odes_with_y3, x_range, initial_conditions, t_eval=X)\n",
    "\n",
    "plt.plot(solution_with_y3.t, solution_with_y3.y[0], 'o', mfc='none', label='Numerical Solution')\n",
    "# plt.plot(solution_with_y3.t, solution_with_y3.y[1], label=\"y'(x)\")\n",
    "# plt.plot(solution_with_y3.t, solution_with_y3.y[2], label=\"y''(x)\")\n",
    "plt.legend()\n",
    "plt.xlabel('x')\n",
    "plt.ylabel('y and its derivatives')\n",
    "plt.title('Numerical Solution')\n",
    "plt.show()"
   ]
  },
  {
   "cell_type": "code",
   "execution_count": 435,
   "metadata": {},
   "outputs": [
    {
     "name": "stdout",
     "output_type": "stream",
     "text": [
      "The solution does not diverge within the given range\n"
     ]
    }
   ],
   "source": [
    "def find_divergence_x_value(solution, component_index=0, threshold=1e3):\n",
    "    y_values = solution.y[component_index]\n",
    "    for i, y in enumerate(y_values):\n",
    "        if abs(y) > threshold:\n",
    "            return solution.t[i], i\n",
    "    return None, None  # Return None if the solution does not diverge within the given range\n",
    "\n",
    "# Example usage:\n",
    "div_point, index = find_divergence_x_value(solution_with_y3, component_index=0)\n",
    "if div_point is not None:\n",
    "    print(f\"The solution diverges at x = {div_point}\")\n",
    "else:\n",
    "    print(\"The solution does not diverge within the given range\")\n"
   ]
  },
  {
   "cell_type": "code",
   "execution_count": 436,
   "metadata": {},
   "outputs": [
    {
     "name": "stdout",
     "output_type": "stream",
     "text": [
      "The solution diverges at x = 5.0405040504050405\n"
     ]
    }
   ],
   "source": [
    "def find_divergence_x_value(solution, component_index=0, threshold=1e3):\n",
    "    y_values = solution.y[-1]\n",
    "    return solution.t[-1], y_values  # Return None if the solution does not diverge within the given range\n",
    "\n",
    "# Example usage:\n",
    "div_point, index = find_divergence_x_value(solution_with_y3, component_index=0)\n",
    "if div_point is not None:\n",
    "    print(f\"The solution diverges at x = {div_point}\")\n",
    "else:\n",
    "    print(\"The solution does not diverge within the given range\")"
   ]
  },
  {
   "cell_type": "markdown",
   "metadata": {},
   "source": [
    "**Plotting the dominant balances**"
   ]
  },
  {
   "cell_type": "code",
   "execution_count": 437,
   "metadata": {},
   "outputs": [
    {
     "data": {
      "text/plain": [
       "array([3*exp(-x), -y0/(3*x**3 + 1), -y1**4, -y2/(5*x**3 + 5*x**2 - 1),\n",
       "       -y3], dtype=object)"
      ]
     },
     "execution_count": 437,
     "metadata": {},
     "output_type": "execute_result"
    }
   ],
   "source": [
    "terms = -terms\n",
    "terms"
   ]
  },
  {
   "cell_type": "code",
   "execution_count": 438,
   "metadata": {},
   "outputs": [
    {
     "name": "stdout",
     "output_type": "stream",
     "text": [
      "[3*exp(-x) -y0/(3*x**3 + 1) -y1**4 -y2/(5*x**3 + 5*x**2 - 1)]\n"
     ]
    }
   ],
   "source": [
    "# Define the symbols used in the expressions\n",
    "x, y0, y1, y2 = symbols('x y0 y1 y2')\n",
    "\n",
    "new_terms = terms[:4]\n",
    "print(new_terms)\n",
    "\n",
    "# Convert each expression to a function\n",
    "term_funcs = [lambdify((x, y0, y1, y2), new_term) for new_term in new_terms]\n",
    "\n",
    "# Assuming solution_with_y3 is your solution object from solve_ivp\n",
    "x_values = solution_with_y3.t\n",
    "y_values0 = solution_with_y3.y[0]\n",
    "y_values1 = solution_with_y3.y[1]\n",
    "y_values2 = solution_with_y3.y[2]\n",
    "\n",
    "# Evaluate each function with the numerical solutions\n",
    "evaluated_terms = [func(x_values, y_values0, y_values1, y_values2) for func in term_funcs]\n",
    "\n",
    "# y_values3 is calculated as the sum of all the other evaluated terms\n",
    "y_values3 = sum(evaluated_terms)\n",
    "\n",
    "# Now you can access each term\n",
    "term1, term2, term3, term4 = evaluated_terms\n",
    "list_of_terms = [term1, term2, term3, term4]\n",
    "term5 = y_values3"
   ]
  },
  {
   "cell_type": "code",
   "execution_count": 440,
   "metadata": {},
   "outputs": [
    {
     "data": {
      "image/png": "[encoded data removed]",
      "text/plain": [
       "<Figure size 640x480 with 1 Axes>"
      ]
     },
     "metadata": {},
     "output_type": "display_data"
    }
   ],
   "source": [
    "for i in range(len(list_of_terms)):\n",
    "    plt.plot(solution_with_y3.t, abs(list_of_terms[i]), label = f\"Term {i+1}\");\n",
    "\n",
    "plt.plot(solution_with_y3.t, abs(term5), label = \"Term 5\");\n",
    "plt.xlabel('x')\n",
    "plt.ylabel('magnitude')\n",
    "# plt.xlim([0,3])\n",
    "plt.yscale(\"log\")\n",
    "plt.title(\"Comparing magnitudes of each term at small x\")\n",
    "plt.legend();"
   ]
  },
  {
   "cell_type": "code",
   "execution_count": 441,
   "metadata": {},
   "outputs": [
    {
     "data": {
      "image/png": "[encoded data removed]",
      "text/latex": [
       "$\\displaystyle 5.04050405040504$"
      ],
      "text/plain": [
       "5.0405040504050405"
      ]
     },
     "execution_count": 441,
     "metadata": {},
     "output_type": "execute_result"
    }
   ],
   "source": [
    "div_point"
   ]
  },
  {
   "cell_type": "markdown",
   "metadata": {},
   "source": [
    "## Approximate Formula for Divergent Solution"
   ]
  },
  {
   "cell_type": "markdown",
   "metadata": {},
   "source": [
    "### Find the two largest terms at the divergence point"
   ]
  },
  {
   "cell_type": "code",
   "execution_count": 442,
   "metadata": {},
   "outputs": [
    {
     "data": {
      "image/png": "[encoded data removed]",
      "text/latex": [
       "$\\displaystyle \\frac{d^{3}}{d x^{3}} y = - \\left(\\frac{d}{d x} y\\right)^{4}$"
      ],
      "text/plain": [
       "  3              4\n",
       " d        ⎛d    ⎞ \n",
       "───(y) = -⎜──(y)⎟ \n",
       "  3       ⎝dx   ⎠ \n",
       "dx                "
      ]
     },
     "execution_count": 442,
     "metadata": {},
     "output_type": "execute_result"
    }
   ],
   "source": [
    "# Define the symbolic variable y and x\n",
    "y, x = symbols('y x')\n",
    "\n",
    "# Function to translate terms into differential forms\n",
    "def translate_to_differential(expr):\n",
    "    return expr.subs({y0: y, y1: Derivative(y, x), y2: Derivative(y, x, x)})\n",
    "\n",
    "# Steps to find index of the largest term at the last x-value\n",
    "last_x_value = solution_with_y3.t[-1]\n",
    "evaluated_at_last_x = [abs(term[-1]) for term in list_of_terms]\n",
    "terms_with_index = [(i, value) for i, value in enumerate(evaluated_at_last_x)]\n",
    "terms_with_index.sort(key=lambda x: x[1], reverse=True)\n",
    "largest_terms_indices = [terms_with_index[0][0]]\n",
    "\n",
    "# Translate the largest term into its differential form\n",
    "largest_term_index = largest_terms_indices[0]\n",
    "largest_term_expression = new_terms[largest_term_index] if largest_term_index < len(new_terms) else None\n",
    "\n",
    "largest_term_differential = translate_to_differential(largest_term_expression) \\\n",
    "if largest_term_expression is not None else None\n",
    "\n",
    "# Define an equation where the third derivative of y is equal to the largest term's differential\n",
    "y_triple_prime_equation = Eq(Derivative(y, x, x, x), largest_term_differential)\n",
    "\n",
    "y_triple_prime_equation"
   ]
  },
  {
   "cell_type": "markdown",
   "metadata": {},
   "source": [
    "### Plug in the Ansatz to Obtain Approximation"
   ]
  },
  {
   "cell_type": "code",
   "execution_count": 443,
   "metadata": {},
   "outputs": [
    {
     "data": {
      "image/png": "[encoded data removed]",
      "text/latex": [
       "$\\displaystyle \\alpha p \\left(p - 2\\right) \\left(p - 1\\right) \\left(x - 5.04050405040504\\right)^{p - 3} = - \\alpha^{4} p^{4} \\left(x - 5.04050405040504\\right)^{4 p - 4}$"
      ],
      "text/plain": [
       "                                          p - 3     4  4                       4⋅p - 4\n",
       "α⋅p⋅(p - 2)⋅(p - 1)⋅(x - 5.04050405040504)      = -α ⋅p ⋅(x - 5.04050405040504)       "
      ]
     },
     "execution_count": 443,
     "metadata": {},
     "output_type": "execute_result"
    }
   ],
   "source": [
    "# Define the symbols\n",
    "alpha, p = symbols('alpha p')\n",
    "x = symbols('x')\n",
    "\n",
    "# Define the expressions for the derivatives of y based on your solution guess\n",
    "y_prime_expr = alpha * p * (x - div_point)**(p - 1)\n",
    "y_double_prime_expr = alpha * p * (p - 1) * (x - div_point)**(p - 2)\n",
    "y_triple_prime_expr = alpha * p * (p - 1) * (p - 2) * (x - div_point)**(p - 3)\n",
    "\n",
    "# Assuming y_triple_prime_equation is already defined and includes terms with y', y'', and y'''\n",
    "# Substitute these expressions into the equation\n",
    "equation_with_derivatives = y_triple_prime_equation.subs({\n",
    "    Derivative(y, x): y_prime_expr,\n",
    "    Derivative(y, x, x): y_double_prime_expr,\n",
    "    Derivative(y, x, x, x): y_triple_prime_expr\n",
    "})\n",
    "\n",
    "equation_with_derivatives"
   ]
  },
  {
   "cell_type": "markdown",
   "metadata": {},
   "source": [
    "### Find $\\alpha$ and $p$"
   ]
  },
  {
   "cell_type": "code",
   "execution_count": 467,
   "metadata": {},
   "outputs": [
    {
     "name": "stdout",
     "output_type": "stream",
     "text": [
      "Nonzero solution found: alpha = -30**(1/3), p = 1/3\n"
     ]
    }
   ],
   "source": [
    "from sympy import symbols, Eq, solve, collect\n",
    "\n",
    "# Collect terms with respect to (x - div_point) on both sides to isolate coefficients and powers\n",
    "lhs_collected = collect(equation_with_derivatives.lhs, (x - div_point))\n",
    "rhs_collected = collect(equation_with_derivatives.rhs, (x - div_point))\n",
    "\n",
    "# Extract the coefficients and powers\n",
    "# This assumes the equation is simplified to a single term on each side\n",
    "coeffs1, power1 = lhs_collected.as_coeff_exponent((x - div_point))\n",
    "coeffs2, power2 = rhs_collected.as_coeff_exponent((x - div_point))\n",
    "\n",
    "# Set up the equations\n",
    "coeff_eq = Eq(coeffs1, coeffs2)\n",
    "power_eq = Eq(power1, power2)\n",
    "\n",
    "# print(coeff_eq)\n",
    "\n",
    "# Solve the system of equations\n",
    "solution = solve((coeff_eq, power_eq), (alpha, p))\n",
    "\n",
    "for sol in solution:\n",
    "    alpha_val, p_val = sol\n",
    "    if alpha_val != 0 and p_val != 0:\n",
    "        nonzero_solution = sol\n",
    "        break\n",
    "\n",
    "if nonzero_solution:\n",
    "    alpha_val, p_val = nonzero_solution\n",
    "    # alpha_val = N(alpha_val)\n",
    "    print(f\"Nonzero solution found: alpha = {alpha_val}, p = {p_val}\")\n",
    "else:\n",
    "    print(\"No nonzero solution found.\")"
   ]
  },
  {
   "cell_type": "markdown",
   "metadata": {},
   "source": [
    "### Find C"
   ]
  },
  {
   "cell_type": "code",
   "execution_count": 482,
   "metadata": {},
   "outputs": [
    {
     "name": "stdout",
     "output_type": "stream",
     "text": [
      "Value of C: -0.135793365430350\n"
     ]
    }
   ],
   "source": [
    "x_value = solution_with_y3.t[-100]\n",
    "y_value = solution_with_y3.y[0, -100]\n",
    "\n",
    "# Define the symbols\n",
    "x, C = symbols('x C')\n",
    "\n",
    "# The formula\n",
    "y_formula = alpha_val * -(div_point-x)**p_val + C\n",
    "\n",
    "# Create an equation by substituting x_value and y_value\n",
    "equation_for_C = Eq(y_value, y_formula.subs(x, x_value))\n",
    "\n",
    "# print(equation_for_C)\n",
    "\n",
    "# Solve for C\n",
    "C_value = solve(equation_for_C, C)\n",
    "\n",
    "# Assuming there's a unique solution for C\n",
    "if C_value:\n",
    "    C_solution = C_value[0]\n",
    "    print(f\"Value of C: {C_solution}\")\n",
    "else:\n",
    "    print(\"No solution found for C.\")"
   ]
  },
  {
   "cell_type": "markdown",
   "metadata": {},
   "source": [
    "### Plot"
   ]
  },
  {
   "cell_type": "code",
   "execution_count": 483,
   "metadata": {},
   "outputs": [],
   "source": [
    "# Define the approximate solution function\n",
    "def analyticalapproximation(x):\n",
    "    return np.sign((x-div_point)) * alpha_val * (np.abs((x-div_point))) ** p_val + C_solution"
   ]
  },
  {
   "cell_type": "code",
   "execution_count": 484,
   "metadata": {},
   "outputs": [
    {
     "data": {
      "image/png": "[encoded data removed]",
      "text/plain": [
       "<Figure size 1400x1000 with 1 Axes>"
      ]
     },
     "metadata": {},
     "output_type": "display_data"
    }
   ],
   "source": [
    "# Remove the last element from solution_with_y3.t\n",
    "modified_t_values = solution_with_y3.t[:-1]\n",
    "\n",
    "# Calculate the analytical approximation using the modified t values\n",
    "Yana = analyticalapproximation(modified_t_values)\n",
    "\n",
    "# Plotting\n",
    "plt.figure(figsize=[14, 10])\n",
    "plt.plot((div_point - modified_t_values), solution_with_y3.y[0, :-1], '-', label='Numerical')\n",
    "plt.plot((div_point - modified_t_values), Yana, '--', label='Analytical')\n",
    "plt.title(\"Solution Comparison\")\n",
    "# plt.xlim([1e-10,1])  # Uncomment if you need to set x-axis limits\n",
    "plt.xlabel(\"$(x^{*}-x)$\")\n",
    "plt.ylabel(\"y\")\n",
    "plt.legend()\n",
    "plt.show()"
   ]
  },
  {
   "cell_type": "markdown",
   "metadata": {},
   "source": [
    "For the small x regime, the dominant terms are determined by looking at the point div_point / 4 (arbitrarily chosen, but to prevent it from going into other intermediate regimes) "
   ]
  },
  {
   "cell_type": "code",
   "execution_count": 231,
   "metadata": {},
   "outputs": [
    {
     "data": {
      "image/png": "[encoded data removed]",
      "text/latex": [
       "$\\displaystyle 471$"
      ],
      "text/plain": [
       "471"
      ]
     },
     "execution_count": 231,
     "metadata": {},
     "output_type": "execute_result"
    }
   ],
   "source": [
    "solution_with_y3.t.size"
   ]
  },
  {
   "cell_type": "code",
   "execution_count": 232,
   "metadata": {},
   "outputs": [
    {
     "data": {
      "image/png": "[encoded data removed]",
      "text/latex": [
       "$\\displaystyle -2725.38094801174$"
      ],
      "text/plain": [
       "-2725.3809480117357"
      ]
     },
     "execution_count": 232,
     "metadata": {},
     "output_type": "execute_result"
    }
   ],
   "source": [
    "index"
   ]
  },
  {
   "cell_type": "code",
   "execution_count": 233,
   "metadata": {},
   "outputs": [],
   "source": [
    "import heapq"
   ]
  },
  {
   "cell_type": "markdown",
   "metadata": {},
   "source": [
    "The method below finds the dominant balance at a variable x position"
   ]
  },
  {
   "cell_type": "code",
   "execution_count": 234,
   "metadata": {},
   "outputs": [
    {
     "name": "stdout",
     "output_type": "stream",
     "text": [
      "3 1\n"
     ]
    }
   ],
   "source": [
    "endpoint_values = []\n",
    "for i in range(len(list_of_terms)):\n",
    "    endpoint_values.append(abs(list_of_terms[i])[round(index/8)]) # adding the points to do dominant balance at\n",
    "\n",
    "largest = heapq.nlargest(2, endpoint_values) \n",
    "\n",
    "# get the indices of the two largest elements\n",
    "index1 = endpoint_values.index(largest[0])\n",
    "index2 = endpoint_values.index(largest[1])\n",
    "\n",
    "print(index1+1, index2+1) # these are the dominant terms"
   ]
  },
  {
   "cell_type": "markdown",
   "metadata": {},
   "source": [
    "It might be better to fix x at something like $x=0.01$ for where to compute the dominant balance at."
   ]
  },
  {
   "cell_type": "code",
   "execution_count": 235,
   "metadata": {},
   "outputs": [
    {
     "name": "stdout",
     "output_type": "stream",
     "text": [
      "Index of the value closest to x=0.01: 10\n",
      "2 1\n"
     ]
    }
   ],
   "source": [
    "solution_with_y3.t\n",
    "\n",
    "# Target value\n",
    "target_x = 0.1\n",
    "\n",
    "# Find the index of the value closest to target_x\n",
    "index_closest = np.argmin(np.abs(x_values - target_x))\n",
    "\n",
    "# index_closest is the index of the closest value\n",
    "print(\"Index of the value closest to x=0.01:\", index_closest)\n",
    "\n",
    "endpoint_values = []\n",
    "for i in range(len(list_of_terms)):\n",
    "    endpoint_values.append(abs(list_of_terms[i])[index_closest]) # adding the points to do dominant balance at\n",
    "\n",
    "largest = heapq.nlargest(2, endpoint_values) \n",
    "\n",
    "# get the indices of the two largest elements\n",
    "index1 = endpoint_values.index(largest[0])\n",
    "index2 = endpoint_values.index(largest[1])\n",
    "\n",
    "print(index1+1, index2+1) # these are the dominant terms"
   ]
  },
  {
   "cell_type": "code",
   "execution_count": 236,
   "metadata": {},
   "outputs": [
    {
     "data": {
      "image/png": "[encoded data removed]",
      "text/latex": [
       "$\\displaystyle y_{0}^{3}$"
      ],
      "text/plain": [
       "  3\n",
       "y₀ "
      ]
     },
     "execution_count": 236,
     "metadata": {},
     "output_type": "execute_result"
    }
   ],
   "source": [
    "terms[index1]"
   ]
  },
  {
   "cell_type": "markdown",
   "metadata": {},
   "source": [
    "**LaTeX problem statement generator**"
   ]
  },
  {
   "cell_type": "code",
   "execution_count": 237,
   "metadata": {},
   "outputs": [
    {
     "data": {
      "text/plain": [
       "array([1/(-2*x**3 + cos(x) + 1), y0**3, y1**2, y2/(2*x**3 + 3*x - 2), y3],\n",
       "      dtype=object)"
      ]
     },
     "execution_count": 237,
     "metadata": {},
     "output_type": "execute_result"
    }
   ],
   "source": [
    "terms"
   ]
  },
  {
   "cell_type": "code",
   "execution_count": 242,
   "metadata": {},
   "outputs": [
    {
     "name": "stdout",
     "output_type": "stream",
     "text": [
      "y_{3} = y^{3}{\\left(x \\right)} + \\left(\\frac{d}{d x} y{\\left(x \\right)}\\right)^{2} + \\frac{\\frac{d^{2}}{d x^{2}} y{\\left(x \\right)}}{2 x^{3} + 3 x - 2} + \\frac{1}{- 2 x^{3} + \\cos{\\left(x \\right)} + 1}\n"
     ]
    }
   ],
   "source": [
    "x = sympy.symbols('x')\n",
    "y = sympy.Function('y')(x)\n",
    "\n",
    "derivatives = [y, y.diff(x), y.diff(x, x), y.diff(x, x, x)]\n",
    "\n",
    "first_term_replaced = terms[0].subs(x, x) # x\n",
    "second_term_replaced = terms[1].subs(y0, y) # y\n",
    "third_term_replaced = terms[2].subs(y1, y.diff(x)) # dydx\n",
    "fourth_term_replaced = terms[3].subs(y2, y.diff(x, x)) # d2ydx2\n",
    "fifth_term_replaced = terms[4].subs(y3, y.diff(x, x, x)) # d3ydx3\n",
    "\n",
    "sum_terms = first_term_replaced + second_term_replaced + third_term_replaced + fourth_term_replaced\n",
    "\n",
    "differential_equation = Eq(fifth_term_replaced, sum_terms)\n",
    "\n",
    "print(latex(differential_equation))\n"
   ]
  },
  {
   "cell_type": "markdown",
   "metadata": {},
   "source": []
  }
 ],
 "metadata": {
  "colab": {
   "collapsed_sections": [
    "QJBh4fOgoLTm",
    "DpB3Ml7MoOix",
    "l72dU1KToQ_d"
   ],
   "provenance": []
  },
  "kernelspec": {
   "display_name": "Python 3 (ipykernel)",
   "language": "python",
   "name": "python3"
  },
  "language_info": {
   "codemirror_mode": {
    "name": "ipython",
    "version": 3
   },
   "file_extension": ".py",
   "mimetype": "text/x-python",
   "name": "python",
   "nbconvert_exporter": "python",
   "pygments_lexer": "ipython3",
   "version": "3.11.4"
  }
 },
 "nbformat": 4,
 "nbformat_minor": 1
}
