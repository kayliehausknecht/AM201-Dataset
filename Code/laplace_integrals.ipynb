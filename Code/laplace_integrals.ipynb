{
  "cells": [
    {
      "cell_type": "markdown",
      "metadata": {
        "id": "MR78W33XK6_9"
      },
      "source": [
        "The goal of this notebook is to automatically generate and solve Laplace integral problems to create a training set for a LLM."
      ]
    },
    {
      "cell_type": "markdown",
      "metadata": {
        "id": "W6SwUsIwbPIo"
      },
      "source": [
        "# Imports"
      ]
    },
    {
      "cell_type": "code",
      "execution_count": null,
      "metadata": {
        "colab": {
          "base_uri": "https://localhost:8080/"
        },
        "id": "zcVuk209kcjt",
        "outputId": "3534d1cd-8e69-4235-e3c9-88d174e0eaec"
      },
      "outputs": [
        {
          "name": "stdout",
          "output_type": "stream",
          "text": [
            "Mounted at /content/gdrive\n"
          ]
        }
      ],
      "source": [
        "import sympy as sp\n",
        "from sympy import diff, solve, N, limit, latex\n",
        "import numpy as np\n",
        "import random\n",
        "from IPython.display import display, Math\n",
        "from scipy.optimize import dual_annealing\n",
        "from scipy.integrate import quad\n",
        "import matplotlib.pyplot as plt\n",
        "import pandas as pd\n",
        "from google.colab import drive\n",
        "\n",
        "drive.mount(\"/content/gdrive\", force_remount=True)"
      ]
    },
    {
      "cell_type": "markdown",
      "metadata": {
        "id": "VkhDzEcYiQsL"
      },
      "source": [
        "# Functions to generate laplace integrals"
      ]
    },
    {
      "cell_type": "markdown",
      "metadata": {
        "id": "xewu6xjRoCpA"
      },
      "source": [
        "Here are the functions that we use to generate random Laplace integrals. The rest of the methods are fairly robust, so if we would like to train the LLM on a more general class of Laplace integrals later, we can simply alter these functions. The only constraint is that we cannot generate f(t) or g(t) that diverge within the bounds of the integral."
      ]
    },
    {
      "cell_type": "code",
      "execution_count": null,
      "metadata": {
        "id": "I6KUfCiSK4u1"
      },
      "outputs": [],
      "source": [
        "### Generate random functions ###\n",
        "\n",
        "def generate_linear_combination(max_num_terms):\n",
        "\n",
        "  \"\"\"\n",
        "  This function generates a random linear combination of the sympy functions\n",
        "  specified in the dictionary.\n",
        "  \"\"\"\n",
        "\n",
        "  # Define the variable\n",
        "  t = sp.symbols('t')\n",
        "\n",
        "  # Define list of functions\n",
        "  functions = np.array([\n",
        "      1,\n",
        "      sp.sin(t),\n",
        "      sp.cos(t),\n",
        "      sp.atan(t),\n",
        "      #sp.sinc(t),\n",
        "      t,\n",
        "      t**2,\n",
        "      t**3,\n",
        "      t**4,\n",
        "      t**5\n",
        "      ])\n",
        "\n",
        "  # Generate a random number of terms\n",
        "  num_terms = random.randint(1, max_num_terms)\n",
        "\n",
        "  # Generate random coefficients\n",
        "  possible_coeffs = np.arange(-3, 3, 0.1)\n",
        "  coefficients = np.round(np.random.choice(possible_coeffs, num_terms), 1)\n",
        "\n",
        "  # Draw random indices\n",
        "  indices = random.choices(range(len(functions)), k=num_terms)\n",
        "\n",
        "  # If our function will just be a constant, redraw the index\n",
        "  if len(indices) == 1 and indices[0] == 0:\n",
        "    indices = random.choices(range(1, len(functions)), k=1)\n",
        "\n",
        "  # Get linear conbinations of these functions\n",
        "  f = sum(coefficients * functions[indices])\n",
        "\n",
        "  return f"
      ]
    },
    {
      "cell_type": "code",
      "execution_count": null,
      "metadata": {
        "id": "M2Rp5264poUn"
      },
      "outputs": [],
      "source": [
        "### Define a function to generate the bounds of the integral ###\n",
        "def generate_bounds(range):\n",
        "\n",
        "  \"\"\"\n",
        "  This function generates bounds within a given range.\n",
        "\n",
        "  range: [lower, upper]\n",
        "  \"\"\"\n",
        "\n",
        "  # Get possible bounds on range\n",
        "  possible_bounds = np.arange(range[0], range[1], 0.1)\n",
        "\n",
        "  # Draw bounds\n",
        "  bounds = np.random.choice(possible_bounds, 2, replace=False)\n",
        "\n",
        "  # Get lower, upper bound\n",
        "  lower = np.min(bounds)\n",
        "  upper = np.max(bounds)\n",
        "\n",
        "  return np.round(lower, 1), np.round(upper, 1)"
      ]
    },
    {
      "cell_type": "code",
      "execution_count": null,
      "metadata": {
        "id": "qUavc1XXoqUo"
      },
      "outputs": [],
      "source": [
        "### Generate Laplace integral ###\n",
        "\n",
        "def generate_integral(function_generator, bounds_generator, max_num_terms, range):\n",
        "\n",
        "  \"\"\"\n",
        "  This function generates all the components of a Laplace integral given\n",
        "  the various generator functions.\n",
        "\n",
        "  It returns ((lower, upper), g(t), f(t), sign) where the integral\n",
        "  is given by \\int_{lower}^{upper} g(t) e^{sign * x * f(t)} dt\n",
        "\n",
        "  function_generator: function that generates f, g\n",
        "  bounds_generator: function that generates bounds\n",
        "  max_num_terms: most terms the function could have\n",
        "  range: range within which bounds fall\n",
        "  \"\"\"\n",
        "\n",
        "  # Generate f(t), g(t)\n",
        "  f = function_generator(max_num_terms)\n",
        "  g = function_generator(max_num_terms)\n",
        "\n",
        "  # Generate bounds\n",
        "  bounds = bounds_generator(range)\n",
        "\n",
        "  # Generate sign\n",
        "  sign = -1 if random.random() < 0.5 else 1\n",
        "\n",
        "  return bounds, g, f, sign"
      ]
    },
    {
      "cell_type": "markdown",
      "metadata": {
        "id": "129KnpFdulQJ"
      },
      "source": [
        "# Functions to find the minimum of f(t)"
      ]
    },
    {
      "cell_type": "markdown",
      "metadata": {
        "id": "l_1fZitgE-xs"
      },
      "source": [
        "Here, we define functions to find the minimum of f(t) within specified bounds.We first attempt to find it analytically using SymPy. If this fails, we use 5 iterations of dual annealing to find it numerically. This should be fairly robust, even in the face of rapidly oscillating functions with multiple minima. However, if there are functions that have >5 minima within the bounds, this will of course not find them all. So, if we make the integral generation significantly more complex in the future, we may have to edit this slightly."
      ]
    },
    {
      "cell_type": "code",
      "execution_count": 76,
      "metadata": {
        "id": "eGwXL-eJ3yDo"
      },
      "outputs": [],
      "source": [
        "### Define a function to determine whether we can find the global minima of f analytically ###\n",
        "\n",
        "def analytical_critical_pts(f, lower, upper):\n",
        "\n",
        "  \"\"\"\n",
        "  This function determines whether we can find the global minima of f within\n",
        "  the specified bounds analytically using sympy.\n",
        "\n",
        "  If solveset returns an empty set or only a finite set, then sympy was able\n",
        "  to solve for the critical points analytically. If it returns anything else,\n",
        "  sympy was not able to find all critical points analytically.\n",
        "\n",
        "  This returns a list of all the critical points the critical points if sympy\n",
        "  could all of them analytically. To distinguish between an empty list that\n",
        "  implies no critical points and one that implies no analytical solution, we also\n",
        "  return a 0 if sympy could not find analytical solutions and a 1 if it could.\n",
        "  \"\"\"\n",
        "\n",
        "  # Define symbol for t\n",
        "  t = sp.symbols('t')\n",
        "\n",
        "  # Define bounds in sympy\n",
        "  domain = sp.Interval(lower, upper)\n",
        "\n",
        "  # Get local minima\n",
        "  solutions = sp.solveset(diff(f, t), t, domain=domain)\n",
        "\n",
        "  # Check if the solutions are the empty set\n",
        "  if solutions == sp.EmptySet:\n",
        "   return [], 1\n",
        "\n",
        "  # Check if the solutions a finite set\n",
        "  elif isinstance(solutions, sp.FiniteSet):\n",
        "    return list(solutions), 1\n",
        "\n",
        "  # If it's anything else, solveset got no analytical insights\n",
        "  else:\n",
        "    return [], 0"
      ]
    },
    {
      "cell_type": "code",
      "execution_count": 77,
      "metadata": {
        "id": "EfgOhFBfzT2r"
      },
      "outputs": [],
      "source": [
        "## Define function to find minima numerically using many iterations of dual annealing\n",
        "def find_minima_numerically(f, lower, upper, num_start_pts=5):\n",
        "\n",
        "  \"\"\"\n",
        "  This function uses the dual annealing algorithm to find the minima of f on\n",
        "  the specified bounds.\n",
        "\n",
        "  f: sympy expression for the function to minimize\n",
        "  lower: lower bound, float\n",
        "  upper: upper bound, float\n",
        "  num_start_pts: the number of times to run the dual annealing algorithm. default=5\n",
        "  \"\"\"\n",
        "\n",
        "  # Format bounds for dual annealing\n",
        "  bounds = [(lower, upper)]\n",
        "\n",
        "  # Define list of starting points to increase the chance of finding all global minima\n",
        "  start_pts = np.linspace(lower, upper, num_start_pts)\n",
        "\n",
        "  # Define list to store global minima\n",
        "  min_points = []\n",
        "\n",
        "  # Run dual annealing from each starting point to increase chance of finding all global minima\n",
        "  for start in start_pts:\n",
        "      result = dual_annealing(lambda x: float(N(f.subs('t', x[0]))), bounds, x0=[start])\n",
        "      min_points.append(round(result.x[0],4))  # round to 4 decimal pts bc algorithm results vary slightly\n",
        "\n",
        "  # Take only unique minima\n",
        "  min_points = list(set(min_points))\n",
        "\n",
        "  return min_points"
      ]
    },
    {
      "cell_type": "code",
      "execution_count": 78,
      "metadata": {
        "id": "xBwSTB-MyX-Q"
      },
      "outputs": [],
      "source": [
        "### Define function to find the global minima of f within the bounds, analytically or numerically ###\n",
        "def find_global_min(f, bounds):\n",
        "\n",
        "  \"\"\"\n",
        "  This function finds the global minima of f within the bounds. It also records\n",
        "  whether or not the global minima were found analytically for future response\n",
        "  generation purposes. It also returns the critical points, if we could find\n",
        "  them analytically, for the same purpose.\n",
        "  \"\"\"\n",
        "\n",
        "  # Define symbol\n",
        "  t = sp.symbols('t')\n",
        "\n",
        "  # Extract bounds\n",
        "  lower, upper = bounds\n",
        "\n",
        "  ## Attempt to find critical points analytically\n",
        "  critical_points, complete = analytical_critical_pts(f, lower, upper)\n",
        "\n",
        "\n",
        "  ## If this is a complete list of critical points, find the global minimum\n",
        "  if complete:\n",
        "\n",
        "    # Record that we could find minimum analytically\n",
        "    analytic_min = True\n",
        "\n",
        "    # Evaluate the function at the critical points and the endpoints\n",
        "    critical_values = [(N(f.subs(t, point)), point) for point in critical_points if lower <= point <= upper]\n",
        "    endpoint_values = [(N(f.subs(t, lower)), lower), (N(f.subs(t, upper)), upper)]\n",
        "\n",
        "    # Combine the lists and find the minimum value(s)\n",
        "    values = critical_values + endpoint_values\n",
        "    min_value = min(v[0] for v in values)\n",
        "    min_points = [v[1] for v in values if v[0] == min_value]\n",
        "\n",
        "    return min_points, analytic_min, critical_points\n",
        "\n",
        "\n",
        "  ## If it is not a complete list, look for the global minimum numerically\n",
        "  else:\n",
        "\n",
        "    # Record that we could not find minimum analytically\n",
        "    analytic_min = False\n",
        "\n",
        "    # Get minima numerically with dual annealing\n",
        "    min_points = find_minima_numerically(f, lower, upper, num_start_pts=5)\n",
        "\n",
        "    return min_points, analytic_min, None"
      ]
    },
    {
      "cell_type": "markdown",
      "metadata": {
        "id": "twpudsSLk2LD"
      },
      "source": [
        "# Functions to analytically approximate laplace integrals"
      ]
    },
    {
      "cell_type": "markdown",
      "metadata": {
        "id": "_zQyDwK4apg0"
      },
      "source": [
        "Here we define functions to return the approximation for the laplace integral by using the formulae derived in class. They also return any imformation needed for prompt generation."
      ]
    },
    {
      "cell_type": "code",
      "execution_count": 79,
      "metadata": {
        "id": "82m_cIXmypMK"
      },
      "outputs": [],
      "source": [
        "### Define function to approximate laplace integral if f(t) has a single minimum ###\n",
        "def single_min_laplace_integral(bounds, g, f, sign, minimum):\n",
        "\n",
        "  \"\"\"\n",
        "  This function returns the analytical formula for the approximation of a laplace\n",
        "  integral given the single minimum of f(t). This will be used in the final\n",
        "  laplace integral function in the case that f(t) has one minimum within the\n",
        "  bounds. It also returns whether or not the minimum/maximum\n",
        "  of f(t) was on the bounds of the integral, and if it is, which bound,\n",
        "  as we will use this in our response generation.\n",
        "  \"\"\"\n",
        "\n",
        "  # Define symbols\n",
        "  t, x = sp.symbols(\"t x\")\n",
        "\n",
        "  # Deal with sympy zero class, which is not compatible with numpy\n",
        "  if minimum == sp.S.Zero:\n",
        "    minimum = 0.0\n",
        "\n",
        "  # Get f(min), g(min). Use limits to avoid division by 0 issues\n",
        "  f_t0 = limit(f, t, minimum)\n",
        "  g_t0 = limit(g, t, minimum)\n",
        "\n",
        "  # If the minimum is on a bound\n",
        "  if minimum in np.round(bounds, 4):  # must round bounds to 4 decimal places bc minimum is rounded too\n",
        "\n",
        "    # Get f'(min)\n",
        "    fp_t0 = limit(diff(f,t), t, minimum)\n",
        "\n",
        "    # Record the min/max is on bounds\n",
        "    minmax_on_bounds = True\n",
        "\n",
        "    # Record which bound it is\n",
        "    if minimum == np.round(bounds, 5)[0]:\n",
        "      which_bound = \"a\"\n",
        "    else:\n",
        "      which_bound = \"b\"\n",
        "\n",
        "    # Approximation when minimum is on the bound\n",
        "    return g_t0 * sp.exp(sign * x * f_t0) / (sp.Abs(fp_t0) * x), minmax_on_bounds, which_bound\n",
        "\n",
        "  # Minimum is within bounds\n",
        "  else:\n",
        "\n",
        "    # Record the min/max is not on bounds\n",
        "    minmax_on_bounds = False\n",
        "\n",
        "    # Get f''(min)\n",
        "    fpp_t0 = limit(diff(f,t,2), t, minimum)  # take the limit in case L'Hopital needed\n",
        "\n",
        "    # Approximation when minimum is within interval\n",
        "    return sp.sqrt(sp.pi) * g_t0 * sp.exp(sign * x * f_t0) * sp.sqrt(2 / (sp.Abs(fpp_t0) * x)), minmax_on_bounds, None"
      ]
    },
    {
      "cell_type": "code",
      "execution_count": 80,
      "metadata": {
        "id": "ZcStIVPyk_cX"
      },
      "outputs": [],
      "source": [
        "### Define function to analytically approximate laplace integrals ###\n",
        "\n",
        "def approximate_laplace_integral(bounds, g, f, sign):\n",
        "\n",
        "  \"\"\"\n",
        "  This function returns an analytical approximation for the Laplace\n",
        "  integral defined by \\int_{lower}^{upper} g(t) e^{sign * x * f(t)} dt\n",
        "  in the limit of large x. It also returns whether or not the minimum/maximum\n",
        "  of f(t) was on the bounds of the integral, and how many minima/maxima there\n",
        "  were, and whether or not they were found analytically, the global min/maxima,\n",
        "  and the critical points (if it was found analytically), and which bound the\n",
        "  min/max is on, if it is on a bound. We will use this in our response generation\n",
        "  later.\n",
        "  \"\"\"\n",
        "\n",
        "  # Define symbols\n",
        "  t, x = sp.symbols(\"t x\")\n",
        "\n",
        "  # If the sign is positive, multiple f by -1 so minimization maximizes f\n",
        "  if sign == 1:\n",
        "    f = -1 * f\n",
        "\n",
        "  # Find the global minimum of f within the bounds\n",
        "  minima, analytic_min, critical_points = find_global_min(f, bounds)\n",
        "\n",
        "  # If sign is positive, multiply f by -1 to return it to normal\n",
        "  if sign == 1:\n",
        "    f = -1 * f\n",
        "\n",
        "  # Check for edge case where find_global_min function does not return any values\n",
        "  if len(minima) == 0:\n",
        "    return ValueError(\"Minima function returned no values\")\n",
        "\n",
        "  # If there is only one minimum\n",
        "  elif len(minima) == 1:\n",
        "\n",
        "    # Get analytical approximation using the single min laplace integral approximation\n",
        "    approximation, minmax_on_bounds, which_bound = single_min_laplace_integral(bounds, g, f, sign, minima[0])\n",
        "\n",
        "    # Record number of min/max\n",
        "    num_minmax = 1\n",
        "\n",
        "    return approximation, minmax_on_bounds, num_minmax, analytic_min, minima, critical_points, which_bound\n",
        "\n",
        "  # If there is more than minimum, imagine breaking the integration interval in pieces. Apply single minimum approximation to each\n",
        "  else:\n",
        "\n",
        "    # Record number of min/max\n",
        "    num_minmax = len(minima)\n",
        "\n",
        "    # Initialize variable to hold final approximation\n",
        "    approximation = 0\n",
        "\n",
        "    # Loop through each set of bounds, adding contribution to integral from single minimum formula\n",
        "    for i in range(num_minmax):\n",
        "\n",
        "      # Add approx from single minimum approximation formula\n",
        "      approximation += single_min_laplace_integral(bounds, g, f, sign, minima[i])[0]\n",
        "\n",
        "    # Record that min/max likely not on bounds (true except in very extreme case)\n",
        "    minmax_on_bounds = False\n",
        "\n",
        "  return approximation, minmax_on_bounds, num_minmax, analytic_min, minima, critical_points, None"
      ]
    },
    {
      "cell_type": "markdown",
      "metadata": {
        "id": "irKWcU1y-atO"
      },
      "source": [
        "# Functions to compare approximation to numerical solution"
      ]
    },
    {
      "cell_type": "markdown",
      "metadata": {
        "id": "swyn5wmdckbP"
      },
      "source": [
        "Here we define function to compare the analytical approximation to the numerical solution."
      ]
    },
    {
      "cell_type": "code",
      "execution_count": null,
      "metadata": {
        "id": "sNu7o2x19qft"
      },
      "outputs": [],
      "source": [
        "## Define function to evaluate the analytical approximation at given x values\n",
        "def evaluate_analytical(analytical_approximation, xs, max_val=np.inf):\n",
        "\n",
        "  \"\"\"\n",
        "  This function evaluates the analytical approximation for each x\n",
        "  value in the array xs. It returns an array containing the results.\n",
        "\n",
        "  Specify a maximum value allowed in the array to avoid the matplotlib\n",
        "  plotting issues that arise for values above 10^100.\n",
        "\n",
        "  analytical_approximation: sympy expression for your approximation\n",
        "  xs: array of x values at which we evaluate the approximation\n",
        "  max_val: maximum value allowed in the return array\n",
        "  \"\"\"\n",
        "\n",
        "  approx_vals = np.array([analytical_approximation.subs(x, x_val).evalf() \\\n",
        "                for x_val in xs \\\n",
        "                if np.abs(analytical_approximation.subs(x, x_val).evalf()) < max_val])\n",
        "\n",
        "  return approx_vals"
      ]
    },
    {
      "cell_type": "code",
      "execution_count": 119,
      "metadata": {
        "id": "LIs2n20X-fKS"
      },
      "outputs": [],
      "source": [
        "## Perform numerical integration of laplace integral for set of x values\n",
        "def integrate_numerically(bounds, g, f, sign, xs, max_error):\n",
        "\n",
        "  \"\"\"\n",
        "  This function finds the solution to the Laplace integral defined by f, g, sign,\n",
        "  and bounds for each x in the array xs. It truncates any computation if the\n",
        "  integration error exceeds max_error. It returns an array of the numerical results.\n",
        "\n",
        "  bounds: tuple (a, b), bounds of the laplace integral\n",
        "  g: sympy expression for g(t)\n",
        "  f: sympy expression for f(t)\n",
        "  xs: array of x values at which we evaluate the integral\n",
        "  max_error: the maximum integration error allowed before we stop computation\n",
        "  \"\"\"\n",
        "\n",
        "  # Define the function you want to integrate\n",
        "  integrand = g * sp.exp(sign*x*f)\n",
        "\n",
        "  # Define the function you want to integrate\n",
        "  def evaluate_integrand(x_val, t_val):\n",
        "      return integrand.subs(x,x_val).subs(t,t_val).evalf()\n",
        "\n",
        "  # Define bounds over which we want to integrate\n",
        "  lower, upper = bounds\n",
        "\n",
        "  # Initialize array to store integration data\n",
        "  numerical_vals = np.zeros(len(xs))\n",
        "  numerical_vals[:] = np.nan\n",
        "\n",
        "  # Calculate integral for each lambda\n",
        "  for idx, x_val in enumerate(xs):\n",
        "\n",
        "    # Perform integration\n",
        "    integral, error = quad(lambda t: evaluate_integrand(x_val, t), lower, upper)\n",
        "\n",
        "    # Save data\n",
        "    numerical_vals[idx] = integral\n",
        "\n",
        "    # Stop if quad breaks\n",
        "    if error > max_error:\n",
        "      break\n",
        "\n",
        "  return numerical_vals"
      ]
    },
    {
      "cell_type": "code",
      "execution_count": 23,
      "metadata": {
        "id": "voV4JpEQTdPw"
      },
      "outputs": [],
      "source": [
        "# Plot results\n",
        "def plot_results(approx_vals, numerical_vals, xs):\n",
        "\n",
        "  \"\"\"\n",
        "  This function plots the numerical solution and the analytical approximation\n",
        "  given an array of values for each.\n",
        "\n",
        "  approx_vals: array of values given by the analytical approximation\n",
        "  numerical_vals: array of values given by the numerical integration\n",
        "  xs: array of x values at which we computed the integral\n",
        "  \"\"\"\n",
        "\n",
        "  # Get length of numerical_vals array\n",
        "  len_num_vals = len(numerical_vals)\n",
        "  len_approx_vals = len(approx_vals)\n",
        "\n",
        "  # Set up plotting\n",
        "  plt.figure(figsize=(10,6))\n",
        "  plt.rcParams.update({'font.size': 22})\n",
        "\n",
        "  # Plot approximation and numerical solution\n",
        "  plt.loglog(xs[:len_approx_vals], np.abs(approx_vals), \\\n",
        "             linewidth=4, label=\"approximation\")\n",
        "  plt.loglog(xs[:len_num_vals], np.abs(numerical_vals), \\\n",
        "             'o', mfc='none', markersize=8, label='numerical')\n",
        "\n",
        "  # Set up legend, title, x label\n",
        "  plt.legend(bbox_to_anchor=(1.05, 1), loc=2, borderaxespad=0.)\n",
        "  plt.title(\"Testing result\")\n",
        "  plt.xlabel(\"x\")"
      ]
    },
    {
      "cell_type": "markdown",
      "metadata": {
        "id": "cnxkYqjF_cAX"
      },
      "source": [
        "# Testing Results"
      ]
    },
    {
      "cell_type": "markdown",
      "metadata": {
        "id": "i8RS8TCnizCy"
      },
      "source": [
        "This section of the notebook allows us to quickly test our results. We quantitatively test our approximation accuracy in the next section."
      ]
    },
    {
      "cell_type": "code",
      "execution_count": null,
      "metadata": {
        "colab": {
          "base_uri": "https://localhost:8080/",
          "height": 204
        },
        "id": "dhODLBpUJBjX",
        "outputId": "1eaf0f2e-d724-460b-93a7-8e0357051f82"
      },
      "outputs": [
        {
          "name": "stdout",
          "output_type": "stream",
          "text": [
            "Generated Integral \n",
            "\n"
          ]
        },
        {
          "data": {
            "text/latex": "$\\displaystyle \\int\\limits_{-0.2}^{0.1} \\left(2.8 - 2.6 \\cos{\\left(t \\right)}\\right) e^{x \\left(- 2.1 t^{4} + 1.6 t + 2.9 \\sin{\\left(t \\right)} - 0.7 \\cos{\\left(t \\right)}\\right)}\\, dt$",
            "text/plain": [
              "<IPython.core.display.Math object>"
            ]
          },
          "metadata": {},
          "output_type": "display_data"
        },
        {
          "name": "stdout",
          "output_type": "stream",
          "text": [
            "\n",
            " Approximation \n",
            "\n"
          ]
        },
        {
          "data": {
            "text/latex": "$\\displaystyle \\frac{0.0468417379426615 e^{- 0.247196007418816 x}}{x}$",
            "text/plain": [
              "0.0468417379426615*exp(-0.247196007418816*x)/x"
            ]
          },
          "execution_count": 20,
          "metadata": {},
          "output_type": "execute_result"
        }
      ],
      "source": [
        "# Define symbols\n",
        "x, t = sp.symbols('x t')\n",
        "\n",
        "# Generate integral\n",
        "bounds, g, f, sign = generate_integral(generate_linear_combination, generate_bounds, max_num_terms=5, range=[-1,1])\n",
        "\n",
        "# Print integral\n",
        "print(\"Generated Integral \\n\")\n",
        "integral = sp.Integral(g * sp.exp(sign*x*f), (t, bounds[0], bounds[1]))\n",
        "latex_integral = sp.latex(integral)\n",
        "display(Math(latex_integral))\n",
        "\n",
        "# Generate approximation\n",
        "approximation = approximate_laplace_integral(bounds, g, f, sign)[0]\n",
        "\n",
        "# Print approximation\n",
        "print(\"\\n Approximation \\n\")\n",
        "approximation"
      ]
    },
    {
      "cell_type": "code",
      "execution_count": null,
      "metadata": {
        "id": "A49G04h8WWVE"
      },
      "outputs": [],
      "source": [
        "## Compare analytical approximation and numerical solution\n",
        "\n",
        "# Define array of xs to test on\n",
        "xs = np.logspace(-1, 3, 300)\n",
        "\n",
        "# Get analytical approximation\n",
        "approx_vals = evaluate_analytical(approximation, xs, max_val=10**100)\n",
        "\n",
        "# Get numerical solution\n",
        "numerical_vals = integrate_numerically(bounds, g, f, sign, xs, max_error=1000)"
      ]
    },
    {
      "cell_type": "code",
      "execution_count": null,
      "metadata": {
        "colab": {
          "base_uri": "https://localhost:8080/",
          "height": 613
        },
        "id": "2uM68Oj7TYyN",
        "outputId": "2b9d791c-fa04-4af7-da41-6f436a4bd1f1"
      },
      "outputs": [
        {
          "data": {
            "image/png": "[encoded data removed]",
            "text/plain": [
              "<Figure size 1000x600 with 1 Axes>"
            ]
          },
          "metadata": {},
          "output_type": "display_data"
        }
      ],
      "source": [
        "# Plot results\n",
        "plot_results(approx_vals, numerical_vals, xs)"
      ]
    },
    {
      "cell_type": "markdown",
      "metadata": {
        "id": "x5jjgwX2AKdI"
      },
      "source": [
        "# Generating prompts & solutions"
      ]
    },
    {
      "cell_type": "markdown",
      "metadata": {
        "id": "FDE4sIXRhSeT"
      },
      "source": [
        "In this section, we provide functions that generate prompts and solutions, and finally, an entire dataset."
      ]
    },
    {
      "cell_type": "markdown",
      "metadata": {
        "id": "yBe2mfyMc6hj"
      },
      "source": [
        "## Functions"
      ]
    },
    {
      "cell_type": "markdown",
      "metadata": {
        "id": "D4xg8OnKdAnY"
      },
      "source": [
        "Here we define the functions that we will use to generate the Latex prompts and solutions. Note that to load these prompts and responses in latex, the packages\n",
        "\n",
        "```\n",
        "\\usepackage{minted}\n",
        "\\usepackage{amsmath}\n",
        "```\n",
        "\n",
        "\n",
        "are required."
      ]
    },
    {
      "cell_type": "code",
      "execution_count": null,
      "metadata": {
        "id": "gPRNPtRbPVFz"
      },
      "outputs": [],
      "source": [
        "import inspect\n",
        "\n",
        "## Define function to return latex code of a python function\n",
        "def function_to_latex(func):\n",
        "\n",
        "    # Get the source code\n",
        "    source_code = inspect.getsource(func)\n",
        "\n",
        "    # Escape special characters\n",
        "    source_code = source_code.replace(\"\\\\\", \"\\\\\\\\\")\n",
        "    source_code = source_code.replace(\"{\", \"\\\\{\")\n",
        "    source_code = source_code.replace(\"}\", \"\\\\}\")\n",
        "\n",
        "    # Wrap the source code in a minted environment\n",
        "    latex_code = \"\\\\begin{minted}{python}\\n\" + source_code + \"\\\\end{minted}\\n\"\n",
        "\n",
        "    return latex_code"
      ]
    },
    {
      "cell_type": "code",
      "execution_count": null,
      "metadata": {
        "id": "WmqelK2NQN2T"
      },
      "outputs": [],
      "source": [
        "## Define function to generate prompt and integral\n",
        "def generate_problem():\n",
        "\n",
        "  \"\"\"\n",
        "  This function generates a problem statement and returns the statement as well\n",
        "  as the parameters of the integral used in the approximation function.\n",
        "  \"\"\"\n",
        "\n",
        "  # Generate integral\n",
        "  bounds, g, f, sign = generate_integral(generate_linear_combination, generate_bounds, max_num_terms=5, range=[-1,1])\n",
        "\n",
        "  # Formatting problem statement\n",
        "  if sign == 1:\n",
        "    show_sign = \"+\"\n",
        "  else:\n",
        "    show_sign = \"-\"\n",
        "\n",
        "  # Get problem statement\n",
        "  statement = f\"Consider the integral \\\\par \"\\\n",
        "              f\"\\\\begin{{equation}} I(x) = \\\\int_{{{bounds[0]}}}^{{{bounds[1]}}} ({latex(g)}) e^{{{show_sign} x ({latex(f)})}} \\\\, dt \\\\end{{equation}} \\\\par\"\\\n",
        "              f\" Develop an analytical formula for $I(x)$ that is accurate as $x \\\\to \\\\infty$. Compare your answer to numerical simulations of the integral.\"\n",
        "\n",
        "  return bounds, g, f, sign, statement"
      ]
    },
    {
      "cell_type": "code",
      "execution_count": 135,
      "metadata": {
        "id": "S-kP2RAY-Ns5"
      },
      "outputs": [],
      "source": [
        "## Define function to approximation and response\n",
        "def get_solution(bounds, g, f, sign):\n",
        "\n",
        "  \"\"\"\n",
        "  This function takes in the parameters of the Laplace integral and returns an\n",
        "  analytical approximation as well as a response statement.\n",
        "  \"\"\"\n",
        "\n",
        "  # Determine whether we will look for min or max of f\n",
        "  if sign == 1:\n",
        "    minmax = \"maximum\"\n",
        "    small_large = \"largest\"\n",
        "    show_sign = \"+\"\n",
        "  else:\n",
        "    minmax = \"minimum\"\n",
        "    small_large = \"smallest\"\n",
        "    show_sign = \"-\"\n",
        "\n",
        "  statement = f\"The integral is of the form \\\\begin{{equation}} I(x) = \\\\int_{{a}}^{{b}} g(t) e^{{{show_sign} x f(t)}} \\\\, dt \\\\end{{equation}} \\\\par \"\\\n",
        "              f\"where $a={bounds[0]}$, $b={bounds[1]}$, $g(t) = {latex(g)}$, and $f(t) = {latex(f)}$. \"\\\n",
        "              f\"This means we can use Laplace’s method to develop an analytical approximation in the limit that $x \\\\to \\\\infty$. \\\\par \"\\\n",
        "              f\"In this limit, the integral will be dominated by the integrand near the {minmax} of $f(t)$ within the bounds $[{bounds[0]}, {bounds[1]}]$. \"\\\n",
        "              f\"So, to simplify the integral, we will expand the integrand around this {minmax}. \\\\par \"\n",
        "\n",
        "  # Get the analytical approximation of the integral, specifying whether the min/max was on the bounds, if not how many min/max there were\n",
        "  approximation, minmax_on_bounds, num_minmax, analytic_min, minima, critical_points, which_bound = approximate_laplace_integral(bounds, g, f, sign)\n",
        "\n",
        "  # Statement for the case where we could find the min/max of f analytically\n",
        "  if analytic_min:\n",
        "\n",
        "    statement += f\"In this case, we can find the {minmax} of $f(t) = {latex(f)}$ on the interval analytically. We begin by looking for critical point(s) $t_{{crit}}$ of $f(t)$ by solving $f’(t) = {latex(diff(f, t))} = 0$ for $t$. \"\n",
        "\n",
        "    # If critical points were not found.\n",
        "    if len(critical_points) == 0:\n",
        "\n",
        "      statement += f\"We find that there are no critical points of $f(t) \\\\in {bounds[0], bounds[1]}$. This means that its {minmax} must be on the bounds. \"\\\n",
        "                   f\"Comparing the values of $f(t)$ on the bounds, we find that its {minmax} occurs at $t_0 = {which_bound} = {minima[0]}$. \\\\par \"\n",
        "\n",
        "    # If they were\n",
        "    else:\n",
        "\n",
        "      statement += f\"This gives us that $t_{{crit}} = {critical_points}$. To find the {minmax} on this interval, we evaluate $f(t)$ at the critical point(s) $t_{{crit}}$ and the bounds ${bounds[0]}$ and ${bounds[1]}$. \"\\\n",
        "                   f\"We take the $t$ that gives the {small_large} value. Here, this {minmax} $t_0 = {minima}$. \\\\par \"\n",
        "\n",
        "\n",
        "  # Statement for numerical case\n",
        "  else:\n",
        "\n",
        "    # Statement & code\n",
        "    statement += f\"However, it is impossible to compute the {minmax} of $f(t)$ on the bounds analytically. We must approximate it numerically. \"\\\n",
        "                 f\"We will use the a few iterations of the dual annealing algorithm to achieve this. The code below implements dual annealing. \\\\par \"\\\n",
        "                 f\"\\\\begin{{minted}}{{python}}\\n import sympy as sp \\n from sympy import N \\n import numpy as np \\n from scipy.optimize import dual_annealing \\n \\\\end{{minted}}\\n \"\\\n",
        "                 f\"{function_to_latex(find_minima_numerically)}\"\\\n",
        "                 f\"\\nUsing a few iterations of dual annealing, we find that the {minmax} of $f(t)$ occurs at $t_0 = {minima}$. \\\\par \"\n",
        "\n",
        "\n",
        "  # Statement for case of min/max on bounds of integral\n",
        "  if minmax_on_bounds:\n",
        "\n",
        "    statement += f\"Since the integral is dominated by the value of the integrand near {which_bound}, we Taylor expand the integrand around this point. \"\\\n",
        "                 f\"\\\\begin{{equation}} I(x) =  \\\\int_{{a}}^{{b}} (g({which_bound}) + (t-{which_bound})g'({which_bound})+...) e^{{{show_sign} x (f({which_bound}) + (t-{which_bound}) f’({which_bound}) + ...)}} \\\\, dt \\\\end{{equation}} \"\\\n",
        "                 f\"We can then approximate \\\\begin{{equation}} I(x) \\\\approx \\\\int_{{a}}^{{b}} g({which_bound}) e^{{{show_sign} x (f({which_bound}) + (t-{which_bound}) f’({which_bound}))}} \\\\, dt \\\\end{{equation}} \"\\\n",
        "                 f\"Pulling out the constant in the integral gives \"\\\n",
        "                 f\"\\\\begin{{equation}} I(x) \\\\approx g({which_bound}) e^{{{show_sign} x f({which_bound})}} \\\\int_{{a}}^{{b}} e^{{{show_sign} x (t-{which_bound}) f’({which_bound})}}  \\\\, dt \\\\end{{equation}} \\\\par \"\\\n",
        "\n",
        "    # Case where bound is lower bound\n",
        "    if which_bound == \"a\":\n",
        "\n",
        "      # Add additional comment if sign is positive for clarity, since there is a technicality when taking the absolute value\n",
        "      if sign == -1:\n",
        "        statement += f\"Since $x$ is large, we perform the change of variables $u = x (t-{which_bound}) |f’({which_bound})|$, rewriting the integral as \"\n",
        "      else:\n",
        "        statement += f\"Since $x$ is large, we perform the change of variables $u = x (t-{which_bound}) |f’({which_bound})|$. Note $f’({which_bound}) < 0$ since it is a maximum. So, rewriting the integral, we get \"\n",
        "\n",
        "      statement += f\"\\\\begin{{equation}} I(x) \\\\approx g(a) e^{{{show_sign} x f(a)}} \\\\int_{{0}}^{{x (b-a) |f’(a)|}} \\\\frac{{1}}{{x |f’(a)|}} e^{{-u}} \\\\, dt \\\\end{{equation}} \"\\\n",
        "                   f\"Since $x \\\\to \\\\infty$, we approximate this with new bounds as \"\\\n",
        "                   f\"\\\\begin{{equation}} I(x) \\\\approx g(a) e^{{{show_sign} x f(a)}} \\\\frac{{1}}{{x |f’(a)|}} \\\\int_{{0}}^{{\\\\infty}} e^{{-u}} \\\\, dt \\\\end{{equation}} \\\\par \"\\\n",
        "                   f\"Solving the integral and evaluating, we find that \\\\par \"\\\n",
        "                   f\"\\\\begin{{equation}} \\\\boxed{{I(x) \\\\approx {latex(approximation)}}} \\\\end{{equation}} \"\n",
        "\n",
        "    # Case where bound is upper bound\n",
        "    else:\n",
        "\n",
        "      # Add additional comment if sign is positive for clarity, since there is a technicality when taking the absolute value\n",
        "      if sign == -1:\n",
        "        statement += f\"Since $x$ is large, we perform the change of variables $u = x (t-{which_bound}) |f’({which_bound})|$. Note $f’({which_bound}) < 0$ since it is a minimum. So, rewriting the integral, we get \"\n",
        "      else:\n",
        "        statement += f\"Since $x$ is large, we perform the change of variables $u = x (t-{which_bound}) |f’({which_bound})|$, rewriting the integral as \"\n",
        "\n",
        "\n",
        "      statement += f\"\\\\begin{{equation}} I(x) \\\\approx g(b) e^{{{show_sign} x f(b)}} \\\\int_{{x (a-b) |f’(b)|}}^{{0}} \\\\frac{{1}}{{x |f’(b)|}} e^{{u}} \\\\, dt \\\\end{{equation}} \"\\\n",
        "                   f\"Since $x \\\\to \\\\infty$, we approximate this with new bounds as \"\\\n",
        "                   f\"\\\\begin{{equation}} I(x) \\\\approx g(b) e^{{{show_sign} x f(b)}} \\\\frac{{1}}{{x |f’(b)|}} \\\\int_{{-\\\\infty}}^{{0}} e^{{u}} \\\\, dt \\\\end{{equation}} \\\\par \"\\\n",
        "                   f\"Solving the integral and evaluating, we find that \\\\par \"\\\n",
        "                   f\"\\\\begin{{equation}} \\\\boxed{{I(x) \\\\approx {latex(approximation)}}} \\\\end{{equation}} \"\n",
        "\n",
        "  # Statement for case where min/max not on bounds\n",
        "  else:\n",
        "\n",
        "    statement += f\"Since the integral is dominated by the value of the integrand near {minima[0]}, we Taylor expand the integrand around this point. \"\\\n",
        "                 f\"\\\\begin{{equation}} I(x) =  \\\\int_{{a}}^{{b}} (g({minima[0]}) + (t-{minima[0]})g'({minima[0]})+...) e^{{{show_sign} x (f({minima[0]}) + (t-{minima[0]}) f’({minima[0]}) + \\\\frac{{(t-{minima[0]})^2}}{{2}} f''({minima[0]}) +...)}} \\\\end{{equation}}\"\\\n",
        "                 f\"But $f’({minima[0]}) = 0$ by definition, so we can remove this term from the exponent. We can then approximate \\\\begin{{equation}} I(x) \\\\approx \\\\int_{{a}}^{{b}} g({minima[0]}) e^{{{show_sign} x (f({minima[0]}) + \\\\frac{{(t-{minima[0]})^2}}{{2}} f’’({minima[0]}))}} \\\\, dt \\\\end{{equation}} \\\\par \"\\\n",
        "                 f\"Which equals \\\\par \"\\\n",
        "                 f\"\\\\begin{{equation}} = g({minima[0]}) e^{{{show_sign} x f({minima[0]})}} \\\\int_{{a}}^{{b}} e^{{{show_sign} x (\\\\frac{{(t-{minima[0]})^2}}{{2}} f’’({minima[0]}))}} \\\\, dt \\\\end{{equation}} \\\\par \"\\\n",
        "                 f\"Because $x$ is large, we perform the change of variables $u = \\\\sqrt{{x \\\\frac{{|f’’({minima[0]})|}}{{2}}}}(t-{minima[0]})$, rewriting the integral as \"\\\n",
        "                 f\"\\\\begin{{equation}} g({minima[0]}) e^{{{show_sign} x f({minima[0]})}} \\\\int_{{\\\\sqrt{{x \\\\frac{{|f’’({minima[0]})|}}{{2}}}} (a-{minima[0]})}}^{{\\\\sqrt{{x \\\\frac{{|f’’({minima[0]})|}}{{2}}}} (b-{minima[0]})}} \\\\sqrt{{\\\\frac{{2}}{{x |f’’({minima[0]})|}}}} e^{{-u^2}} \\\\, dt \\\\end{{equation}} \\\\par \"\\\n",
        "                 f\"Since $x \\\\to \\\\infty$, we approximate this as \"\\\n",
        "                 f\"\\\\begin{{equation}} g({minima[0]}) e^{{{show_sign} x f({minima[0]})}} \\\\sqrt{{\\\\frac{{2}}{{x |f’’({minima[0]})|}} }} \\\\int_{{-\\\\infty}}^{{\\\\infty}} e^{{-u^2}} \\\\, dt \\\\end{{equation}} \\\\par \"\n",
        "\n",
        "    # Case where there was one min/max\n",
        "    if num_minmax == 1:\n",
        "\n",
        "      statement += f\"Solving the integral and evaluating, we find that \\\\par \"\\\n",
        "                   f\"\\\\begin{{equation}} \\\\boxed{{I(x) \\\\approx {latex(approximation)}}} \\\\end{{equation}}\"\n",
        "\n",
        "    # Case where there were multiple\n",
        "    else:\n",
        "\n",
        "      statement += f\"Note that here, while we ignored them in the work above, there were actually multiple $t_0$ values. \"\\\n",
        "                   f\"This means that to get the final approximation, we need to add up all the contributions of this form, one for each peak of the integrand near each $t_0$. \\\\par \"\\\n",
        "                   f\"Summing up all these contributions and evaluating gives us a final approximation of \\\\par \"\\\n",
        "                   f\"\\\\begin{{equation}} \\\\boxed{{I(x) \\\\approx {latex(approximation)}}} \\\\end{{equation}}\"\n",
        "\n",
        "\n",
        "  # Numerical comparison statement\n",
        "  statement += f\"One can now compare this analytical approximation to the numerical solution. To do this, we use Scipy’s quad function to compute $I(x)$ for an array of $x$ values. \"\\\n",
        "               f\"The function below implements this numerical integration, stopping early if the error becomes too large.\\n\"\n",
        "\n",
        "  # Add code to integrate numerically\n",
        "  statement += f\"\\\\begin{{minted}}{{python}}\\n import sympy as sp \\n import numpy as np \\n from scipy.integrate import quad \\n \\\\end{{minted}}\\n \"\n",
        "  statement += function_to_latex(integrate_numerically)\n",
        "\n",
        "  statement += \"\\nOne can also evaluate the analytical approximation at each $x$ using this function. \\n\"\n",
        "\n",
        "  # Add code to evaluate analytical approximation\n",
        "  statement += f\"\\\\begin{{minted}}{{python}}\\n import sympy as sp \\n import numpy as np \\n \\\\end{{minted}}\\n \"\n",
        "  statement += function_to_latex(evaluate_analytical)\n",
        "\n",
        "  statement += \"\\nOne can then plot both to compare the numerical solution to the analytical approximation.\\n\"\n",
        "\n",
        "  # Add code to plot comparison\n",
        "  statement += f\"\\\\begin{{minted}}{{python}}\\n import numpy as np \\n import matplotlib.pyplot as plt \\n \\\\end{{minted}}\\n \"\n",
        "  statement += function_to_latex(plot_results)\n",
        "\n",
        "\n",
        "  statement += \"\\nOne should see good comparison for large $x$!\"\n",
        "\n",
        "  return approximation, statement"
      ]
    },
    {
      "cell_type": "code",
      "execution_count": 60,
      "metadata": {
        "id": "mTT8EcXgdLx0"
      },
      "outputs": [],
      "source": [
        "## Define function to generate dataset\n",
        "def generate_dataset(n, path, filename):\n",
        "\n",
        "  \"\"\"\n",
        "  This function generates a csv file called filename with n prompts and solutions\n",
        "  and saves it to the specified path.\n",
        "\n",
        "  It excludes any approximations that give zero, as we need higher order terms\n",
        "  to get any information from these integrals using the Laplace method.\n",
        "  \"\"\"\n",
        "\n",
        "  data = []\n",
        "\n",
        "  for i in range(n):\n",
        "\n",
        "    # Generate integral and prompt\n",
        "    bounds, g, f, sign, prompt = generate_problem()\n",
        "\n",
        "    # Generate solution and statement\n",
        "    approximation, solution = get_solution(bounds, g, f, sign)\n",
        "\n",
        "    # Skip approximations that give zero. Laplace method to first order gives no information\n",
        "    if approximation == 0:\n",
        "      continue\n",
        "\n",
        "    # Skip NaN approximations, which occur when f'(t_0) == 0 for t_0 on the bounds\n",
        "    elif type(approximation) == sp.core.numbers.NaN:\n",
        "      continue\n",
        "\n",
        "    # Save\n",
        "    data.append([prompt, solution])\n",
        "\n",
        "    print(f\"{i+1} complete\")\n",
        "\n",
        "  # Convert to array\n",
        "  data = np.array(data)\n",
        "\n",
        "  # Save array as csv file to path\n",
        "  data = pd.DataFrame(data, columns=[\"Prompt\", \"Solution\"])\n",
        "  data.to_csv(path + filename, index=False)\n",
        "\n",
        "  # Return data\n",
        "  return data"
      ]
    },
    {
      "cell_type": "markdown",
      "metadata": {
        "id": "hBxUrIdUhGiN"
      },
      "source": [
        "## Testing"
      ]
    },
    {
      "cell_type": "markdown",
      "metadata": {
        "id": "aGZokrP1hIiu"
      },
      "source": [
        "Here we test the prompt and solution generation."
      ]
    },
    {
      "cell_type": "markdown",
      "source": [
        "### Qualitative test of approximation accuracy"
      ],
      "metadata": {
        "id": "L_ZzPC-DolWH"
      }
    },
    {
      "cell_type": "markdown",
      "source": [
        "Here we test prompt, response, and plot generation by inspection."
      ],
      "metadata": {
        "id": "-UsTnbouopr-"
      }
    },
    {
      "cell_type": "code",
      "execution_count": null,
      "metadata": {
        "id": "NU7Q4SkjhIRt"
      },
      "outputs": [],
      "source": [
        "# Generate integral and prompt\n",
        "bounds, g, f, sign, prompt = generate_problem()\n",
        "\n",
        "# Generate solution and statement\n",
        "approximation, statement = get_solution(bounds, g, f, sign)"
      ]
    },
    {
      "cell_type": "code",
      "execution_count": null,
      "metadata": {
        "colab": {
          "base_uri": "https://localhost:8080/",
          "height": 52
        },
        "id": "fdjesqxvlezd",
        "outputId": "f421ae00-756e-49cf-b10c-2693652c5e8d"
      },
      "outputs": [
        {
          "data": {
            "application/vnd.google.colaboratory.intrinsic+json": {
              "type": "string"
            },
            "text/plain": [
              "'Consider the integral \\\\par \\\\begin{equation} I(x) = \\\\int_{-0.5}^{0.3} (0.7 t^{3} + 4.1 \\\\cos{\\\\left(t \\\\right)}) e^{+ x (1.3 t + 0.2 \\\\cos{\\\\left(t \\\\right)})} \\\\, dt \\\\end{equation} \\\\par Develop an analytical formula for $I(x)$ that is accurate as $x \\\\to \\\\infty$. Compare your answer to numerical simulations of the integral.'"
            ]
          },
          "execution_count": 140,
          "metadata": {},
          "output_type": "execute_result"
        }
      ],
      "source": [
        "prompt"
      ]
    },
    {
      "cell_type": "code",
      "execution_count": null,
      "metadata": {
        "colab": {
          "base_uri": "https://localhost:8080/",
          "height": 122
        },
        "id": "wjILGOYtZXlt",
        "outputId": "1f2eea71-7b67-4bc7-b4e5-3163201467a2"
      },
      "outputs": [
        {
          "data": {
            "application/vnd.google.colaboratory.intrinsic+json": {
              "type": "string"
            },
            "text/plain": [
              "'The integral is of the form \\\\begin{equation} I(x) = \\\\int_{a}^{b} g(t) e^{+ x f(t)} \\\\, dt \\\\end{equation} \\\\par Where $a=-0.5$, $b=0.3$, $g(t) = 0.7 t^{3} + 4.1 \\\\cos{\\\\left(t \\\\right)}$, and $f(t) = 1.3 t + 0.2 \\\\cos{\\\\left(t \\\\right)}$. This means we can use Laplace’s method to develop an analytical approximation in the limit that $x \\\\to \\\\infty$. \\\\par In this limit, the integral will be dominated by the integrand near the maximum of $f(t)$ within the bounds $[-0.5, 0.3]$. So, to simplify the integral, we will expand the integrand around this maximum. \\\\par In this case, we can find the maximum of $f(t) = 1.3 t + 0.2 \\\\cos{\\\\left(t \\\\right)}$ on the interval analytically. We find the critical point(s) $t_{crit}$ of $f(t)$ by solving $f’(t) = 1.3 - 0.2 \\\\sin{\\\\left(t \\\\right)} = 0$ for $t$. We find that there are no critical points of $f(t) \\\\in (-0.5, 0.3)$. This means that its maximum must be on the bounds. Comparing the values of $f(t)$ on the bounds, we find that its maximum occurs at $t_0 = b = 0.3$. \\\\par Since the integral is dominated by the value of the integrand near b, we Taylor expand the integrand around this point. \\\\begin{equation} I(x) =  \\\\int_{a}^{b} (g(b) + (t-b)g(b)+...) e^{+ x (f(b) + (t-b) f’(b) + ...)} \\\\, dt \\\\end{equation} We can then approximate \\\\begin{equation} I(x) \\\\approx \\\\int_{a}^{b} g(b) e^{+ x (f(b) + (t-b) f’(b))} \\\\, dt \\\\end{equation} Pulling out the constant in the integral gives \\\\begin{equation} I(x) \\\\approx g(b) e^{+ x f(b)} \\\\int_{a}^{b} e^{+ x (t-b) f’(b)}  \\\\, dt \\\\end{equation} \\\\par Since $x$ is large, we perform the change of variables $u = x (t-b) |f’(b)|$, rewriting the integral as \\\\begin{equation} I(x) \\\\approx g(b) e^{+ x f(b)} \\\\int_{x (a-b) |f’(b)|}^{0} \\\\frac{1}{x |f’(b)|} e^{u} \\\\, dt$ \\\\end{equation} Since $x \\\\to \\\\infty$, we approximate this with new bounds as \\\\begin{equation} I(x) \\\\approx g(b) e^{+ x f(b)} \\\\frac{1}{x |f’(b)|} \\\\int_{-\\\\infty}^{0} e^{u} \\\\, dt \\\\end{equation} \\\\par Solving the integral and evaluating, we find that \\\\par \\\\begin{equation} \\\\boxed{I(x) \\\\approx \\\\frac{3.17172409010065 e^{0.581067297825121 x}}{x}} \\\\end{equation} One now compare this analytical approximation to the numerical solution. To do this, we use Scipy’s quad function to compute $I(x)$ for an array of $x$ values. The function below implements this numerical integration, stopping early if the error becomes too large.\\n\\\\begin{minted}{python}\\ndef integrate_numerically(bounds, g, f, sign, xs, max_error):\\n\\n  \"\"\"\\n  This function finds the solution to the Laplace integral defined by f, g, sign,\\n  and bounds for each x in the array xs. It truncates any computation if the\\n  integration error exceeds max_error. It returns an array of the numerical results.\\n\\n  bounds: tuple (a, b), bounds of the laplace integral\\n  g: sympy expression for g(t)\\n  f: sympy expression for f(t)\\n  xs: array of x values at which we evaluate the integral\\n  max_error: the maximum integration error allowed before we stop computation\\n  \"\"\"\\n\\n  # Define the function you want to integrate\\n  integrand = g * sp.exp(sign*x*f)\\n\\n  # Define the function you want to integrate\\n  def evaluate_integrand(x_val, t_val):\\n      return integrand.subs(x,x_val).subs(t,t_val).evalf()\\n\\n  # Define bounds over which we want to integrate\\n  lower, upper = bounds\\n\\n  # Initialize array to store integration data\\n  numerical_vals = np.zeros(len(xs))\\n\\n  # Calculate integral for each lambda\\n  for idx, x_val in enumerate(xs):\\n\\n    # Perform integration\\n    integral, error = quad(lambda t: evaluate_integrand(x_val, t), lower, upper)\\n\\n    # Save data\\n    numerical_vals[idx] = integral\\n\\n    # Stop if quad breaks\\n    if error > max_error:\\n      break\\n\\n  return numerical_vals\\n\\\\end{minted}\\n\\nOne can also evaluate the analytical approximation at each $x$ using this function. \\n\\\\begin{minted}{python}\\ndef evaluate_analytical(analytical_approximation, xs, max_val=np.inf):\\n\\n  \"\"\"\\n  This function evaluates the analytical approximation for each x value in the \\n  array xs. It returns an array containing the results. \\n\\n  Specify a maximum value allowed in the array to avoid the matplotlib plotting\\n  issues that arise for values above 10^100.\\n\\n  analytical_approximation: sympy expression for your approximation\\n  xs: array of x values at which we evaluate the approximation\\n  max_val: maximum value allowed in the return array\\n  \"\"\"\\n\\n  approx_vals = np.array([analytical_approximation.subs(x, x_val).evalf()for x_val in xs \\\\\\\\\\n                    if np.abs(analytical_approximation.subs(x, x_val).evalf()) < max_val])\\n\\n  return approx_vals\\n\\\\end{minted}\\n\\nOne can then plot both to compare the numerical solution to the analytical approximation.\\n\\\\begin{minted}{python}\\ndef plot_results(approx_vals, numerical_vals, xs):\\n\\n  \"\"\"\\n  This function plots the numerical solution and the analytical approximation\\n  given an array of values for each.\\n\\n  approx_vals: array of values given by the analytical approximation\\n  numerical_vals: array of values given by the numerical integration\\n  xs: array of x values at which we computed the integral\\n  \"\"\"\\n\\n  # Get length of numerical_vals array\\n  len_num_vals = len(numerical_vals)\\n  len_approx_vals = len(approx_vals)\\n\\n  # Set up plotting\\n  plt.figure(figsize=(10,6))\\n  plt.rcParams.update(\\\\{\\'font.size\\': 22\\\\})\\n\\n  # Plot approximation and numerical solution\\n  plt.loglog(xs[:len_approx_vals], np.abs(approx_vals), linewidth=4, label=\"approximation\")\\n  plt.loglog(xs[:len_num_vals], np.abs(numerical_vals), \\'o\\', mfc=\\'none\\', markersize=8, label=\\'numerical\\')\\n\\n  # Set up legend, title, x label\\n  plt.legend(bbox_to_anchor=(1.05, 1), loc=2, borderaxespad=0.)\\n  plt.title(\"Testing result\")\\n  plt.xlabel(\"x\")\\n\\\\end{minted}\\n\\nOne should see good comparison for large $x$!'"
            ]
          },
          "execution_count": 141,
          "metadata": {},
          "output_type": "execute_result"
        }
      ],
      "source": [
        "statement"
      ]
    },
    {
      "cell_type": "code",
      "execution_count": null,
      "metadata": {
        "colab": {
          "base_uri": "https://localhost:8080/",
          "height": 613
        },
        "id": "T1Hmhga1ZQtc",
        "outputId": "05793118-7e8e-41b6-a396-d0032eb14f03"
      },
      "outputs": [
        {
          "data": {
            "image/png": "[encoded data removed]",
            "text/plain": [
              "<Figure size 1000x600 with 1 Axes>"
            ]
          },
          "metadata": {},
          "output_type": "display_data"
        }
      ],
      "source": [
        "## Compare analytical approximation and numerical solution\n",
        "\n",
        "# Define array of xs to test on\n",
        "xs = np.logspace(-1, 3, 300)\n",
        "\n",
        "# Get analytical approximation\n",
        "approx_vals = evaluate_analytical(approximation, xs, max_val=10**90)\n",
        "\n",
        "# Get numerical solution\n",
        "numerical_vals = integrate_numerically(bounds, g, f, sign, xs, max_error=1000)\n",
        "\n",
        "# Plot results\n",
        "plot_results(approx_vals, numerical_vals, xs)"
      ]
    },
    {
      "cell_type": "markdown",
      "source": [
        "### Quantitative test of approximation accuracy"
      ],
      "metadata": {
        "id": "Vx6x27DhcuSx"
      }
    },
    {
      "cell_type": "markdown",
      "source": [
        "Here, we use the absolute percent error between $I(x)$ and its approximation at the largest value of x we computed with reasonable numerical accuracy to get a rough quantitative estimate of the quality of our approximations."
      ],
      "metadata": {
        "id": "112ln8JdcuS3"
      }
    },
    {
      "cell_type": "code",
      "source": [
        "## Define function to roughly quantify quality of approximation\n",
        "def get_last_pct_error(approx_vals, numerical_vals):\n",
        "\n",
        "  \"\"\"\n",
        "  This function gets the absolute percent error between the numerical values\n",
        "  and the analytical approximation at the last point (ie the largest x value)\n",
        "  for which numerical integration worked and was nonzero.\n",
        "  \"\"\"\n",
        "\n",
        "  # Get index of last nonzero input to numerical vals\n",
        "  non_zero_indices = np.nonzero(numerical_vals)\n",
        "  last_non_zero_index = non_zero_indices[0][-1]\n",
        "\n",
        "  # Get last numerical value\n",
        "  last_num_val = numerical_vals[last_non_zero_index]\n",
        "\n",
        "  # Get analytical value for this same x\n",
        "  corresponding_approx = approx_vals[last_non_zero_index]\n",
        "\n",
        "  # Return absolute pct error between them. Add a small number in the denominator to avoid division by zero\n",
        "  return np.abs((corresponding_approx - last_num_val) / last_num_val)"
      ],
      "metadata": {
        "id": "1VURKtNmcuS3"
      },
      "execution_count": 81,
      "outputs": []
    },
    {
      "cell_type": "code",
      "source": [
        "## Get pct error from many approximations\n",
        "\n",
        "# Define array of xs to test on\n",
        "xs = np.logspace(-1, 3, 300)\n",
        "\n",
        "# Save errors\n",
        "errors = []\n",
        "\n",
        "# Run through 25 approximations\n",
        "for _ in range(25):\n",
        "\n",
        "  # Generate integral and prompt\n",
        "  bounds, g, f, sign, prompt = generate_problem()\n",
        "\n",
        "  # Generate solution and statement\n",
        "  approximation, statement = get_solution(bounds, g, f, sign)\n",
        "\n",
        "  # Skip approximations that have f'(t_0) = 0 when t_0 on bounds\n",
        "  if type(approximation) == sp.core.numbers.NaN:\n",
        "    continue\n",
        "\n",
        "  # Skip approximations that have g(t_0) = 0 since we need higher order terms for Laplace\n",
        "  elif approximation == 0:\n",
        "    continue\n",
        "\n",
        "  # Get analytical approximation\n",
        "  approx_vals = evaluate_analytical(approximation, xs, max_val=np.inf)\n",
        "\n",
        "  # Get numerical solution\n",
        "  numerical_vals = integrate_numerically(bounds, g, f, sign, xs, max_error=1000)\n",
        "\n",
        "  # Get error\n",
        "  error = get_last_pct_error(approx_vals, numerical_vals)\n",
        "\n",
        "  # Save and print\n",
        "  errors.append(error)\n",
        "  print(error)"
      ],
      "metadata": {
        "colab": {
          "base_uri": "https://localhost:8080/"
        },
        "id": "M2vFuFDzcuS3",
        "outputId": "df7fd74a-d084-4b17-c1ba-caafa8ee2605"
      },
      "execution_count": 110,
      "outputs": [
        {
          "output_type": "stream",
          "name": "stdout",
          "text": [
            "0.0216098995274465\n",
            "0.0542741620456187\n",
            "0.262532952406475\n",
            "0.0330563680376599\n",
            "0.0158002349360569\n",
            "0.0118460982123547\n",
            "3.30249625581114e-15\n",
            "0.187567730658231\n",
            "0.00991665473122933\n",
            "0.0144780916149138\n",
            "0.0451262557802874\n",
            "0.0150912111743067\n",
            "0.00787000782914251\n",
            "0.244089683464404\n",
            "0.0336237801613025\n",
            "0.00227221089832750\n",
            "0.000474342582535553\n",
            "0.160862157204396\n",
            "0.0385770328444239\n",
            "0.115621344978776\n",
            "0.0266154150495985\n",
            "0.0264461559216349\n",
            "0.00210045067227632\n",
            "0.00525131587521894\n",
            "0.000169581782420378\n"
          ]
        }
      ]
    },
    {
      "cell_type": "markdown",
      "metadata": {
        "id": "YOR8QjH8c8Q9"
      },
      "source": [
        "## Dataset generation"
      ]
    },
    {
      "cell_type": "markdown",
      "metadata": {
        "id": "YSUHVFNmdFlX"
      },
      "source": [
        "Here we generate a dataset! Note that it may take some time, as numerically finding the minimum of f(t) can be slow since we have made it robust to rapidly oscillating functions."
      ]
    },
    {
      "cell_type": "code",
      "execution_count": null,
      "metadata": {
        "colab": {
          "base_uri": "https://localhost:8080/"
        },
        "id": "Ghs4F5yjdImI",
        "outputId": "8dc4d002-d788-4983-b51c-540ead792b71"
      },
      "outputs": [
        {
          "output_type": "stream",
          "name": "stdout",
          "text": [
            "1 complete\n",
            "2 complete\n",
            "3 complete\n",
            "4 complete\n",
            "5 complete\n",
            "6 complete\n",
            "7 complete\n",
            "8 complete\n",
            "9 complete\n",
            "10 complete\n",
            "11 complete\n",
            "12 complete\n",
            "13 complete\n",
            "14 complete\n",
            "15 complete\n",
            "16 complete\n",
            "17 complete\n",
            "18 complete\n",
            "19 complete\n",
            "20 complete\n",
            "21 complete\n",
            "22 complete\n",
            "23 complete\n",
            "24 complete\n",
            "25 complete\n",
            "26 complete\n",
            "27 complete\n",
            "28 complete\n",
            "29 complete\n",
            "30 complete\n",
            "31 complete\n",
            "32 complete\n",
            "33 complete\n",
            "34 complete\n",
            "35 complete\n",
            "37 complete\n",
            "38 complete\n",
            "39 complete\n",
            "41 complete\n",
            "42 complete\n",
            "43 complete\n",
            "44 complete\n",
            "45 complete\n",
            "46 complete\n",
            "47 complete\n",
            "48 complete\n",
            "49 complete\n",
            "50 complete\n",
            "51 complete\n",
            "52 complete\n",
            "53 complete\n",
            "54 complete\n",
            "55 complete\n",
            "57 complete\n",
            "58 complete\n",
            "59 complete\n",
            "60 complete\n",
            "62 complete\n",
            "63 complete\n",
            "64 complete\n",
            "65 complete\n",
            "66 complete\n",
            "67 complete\n",
            "68 complete\n",
            "69 complete\n",
            "70 complete\n",
            "71 complete\n",
            "72 complete\n",
            "73 complete\n",
            "74 complete\n",
            "75 complete\n",
            "77 complete\n",
            "79 complete\n",
            "80 complete\n",
            "81 complete\n",
            "82 complete\n",
            "83 complete\n",
            "84 complete\n",
            "85 complete\n",
            "86 complete\n",
            "87 complete\n",
            "88 complete\n",
            "89 complete\n",
            "90 complete\n",
            "91 complete\n",
            "92 complete\n",
            "93 complete\n",
            "94 complete\n",
            "95 complete\n",
            "96 complete\n",
            "97 complete\n",
            "98 complete\n",
            "99 complete\n",
            "100 complete\n",
            "101 complete\n",
            "102 complete\n",
            "103 complete\n",
            "104 complete\n",
            "105 complete\n",
            "106 complete\n",
            "108 complete\n",
            "109 complete\n",
            "110 complete\n",
            "111 complete\n",
            "112 complete\n",
            "113 complete\n",
            "114 complete\n",
            "115 complete\n",
            "116 complete\n",
            "117 complete\n",
            "118 complete\n",
            "119 complete\n",
            "120 complete\n",
            "121 complete\n",
            "122 complete\n",
            "124 complete\n",
            "125 complete\n",
            "126 complete\n",
            "127 complete\n",
            "128 complete\n"
          ]
        }
      ],
      "source": [
        "## Generate dataset!\n",
        "\n",
        "# Number of problems\n",
        "n = 500\n",
        "\n",
        "# Generate dataset\n",
        "data = generate_dataset(n=n, path=\"/content/gdrive/My Drive/Third year/Apmth 201/laplace_integral_data/\", filename=\"dataset2.csv\")"
      ]
    }
  ],
  "metadata": {
    "colab": {
      "collapsed_sections": [
        "W6SwUsIwbPIo",
        "VkhDzEcYiQsL",
        "129KnpFdulQJ",
        "twpudsSLk2LD",
        "irKWcU1y-atO",
        "cnxkYqjF_cAX",
        "yBe2mfyMc6hj"
      ],
      "provenance": []
    },
    "kernelspec": {
      "display_name": "Python 3",
      "name": "python3"
    },
    "language_info": {
      "name": "python"
    }
  },
  "nbformat": 4,
  "nbformat_minor": 0
}